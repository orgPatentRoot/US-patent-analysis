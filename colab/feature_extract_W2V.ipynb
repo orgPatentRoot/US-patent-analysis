{
  "nbformat": 4,
  "nbformat_minor": 0,
  "metadata": {
    "colab": {
      "name": "feature-extract-W2V.ipynb",
      "version": "0.3.2",
      "provenance": [],
      "collapsed_sections": [],
      "toc_visible": true,
      "include_colab_link": true
    },
    "kernelspec": {
      "name": "python3",
      "display_name": "Python 3"
    }
  },
  "cells": [
    {
      "cell_type": "markdown",
      "metadata": {
        "id": "view-in-github",
        "colab_type": "text"
      },
      "source": [
        "<a href=\"https://colab.research.google.com/github/yoheikikuta/US-patent-analysis/blob/master/colab/feature_extract_W2V.ipynb\" target=\"_parent\"><img src=\"https://colab.research.google.com/assets/colab-badge.svg\" alt=\"Open In Colab\"/></a>"
      ]
    },
    {
      "cell_type": "markdown",
      "metadata": {
        "id": "xRMdwXntp495",
        "colab_type": "text"
      },
      "source": [
        "# Feature extraction from w2v model\n",
        "\n"
      ]
    },
    {
      "cell_type": "code",
      "metadata": {
        "id": "5AVtXr99QX9o",
        "colab_type": "code",
        "colab": {}
      },
      "source": [
        "from google.colab import auth\n",
        "auth.authenticate_user()"
      ],
      "execution_count": 0,
      "outputs": []
    },
    {
      "cell_type": "markdown",
      "metadata": {
        "id": "t0L-IQXoqSBV",
        "colab_type": "text"
      },
      "source": [
        "## Data preparation"
      ]
    },
    {
      "cell_type": "code",
      "metadata": {
        "id": "SLzIA0Rrqsop",
        "colab_type": "code",
        "colab": {}
      },
      "source": [
        "DATA_DIR = \"./\""
      ],
      "execution_count": 0,
      "outputs": []
    },
    {
      "cell_type": "code",
      "metadata": {
        "id": "Cy5TSUHWqs44",
        "colab_type": "code",
        "outputId": "b678c7b4-4348-463a-d0cc-149bd631247f",
        "colab": {
          "base_uri": "https://localhost:8080/",
          "height": 173
        }
      },
      "source": [
        "!gsutil cp gs://yohei-kikuta/mlstudy-phys/patent-analysis/3000-xml/grants_for_3000+3000.df.gz {DATA_DIR}\n",
        "!gsutil cp gs://yohei-kikuta/mlstudy-phys/patent-analysis/3000-xml/testset_app_3000.df.gz {DATA_DIR}\n",
        "!gsutil cp gs://yohei-kikuta/mlstudy-phys/patent-analysis/3000-xml/training_app_3000.df.gz {DATA_DIR}"
      ],
      "execution_count": 3,
      "outputs": [
        {
          "output_type": "stream",
          "text": [
            "Copying gs://yohei-kikuta/mlstudy-phys/patent-analysis/3000-xml/grants_for_3000+3000.df.gz...\n",
            "- [1 files][129.4 MiB/129.4 MiB]                                                \n",
            "Operation completed over 1 objects/129.4 MiB.                                    \n",
            "Copying gs://yohei-kikuta/mlstudy-phys/patent-analysis/3000-xml/testset_app_3000.df.gz...\n",
            "\\ [1 files][ 45.5 MiB/ 45.5 MiB]                                                \n",
            "Operation completed over 1 objects/45.5 MiB.                                     \n",
            "Copying gs://yohei-kikuta/mlstudy-phys/patent-analysis/3000-xml/training_app_3000.df.gz...\n",
            "\\ [1 files][ 45.0 MiB/ 45.0 MiB]                                                \n",
            "Operation completed over 1 objects/45.0 MiB.                                     \n"
          ],
          "name": "stdout"
        }
      ]
    },
    {
      "cell_type": "code",
      "metadata": {
        "id": "e10CF59Eq10o",
        "colab_type": "code",
        "colab": {}
      },
      "source": [
        "import gzip\n",
        "import pickle\n",
        "import datetime\n",
        "import json\n",
        "import os\n",
        "import pprint\n",
        "import random\n",
        "import string\n",
        "import sys\n",
        "import pandas as pd"
      ],
      "execution_count": 0,
      "outputs": []
    },
    {
      "cell_type": "code",
      "metadata": {
        "id": "aAE1xtw5q16t",
        "colab_type": "code",
        "colab": {}
      },
      "source": [
        "grants = pd.read_pickle(f\"{DATA_DIR}grants_for_3000+3000.df.gz\")\n",
        "test_app = pd.read_pickle(f\"{DATA_DIR}testset_app_3000.df.gz\")\n",
        "train_app = pd.read_pickle(f\"{DATA_DIR}training_app_3000.df.gz\")"
      ],
      "execution_count": 0,
      "outputs": []
    },
    {
      "cell_type": "code",
      "metadata": {
        "id": "XLVO8oorq2Gd",
        "colab_type": "code",
        "colab": {}
      },
      "source": [
        "import re\n",
        "\n",
        "\n",
        "CLAIM_PAT = re.compile(r'<claims[^>]*>(.*)</claims>',re.MULTILINE|re.DOTALL)\n",
        "TAG_PAT = re.compile(r\"<.*?>\")\n",
        "LB_PAT = re.compile(r'[\\t\\n\\r\\f\\v][\" \"]*')\n",
        "CANCELED_PAT = re.compile(r'[0-9]+.*\\. \\(canceled\\)[\" \"]')\n",
        "NUM_PAT = re.compile(r'[\" \"]?[0-9]+[\" \"]?\\.[\" \"]?')\n",
        "\n",
        "\n",
        "def whole_xml_to_claim_xml(whole):\n",
        "    mat = CLAIM_PAT.search(whole)\n",
        "    return mat.group(1)\n",
        "\n",
        "\n",
        "def whole_xml_to_claim(whole):\n",
        "    return TAG_PAT.sub(' ', whole_xml_to_claim_xml(whole))\n",
        "\n",
        "\n",
        "def remove_linebreak_from_claim(claim):\n",
        "    return LB_PAT.sub('', claim)\n",
        "\n",
        "\n",
        "def remove_canceled_claim(claim):\n",
        "    return CANCELED_PAT.sub('', claim)\n",
        "\n",
        "\n",
        "def remove_claim_numbers(claim):\n",
        "    return NUM_PAT.sub('', claim)  "
      ],
      "execution_count": 0,
      "outputs": []
    },
    {
      "cell_type": "code",
      "metadata": {
        "id": "a4xP4PIWq2Cb",
        "colab_type": "code",
        "outputId": "9e52f6a6-ea31-4f68-dd1a-48e24e8cfddb",
        "colab": {
          "base_uri": "https://localhost:8080/",
          "height": 52
        }
      },
      "source": [
        "%%time\n",
        "\n",
        "train_app[\"claim_app\"] = train_app[\"xml\"].map(whole_xml_to_claim).map(remove_canceled_claim).map(remove_claim_numbers).map(remove_linebreak_from_claim)\n",
        "train_app = train_app.drop(\"xml\", axis=1)\n",
        "train_app.head()\n",
        "\n",
        "test_app[\"claim_app\"] = test_app[\"xml\"].map(whole_xml_to_claim).map(remove_canceled_claim).map(remove_claim_numbers).map(remove_linebreak_from_claim)\n",
        "test_app = test_app.drop(\"xml\", axis=1)\n",
        "test_app.head()\n",
        "\n",
        "grants[\"claim_cited_grant\"] = grants[\"xml\"].map(whole_xml_to_claim).map(remove_canceled_claim).map(remove_claim_numbers).map(remove_linebreak_from_claim)\n",
        "grants = grants.drop(\"xml\", axis=1)\n",
        "grants.head()"
      ],
      "execution_count": 7,
      "outputs": [
        {
          "output_type": "stream",
          "text": [
            "CPU times: user 9.01 s, sys: 185 ms, total: 9.2 s\n",
            "Wall time: 9.2 s\n"
          ],
          "name": "stdout"
        }
      ]
    },
    {
      "cell_type": "code",
      "metadata": {
        "id": "SDv4kWf2q_Lh",
        "colab_type": "code",
        "outputId": "d0c10fa7-2b35-4b62-e0c3-69936599d79e",
        "colab": {
          "base_uri": "https://localhost:8080/",
          "height": 141
        }
      },
      "source": [
        "train_app.head(3)"
      ],
      "execution_count": 8,
      "outputs": [
        {
          "output_type": "execute_result",
          "data": {
            "text/html": [
              "<div>\n",
              "<style scoped>\n",
              "    .dataframe tbody tr th:only-of-type {\n",
              "        vertical-align: middle;\n",
              "    }\n",
              "\n",
              "    .dataframe tbody tr th {\n",
              "        vertical-align: top;\n",
              "    }\n",
              "\n",
              "    .dataframe thead th {\n",
              "        text-align: right;\n",
              "    }\n",
              "</style>\n",
              "<table border=\"1\" class=\"dataframe\">\n",
              "  <thead>\n",
              "    <tr style=\"text-align: right;\">\n",
              "      <th></th>\n",
              "      <th>app_id</th>\n",
              "      <th>claim_app</th>\n",
              "    </tr>\n",
              "  </thead>\n",
              "  <tbody>\n",
              "    <tr>\n",
              "      <th>0</th>\n",
              "      <td>12130785</td>\n",
              "      <td>A system for differentiating noise from an arr...</td>\n",
              "    </tr>\n",
              "    <tr>\n",
              "      <th>1</th>\n",
              "      <td>12652424</td>\n",
              "      <td>A method of allocating resources in a data war...</td>\n",
              "    </tr>\n",
              "    <tr>\n",
              "      <th>2</th>\n",
              "      <td>12214532</td>\n",
              "      <td>A controlling method of a media processing app...</td>\n",
              "    </tr>\n",
              "  </tbody>\n",
              "</table>\n",
              "</div>"
            ],
            "text/plain": [
              "     app_id                                          claim_app\n",
              "0  12130785  A system for differentiating noise from an arr...\n",
              "1  12652424  A method of allocating resources in a data war...\n",
              "2  12214532  A controlling method of a media processing app..."
            ]
          },
          "metadata": {
            "tags": []
          },
          "execution_count": 8
        }
      ]
    },
    {
      "cell_type": "markdown",
      "metadata": {
        "id": "ObjpPPrAqtF0",
        "colab_type": "text"
      },
      "source": [
        "## Feature extraction: Word2Vec"
      ]
    },
    {
      "cell_type": "code",
      "metadata": {
        "id": "GI-9K_p_QoL8",
        "colab_type": "code",
        "colab": {}
      },
      "source": [
        "import pandas as pd\n",
        "import numpy as np\n",
        "from gensim.models import Word2Vec\n",
        "from scipy import spatial\n",
        "\n",
        "import multiprocessing\n",
        "CPUNUM = multiprocessing.cpu_count()"
      ],
      "execution_count": 0,
      "outputs": []
    },
    {
      "cell_type": "code",
      "metadata": {
        "id": "M16_FxGCs9Om",
        "colab_type": "code",
        "colab": {}
      },
      "source": [
        "### Use (train + grants) for w2v training\n",
        "\n",
        "\n",
        "all_training_list = train_app['claim_app'].map(lambda x:x.split()).tolist() + grants['claim_cited_grant'].map(lambda x:x.split()).tolist()"
      ],
      "execution_count": 0,
      "outputs": []
    },
    {
      "cell_type": "code",
      "metadata": {
        "id": "0Dd9spE6tax_",
        "colab_type": "code",
        "outputId": "2203bc96-05ef-49cd-fc9d-72ac3bf0a81c",
        "colab": {
          "base_uri": "https://localhost:8080/",
          "height": 34
        }
      },
      "source": [
        "len(all_training_list)"
      ],
      "execution_count": 0,
      "outputs": [
        {
          "output_type": "execute_result",
          "data": {
            "text/plain": [
              "9440"
            ]
          },
          "metadata": {
            "tags": []
          },
          "execution_count": 12
        }
      ]
    },
    {
      "cell_type": "code",
      "metadata": {
        "id": "xVSs2Iu-tc2I",
        "colab_type": "code",
        "outputId": "577f802c-fb6a-46bd-edfb-1df998c9d889",
        "colab": {
          "base_uri": "https://localhost:8080/",
          "height": 34
        }
      },
      "source": [
        "all_training_list[0][:5]"
      ],
      "execution_count": 0,
      "outputs": [
        {
          "output_type": "execute_result",
          "data": {
            "text/plain": [
              "['A', 'system', 'for', 'differentiating', 'noise']"
            ]
          },
          "metadata": {
            "tags": []
          },
          "execution_count": 13
        }
      ]
    },
    {
      "cell_type": "code",
      "metadata": {
        "id": "7ha0XhVFrKwr",
        "colab_type": "code",
        "outputId": "61519ce4-5382-4b5d-f99a-c4cfb6100559",
        "colab": {
          "base_uri": "https://localhost:8080/",
          "height": 52
        }
      },
      "source": [
        "%%time\n",
        "\n",
        "w2v = Word2Vec(\n",
        "    all_training_list,\n",
        "    size=100, window=5, min_count=5, workers=CPUNUM, iter=10, hs=1, seed=23\n",
        ")"
      ],
      "execution_count": 0,
      "outputs": [
        {
          "output_type": "stream",
          "text": [
            "CPU times: user 7min 29s, sys: 1.61 s, total: 7min 31s\n",
            "Wall time: 3min 50s\n"
          ],
          "name": "stdout"
        }
      ]
    },
    {
      "cell_type": "code",
      "metadata": {
        "id": "YoSyc05Mtlp7",
        "colab_type": "code",
        "outputId": "568bdd5a-572e-44d9-e48d-88b76bc48a58",
        "colab": {
          "base_uri": "https://localhost:8080/",
          "height": 280
        }
      },
      "source": [
        "w2v.most_similar('generator')"
      ],
      "execution_count": 0,
      "outputs": [
        {
          "output_type": "stream",
          "text": [
            "/usr/local/lib/python3.6/dist-packages/ipykernel_launcher.py:1: DeprecationWarning: Call to deprecated `most_similar` (Method will be removed in 4.0.0, use self.wv.most_similar() instead).\n",
            "  \"\"\"Entry point for launching an IPython kernel.\n",
            "/usr/local/lib/python3.6/dist-packages/gensim/matutils.py:737: FutureWarning: Conversion of the second argument of issubdtype from `int` to `np.signedinteger` is deprecated. In future, it will be treated as `np.int64 == np.dtype(int).type`.\n",
            "  if np.issubdtype(vec.dtype, np.int):\n"
          ],
          "name": "stderr"
        },
        {
          "output_type": "execute_result",
          "data": {
            "text/plain": [
              "[('generator,', 0.6032677888870239),\n",
              " ('generation', 0.5030529499053955),\n",
              " ('oscillator', 0.5020977258682251),\n",
              " ('detector', 0.496626079082489),\n",
              " ('controller', 0.4901273846626282),\n",
              " ('regulator', 0.4858677089214325),\n",
              " ('driver', 0.48575833439826965),\n",
              " ('source', 0.48183900117874146),\n",
              " ('sensor', 0.481015145778656),\n",
              " ('motor', 0.46535730361938477)]"
            ]
          },
          "metadata": {
            "tags": []
          },
          "execution_count": 15
        }
      ]
    },
    {
      "cell_type": "code",
      "metadata": {
        "id": "AnC4OGMHtljS",
        "colab_type": "code",
        "colab": {}
      },
      "source": [
        "GS_BASE = \"gs://yohei-kikuta/mlstudy-phys/patent-analysis/3000-extracted-feature/W2V\"\n",
        "\n",
        "def dump_and_send(fname, obj):\n",
        "  with gzip.open(fname, 'w') as f:\n",
        "     pickle.dump(obj, f)\n",
        "  !gsutil cp {fname} {GS_BASE}/{fname}\n",
        "  print(f\"send to {GS_BASE}/{fname}\")"
      ],
      "execution_count": 0,
      "outputs": []
    },
    {
      "cell_type": "code",
      "metadata": {
        "id": "Tnib9hvztrmv",
        "colab_type": "code",
        "colab": {}
      },
      "source": [
        "def text_to_vec(text):\n",
        "    words = text.split()\n",
        "    filtered_words = []\n",
        "    \n",
        "    for word in words:\n",
        "        if word in w2v.wv.vocab:\n",
        "            filtered_words.append(word)\n",
        "    vec = np.average(w2v[filtered_words], axis=0)\n",
        "    return vec"
      ],
      "execution_count": 0,
      "outputs": []
    },
    {
      "cell_type": "code",
      "metadata": {
        "id": "lN9cZJjNt5_9",
        "colab_type": "code",
        "outputId": "7435adad-c74e-4513-97b9-5c95da0f68db",
        "colab": {
          "base_uri": "https://localhost:8080/",
          "height": 176
        }
      },
      "source": [
        "%%time\n",
        "\n",
        "train_features = np.array([text_to_vec(claim) for claim in train_app['claim_app']])\n",
        "dump_and_send(\"w2v_100_feature_train_app_3000.pkl.gz\", train_features)"
      ],
      "execution_count": 0,
      "outputs": [
        {
          "output_type": "stream",
          "text": [
            "/usr/local/lib/python3.6/dist-packages/ipykernel_launcher.py:8: DeprecationWarning: Call to deprecated `__getitem__` (Method will be removed in 4.0.0, use self.wv.__getitem__() instead).\n",
            "  \n"
          ],
          "name": "stderr"
        },
        {
          "output_type": "stream",
          "text": [
            "Copying file://w2v_100_feature_train_app_3000.pkl.gz [Content-Type=application/octet-stream]...\n",
            "-\n",
            "Operation completed over 1 objects/1.1 MiB.                                      \n",
            "send to gs://yohei-kikuta/mlstudy-phys/patent-analysis/3000-extracted-feature/W2V/w2v_100_feature_train_app_3000.pkl.gz\n",
            "CPU times: user 9.79 s, sys: 104 ms, total: 9.89 s\n",
            "Wall time: 14.5 s\n"
          ],
          "name": "stdout"
        }
      ]
    },
    {
      "cell_type": "code",
      "metadata": {
        "id": "EAsd_db8wXGq",
        "colab_type": "code",
        "outputId": "e294ba1b-9dd4-4d43-c0bf-1defdbb2be42",
        "colab": {
          "base_uri": "https://localhost:8080/",
          "height": 34
        }
      },
      "source": [
        "train_features.shape"
      ],
      "execution_count": 0,
      "outputs": [
        {
          "output_type": "execute_result",
          "data": {
            "text/plain": [
              "(3000, 100)"
            ]
          },
          "metadata": {
            "tags": []
          },
          "execution_count": 19
        }
      ]
    },
    {
      "cell_type": "code",
      "metadata": {
        "id": "JY_Wq91JwYc5",
        "colab_type": "code",
        "outputId": "7a2005f0-62eb-4a37-f57a-fa43933271ed",
        "colab": {
          "base_uri": "https://localhost:8080/",
          "height": 52
        }
      },
      "source": [
        "train_features[0][:5]"
      ],
      "execution_count": 0,
      "outputs": [
        {
          "output_type": "execute_result",
          "data": {
            "text/plain": [
              "array([-0.30962306, -0.01635869,  0.04177235, -0.27590832,  0.02144193],\n",
              "      dtype=float32)"
            ]
          },
          "metadata": {
            "tags": []
          },
          "execution_count": 20
        }
      ]
    },
    {
      "cell_type": "code",
      "metadata": {
        "id": "Aq2Nd5aMwaSN",
        "colab_type": "code",
        "outputId": "a7195c2f-1518-4a43-cd94-d9433061bad3",
        "colab": {
          "base_uri": "https://localhost:8080/",
          "height": 52
        }
      },
      "source": [
        "train_features[0][-5:]"
      ],
      "execution_count": 0,
      "outputs": [
        {
          "output_type": "execute_result",
          "data": {
            "text/plain": [
              "array([ 0.40655544, -0.37481394, -0.82976675,  0.00378964,  0.11228371],\n",
              "      dtype=float32)"
            ]
          },
          "metadata": {
            "tags": []
          },
          "execution_count": 21
        }
      ]
    },
    {
      "cell_type": "code",
      "metadata": {
        "id": "tz_h6O-itsAV",
        "colab_type": "code",
        "outputId": "dd65ae1a-e380-40da-960a-ca8dd248fa77",
        "colab": {
          "base_uri": "https://localhost:8080/",
          "height": 176
        }
      },
      "source": [
        "%%time\n",
        "\n",
        "test_features = np.array([text_to_vec(claim) for claim in test_app['claim_app']])\n",
        "dump_and_send(\"w2v_100_feature_test_app_3000.pkl.gz\", test_features)"
      ],
      "execution_count": 0,
      "outputs": [
        {
          "output_type": "stream",
          "text": [
            "/usr/local/lib/python3.6/dist-packages/ipykernel_launcher.py:8: DeprecationWarning: Call to deprecated `__getitem__` (Method will be removed in 4.0.0, use self.wv.__getitem__() instead).\n",
            "  \n"
          ],
          "name": "stderr"
        },
        {
          "output_type": "stream",
          "text": [
            "Copying file://w2v_100_feature_test_app_3000.pkl.gz [Content-Type=application/octet-stream]...\n",
            "-\n",
            "Operation completed over 1 objects/1.1 MiB.                                      \n",
            "send to gs://yohei-kikuta/mlstudy-phys/patent-analysis/3000-extracted-feature/W2V/w2v_100_feature_test_app_3000.pkl.gz\n",
            "CPU times: user 9.98 s, sys: 98.9 ms, total: 10.1 s\n",
            "Wall time: 13.7 s\n"
          ],
          "name": "stdout"
        }
      ]
    },
    {
      "cell_type": "code",
      "metadata": {
        "id": "4ytWjD_Ttrie",
        "colab_type": "code",
        "outputId": "0965bb16-b0b2-48b7-c618-9235b6da9e0d",
        "colab": {
          "base_uri": "https://localhost:8080/",
          "height": 176
        }
      },
      "source": [
        "%%time\n",
        "\n",
        "grants_features = np.array([text_to_vec(claim) for claim in grants['claim_cited_grant']])\n",
        "dump_and_send(\"w2v_100_feature_grants_3000_3000.pkl.gz\", grants_features)"
      ],
      "execution_count": 0,
      "outputs": [
        {
          "output_type": "stream",
          "text": [
            "/usr/local/lib/python3.6/dist-packages/ipykernel_launcher.py:8: DeprecationWarning: Call to deprecated `__getitem__` (Method will be removed in 4.0.0, use self.wv.__getitem__() instead).\n",
            "  \n"
          ],
          "name": "stderr"
        },
        {
          "output_type": "stream",
          "text": [
            "Copying file://w2v_100_feature_grants_3000_3000.pkl.gz [Content-Type=application/octet-stream]...\n",
            "-\n",
            "Operation completed over 1 objects/2.3 MiB.                                      \n",
            "send to gs://yohei-kikuta/mlstudy-phys/patent-analysis/3000-extracted-feature/W2V/w2v_100_feature_grants_3000_3000.pkl.gz\n",
            "CPU times: user 28.2 s, sys: 181 ms, total: 28.3 s\n",
            "Wall time: 32.3 s\n"
          ],
          "name": "stdout"
        }
      ]
    },
    {
      "cell_type": "code",
      "metadata": {
        "id": "NV8Htesytrds",
        "colab_type": "code",
        "colab": {}
      },
      "source": [
        ""
      ],
      "execution_count": 0,
      "outputs": []
    },
    {
      "cell_type": "markdown",
      "metadata": {
        "id": "cF_iBO73ZZFl",
        "colab_type": "text"
      },
      "source": [
        "## Feature extraction: fasttext"
      ]
    },
    {
      "cell_type": "code",
      "metadata": {
        "id": "qNv4emvOwcs6",
        "colab_type": "code",
        "colab": {}
      },
      "source": [
        "import pandas as pd\n",
        "import numpy as np\n",
        "from scipy import spatial\n",
        "\n",
        "import multiprocessing\n",
        "CPUNUM = multiprocessing.cpu_count()"
      ],
      "execution_count": 0,
      "outputs": []
    },
    {
      "cell_type": "code",
      "metadata": {
        "id": "sWVAwroGwcom",
        "colab_type": "code",
        "colab": {
          "base_uri": "https://localhost:8080/",
          "height": 89
        },
        "outputId": "427b200e-e2cc-4e8e-f28c-3168e0e9dc5a"
      },
      "source": [
        "import gensim.downloader as api\n",
        "\n",
        "model = api.load(\"fasttext-wiki-news-subwords-300\")  # download the model and return as object ready for use"
      ],
      "execution_count": 10,
      "outputs": [
        {
          "output_type": "stream",
          "text": [
            "[==================================================] 100.0% 958.5/958.4MB downloaded\n"
          ],
          "name": "stdout"
        },
        {
          "output_type": "stream",
          "text": [
            "/usr/local/lib/python3.6/dist-packages/smart_open/smart_open_lib.py:398: UserWarning: This function is deprecated, use smart_open.open instead. See the migration notes for details: https://github.com/RaRe-Technologies/smart_open/blob/master/README.rst#migrating-to-the-new-open-function\n",
            "  'See the migration notes for details: %s' % _MIGRATION_NOTES_URL\n"
          ],
          "name": "stderr"
        }
      ]
    },
    {
      "cell_type": "code",
      "metadata": {
        "id": "_481Ix2kwcjX",
        "colab_type": "code",
        "colab": {
          "base_uri": "https://localhost:8080/",
          "height": 245
        },
        "outputId": "6f7a7dbc-a0c7-402d-94a0-27b0ad306886"
      },
      "source": [
        "model.most_similar(\"generator\")"
      ],
      "execution_count": 11,
      "outputs": [
        {
          "output_type": "stream",
          "text": [
            "/usr/local/lib/python3.6/dist-packages/gensim/matutils.py:737: FutureWarning: Conversion of the second argument of issubdtype from `int` to `np.signedinteger` is deprecated. In future, it will be treated as `np.int64 == np.dtype(int).type`.\n",
            "  if np.issubdtype(vec.dtype, np.int):\n"
          ],
          "name": "stderr"
        },
        {
          "output_type": "execute_result",
          "data": {
            "text/plain": [
              "[('generators', 0.8244898319244385),\n",
              " ('cogenerator', 0.7042113542556763),\n",
              " ('Generator', 0.6945025324821472),\n",
              " ('motor-generator', 0.6781628131866455),\n",
              " ('alternator', 0.6766893863677979),\n",
              " ('turbine-generator', 0.6669933795928955),\n",
              " ('engine-generator', 0.6461780071258545),\n",
              " ('turbogenerator', 0.6457508206367493),\n",
              " ('turbo-generator', 0.6451094150543213),\n",
              " ('regenerator', 0.6378977298736572)]"
            ]
          },
          "metadata": {
            "tags": []
          },
          "execution_count": 11
        }
      ]
    },
    {
      "cell_type": "code",
      "metadata": {
        "id": "qdnZIjf2cOK5",
        "colab_type": "code",
        "colab": {
          "base_uri": "https://localhost:8080/",
          "height": 52
        },
        "outputId": "63289a4a-9c0e-48a8-f9a4-38030f37c850"
      },
      "source": [
        "list(model.vocab.keys())[:10], list(model.vocab.keys())[-5:]"
      ],
      "execution_count": 16,
      "outputs": [
        {
          "output_type": "execute_result",
          "data": {
            "text/plain": [
              "([',', 'the', '.', 'and', 'of', 'to', 'in', 'a', '\"', ':'],\n",
              " ['whitespotted', 'sacoglossan', 'Iseya', 'Bayyah', 'Vilaya'])"
            ]
          },
          "metadata": {
            "tags": []
          },
          "execution_count": 16
        }
      ]
    },
    {
      "cell_type": "code",
      "metadata": {
        "id": "I-o_CojLcz71",
        "colab_type": "code",
        "colab": {
          "base_uri": "https://localhost:8080/",
          "height": 34
        },
        "outputId": "752fa282-215b-4d33-8ed8-f0d92fc34b2f"
      },
      "source": [
        "model['generator'].shape"
      ],
      "execution_count": 20,
      "outputs": [
        {
          "output_type": "execute_result",
          "data": {
            "text/plain": [
              "(300,)"
            ]
          },
          "metadata": {
            "tags": []
          },
          "execution_count": 20
        }
      ]
    },
    {
      "cell_type": "code",
      "metadata": {
        "id": "tc4dtPHkwcej",
        "colab_type": "code",
        "colab": {}
      },
      "source": [
        "GS_BASE = \"gs://yohei-kikuta/mlstudy-phys/patent-analysis/3000-extracted-feature/fastText\"\n",
        "\n",
        "def dump_and_send(fname, obj):\n",
        "  with gzip.open(fname, 'w') as f:\n",
        "     pickle.dump(obj, f)\n",
        "  !gsutil cp {fname} {GS_BASE}/{fname}\n",
        "  print(f\"send to {GS_BASE}/{fname}\")"
      ],
      "execution_count": 0,
      "outputs": []
    },
    {
      "cell_type": "code",
      "metadata": {
        "id": "QWnAKsw2agXR",
        "colab_type": "code",
        "colab": {}
      },
      "source": [
        "def text_to_vec(text):\n",
        "    words = text.split()\n",
        "    filtered_words = []\n",
        "    \n",
        "    for word in words:\n",
        "        if word in model.vocab:\n",
        "            filtered_words.append(word)\n",
        "    vec = np.average(model[filtered_words], axis=0)\n",
        "    return vec"
      ],
      "execution_count": 0,
      "outputs": []
    },
    {
      "cell_type": "code",
      "metadata": {
        "id": "D6CITXlNaiOL",
        "colab_type": "code",
        "colab": {
          "base_uri": "https://localhost:8080/",
          "height": 121
        },
        "outputId": "f09048a6-54b8-43c2-dfb1-9f05c5dd14c3"
      },
      "source": [
        "%%time\n",
        "\n",
        "train_features = np.array([text_to_vec(claim) for claim in train_app['claim_app']])\n",
        "dump_and_send(\"fasttext_300_feature_train_app_3000.pkl.gz\", train_features)"
      ],
      "execution_count": 21,
      "outputs": [
        {
          "output_type": "stream",
          "text": [
            "Copying file://fasttext_300_feature_train_app_3000.pkl.gz [Content-Type=application/octet-stream]...\n",
            "-\n",
            "Operation completed over 1 objects/3.2 MiB.                                      \n",
            "send to gs://yohei-kikuta/mlstudy-phys/patent-analysis/3000-extracted-feature/fastText/fasttext_300_feature_train_app_3000.pkl.gz\n",
            "CPU times: user 9.49 s, sys: 158 ms, total: 9.65 s\n",
            "Wall time: 15.5 s\n"
          ],
          "name": "stdout"
        }
      ]
    },
    {
      "cell_type": "code",
      "metadata": {
        "id": "A9odtVtUc6uC",
        "colab_type": "code",
        "colab": {
          "base_uri": "https://localhost:8080/",
          "height": 34
        },
        "outputId": "22cf6b1f-c842-4241-b756-9fd2f9e3bb8b"
      },
      "source": [
        "train_features.shape"
      ],
      "execution_count": 22,
      "outputs": [
        {
          "output_type": "execute_result",
          "data": {
            "text/plain": [
              "(3000, 300)"
            ]
          },
          "metadata": {
            "tags": []
          },
          "execution_count": 22
        }
      ]
    },
    {
      "cell_type": "code",
      "metadata": {
        "id": "WsFJjI3WdAao",
        "colab_type": "code",
        "colab": {
          "base_uri": "https://localhost:8080/",
          "height": 52
        },
        "outputId": "9cfee765-f7cd-4975-f712-abcc1771ec7d"
      },
      "source": [
        "train_features[0][:5]"
      ],
      "execution_count": 23,
      "outputs": [
        {
          "output_type": "execute_result",
          "data": {
            "text/plain": [
              "array([ 0.00127815, -0.00225469,  0.02024586,  0.01990329, -0.02750648],\n",
              "      dtype=float32)"
            ]
          },
          "metadata": {
            "tags": []
          },
          "execution_count": 23
        }
      ]
    },
    {
      "cell_type": "code",
      "metadata": {
        "id": "Gf2jcCMOdCQ-",
        "colab_type": "code",
        "colab": {
          "base_uri": "https://localhost:8080/",
          "height": 121
        },
        "outputId": "417b23b8-361d-4901-8cff-33b71511aaa1"
      },
      "source": [
        "%%time\n",
        "\n",
        "test_features = np.array([text_to_vec(claim) for claim in test_app['claim_app']])\n",
        "dump_and_send(\"fasttext_300_feature_test_app_3000.pkl.gz\", test_features)"
      ],
      "execution_count": 24,
      "outputs": [
        {
          "output_type": "stream",
          "text": [
            "Copying file://fasttext_300_feature_test_app_3000.pkl.gz [Content-Type=application/octet-stream]...\n",
            "-\n",
            "Operation completed over 1 objects/3.2 MiB.                                      \n",
            "send to gs://yohei-kikuta/mlstudy-phys/patent-analysis/3000-extracted-feature/fastText/fasttext_300_feature_test_app_3000.pkl.gz\n",
            "CPU times: user 9.7 s, sys: 220 ms, total: 9.92 s\n",
            "Wall time: 14.7 s\n"
          ],
          "name": "stdout"
        }
      ]
    },
    {
      "cell_type": "code",
      "metadata": {
        "id": "snTM4mscdPKf",
        "colab_type": "code",
        "colab": {
          "base_uri": "https://localhost:8080/",
          "height": 121
        },
        "outputId": "918f76ef-2234-4763-e699-0ff2a977ccf0"
      },
      "source": [
        "%%time\n",
        "\n",
        "grants_features = np.array([text_to_vec(claim) for claim in grants['claim_cited_grant']])\n",
        "dump_and_send(\"fasttext_300_feature_grants_3000_3000.pkl.gz\", grants_features)"
      ],
      "execution_count": 25,
      "outputs": [
        {
          "output_type": "stream",
          "text": [
            "Copying file://fasttext_300_feature_grants_3000_3000.pkl.gz [Content-Type=application/octet-stream]...\n",
            "-\n",
            "Operation completed over 1 objects/6.9 MiB.                                      \n",
            "send to gs://yohei-kikuta/mlstudy-phys/patent-analysis/3000-extracted-feature/fastText/fasttext_300_feature_grants_3000_3000.pkl.gz\n",
            "CPU times: user 28.6 s, sys: 382 ms, total: 29 s\n",
            "Wall time: 34 s\n"
          ],
          "name": "stdout"
        }
      ]
    },
    {
      "cell_type": "code",
      "metadata": {
        "id": "YAb6R6xHdUWY",
        "colab_type": "code",
        "colab": {}
      },
      "source": [
        ""
      ],
      "execution_count": 0,
      "outputs": []
    }
  ]
}