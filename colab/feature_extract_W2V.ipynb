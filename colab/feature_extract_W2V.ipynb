{
  "nbformat": 4,
  "nbformat_minor": 0,
  "metadata": {
    "colab": {
      "name": "feature-extract-W2V.ipynb",
      "version": "0.3.2",
      "provenance": [],
      "collapsed_sections": [],
      "toc_visible": true,
      "include_colab_link": true
    },
    "kernelspec": {
      "name": "python3",
      "display_name": "Python 3"
    }
  },
  "cells": [
    {
      "cell_type": "markdown",
      "metadata": {
        "id": "view-in-github",
        "colab_type": "text"
      },
      "source": [
        "<a href=\"https://colab.research.google.com/github/yoheikikuta/US-patent-analysis/blob/master/colab/feature_extract_W2V.ipynb\" target=\"_parent\"><img src=\"https://colab.research.google.com/assets/colab-badge.svg\" alt=\"Open In Colab\"/></a>"
      ]
    },
    {
      "cell_type": "markdown",
      "metadata": {
        "id": "xRMdwXntp495",
        "colab_type": "text"
      },
      "source": [
        "# Feature extraction from w2v model\n",
        "\n"
      ]
    },
    {
      "cell_type": "code",
      "metadata": {
        "id": "5AVtXr99QX9o",
        "colab_type": "code",
        "colab": {}
      },
      "source": [
        "from google.colab import auth\n",
        "auth.authenticate_user()"
      ],
      "execution_count": 0,
      "outputs": []
    },
    {
      "cell_type": "markdown",
      "metadata": {
        "id": "t0L-IQXoqSBV",
        "colab_type": "text"
      },
      "source": [
        "## Data preparation"
      ]
    },
    {
      "cell_type": "code",
      "metadata": {
        "id": "SLzIA0Rrqsop",
        "colab_type": "code",
        "colab": {}
      },
      "source": [
        "DATA_DIR = \"./\""
      ],
      "execution_count": 0,
      "outputs": []
    },
    {
      "cell_type": "code",
      "metadata": {
        "id": "Cy5TSUHWqs44",
        "colab_type": "code",
        "outputId": "f39affc0-7f4c-447d-b5a1-10ede36afa01",
        "colab": {
          "base_uri": "https://localhost:8080/",
          "height": 163
        }
      },
      "source": [
        "!gsutil cp gs://yohei-kikuta/mlstudy-phys/patent-analysis/3000-xml/grants_for_3000+3000.df.gz {DATA_DIR}\n",
        "!gsutil cp gs://yohei-kikuta/mlstudy-phys/patent-analysis/3000-xml/testset_app_3000.df.gz {DATA_DIR}\n",
        "!gsutil cp gs://yohei-kikuta/mlstudy-phys/patent-analysis/3000-xml/training_app_3000.df.gz {DATA_DIR}"
      ],
      "execution_count": 3,
      "outputs": [
        {
          "output_type": "stream",
          "text": [
            "Copying gs://yohei-kikuta/mlstudy-phys/patent-analysis/3000-xml/grants_for_3000+3000.df.gz...\n",
            "\\ [1 files][129.4 MiB/129.4 MiB]                                                \n",
            "Operation completed over 1 objects/129.4 MiB.                                    \n",
            "Copying gs://yohei-kikuta/mlstudy-phys/patent-analysis/3000-xml/testset_app_3000.df.gz...\n",
            "- [1 files][ 45.5 MiB/ 45.5 MiB]                                                \n",
            "Operation completed over 1 objects/45.5 MiB.                                     \n",
            "Copying gs://yohei-kikuta/mlstudy-phys/patent-analysis/3000-xml/training_app_3000.df.gz...\n",
            "\\ [1 files][ 45.0 MiB/ 45.0 MiB]                                                \n",
            "Operation completed over 1 objects/45.0 MiB.                                     \n"
          ],
          "name": "stdout"
        }
      ]
    },
    {
      "cell_type": "code",
      "metadata": {
        "id": "e10CF59Eq10o",
        "colab_type": "code",
        "colab": {}
      },
      "source": [
        "import gzip\n",
        "import pickle\n",
        "import datetime\n",
        "import json\n",
        "import os\n",
        "import pprint\n",
        "import random\n",
        "import string\n",
        "import sys\n",
        "import pandas as pd"
      ],
      "execution_count": 0,
      "outputs": []
    },
    {
      "cell_type": "code",
      "metadata": {
        "id": "aAE1xtw5q16t",
        "colab_type": "code",
        "colab": {}
      },
      "source": [
        "grants = pd.read_pickle(f\"{DATA_DIR}grants_for_3000+3000.df.gz\")\n",
        "test_app = pd.read_pickle(f\"{DATA_DIR}testset_app_3000.df.gz\")\n",
        "train_app = pd.read_pickle(f\"{DATA_DIR}training_app_3000.df.gz\")"
      ],
      "execution_count": 0,
      "outputs": []
    },
    {
      "cell_type": "code",
      "metadata": {
        "id": "XLVO8oorq2Gd",
        "colab_type": "code",
        "colab": {}
      },
      "source": [
        "import re\n",
        "\n",
        "\n",
        "CLAIM_PAT = re.compile(r'<claims[^>]*>(.*)</claims>',re.MULTILINE|re.DOTALL)\n",
        "TAG_PAT = re.compile(r\"<.*?>\")\n",
        "LB_PAT = re.compile(r'[\\t\\n\\r\\f\\v][\" \"]*')\n",
        "CANCELED_PAT = re.compile(r'[0-9]+.*\\. \\(canceled\\)[\" \"]')\n",
        "NUM_PAT = re.compile(r'[\" \"]?[0-9]+[\" \"]?\\.[\" \"]?')\n",
        "\n",
        "\n",
        "def whole_xml_to_claim_xml(whole):\n",
        "    mat = CLAIM_PAT.search(whole)\n",
        "    return mat.group(1)\n",
        "\n",
        "\n",
        "def whole_xml_to_claim(whole):\n",
        "    return TAG_PAT.sub(' ', whole_xml_to_claim_xml(whole))\n",
        "\n",
        "\n",
        "def remove_linebreak_from_claim(claim):\n",
        "    return LB_PAT.sub('', claim)\n",
        "\n",
        "\n",
        "def remove_canceled_claim(claim):\n",
        "    return CANCELED_PAT.sub('', claim)\n",
        "\n",
        "\n",
        "def remove_claim_numbers(claim):\n",
        "    return NUM_PAT.sub('', claim)  "
      ],
      "execution_count": 0,
      "outputs": []
    },
    {
      "cell_type": "code",
      "metadata": {
        "id": "a4xP4PIWq2Cb",
        "colab_type": "code",
        "outputId": "806b7571-a149-4f12-fb3c-7e7bb2d72260",
        "colab": {
          "base_uri": "https://localhost:8080/",
          "height": 50
        }
      },
      "source": [
        "%%time\n",
        "\n",
        "train_app[\"claim_app\"] = train_app[\"xml\"].map(whole_xml_to_claim).map(remove_canceled_claim).map(remove_claim_numbers).map(remove_linebreak_from_claim)\n",
        "train_app = train_app.drop(\"xml\", axis=1)\n",
        "train_app.head()\n",
        "\n",
        "test_app[\"claim_app\"] = test_app[\"xml\"].map(whole_xml_to_claim).map(remove_canceled_claim).map(remove_claim_numbers).map(remove_linebreak_from_claim)\n",
        "test_app = test_app.drop(\"xml\", axis=1)\n",
        "test_app.head()\n",
        "\n",
        "grants[\"claim_cited_grant\"] = grants[\"xml\"].map(whole_xml_to_claim).map(remove_canceled_claim).map(remove_claim_numbers).map(remove_linebreak_from_claim)\n",
        "grants = grants.drop(\"xml\", axis=1)\n",
        "grants.head()"
      ],
      "execution_count": 7,
      "outputs": [
        {
          "output_type": "stream",
          "text": [
            "CPU times: user 9.72 s, sys: 258 ms, total: 9.98 s\n",
            "Wall time: 10 s\n"
          ],
          "name": "stdout"
        }
      ]
    },
    {
      "cell_type": "code",
      "metadata": {
        "id": "SDv4kWf2q_Lh",
        "colab_type": "code",
        "outputId": "94010641-ceda-4f1f-e0c2-54c91dce7311",
        "colab": {
          "base_uri": "https://localhost:8080/",
          "height": 133
        }
      },
      "source": [
        "train_app.head(3)"
      ],
      "execution_count": 8,
      "outputs": [
        {
          "output_type": "execute_result",
          "data": {
            "text/html": [
              "<div>\n",
              "<style scoped>\n",
              "    .dataframe tbody tr th:only-of-type {\n",
              "        vertical-align: middle;\n",
              "    }\n",
              "\n",
              "    .dataframe tbody tr th {\n",
              "        vertical-align: top;\n",
              "    }\n",
              "\n",
              "    .dataframe thead th {\n",
              "        text-align: right;\n",
              "    }\n",
              "</style>\n",
              "<table border=\"1\" class=\"dataframe\">\n",
              "  <thead>\n",
              "    <tr style=\"text-align: right;\">\n",
              "      <th></th>\n",
              "      <th>app_id</th>\n",
              "      <th>claim_app</th>\n",
              "    </tr>\n",
              "  </thead>\n",
              "  <tbody>\n",
              "    <tr>\n",
              "      <th>0</th>\n",
              "      <td>12130785</td>\n",
              "      <td>A system for differentiating noise from an arr...</td>\n",
              "    </tr>\n",
              "    <tr>\n",
              "      <th>1</th>\n",
              "      <td>12652424</td>\n",
              "      <td>A method of allocating resources in a data war...</td>\n",
              "    </tr>\n",
              "    <tr>\n",
              "      <th>2</th>\n",
              "      <td>12214532</td>\n",
              "      <td>A controlling method of a media processing app...</td>\n",
              "    </tr>\n",
              "  </tbody>\n",
              "</table>\n",
              "</div>"
            ],
            "text/plain": [
              "     app_id                                          claim_app\n",
              "0  12130785  A system for differentiating noise from an arr...\n",
              "1  12652424  A method of allocating resources in a data war...\n",
              "2  12214532  A controlling method of a media processing app..."
            ]
          },
          "metadata": {
            "tags": []
          },
          "execution_count": 8
        }
      ]
    },
    {
      "cell_type": "markdown",
      "metadata": {
        "id": "ObjpPPrAqtF0",
        "colab_type": "text"
      },
      "source": [
        "## Feature extraction: Word2Vec"
      ]
    },
    {
      "cell_type": "code",
      "metadata": {
        "id": "GI-9K_p_QoL8",
        "colab_type": "code",
        "colab": {}
      },
      "source": [
        "import pandas as pd\n",
        "import numpy as np\n",
        "from gensim.models import Word2Vec\n",
        "from scipy import spatial\n",
        "\n",
        "import multiprocessing\n",
        "CPUNUM = multiprocessing.cpu_count()"
      ],
      "execution_count": 0,
      "outputs": []
    },
    {
      "cell_type": "code",
      "metadata": {
        "id": "M16_FxGCs9Om",
        "colab_type": "code",
        "colab": {}
      },
      "source": [
        "### Use (train + grants) for w2v training\n",
        "\n",
        "all_training_list = train_app['claim_app'].map(lambda x:x.split()).tolist() + grants['claim_cited_grant'].map(lambda x:x.split()).tolist()"
      ],
      "execution_count": 0,
      "outputs": []
    },
    {
      "cell_type": "code",
      "metadata": {
        "id": "0Dd9spE6tax_",
        "colab_type": "code",
        "outputId": "bb836809-10bc-45e6-e9a6-d4443adacb5e",
        "colab": {
          "base_uri": "https://localhost:8080/",
          "height": 33
        }
      },
      "source": [
        "len(all_training_list)"
      ],
      "execution_count": 11,
      "outputs": [
        {
          "output_type": "execute_result",
          "data": {
            "text/plain": [
              "9440"
            ]
          },
          "metadata": {
            "tags": []
          },
          "execution_count": 11
        }
      ]
    },
    {
      "cell_type": "code",
      "metadata": {
        "id": "xVSs2Iu-tc2I",
        "colab_type": "code",
        "outputId": "31d30ec5-cf71-45d6-9b67-b52d32ccdc8e",
        "colab": {
          "base_uri": "https://localhost:8080/",
          "height": 33
        }
      },
      "source": [
        "all_training_list[0][:5]"
      ],
      "execution_count": 12,
      "outputs": [
        {
          "output_type": "execute_result",
          "data": {
            "text/plain": [
              "['A', 'system', 'for', 'differentiating', 'noise']"
            ]
          },
          "metadata": {
            "tags": []
          },
          "execution_count": 12
        }
      ]
    },
    {
      "cell_type": "code",
      "metadata": {
        "id": "7ha0XhVFrKwr",
        "colab_type": "code",
        "outputId": "61519ce4-5382-4b5d-f99a-c4cfb6100559",
        "colab": {
          "base_uri": "https://localhost:8080/",
          "height": 52
        }
      },
      "source": [
        "%%time\n",
        "\n",
        "w2v = Word2Vec(\n",
        "    all_training_list,\n",
        "    size=100, window=5, min_count=5, workers=CPUNUM, iter=10, hs=1, seed=23\n",
        ")"
      ],
      "execution_count": 0,
      "outputs": [
        {
          "output_type": "stream",
          "text": [
            "CPU times: user 7min 29s, sys: 1.61 s, total: 7min 31s\n",
            "Wall time: 3min 50s\n"
          ],
          "name": "stdout"
        }
      ]
    },
    {
      "cell_type": "code",
      "metadata": {
        "id": "YoSyc05Mtlp7",
        "colab_type": "code",
        "outputId": "568bdd5a-572e-44d9-e48d-88b76bc48a58",
        "colab": {
          "base_uri": "https://localhost:8080/",
          "height": 280
        }
      },
      "source": [
        "w2v.most_similar('generator')"
      ],
      "execution_count": 0,
      "outputs": [
        {
          "output_type": "stream",
          "text": [
            "/usr/local/lib/python3.6/dist-packages/ipykernel_launcher.py:1: DeprecationWarning: Call to deprecated `most_similar` (Method will be removed in 4.0.0, use self.wv.most_similar() instead).\n",
            "  \"\"\"Entry point for launching an IPython kernel.\n",
            "/usr/local/lib/python3.6/dist-packages/gensim/matutils.py:737: FutureWarning: Conversion of the second argument of issubdtype from `int` to `np.signedinteger` is deprecated. In future, it will be treated as `np.int64 == np.dtype(int).type`.\n",
            "  if np.issubdtype(vec.dtype, np.int):\n"
          ],
          "name": "stderr"
        },
        {
          "output_type": "execute_result",
          "data": {
            "text/plain": [
              "[('generator,', 0.6032677888870239),\n",
              " ('generation', 0.5030529499053955),\n",
              " ('oscillator', 0.5020977258682251),\n",
              " ('detector', 0.496626079082489),\n",
              " ('controller', 0.4901273846626282),\n",
              " ('regulator', 0.4858677089214325),\n",
              " ('driver', 0.48575833439826965),\n",
              " ('source', 0.48183900117874146),\n",
              " ('sensor', 0.481015145778656),\n",
              " ('motor', 0.46535730361938477)]"
            ]
          },
          "metadata": {
            "tags": []
          },
          "execution_count": 15
        }
      ]
    },
    {
      "cell_type": "code",
      "metadata": {
        "id": "AnC4OGMHtljS",
        "colab_type": "code",
        "colab": {}
      },
      "source": [
        "GS_BASE = \"gs://yohei-kikuta/mlstudy-phys/patent-analysis/3000-extracted-feature/W2V\"\n",
        "\n",
        "def dump_and_send(fname, obj):\n",
        "  with gzip.open(fname, 'w') as f:\n",
        "     pickle.dump(obj, f)\n",
        "  !gsutil cp {fname} {GS_BASE}/{fname}\n",
        "  print(f\"send to {GS_BASE}/{fname}\")"
      ],
      "execution_count": 0,
      "outputs": []
    },
    {
      "cell_type": "code",
      "metadata": {
        "id": "Tnib9hvztrmv",
        "colab_type": "code",
        "colab": {}
      },
      "source": [
        "def text_to_vec(text):\n",
        "    words = text.split()\n",
        "    filtered_words = []\n",
        "    \n",
        "    for word in words:\n",
        "        if word in w2v.wv.vocab:\n",
        "            filtered_words.append(word)\n",
        "    vec = np.average(w2v[filtered_words], axis=0)\n",
        "    return vec"
      ],
      "execution_count": 0,
      "outputs": []
    },
    {
      "cell_type": "code",
      "metadata": {
        "id": "lN9cZJjNt5_9",
        "colab_type": "code",
        "outputId": "7435adad-c74e-4513-97b9-5c95da0f68db",
        "colab": {
          "base_uri": "https://localhost:8080/",
          "height": 176
        }
      },
      "source": [
        "%%time\n",
        "\n",
        "train_features = np.array([text_to_vec(claim) for claim in train_app['claim_app']])\n",
        "dump_and_send(\"w2v_100_feature_train_app_3000.pkl.gz\", train_features)"
      ],
      "execution_count": 0,
      "outputs": [
        {
          "output_type": "stream",
          "text": [
            "/usr/local/lib/python3.6/dist-packages/ipykernel_launcher.py:8: DeprecationWarning: Call to deprecated `__getitem__` (Method will be removed in 4.0.0, use self.wv.__getitem__() instead).\n",
            "  \n"
          ],
          "name": "stderr"
        },
        {
          "output_type": "stream",
          "text": [
            "Copying file://w2v_100_feature_train_app_3000.pkl.gz [Content-Type=application/octet-stream]...\n",
            "-\n",
            "Operation completed over 1 objects/1.1 MiB.                                      \n",
            "send to gs://yohei-kikuta/mlstudy-phys/patent-analysis/3000-extracted-feature/W2V/w2v_100_feature_train_app_3000.pkl.gz\n",
            "CPU times: user 9.79 s, sys: 104 ms, total: 9.89 s\n",
            "Wall time: 14.5 s\n"
          ],
          "name": "stdout"
        }
      ]
    },
    {
      "cell_type": "code",
      "metadata": {
        "id": "EAsd_db8wXGq",
        "colab_type": "code",
        "outputId": "e294ba1b-9dd4-4d43-c0bf-1defdbb2be42",
        "colab": {
          "base_uri": "https://localhost:8080/",
          "height": 34
        }
      },
      "source": [
        "train_features.shape"
      ],
      "execution_count": 0,
      "outputs": [
        {
          "output_type": "execute_result",
          "data": {
            "text/plain": [
              "(3000, 100)"
            ]
          },
          "metadata": {
            "tags": []
          },
          "execution_count": 19
        }
      ]
    },
    {
      "cell_type": "code",
      "metadata": {
        "id": "JY_Wq91JwYc5",
        "colab_type": "code",
        "outputId": "7a2005f0-62eb-4a37-f57a-fa43933271ed",
        "colab": {
          "base_uri": "https://localhost:8080/",
          "height": 52
        }
      },
      "source": [
        "train_features[0][:5]"
      ],
      "execution_count": 0,
      "outputs": [
        {
          "output_type": "execute_result",
          "data": {
            "text/plain": [
              "array([-0.30962306, -0.01635869,  0.04177235, -0.27590832,  0.02144193],\n",
              "      dtype=float32)"
            ]
          },
          "metadata": {
            "tags": []
          },
          "execution_count": 20
        }
      ]
    },
    {
      "cell_type": "code",
      "metadata": {
        "id": "Aq2Nd5aMwaSN",
        "colab_type": "code",
        "outputId": "a7195c2f-1518-4a43-cd94-d9433061bad3",
        "colab": {
          "base_uri": "https://localhost:8080/",
          "height": 52
        }
      },
      "source": [
        "train_features[0][-5:]"
      ],
      "execution_count": 0,
      "outputs": [
        {
          "output_type": "execute_result",
          "data": {
            "text/plain": [
              "array([ 0.40655544, -0.37481394, -0.82976675,  0.00378964,  0.11228371],\n",
              "      dtype=float32)"
            ]
          },
          "metadata": {
            "tags": []
          },
          "execution_count": 21
        }
      ]
    },
    {
      "cell_type": "code",
      "metadata": {
        "id": "tz_h6O-itsAV",
        "colab_type": "code",
        "outputId": "dd65ae1a-e380-40da-960a-ca8dd248fa77",
        "colab": {
          "base_uri": "https://localhost:8080/",
          "height": 176
        }
      },
      "source": [
        "%%time\n",
        "\n",
        "test_features = np.array([text_to_vec(claim) for claim in test_app['claim_app']])\n",
        "dump_and_send(\"w2v_100_feature_test_app_3000.pkl.gz\", test_features)"
      ],
      "execution_count": 0,
      "outputs": [
        {
          "output_type": "stream",
          "text": [
            "/usr/local/lib/python3.6/dist-packages/ipykernel_launcher.py:8: DeprecationWarning: Call to deprecated `__getitem__` (Method will be removed in 4.0.0, use self.wv.__getitem__() instead).\n",
            "  \n"
          ],
          "name": "stderr"
        },
        {
          "output_type": "stream",
          "text": [
            "Copying file://w2v_100_feature_test_app_3000.pkl.gz [Content-Type=application/octet-stream]...\n",
            "-\n",
            "Operation completed over 1 objects/1.1 MiB.                                      \n",
            "send to gs://yohei-kikuta/mlstudy-phys/patent-analysis/3000-extracted-feature/W2V/w2v_100_feature_test_app_3000.pkl.gz\n",
            "CPU times: user 9.98 s, sys: 98.9 ms, total: 10.1 s\n",
            "Wall time: 13.7 s\n"
          ],
          "name": "stdout"
        }
      ]
    },
    {
      "cell_type": "code",
      "metadata": {
        "id": "4ytWjD_Ttrie",
        "colab_type": "code",
        "outputId": "0965bb16-b0b2-48b7-c618-9235b6da9e0d",
        "colab": {
          "base_uri": "https://localhost:8080/",
          "height": 176
        }
      },
      "source": [
        "%%time\n",
        "\n",
        "grants_features = np.array([text_to_vec(claim) for claim in grants['claim_cited_grant']])\n",
        "dump_and_send(\"w2v_100_feature_grants_3000_3000.pkl.gz\", grants_features)"
      ],
      "execution_count": 0,
      "outputs": [
        {
          "output_type": "stream",
          "text": [
            "/usr/local/lib/python3.6/dist-packages/ipykernel_launcher.py:8: DeprecationWarning: Call to deprecated `__getitem__` (Method will be removed in 4.0.0, use self.wv.__getitem__() instead).\n",
            "  \n"
          ],
          "name": "stderr"
        },
        {
          "output_type": "stream",
          "text": [
            "Copying file://w2v_100_feature_grants_3000_3000.pkl.gz [Content-Type=application/octet-stream]...\n",
            "-\n",
            "Operation completed over 1 objects/2.3 MiB.                                      \n",
            "send to gs://yohei-kikuta/mlstudy-phys/patent-analysis/3000-extracted-feature/W2V/w2v_100_feature_grants_3000_3000.pkl.gz\n",
            "CPU times: user 28.2 s, sys: 181 ms, total: 28.3 s\n",
            "Wall time: 32.3 s\n"
          ],
          "name": "stdout"
        }
      ]
    },
    {
      "cell_type": "code",
      "metadata": {
        "id": "NV8Htesytrds",
        "colab_type": "code",
        "colab": {}
      },
      "source": [
        ""
      ],
      "execution_count": 0,
      "outputs": []
    },
    {
      "cell_type": "markdown",
      "metadata": {
        "id": "cF_iBO73ZZFl",
        "colab_type": "text"
      },
      "source": [
        "## Feature extraction: fasttext"
      ]
    },
    {
      "cell_type": "code",
      "metadata": {
        "id": "qNv4emvOwcs6",
        "colab_type": "code",
        "colab": {}
      },
      "source": [
        "import pandas as pd\n",
        "import numpy as np\n",
        "from scipy import spatial\n",
        "\n",
        "import multiprocessing\n",
        "CPUNUM = multiprocessing.cpu_count()"
      ],
      "execution_count": 0,
      "outputs": []
    },
    {
      "cell_type": "code",
      "metadata": {
        "id": "sWVAwroGwcom",
        "colab_type": "code",
        "outputId": "427b200e-e2cc-4e8e-f28c-3168e0e9dc5a",
        "colab": {
          "base_uri": "https://localhost:8080/",
          "height": 89
        }
      },
      "source": [
        "import gensim.downloader as api\n",
        "\n",
        "model = api.load(\"fasttext-wiki-news-subwords-300\")  # download the model and return as object ready for use"
      ],
      "execution_count": 0,
      "outputs": [
        {
          "output_type": "stream",
          "text": [
            "[==================================================] 100.0% 958.5/958.4MB downloaded\n"
          ],
          "name": "stdout"
        },
        {
          "output_type": "stream",
          "text": [
            "/usr/local/lib/python3.6/dist-packages/smart_open/smart_open_lib.py:398: UserWarning: This function is deprecated, use smart_open.open instead. See the migration notes for details: https://github.com/RaRe-Technologies/smart_open/blob/master/README.rst#migrating-to-the-new-open-function\n",
            "  'See the migration notes for details: %s' % _MIGRATION_NOTES_URL\n"
          ],
          "name": "stderr"
        }
      ]
    },
    {
      "cell_type": "code",
      "metadata": {
        "id": "_481Ix2kwcjX",
        "colab_type": "code",
        "outputId": "6f7a7dbc-a0c7-402d-94a0-27b0ad306886",
        "colab": {
          "base_uri": "https://localhost:8080/",
          "height": 245
        }
      },
      "source": [
        "model.most_similar(\"generator\")"
      ],
      "execution_count": 0,
      "outputs": [
        {
          "output_type": "stream",
          "text": [
            "/usr/local/lib/python3.6/dist-packages/gensim/matutils.py:737: FutureWarning: Conversion of the second argument of issubdtype from `int` to `np.signedinteger` is deprecated. In future, it will be treated as `np.int64 == np.dtype(int).type`.\n",
            "  if np.issubdtype(vec.dtype, np.int):\n"
          ],
          "name": "stderr"
        },
        {
          "output_type": "execute_result",
          "data": {
            "text/plain": [
              "[('generators', 0.8244898319244385),\n",
              " ('cogenerator', 0.7042113542556763),\n",
              " ('Generator', 0.6945025324821472),\n",
              " ('motor-generator', 0.6781628131866455),\n",
              " ('alternator', 0.6766893863677979),\n",
              " ('turbine-generator', 0.6669933795928955),\n",
              " ('engine-generator', 0.6461780071258545),\n",
              " ('turbogenerator', 0.6457508206367493),\n",
              " ('turbo-generator', 0.6451094150543213),\n",
              " ('regenerator', 0.6378977298736572)]"
            ]
          },
          "metadata": {
            "tags": []
          },
          "execution_count": 11
        }
      ]
    },
    {
      "cell_type": "code",
      "metadata": {
        "id": "qdnZIjf2cOK5",
        "colab_type": "code",
        "outputId": "63289a4a-9c0e-48a8-f9a4-38030f37c850",
        "colab": {
          "base_uri": "https://localhost:8080/",
          "height": 52
        }
      },
      "source": [
        "list(model.vocab.keys())[:10], list(model.vocab.keys())[-5:]"
      ],
      "execution_count": 0,
      "outputs": [
        {
          "output_type": "execute_result",
          "data": {
            "text/plain": [
              "([',', 'the', '.', 'and', 'of', 'to', 'in', 'a', '\"', ':'],\n",
              " ['whitespotted', 'sacoglossan', 'Iseya', 'Bayyah', 'Vilaya'])"
            ]
          },
          "metadata": {
            "tags": []
          },
          "execution_count": 16
        }
      ]
    },
    {
      "cell_type": "code",
      "metadata": {
        "id": "I-o_CojLcz71",
        "colab_type": "code",
        "outputId": "752fa282-215b-4d33-8ed8-f0d92fc34b2f",
        "colab": {
          "base_uri": "https://localhost:8080/",
          "height": 34
        }
      },
      "source": [
        "model['generator'].shape"
      ],
      "execution_count": 0,
      "outputs": [
        {
          "output_type": "execute_result",
          "data": {
            "text/plain": [
              "(300,)"
            ]
          },
          "metadata": {
            "tags": []
          },
          "execution_count": 20
        }
      ]
    },
    {
      "cell_type": "code",
      "metadata": {
        "id": "tc4dtPHkwcej",
        "colab_type": "code",
        "colab": {}
      },
      "source": [
        "GS_BASE = \"gs://yohei-kikuta/mlstudy-phys/patent-analysis/3000-extracted-feature/fastText\"\n",
        "\n",
        "def dump_and_send(fname, obj):\n",
        "  with gzip.open(fname, 'w') as f:\n",
        "     pickle.dump(obj, f)\n",
        "  !gsutil cp {fname} {GS_BASE}/{fname}\n",
        "  print(f\"send to {GS_BASE}/{fname}\")"
      ],
      "execution_count": 0,
      "outputs": []
    },
    {
      "cell_type": "code",
      "metadata": {
        "id": "QWnAKsw2agXR",
        "colab_type": "code",
        "colab": {}
      },
      "source": [
        "def text_to_vec(text):\n",
        "    words = text.split()\n",
        "    filtered_words = []\n",
        "    \n",
        "    for word in words:\n",
        "        if word in model.vocab:\n",
        "            filtered_words.append(word)\n",
        "    vec = np.average(model[filtered_words], axis=0)\n",
        "    return vec"
      ],
      "execution_count": 0,
      "outputs": []
    },
    {
      "cell_type": "code",
      "metadata": {
        "id": "D6CITXlNaiOL",
        "colab_type": "code",
        "outputId": "f09048a6-54b8-43c2-dfb1-9f05c5dd14c3",
        "colab": {
          "base_uri": "https://localhost:8080/",
          "height": 121
        }
      },
      "source": [
        "%%time\n",
        "\n",
        "train_features = np.array([text_to_vec(claim) for claim in train_app['claim_app']])\n",
        "dump_and_send(\"fasttext_300_feature_train_app_3000.pkl.gz\", train_features)"
      ],
      "execution_count": 0,
      "outputs": [
        {
          "output_type": "stream",
          "text": [
            "Copying file://fasttext_300_feature_train_app_3000.pkl.gz [Content-Type=application/octet-stream]...\n",
            "-\n",
            "Operation completed over 1 objects/3.2 MiB.                                      \n",
            "send to gs://yohei-kikuta/mlstudy-phys/patent-analysis/3000-extracted-feature/fastText/fasttext_300_feature_train_app_3000.pkl.gz\n",
            "CPU times: user 9.49 s, sys: 158 ms, total: 9.65 s\n",
            "Wall time: 15.5 s\n"
          ],
          "name": "stdout"
        }
      ]
    },
    {
      "cell_type": "code",
      "metadata": {
        "id": "A9odtVtUc6uC",
        "colab_type": "code",
        "outputId": "22cf6b1f-c842-4241-b756-9fd2f9e3bb8b",
        "colab": {
          "base_uri": "https://localhost:8080/",
          "height": 34
        }
      },
      "source": [
        "train_features.shape"
      ],
      "execution_count": 0,
      "outputs": [
        {
          "output_type": "execute_result",
          "data": {
            "text/plain": [
              "(3000, 300)"
            ]
          },
          "metadata": {
            "tags": []
          },
          "execution_count": 22
        }
      ]
    },
    {
      "cell_type": "code",
      "metadata": {
        "id": "WsFJjI3WdAao",
        "colab_type": "code",
        "outputId": "9cfee765-f7cd-4975-f712-abcc1771ec7d",
        "colab": {
          "base_uri": "https://localhost:8080/",
          "height": 52
        }
      },
      "source": [
        "train_features[0][:5]"
      ],
      "execution_count": 0,
      "outputs": [
        {
          "output_type": "execute_result",
          "data": {
            "text/plain": [
              "array([ 0.00127815, -0.00225469,  0.02024586,  0.01990329, -0.02750648],\n",
              "      dtype=float32)"
            ]
          },
          "metadata": {
            "tags": []
          },
          "execution_count": 23
        }
      ]
    },
    {
      "cell_type": "code",
      "metadata": {
        "id": "Gf2jcCMOdCQ-",
        "colab_type": "code",
        "outputId": "417b23b8-361d-4901-8cff-33b71511aaa1",
        "colab": {
          "base_uri": "https://localhost:8080/",
          "height": 121
        }
      },
      "source": [
        "%%time\n",
        "\n",
        "test_features = np.array([text_to_vec(claim) for claim in test_app['claim_app']])\n",
        "dump_and_send(\"fasttext_300_feature_test_app_3000.pkl.gz\", test_features)"
      ],
      "execution_count": 0,
      "outputs": [
        {
          "output_type": "stream",
          "text": [
            "Copying file://fasttext_300_feature_test_app_3000.pkl.gz [Content-Type=application/octet-stream]...\n",
            "-\n",
            "Operation completed over 1 objects/3.2 MiB.                                      \n",
            "send to gs://yohei-kikuta/mlstudy-phys/patent-analysis/3000-extracted-feature/fastText/fasttext_300_feature_test_app_3000.pkl.gz\n",
            "CPU times: user 9.7 s, sys: 220 ms, total: 9.92 s\n",
            "Wall time: 14.7 s\n"
          ],
          "name": "stdout"
        }
      ]
    },
    {
      "cell_type": "code",
      "metadata": {
        "id": "snTM4mscdPKf",
        "colab_type": "code",
        "outputId": "918f76ef-2234-4763-e699-0ff2a977ccf0",
        "colab": {
          "base_uri": "https://localhost:8080/",
          "height": 121
        }
      },
      "source": [
        "%%time\n",
        "\n",
        "grants_features = np.array([text_to_vec(claim) for claim in grants['claim_cited_grant']])\n",
        "dump_and_send(\"fasttext_300_feature_grants_3000_3000.pkl.gz\", grants_features)"
      ],
      "execution_count": 0,
      "outputs": [
        {
          "output_type": "stream",
          "text": [
            "Copying file://fasttext_300_feature_grants_3000_3000.pkl.gz [Content-Type=application/octet-stream]...\n",
            "-\n",
            "Operation completed over 1 objects/6.9 MiB.                                      \n",
            "send to gs://yohei-kikuta/mlstudy-phys/patent-analysis/3000-extracted-feature/fastText/fasttext_300_feature_grants_3000_3000.pkl.gz\n",
            "CPU times: user 28.6 s, sys: 382 ms, total: 29 s\n",
            "Wall time: 34 s\n"
          ],
          "name": "stdout"
        }
      ]
    },
    {
      "cell_type": "code",
      "metadata": {
        "id": "YAb6R6xHdUWY",
        "colab_type": "code",
        "colab": {}
      },
      "source": [
        ""
      ],
      "execution_count": 0,
      "outputs": []
    },
    {
      "cell_type": "code",
      "metadata": {
        "id": "Wd6Bz9Wnx02P",
        "colab_type": "code",
        "colab": {}
      },
      "source": [
        ""
      ],
      "execution_count": 0,
      "outputs": []
    },
    {
      "cell_type": "code",
      "metadata": {
        "id": "1Nq16BfJx06M",
        "colab_type": "code",
        "colab": {}
      },
      "source": [
        ""
      ],
      "execution_count": 0,
      "outputs": []
    },
    {
      "cell_type": "markdown",
      "metadata": {
        "id": "Fx8bQHo9x1Lz",
        "colab_type": "text"
      },
      "source": [
        "## Feature extraction: Word2Vec trained on 2017 data"
      ]
    },
    {
      "cell_type": "code",
      "metadata": {
        "id": "6vxXhzjlx5pA",
        "colab_type": "code",
        "colab": {
          "base_uri": "https://localhost:8080/",
          "height": 50
        },
        "outputId": "1b16d49c-887a-4cc1-a558-e8ddae0e737a"
      },
      "source": [
        "import gensim.downloader as api\n",
        "\n",
        "corpus = api.load(\"patent-2017\")"
      ],
      "execution_count": 13,
      "outputs": [
        {
          "output_type": "stream",
          "text": [
            " Part 1/2 [=================================================-] 99.2% 1934.7/1950.0MB downloaded\n",
            " Part 2/2 [==================================================] 100.0% 994.2/994.2MB downloaded\n"
          ],
          "name": "stdout"
        }
      ]
    },
    {
      "cell_type": "code",
      "metadata": {
        "id": "c9iM-JmtyWqc",
        "colab_type": "code",
        "colab": {}
      },
      "source": [
        "import json"
      ],
      "execution_count": 0,
      "outputs": []
    },
    {
      "cell_type": "code",
      "metadata": {
        "id": "wjEBWsjfYJ9r",
        "colab_type": "code",
        "outputId": "bb1c01a2-7407-46a5-fe03-40d92688bdbf",
        "colab": {
          "base_uri": "https://localhost:8080/",
          "height": 33
        }
      },
      "source": [
        "\"This; is : a, test.\".translate(str.maketrans({'.': ' ', ',': ' ', ':': ' ', ';': ' '})).split()"
      ],
      "execution_count": 15,
      "outputs": [
        {
          "output_type": "execute_result",
          "data": {
            "text/plain": [
              "['This', 'is', 'a', 'test']"
            ]
          },
          "metadata": {
            "tags": []
          },
          "execution_count": 15
        }
      ]
    },
    {
      "cell_type": "code",
      "metadata": {
        "id": "W4aRN_vT64ME",
        "colab_type": "code",
        "colab": {}
      },
      "source": [
        "def extract_one_grant(document_claims_claim):\n",
        "    one_grant = []\n",
        "    for claim_text in document_claims_claim:\n",
        "        try:\n",
        "            text_list = claim_text['claim-text']['claim-text']\n",
        "            if type(text_list) is list:\n",
        "                # Preprocessings.\n",
        "                one_grant.extend(sum(map(lambda x: x.translate(str.maketrans({'.': ' ', ',': ' ', ':': ' ', ';': ' '})).split(), text_list), []))\n",
        "            else:\n",
        "                one_grant.extend(text_list.translate(str.maketrans({'.': ' ', ',': ' ', ':': ' ', ';': ' '})).split())\n",
        "        except:\n",
        "            continue\n",
        "\n",
        "    if one_grant:\n",
        "        return one_grant\n",
        "    else:\n",
        "        return None"
      ],
      "execution_count": 0,
      "outputs": []
    },
    {
      "cell_type": "code",
      "metadata": {
        "id": "_WVat2_D-ve4",
        "colab_type": "code",
        "outputId": "42fabd7e-55c0-4f8d-ac82-19b1e86e9337",
        "colab": {
          "base_uri": "https://localhost:8080/",
          "height": 687
        }
      },
      "source": [
        "%%time\n",
        "\n",
        "all_training_list = []\n",
        "\n",
        "for idx, document in enumerate(corpus):\n",
        "    if idx % 10000 == 0:\n",
        "        print(idx)\n",
        "    try:\n",
        "        document_claims_claim = document['claims']['claim']\n",
        "        one_grant = extract_one_grant(document_claims_claim)\n",
        "        if one_grant:\n",
        "            all_training_list.append(one_grant)\n",
        "    except:\n",
        "        pass"
      ],
      "execution_count": 17,
      "outputs": [
        {
          "output_type": "stream",
          "text": [
            "/usr/local/lib/python3.6/dist-packages/smart_open/smart_open_lib.py:398: UserWarning: This function is deprecated, use smart_open.open instead. See the migration notes for details: https://github.com/RaRe-Technologies/smart_open/blob/master/README.rst#migrating-to-the-new-open-function\n",
            "  'See the migration notes for details: %s' % _MIGRATION_NOTES_URL\n"
          ],
          "name": "stderr"
        },
        {
          "output_type": "stream",
          "text": [
            "0\n",
            "10000\n",
            "20000\n",
            "30000\n",
            "40000\n",
            "50000\n",
            "60000\n",
            "70000\n",
            "80000\n",
            "90000\n",
            "100000\n",
            "110000\n",
            "120000\n",
            "130000\n",
            "140000\n",
            "150000\n",
            "160000\n",
            "170000\n",
            "180000\n",
            "190000\n",
            "200000\n",
            "210000\n",
            "220000\n",
            "230000\n",
            "240000\n",
            "250000\n",
            "260000\n",
            "270000\n",
            "280000\n",
            "290000\n",
            "300000\n",
            "310000\n",
            "320000\n",
            "330000\n",
            "340000\n",
            "350000\n",
            "CPU times: user 16min 50s, sys: 15.8 s, total: 17min 5s\n",
            "Wall time: 17min 4s\n"
          ],
          "name": "stdout"
        }
      ]
    },
    {
      "cell_type": "code",
      "metadata": {
        "id": "RO_MaCph8P68",
        "colab_type": "code",
        "outputId": "52e9851c-fe3e-47b0-bc44-2c5b0e384ee7",
        "colab": {
          "base_uri": "https://localhost:8080/",
          "height": 33
        }
      },
      "source": [
        "len(all_training_list)"
      ],
      "execution_count": 18,
      "outputs": [
        {
          "output_type": "execute_result",
          "data": {
            "text/plain": [
              "268847"
            ]
          },
          "metadata": {
            "tags": []
          },
          "execution_count": 18
        }
      ]
    },
    {
      "cell_type": "code",
      "metadata": {
        "id": "8V07Hkx-8Ggq",
        "colab_type": "code",
        "outputId": "3a3baff2-c1f9-450c-db53-4c2022e66cdc",
        "colab": {
          "base_uri": "https://localhost:8080/",
          "height": 66
        }
      },
      "source": [
        "all_training_list[0][:5], all_training_list[10000][:5], all_training_list[100000][:5]"
      ],
      "execution_count": 19,
      "outputs": [
        {
          "output_type": "execute_result",
          "data": {
            "text/plain": [
              "(['a', 'first', 'lens', 'group', 'having'],\n",
              " ['a', 'resource', 'having', 'configuration', 'information'],\n",
              " ['receiving', 'from', 'a', 'plurality', 'of'])"
            ]
          },
          "metadata": {
            "tags": []
          },
          "execution_count": 19
        }
      ]
    },
    {
      "cell_type": "code",
      "metadata": {
        "id": "zVQaJmK4EUps",
        "colab_type": "code",
        "colab": {}
      },
      "source": [
        "import pandas as pd\n",
        "import numpy as np\n",
        "from gensim.models import Word2Vec\n",
        "from scipy import spatial\n",
        "\n",
        "import multiprocessing\n",
        "CPUNUM = multiprocessing.cpu_count()"
      ],
      "execution_count": 0,
      "outputs": []
    },
    {
      "cell_type": "code",
      "metadata": {
        "id": "kmFaDkL-Eied",
        "colab_type": "code",
        "outputId": "05eef1a4-b5b7-4063-922c-3e500d8f10ac",
        "colab": {
          "base_uri": "https://localhost:8080/",
          "height": 50
        }
      },
      "source": [
        "%%time\n",
        "\n",
        "w2v = Word2Vec(\n",
        "    all_training_list,\n",
        "    size=100, window=5, min_count=5, workers=CPUNUM, iter=10, hs=1, seed=23\n",
        ")"
      ],
      "execution_count": 21,
      "outputs": [
        {
          "output_type": "stream",
          "text": [
            "CPU times: user 1h 33min 20s, sys: 20.2 s, total: 1h 33min 40s\n",
            "Wall time: 47min 36s\n"
          ],
          "name": "stdout"
        }
      ]
    },
    {
      "cell_type": "code",
      "metadata": {
        "id": "MJq0rbt3EnWs",
        "colab_type": "code",
        "outputId": "b98e2558-0bae-4092-99aa-6f7a97eca9ce",
        "colab": {
          "base_uri": "https://localhost:8080/",
          "height": 265
        }
      },
      "source": [
        "w2v.most_similar('generator')"
      ],
      "execution_count": 22,
      "outputs": [
        {
          "output_type": "stream",
          "text": [
            "/usr/local/lib/python3.6/dist-packages/ipykernel_launcher.py:1: DeprecationWarning: Call to deprecated `most_similar` (Method will be removed in 4.0.0, use self.wv.most_similar() instead).\n",
            "  \"\"\"Entry point for launching an IPython kernel.\n",
            "/usr/local/lib/python3.6/dist-packages/gensim/matutils.py:737: FutureWarning: Conversion of the second argument of issubdtype from `int` to `np.signedinteger` is deprecated. In future, it will be treated as `np.int64 == np.dtype(int).type`.\n",
            "  if np.issubdtype(vec.dtype, np.int):\n"
          ],
          "name": "stderr"
        },
        {
          "output_type": "execute_result",
          "data": {
            "text/plain": [
              "[('controller', 0.5964593291282654),\n",
              " ('generators', 0.585529625415802),\n",
              " ('generation', 0.5550556182861328),\n",
              " ('microcontroller', 0.5353302955627441),\n",
              " ('modulate', 0.5267602801322937),\n",
              " ('module', 0.5182672739028931),\n",
              " ('circuitry', 0.5132623910903931),\n",
              " ('generate', 0.5110422372817993),\n",
              " ('demodulator', 0.5064047574996948),\n",
              " ('engine', 0.505030632019043)]"
            ]
          },
          "metadata": {
            "tags": []
          },
          "execution_count": 22
        }
      ]
    },
    {
      "cell_type": "code",
      "metadata": {
        "id": "z5As2uWuVs9x",
        "colab_type": "code",
        "colab": {}
      },
      "source": [
        "GS_BASE = \"gs://yohei-kikuta/mlstudy-phys/patent-analysis/3000-extracted-feature/W2V-patent-2017\"\n",
        "\n",
        "def dump_and_send(fname, obj):\n",
        "  with gzip.open(fname, 'w') as f:\n",
        "     pickle.dump(obj, f)\n",
        "  !gsutil cp {fname} {GS_BASE}/{fname}\n",
        "  print(f\"send to {GS_BASE}/{fname}\")"
      ],
      "execution_count": 0,
      "outputs": []
    },
    {
      "cell_type": "code",
      "metadata": {
        "id": "vL6uVtkv1Tdh",
        "colab_type": "code",
        "colab": {}
      },
      "source": [
        "# def text_to_vec(text):\n",
        "#     words = text.split()\n",
        "#     filtered_words = []\n",
        "    \n",
        "#     for word in words:\n",
        "#         if word in w2v.wv.vocab:\n",
        "#             filtered_words.append(word)\n",
        "#     vec = np.average(w2v[filtered_words], axis=0)\n",
        "#     return vec"
      ],
      "execution_count": 0,
      "outputs": []
    },
    {
      "cell_type": "code",
      "metadata": {
        "id": "NBHB5n32o2Xo",
        "colab_type": "code",
        "colab": {}
      },
      "source": [
        "# Use only 512 tokens.\n",
        "TOKEN_LEN = 512\n",
        "\n",
        "def text_to_vec(text):\n",
        "    idx = 0\n",
        "    words = text.split()\n",
        "    filtered_words = []\n",
        "    \n",
        "    for word in words:\n",
        "        if word in w2v.wv.vocab:\n",
        "            filtered_words.append(word)\n",
        "            idx += 1\n",
        "            if (TOKEN_LEN == idx):\n",
        "                break\n",
        "    vec = np.average(w2v[filtered_words], axis=0)\n",
        "    return vec"
      ],
      "execution_count": 0,
      "outputs": []
    },
    {
      "cell_type": "code",
      "metadata": {
        "id": "iKuyME7_1bfz",
        "colab_type": "code",
        "outputId": "1bb25951-edad-4769-f1f8-4372ada0af98",
        "colab": {
          "base_uri": "https://localhost:8080/",
          "height": 167
        }
      },
      "source": [
        "%%time\n",
        "\n",
        "train_features = np.array([text_to_vec(claim) for claim in train_app['claim_app']])\n",
        "# dump_and_send(\"w2v_patent2017_100_feature_train_app_3000.pkl.gz\", train_features)\n",
        "dump_and_send(\"w2v_patent2017_100_512tokens_feature_train_app_3000.pkl.gz\", train_features)"
      ],
      "execution_count": 28,
      "outputs": [
        {
          "output_type": "stream",
          "text": [
            "/usr/local/lib/python3.6/dist-packages/ipykernel_launcher.py:14: DeprecationWarning: Call to deprecated `__getitem__` (Method will be removed in 4.0.0, use self.wv.__getitem__() instead).\n",
            "  \n"
          ],
          "name": "stderr"
        },
        {
          "output_type": "stream",
          "text": [
            "Copying file://w2v_patent2017_100_512tokens_feature_train_app_3000.pkl.gz [Content-Type=application/octet-stream]...\n",
            "-\n",
            "Operation completed over 1 objects/1.1 MiB.                                      \n",
            "send to gs://yohei-kikuta/mlstudy-phys/patent-analysis/3000-extracted-feature/W2V-patent-2017/w2v_patent2017_100_512tokens_feature_train_app_3000.pkl.gz\n",
            "CPU times: user 5.55 s, sys: 158 ms, total: 5.71 s\n",
            "Wall time: 11.9 s\n"
          ],
          "name": "stdout"
        }
      ]
    },
    {
      "cell_type": "code",
      "metadata": {
        "id": "OjSsZDWS1hPD",
        "colab_type": "code",
        "outputId": "41e04e0e-4d15-4674-adae-91ab77a7dd4b",
        "colab": {
          "base_uri": "https://localhost:8080/",
          "height": 33
        }
      },
      "source": [
        "train_features.shape"
      ],
      "execution_count": 29,
      "outputs": [
        {
          "output_type": "execute_result",
          "data": {
            "text/plain": [
              "(3000, 100)"
            ]
          },
          "metadata": {
            "tags": []
          },
          "execution_count": 29
        }
      ]
    },
    {
      "cell_type": "code",
      "metadata": {
        "id": "pUPjK-y51ksx",
        "colab_type": "code",
        "outputId": "fc0430c2-35bf-4ebb-d386-d7c8c6e5078c",
        "colab": {
          "base_uri": "https://localhost:8080/",
          "height": 50
        }
      },
      "source": [
        "train_features[0][:5]"
      ],
      "execution_count": 30,
      "outputs": [
        {
          "output_type": "execute_result",
          "data": {
            "text/plain": [
              "array([-0.20959938,  0.10858778,  0.61401975,  0.28779393,  0.08379511],\n",
              "      dtype=float32)"
            ]
          },
          "metadata": {
            "tags": []
          },
          "execution_count": 30
        }
      ]
    },
    {
      "cell_type": "code",
      "metadata": {
        "id": "Sjw_xvFZ1mUN",
        "colab_type": "code",
        "outputId": "2d653e16-06f0-4fbb-bf28-6e013ab9b22d",
        "colab": {
          "base_uri": "https://localhost:8080/",
          "height": 167
        }
      },
      "source": [
        "%%time\n",
        "\n",
        "test_features = np.array([text_to_vec(claim) for claim in test_app['claim_app']])\n",
        "# dump_and_send(\"w2v_patent2017_100_feature_test_app_3000.pkl.gz\", test_features)\n",
        "dump_and_send(\"w2v_patent2017_100_512tokens_feature_test_app_3000.pkl.gz\", test_features)"
      ],
      "execution_count": 31,
      "outputs": [
        {
          "output_type": "stream",
          "text": [
            "/usr/local/lib/python3.6/dist-packages/ipykernel_launcher.py:14: DeprecationWarning: Call to deprecated `__getitem__` (Method will be removed in 4.0.0, use self.wv.__getitem__() instead).\n",
            "  \n"
          ],
          "name": "stderr"
        },
        {
          "output_type": "stream",
          "text": [
            "Copying file://w2v_patent2017_100_512tokens_feature_test_app_3000.pkl.gz [Content-Type=application/octet-stream]...\n",
            "-\n",
            "Operation completed over 1 objects/1.1 MiB.                                      \n",
            "send to gs://yohei-kikuta/mlstudy-phys/patent-analysis/3000-extracted-feature/W2V-patent-2017/w2v_patent2017_100_512tokens_feature_test_app_3000.pkl.gz\n",
            "CPU times: user 5.52 s, sys: 184 ms, total: 5.71 s\n",
            "Wall time: 10.4 s\n"
          ],
          "name": "stdout"
        }
      ]
    },
    {
      "cell_type": "code",
      "metadata": {
        "id": "omOndalY1tCU",
        "colab_type": "code",
        "outputId": "f321a5a6-082d-46ce-a377-263486dafdab",
        "colab": {
          "base_uri": "https://localhost:8080/",
          "height": 167
        }
      },
      "source": [
        "%%time\n",
        "\n",
        "grants_features = np.array([text_to_vec(claim) for claim in grants['claim_cited_grant']])\n",
        "# dump_and_send(\"w2v_patent2017_100_feature_grants_3000_3000.pkl.gz\", grants_features)\n",
        "dump_and_send(\"w2v_patent2017_100_512tokens_feature_grants_3000_3000.pkl.gz\", grants_features)"
      ],
      "execution_count": 32,
      "outputs": [
        {
          "output_type": "stream",
          "text": [
            "/usr/local/lib/python3.6/dist-packages/ipykernel_launcher.py:14: DeprecationWarning: Call to deprecated `__getitem__` (Method will be removed in 4.0.0, use self.wv.__getitem__() instead).\n",
            "  \n"
          ],
          "name": "stderr"
        },
        {
          "output_type": "stream",
          "text": [
            "Copying file://w2v_patent2017_100_512tokens_feature_grants_3000_3000.pkl.gz [Content-Type=application/octet-stream]...\n",
            "-\n",
            "Operation completed over 1 objects/2.3 MiB.                                      \n",
            "send to gs://yohei-kikuta/mlstudy-phys/patent-analysis/3000-extracted-feature/W2V-patent-2017/w2v_patent2017_100_512tokens_feature_grants_3000_3000.pkl.gz\n",
            "CPU times: user 12.3 s, sys: 165 ms, total: 12.5 s\n",
            "Wall time: 18 s\n"
          ],
          "name": "stdout"
        }
      ]
    },
    {
      "cell_type": "code",
      "metadata": {
        "id": "lU_c6UPg1z0i",
        "colab_type": "code",
        "colab": {}
      },
      "source": [
        ""
      ],
      "execution_count": 0,
      "outputs": []
    },
    {
      "cell_type": "code",
      "metadata": {
        "id": "LZeIdcnz2G3_",
        "colab_type": "code",
        "colab": {}
      },
      "source": [
        ""
      ],
      "execution_count": 0,
      "outputs": []
    },
    {
      "cell_type": "code",
      "metadata": {
        "id": "StG8ErBp2G8s",
        "colab_type": "code",
        "colab": {}
      },
      "source": [
        ""
      ],
      "execution_count": 0,
      "outputs": []
    },
    {
      "cell_type": "markdown",
      "metadata": {
        "id": "mNImLE2U2HP8",
        "colab_type": "text"
      },
      "source": [
        "# Making data for BERT pretraining"
      ]
    },
    {
      "cell_type": "code",
      "metadata": {
        "id": "h96FQ3bf4QfJ",
        "colab_type": "code",
        "colab": {}
      },
      "source": [
        "def extract_one_grant(document_claims_claim):\n",
        "    one_grant = []\n",
        "    for claim_text in document_claims_claim:\n",
        "        try:\n",
        "            text_list = claim_text['claim-text']['claim-text']\n",
        "            if type(text_list) is list:\n",
        "                # No preprocessings. Just concatenate.\n",
        "                one_grant.append(\" \".join(text_list))\n",
        "            else:\n",
        "                one_grant.append(text_list)\n",
        "        except:\n",
        "            continue\n",
        "\n",
        "    if one_grant:\n",
        "        return one_grant\n",
        "    else:\n",
        "        return None"
      ],
      "execution_count": 0,
      "outputs": []
    },
    {
      "cell_type": "code",
      "metadata": {
        "id": "WmQ79c4Z2MG-",
        "colab_type": "code",
        "outputId": "c974b01b-89db-4dd3-fd13-cf488ffdde20",
        "colab": {
          "base_uri": "https://localhost:8080/",
          "height": 687
        }
      },
      "source": [
        "%%time\n",
        "\n",
        "with open(\"./training_data_patent2017.txt\", \"w+\") as f:\n",
        "    for idx, document in enumerate(corpus):\n",
        "        if idx % 10000 == 0:\n",
        "            print(idx)\n",
        "        try:\n",
        "            document_claims_claim = document['claims']['claim']\n",
        "            one_grant = extract_one_grant(document_claims_claim)\n",
        "            if one_grant:\n",
        "                for sentence in one_grant:\n",
        "                    f.write(sentence)\n",
        "                    f.write(\"\\n\")\n",
        "                # Add line break between grants.\n",
        "                f.write(\"\\n\")\n",
        "        except:\n",
        "            pass"
      ],
      "execution_count": 0,
      "outputs": [
        {
          "output_type": "stream",
          "text": [
            "/usr/local/lib/python3.6/dist-packages/smart_open/smart_open_lib.py:398: UserWarning: This function is deprecated, use smart_open.open instead. See the migration notes for details: https://github.com/RaRe-Technologies/smart_open/blob/master/README.rst#migrating-to-the-new-open-function\n",
            "  'See the migration notes for details: %s' % _MIGRATION_NOTES_URL\n"
          ],
          "name": "stderr"
        },
        {
          "output_type": "stream",
          "text": [
            "0\n",
            "10000\n",
            "20000\n",
            "30000\n",
            "40000\n",
            "50000\n",
            "60000\n",
            "70000\n",
            "80000\n",
            "90000\n",
            "100000\n",
            "110000\n",
            "120000\n",
            "130000\n",
            "140000\n",
            "150000\n",
            "160000\n",
            "170000\n",
            "180000\n",
            "190000\n",
            "200000\n",
            "210000\n",
            "220000\n",
            "230000\n",
            "240000\n",
            "250000\n",
            "260000\n",
            "270000\n",
            "280000\n",
            "290000\n",
            "300000\n",
            "310000\n",
            "320000\n",
            "330000\n",
            "340000\n",
            "350000\n",
            "CPU times: user 17min 29s, sys: 11.2 s, total: 17min 40s\n",
            "Wall time: 17min 41s\n"
          ],
          "name": "stdout"
        }
      ]
    },
    {
      "cell_type": "code",
      "metadata": {
        "id": "WqhU1Gju5PBj",
        "colab_type": "code",
        "outputId": "7f96219b-6a37-4636-da65-3e676ed361cf",
        "colab": {
          "base_uri": "https://localhost:8080/",
          "height": 362
        }
      },
      "source": [
        "!head -n 20 ./training_data_patent2017.txt"
      ],
      "execution_count": 0,
      "outputs": [
        {
          "output_type": "stream",
          "text": [
            "a first lens group having a positive refractive power closest to a subject; a second lens group closest to the first lens group and having a negative refractive power; a third lens group having one of a positive or negative power; and a fourth lens group having one of a positive or negative power, wherein each of the first to fourth lens groups comprises an aspheric lens having at least one aspheric surface thereof; and one of a thin film filter or an optical filter for restricting the transmission of a portion of light between the second and third lens groups or between the third and fourth lens groups.\n",
            "\n",
            "a comparator having a first input connected to receive the reference voltage and a second input connected, for the first regulation circuitry, to receive a voltage derived from the output voltage and, for the second regulation circuitry, a voltage derived from the voltage driving the internal load, and an oscillator controlled by the output of the comparator to provide the oscillator frequency.\n",
            "driving the external load using a master charge pump of a multi-stage, frequency regulated design, wherein the number of stages active is settable, and the master charge pump is driving the external load using a first number of active stages and a first regulated frequency; driving an adjustable internal load using a slave charge pump of the same design as the master charge pump, wherein the slave charge pump is driving the adjustable internal load using the first number of active stages and a second regulated frequency; determining a level of, the adjustable internal load based upon a comparison of the first and second regulated frequencies; driving the adjustable internal load set to the determined level using the slave charge pump with a second number of active stages, wherein the second number is different than the first number, and using a third regulated frequency; and determining whether to change the number of active stages in the master charge pump based upon a comparison of the first and third regulated frequencies.\n",
            "determining whether the third regulated frequency is greater than a predetermined fraction of the first regulated frequency, the predetermined fraction being between one and zero; in response to determining that the third regulated frequency is greater than the predetermined fraction of the first regulated frequency, continuing to operate the master charge pump with the first number of active stages; and in response to determining that the third regulated frequency is not greater than the predetermined fraction of the first regulated frequency, subsequently operating the master charge pump with the second number of active stages.\n",
            "determining whether the first regulated frequency is greater than a predetermined fraction of the third regulated frequency, the predetermined fraction being between one and zero; in response to determining that the first regulated frequency is greater than the predetermined fraction of the third frequency, subsequently operating the master charge pump with the second number of active stages; and in response to determining that the first regulated frequency is not greater than the predetermined fraction of the third regulated frequency, continuing to operate the master charge pump with the first number of active stages.\n",
            "setting a value of an internal resistance by adjusting the value of the adjustable internal load to bring the second regulated frequency nearer to the first regulated frequency.\n",
            "in response to determining to change the number of active stages of the master charge pump, subsequently operating the master charge pump with the second number of active stages.\n",
            "subsequently cyclically repeating the process of determining the level of the adjustable internal load, driving the adjustable internal load, determining whether to change the number of active stages in the master charge pump, and subsequently operating the master charge pump with the determined number of active stages.\n",
            "\n",
            "a plurality of non-volatile storage elements, the plurality of non-volatile storage elements are part of a three dimensional memory structure; and one or more managing circuits in communication with the plurality of non-volatile storage elements, the one or more managing circuits perform a particular erase function on a set of non-volatile storage elements and separately perform verification for different overlapping and contiguous subsets of the non-volatile storage elements in response to the particular erase function.\n",
            "the one or more managing circuits separately perform verification for different overlapping contiguous subsets of the non-volatile storage elements in response to the particular erase function by applying multiple sets of testing signals, at different times, to the overlapping and contiguous subsets of non-volatile storage devices and, at the different times and in response to the testing signals, sensing condition information of non-volatile storage elements receiving the testing signals.\n",
            "the testing signals are at a common voltage.\n",
            "the one or more managing circuits apply overdrive signals, while applying the testing signals, to non-volatile storage elements not in respective subsets.\n",
            "a plurality of non-volatile storage elements; and one or more managing circuits in communication with the plurality of non-volatile storage elements, the one or more managing circuits perform a particular erase function on a set of non-volatile storage elements and separately perform verification for different overlapping and contiguous subsets of the non-volatile storage elements in response to the particular erase function, the particular erase function is an erase pulse; and, the one or more managing circuits separately perform verification for different overlapping and contiguous subsets of the non-volatile storage elements in response to the particular erase function by verifying twice for a particular erase pulse those non-volatile storage elements in multiple subsets.\n",
            "the one or more managing circuits separately perform verification for different overlapping and contiguous subsets of the non-volatile storage elements in response to the particular erase function by applying one or more testing signals to a first subset of non-volatile storage elements, sensing condition information for the first subset of non-volatile storage elements, applying one or more testing signals to a second subset of non-volatile storage elements that overlaps with the first subset of non-volatile storage elements and sensing condition information for the second subset of connected non-volatile storage elements.\n",
            "word lines connected to the non-volatile storage elements, the non-volatile storage elements are NAND flash memory devices arranged on NAND strings, the first subset and the second subset include portions of common NAND strings, and the testing signals are applied to word lines connected to the NAND strings.\n",
            "the non-volatile storage elements are NAND flash memory devices arranged on a NAND string.\n",
            "the one or more managing circuits separately perform verification for different overlapping and contiguous subsets of the non-volatile storage elements in response to the particular erase function by sequentially verifying all overlapping and contiguous subsets of the non-volatile storage elements after and in response to the particular erase function.\n",
            "the one or more managing circuits perform multiple erase operations on the set of non-volatile storage elements and perform verification on less than all of the subsets of non-volatile storage elements after each of the erase operations, the performing multiple erase operations and the performing verification on less than all of the subsets of non-volatile storage elements after each of the erase functions are performed prior to the particular erase function.\n"
          ],
          "name": "stdout"
        }
      ]
    },
    {
      "cell_type": "code",
      "metadata": {
        "id": "LSv8_4Vi5Y9t",
        "colab_type": "code",
        "outputId": "ce1c8841-caa6-4a0d-cf2d-91daca562e2e",
        "colab": {
          "base_uri": "https://localhost:8080/",
          "height": 362
        }
      },
      "source": [
        "!tail -n 20 ./training_data_patent2017.txt"
      ],
      "execution_count": 0,
      "outputs": [
        {
          "output_type": "stream",
          "text": [
            "a first compartment having a first upper side; a first circuit board positioned in the first compartment and having a first heat generating component; a second circuit board positioned in the first compartment in vertical spaced apart relation to the first circuit board and having a second heat generating component; a liquid cooling device positioned in the first compartment between the first circuit board and the second circuit board, the liquid cooling device including a first surface in thermal contact with the first heat generating component and a second surface in thermal contact with the second heat generating component, wherein the second surface opposes the first surface of the liquid cooling device; a second compartment having a lower side including an air inlet and a second upper side including an air outlet; a hub connecting the second compartment to the first compartment in spaced apart relation so as to leave a gap between the first upper side and the lower side.\n",
            "fabricating a first compartment having a first upper side and being adapted to house the computing device and a liquid cooling device, the computing device having at least one heat generating component operable to transfer heat to the liquid cooling device; fabricating a second compartment having a lower side including an air inlet and a second upper side including an air outlet, the second compartment being adapted to house a heat exchanger to remove heat transferred to the liquid cooling device; and connecting the first compartment to the first compartment in spaced apart relation via a hub so as to leave a gap between the first compartment and the second compartment with the first upper side of the first compartment facing the lower side of the second compartment, wherein the computing device enclosure is adapted to facilitate thermally coupling the heat exchanger to the liquid cooling device via at least one liquid supply line and at least one liquid discharge line.\n",
            "positioning the liquid cooling device and the at least one heat generating component in the first compartment with the liquid cooling device in thermal contact with the at least one heat generating component; and positioning the heat exchanger in the second compartment and in fluid communication with the liquid cooling device and being operable to exchange heat with air moving from the air inlet through the second compartment to the air outlet.\n",
            "a first surface adapted to thermally contact a first heat generating component of the computing device; and a second surface adapted to thermally contact a second heat generating component of the computing device, wherein the second surface opposes the first surface of the liquid cooling device.\n",
            "placing the heat generating component in a first compartment of an enclosure formed by the first compartment, a second compartment and a hub connecting the first compartment to the second compartment, the first compartment having a first upper side, the second compartment having a second upper side including an air outlet and a lower side including an air inlet, the second compartment being connected in spaced apart relation to the first compartment by the hub so as to leave a gap between the first compartment and the second compartment with the first upper side of the first compartment facing the lower side of the second compartment; placing a liquid cooling device in the first compartment and in thermal contact with the first heat generating component; placing a heat exchanger in the second compartment; and thermally coupling the heat exchanger to the liquid cooling device via at least one liquid supply line and at least one liquid discharge line.\n",
            "\n",
            "a housing to house one or more IT components arranged in a stack; a first rack aisle formed on a first side of the one or more IT components to direct cooler air upwardly; a second rack aisle formed on a second side of the one or more IT components to direct warmer air downwardly, the warmer air being transformed from the cooler air from the first rack aisle by flowing through an airspace between the one or more IT components; and a cooling unit disposed underneath the IT components to receive first liquid from an external chiller system, to exchange heat carried by the warmer air using the first liquid to generate the cooler air, to transform the first liquid into a second liquid with a higher temperature, and to transmit the second liquid carrying the exchanged heat back to the external chiller system.\n",
            "a detector to detect that the cooling unit malfunctions; and a controller coupled to the front panel of the housing, wherein in response to the malfunctioned cooling unit, the controller opens at least a window on the front panel to draw additional cooler air into the first rack aisle from an external environment.\n",
            "one or more temperature sensors disposed within the housing to sense a temperature within the housing; and a controller coupled to the front panel of the housing, wherein in response to sensing that the temperature within the housing reaches a predetermined threshold, the controller opens the at least one window to draw additional cooler air into the housing.\n",
            "\n",
            "a circuit board, said circuit board comprising first and second memory modules and an associated memory controller; a heat sink adjoining said memory controller; a heat spreader adjoining said first and second memory modules; and a device for thermally coupling said heat sink to said heat spreader wherein the first and second memory modules are disposed within first and second sockets laterally of said memory controller, wherein the memory controller is positioned between the device and the circuit board and the device is positioned amoung the first and the second memory modules and the memory controller.\n",
            "third and fourth memory modules disposed laterally of said first and second memory modules respectively.\n",
            "providing a first circuit board comprising a memory controller and first and second memory modules disposed within first and second sockets laterally of said memory controller; providing a heat sink adjoining said memory controller; providing a heat spreader adjoining said first and second memory modules; and providing a device to thermally couple said heat sink and said heat spreader, wherein the memory controller is positioned between the device and the circuit board and the device is positioned among the first and second memory modules and the memory controller.\n",
            "first and second memory modules disposed within first and second sockets on a circuit board; a memory controller associated with said first and second memory modules and mounted to the circuit board; and means for thermally coupling the memory controller with the first and second memory modules, wherein the memory controller is positioned between the means for thermally coupling and the circuit board and the means for thermally coupling are positioned among the first and second memory modules and the memory controller.\n",
            "\n",
            "a plastic housing comprising a cavity; a plurality of step-shaped pins embedded in the plastic housing, wherein each of the step-shaped pins comprises a first L-shaped bending portion and a second L-shaped bending portion integrally formed as one connected piece, wherein the first L-shaped bending portion has a first part embedded by the plastic housing and a first contact area exposed of the plastic housing, the second L-shaped bending portion has a second part embedded by the plastic housing and a second contact area exposed of the plastic housing, wherein each of the step-shaped pins comprises the first contact area and the second contact area, and an end of at least one of the step-shaped pins has a protruded portion that protrudes from a surface of the plastic housing such that the protruded portion is exposed; a first printed circuit board disposed in the cavity, wherein the first printed circuit board is disposed with at least a power device and is electrically connected to the first contact area; a second printed circuit board disposed above the first printed circuit board in the cavity, wherein two opposite surfaces of the second printed circuit board are respectively disposed with at least an electronic device, and the second printed circuit board is electrically connected to the second contact area; and a plurality of bonding wires for directly connecting the first printed circuit board to at least a part of the first contact areas or directly connecting the second printed circuit board to at least a part of the second contact areas.\n",
            "\n",
            "an array of frames each defining a passthrough and step, and stacked such that the passthroughs are in at least partial registration with one another and the steps align to define an inlet manifold having first and second chambers extending a length of the array and partially open to one another such that the steps influence a momentum of coolant traveling from the first to the second chamber.\n",
            "a pair of thermal plates each defining a port open to the second chamber and being arranged with one another to define a power stage cavity therebetween; and a power stage disposed within the power stage cavity.\n",
            "\n"
          ],
          "name": "stdout"
        }
      ]
    },
    {
      "cell_type": "code",
      "metadata": {
        "id": "n_3fq9Z9CAKL",
        "colab_type": "code",
        "outputId": "fb7078f6-727d-4895-a831-48f62dedd2a7",
        "colab": {
          "base_uri": "https://localhost:8080/",
          "height": 261
        }
      },
      "source": [
        "!gsutil cp ./training_data_patent2017.txt gs://yohei-kikuta/mlstudy-phys/patent-analysis/patent-2017-pretrain-BERT/"
      ],
      "execution_count": 0,
      "outputs": [
        {
          "output_type": "stream",
          "text": [
            "Copying file://./training_data_patent2017.txt [Content-Type=text/plain]...\n",
            "/ [0 files][    0.0 B/729.8 MiB]                                                \r==> NOTE: You are uploading one or more large file(s), which would run\n",
            "significantly faster if you enable parallel composite uploads. This\n",
            "feature can be enabled by editing the\n",
            "\"parallel_composite_upload_threshold\" value in your .boto\n",
            "configuration file. However, note that if you do this large files will\n",
            "be uploaded as `composite objects\n",
            "<https://cloud.google.com/storage/docs/composite-objects>`_,which\n",
            "means that any user who downloads such objects will need to have a\n",
            "compiled crcmod installed (see \"gsutil help crcmod\"). This is because\n",
            "without a compiled crcmod, computing checksums on composite objects is\n",
            "so slow that gsutil disables downloads of composite objects.\n",
            "\n",
            "/\n",
            "Operation completed over 1 objects/729.8 MiB.                                    \n"
          ],
          "name": "stdout"
        }
      ]
    },
    {
      "cell_type": "code",
      "metadata": {
        "id": "aWSOFTLoGOnM",
        "colab_type": "code",
        "colab": {}
      },
      "source": [
        ""
      ],
      "execution_count": 0,
      "outputs": []
    }
  ]
}