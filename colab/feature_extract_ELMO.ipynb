{
  "nbformat": 4,
  "nbformat_minor": 0,
  "metadata": {
    "colab": {
      "name": "feature-extract-ELMO.ipynb",
      "version": "0.3.2",
      "provenance": [],
      "collapsed_sections": [],
      "toc_visible": true,
      "machine_shape": "hm",
      "include_colab_link": true
    },
    "kernelspec": {
      "name": "python3",
      "display_name": "Python 3"
    },
    "accelerator": "GPU"
  },
  "cells": [
    {
      "cell_type": "markdown",
      "metadata": {
        "id": "view-in-github",
        "colab_type": "text"
      },
      "source": [
        "<a href=\"https://colab.research.google.com/github/yoheikikuta/US-patent-analysis/blob/master/colab/feature_extract_ELMO.ipynb\" target=\"_parent\"><img src=\"https://colab.research.google.com/assets/colab-badge.svg\" alt=\"Open In Colab\"/></a>"
      ]
    },
    {
      "cell_type": "markdown",
      "metadata": {
        "id": "8ebBhF7jXgAY",
        "colab_type": "text"
      },
      "source": [
        "# Feature extraction from ELMo\n",
        "\n",
        "Use \"default\" feature defined in TensorFlow Hub.\n",
        "\n",
        "ELMO: https://arxiv.org/abs/1802.05365"
      ]
    },
    {
      "cell_type": "code",
      "metadata": {
        "id": "QESnsvobakKQ",
        "colab_type": "code",
        "colab": {}
      },
      "source": [
        "from google.colab import auth\n",
        "auth.authenticate_user()"
      ],
      "execution_count": 0,
      "outputs": []
    },
    {
      "cell_type": "markdown",
      "metadata": {
        "id": "fQxnOgB1Xu-1",
        "colab_type": "text"
      },
      "source": [
        "## Data preparation"
      ]
    },
    {
      "cell_type": "code",
      "metadata": {
        "id": "3PyWE50zZIDI",
        "colab_type": "code",
        "colab": {}
      },
      "source": [
        "DATA_DIR = \"./\""
      ],
      "execution_count": 0,
      "outputs": []
    },
    {
      "cell_type": "code",
      "metadata": {
        "id": "eqOC0eGcXezE",
        "colab_type": "code",
        "outputId": "f80d9da1-91ce-43e5-d88a-cce5374b65a2",
        "colab": {
          "base_uri": "https://localhost:8080/",
          "height": 173
        }
      },
      "source": [
        "!gsutil cp gs://yohei-kikuta/mlstudy-phys/patent-analysis/3000-xml/grants_for_3000+3000.df.gz {DATA_DIR}\n",
        "!gsutil cp gs://yohei-kikuta/mlstudy-phys/patent-analysis/3000-xml/testset_app_3000.df.gz {DATA_DIR}\n",
        "!gsutil cp gs://yohei-kikuta/mlstudy-phys/patent-analysis/3000-xml/training_app_3000.df.gz {DATA_DIR}"
      ],
      "execution_count": 0,
      "outputs": [
        {
          "output_type": "stream",
          "text": [
            "Copying gs://yohei-kikuta/mlstudy-phys/patent-analysis/3000-xml/grants_for_3000+3000.df.gz...\n",
            "| [1 files][129.4 MiB/129.4 MiB]                                                \n",
            "Operation completed over 1 objects/129.4 MiB.                                    \n",
            "Copying gs://yohei-kikuta/mlstudy-phys/patent-analysis/3000-xml/testset_app_3000.df.gz...\n",
            "| [1 files][ 45.5 MiB/ 45.5 MiB]                                                \n",
            "Operation completed over 1 objects/45.5 MiB.                                     \n",
            "Copying gs://yohei-kikuta/mlstudy-phys/patent-analysis/3000-xml/training_app_3000.df.gz...\n",
            "\\ [1 files][ 45.0 MiB/ 45.0 MiB]                                                \n",
            "Operation completed over 1 objects/45.0 MiB.                                     \n"
          ],
          "name": "stdout"
        }
      ]
    },
    {
      "cell_type": "code",
      "metadata": {
        "id": "YrKzTuncZRCN",
        "colab_type": "code",
        "colab": {}
      },
      "source": [
        "import gzip\n",
        "import pickle\n",
        "import datetime\n",
        "import json\n",
        "import os\n",
        "import pprint\n",
        "import random\n",
        "import string\n",
        "import sys\n",
        "import pandas as pd"
      ],
      "execution_count": 0,
      "outputs": []
    },
    {
      "cell_type": "code",
      "metadata": {
        "id": "sF8d_N7iZRoc",
        "colab_type": "code",
        "colab": {}
      },
      "source": [
        "grants = pd.read_pickle(f\"{DATA_DIR}grants_for_3000+3000.df.gz\")\n",
        "test_app = pd.read_pickle(f\"{DATA_DIR}testset_app_3000.df.gz\")\n",
        "train_app = pd.read_pickle(f\"{DATA_DIR}training_app_3000.df.gz\")"
      ],
      "execution_count": 0,
      "outputs": []
    },
    {
      "cell_type": "code",
      "metadata": {
        "id": "kBkAjgplZWel",
        "colab_type": "code",
        "outputId": "3ebac6be-b3d8-4397-ad5b-a46d0d23f867",
        "colab": {
          "base_uri": "https://localhost:8080/",
          "height": 141
        }
      },
      "source": [
        "train_app.head(3)"
      ],
      "execution_count": 0,
      "outputs": [
        {
          "output_type": "execute_result",
          "data": {
            "text/html": [
              "<div>\n",
              "<style scoped>\n",
              "    .dataframe tbody tr th:only-of-type {\n",
              "        vertical-align: middle;\n",
              "    }\n",
              "\n",
              "    .dataframe tbody tr th {\n",
              "        vertical-align: top;\n",
              "    }\n",
              "\n",
              "    .dataframe thead th {\n",
              "        text-align: right;\n",
              "    }\n",
              "</style>\n",
              "<table border=\"1\" class=\"dataframe\">\n",
              "  <thead>\n",
              "    <tr style=\"text-align: right;\">\n",
              "      <th></th>\n",
              "      <th>app_id</th>\n",
              "      <th>xml</th>\n",
              "    </tr>\n",
              "  </thead>\n",
              "  <tbody>\n",
              "    <tr>\n",
              "      <th>0</th>\n",
              "      <td>12130785</td>\n",
              "      <td>&lt;us-patent-application lang=\"EN\" dtd-version=\"...</td>\n",
              "    </tr>\n",
              "    <tr>\n",
              "      <th>1</th>\n",
              "      <td>12652424</td>\n",
              "      <td>&lt;us-patent-application lang=\"EN\" dtd-version=\"...</td>\n",
              "    </tr>\n",
              "    <tr>\n",
              "      <th>2</th>\n",
              "      <td>12214532</td>\n",
              "      <td>&lt;us-patent-application lang=\"EN\" dtd-version=\"...</td>\n",
              "    </tr>\n",
              "  </tbody>\n",
              "</table>\n",
              "</div>"
            ],
            "text/plain": [
              "     app_id                                                xml\n",
              "0  12130785  <us-patent-application lang=\"EN\" dtd-version=\"...\n",
              "1  12652424  <us-patent-application lang=\"EN\" dtd-version=\"...\n",
              "2  12214532  <us-patent-application lang=\"EN\" dtd-version=\"..."
            ]
          },
          "metadata": {
            "tags": []
          },
          "execution_count": 7
        }
      ]
    },
    {
      "cell_type": "code",
      "metadata": {
        "id": "EfOiYGLUZT-b",
        "colab_type": "code",
        "colab": {}
      },
      "source": [
        "# TOKEN_LENGTH = 512\n",
        "TOKEN_LENGTH = 4096  # Used as the maximum allowable token length.\n",
        "\n",
        "\n",
        "import re\n",
        "\n",
        "\n",
        "CLAIM_PAT = re.compile(r'<claims[^>]*>(.*)</claims>',re.MULTILINE|re.DOTALL)\n",
        "TAG_PAT = re.compile(r\"<.*?>\")\n",
        "LB_PAT = re.compile(r'[\\t\\n\\r\\f\\v][\" \"]*')\n",
        "CANCELED_PAT = re.compile(r'[0-9]+.*\\. \\(canceled\\)[\" \"]')\n",
        "NUM_PAT = re.compile(r'[\" \"]?[0-9]+[\" \"]?\\.[\" \"]?')\n",
        "\n",
        "\n",
        "def whole_xml_to_claim_xml(whole):\n",
        "    mat = CLAIM_PAT.search(whole)\n",
        "    return mat.group(1)\n",
        "\n",
        "\n",
        "def whole_xml_to_claim(whole):\n",
        "    return TAG_PAT.sub(' ', whole_xml_to_claim_xml(whole))\n",
        "\n",
        "\n",
        "def remove_linebreak_from_claim(claim):\n",
        "    return LB_PAT.sub('', claim)\n",
        "\n",
        "\n",
        "def remove_canceled_claim(claim):\n",
        "    return CANCELED_PAT.sub('', claim)\n",
        "\n",
        "\n",
        "def remove_claim_numbers(claim):\n",
        "    return NUM_PAT.sub('', claim)\n",
        "\n",
        "def claim_to_tokens(claim):\n",
        "    return claim.split()[:TOKEN_LENGTH]"
      ],
      "execution_count": 0,
      "outputs": []
    },
    {
      "cell_type": "code",
      "metadata": {
        "id": "wYQSJ28Yadyp",
        "colab_type": "code",
        "outputId": "6365cd28-59dc-4fd8-cb94-a47160c689a4",
        "colab": {
          "base_uri": "https://localhost:8080/",
          "height": 52
        }
      },
      "source": [
        "%%time\n",
        "\n",
        "train_app[\"claim_app\"] = train_app[\"xml\"].map(whole_xml_to_claim).map(remove_canceled_claim).map(remove_claim_numbers).map(remove_linebreak_from_claim).map(claim_to_tokens)\n",
        "train_app = train_app.drop(\"xml\", axis=1)\n",
        "\n",
        "test_app[\"claim_app\"] = test_app[\"xml\"].map(whole_xml_to_claim).map(remove_canceled_claim).map(remove_claim_numbers).map(remove_linebreak_from_claim).map(claim_to_tokens)\n",
        "test_app = test_app.drop(\"xml\", axis=1)\n",
        "\n",
        "grants[\"claim_cited_grant\"] = grants[\"xml\"].map(whole_xml_to_claim).map(remove_canceled_claim).map(remove_claim_numbers).map(remove_linebreak_from_claim).map(claim_to_tokens)\n",
        "grants = grants.drop(\"xml\", axis=1)"
      ],
      "execution_count": 0,
      "outputs": [
        {
          "output_type": "stream",
          "text": [
            "CPU times: user 10.1 s, sys: 463 ms, total: 10.6 s\n",
            "Wall time: 10.6 s\n"
          ],
          "name": "stdout"
        }
      ]
    },
    {
      "cell_type": "code",
      "metadata": {
        "id": "3WnH0P9Ya4FQ",
        "colab_type": "code",
        "outputId": "572af541-1217-4ad1-cdf3-bb3e5026f2e3",
        "colab": {
          "base_uri": "https://localhost:8080/",
          "height": 141
        }
      },
      "source": [
        "train_app.head(3)"
      ],
      "execution_count": 0,
      "outputs": [
        {
          "output_type": "execute_result",
          "data": {
            "text/html": [
              "<div>\n",
              "<style scoped>\n",
              "    .dataframe tbody tr th:only-of-type {\n",
              "        vertical-align: middle;\n",
              "    }\n",
              "\n",
              "    .dataframe tbody tr th {\n",
              "        vertical-align: top;\n",
              "    }\n",
              "\n",
              "    .dataframe thead th {\n",
              "        text-align: right;\n",
              "    }\n",
              "</style>\n",
              "<table border=\"1\" class=\"dataframe\">\n",
              "  <thead>\n",
              "    <tr style=\"text-align: right;\">\n",
              "      <th></th>\n",
              "      <th>app_id</th>\n",
              "      <th>claim_app</th>\n",
              "    </tr>\n",
              "  </thead>\n",
              "  <tbody>\n",
              "    <tr>\n",
              "      <th>0</th>\n",
              "      <td>12130785</td>\n",
              "      <td>[A, system, for, differentiating, noise, from,...</td>\n",
              "    </tr>\n",
              "    <tr>\n",
              "      <th>1</th>\n",
              "      <td>12652424</td>\n",
              "      <td>[A, method, of, allocating, resources, in, a, ...</td>\n",
              "    </tr>\n",
              "    <tr>\n",
              "      <th>2</th>\n",
              "      <td>12214532</td>\n",
              "      <td>[A, controlling, method, of, a, media, process...</td>\n",
              "    </tr>\n",
              "  </tbody>\n",
              "</table>\n",
              "</div>"
            ],
            "text/plain": [
              "     app_id                                          claim_app\n",
              "0  12130785  [A, system, for, differentiating, noise, from,...\n",
              "1  12652424  [A, method, of, allocating, resources, in, a, ...\n",
              "2  12214532  [A, controlling, method, of, a, media, process..."
            ]
          },
          "metadata": {
            "tags": []
          },
          "execution_count": 10
        }
      ]
    },
    {
      "cell_type": "code",
      "metadata": {
        "id": "kjPubExhbHHM",
        "colab_type": "code",
        "outputId": "a5f8b7cb-3ca9-4a30-eb5a-9dc2f205b709",
        "colab": {
          "base_uri": "https://localhost:8080/",
          "height": 121
        }
      },
      "source": [
        "train_app['claim_app'].map(len)[:5]"
      ],
      "execution_count": 0,
      "outputs": [
        {
          "output_type": "execute_result",
          "data": {
            "text/plain": [
              "0     677\n",
              "1     913\n",
              "2    1512\n",
              "3     451\n",
              "4     816\n",
              "Name: claim_app, dtype: int64"
            ]
          },
          "metadata": {
            "tags": []
          },
          "execution_count": 11
        }
      ]
    },
    {
      "cell_type": "markdown",
      "metadata": {
        "id": "gePYfTXrcGB6",
        "colab_type": "text"
      },
      "source": [
        "## Feature extraction"
      ]
    },
    {
      "cell_type": "code",
      "metadata": {
        "id": "PhTCS-TK3Jbq",
        "colab_type": "code",
        "outputId": "80eba688-7f9d-4e41-9c48-9f65ee557df2",
        "colab": {
          "base_uri": "https://localhost:8080/",
          "height": 34
        }
      },
      "source": [
        "from typing import List\n",
        "import numpy as np\n",
        "import tensorflow as tf\n",
        "import tensorflow_hub as hub\n",
        "\n",
        "tf.__version__"
      ],
      "execution_count": 0,
      "outputs": [
        {
          "output_type": "execute_result",
          "data": {
            "text/plain": [
              "'1.14.0'"
            ]
          },
          "metadata": {
            "tags": []
          },
          "execution_count": 12
        }
      ]
    },
    {
      "cell_type": "markdown",
      "metadata": {
        "id": "IOviVLozofAO",
        "colab_type": "text"
      },
      "source": [
        "ELMo's feature includes \"\" token feature that is meaningless, and returned feature's shape is fixed as (data_num, TOKEN_LENGH, FEATURE_DIM).  \n",
        "In order to compute the mean of features that do not include \"\", we do the following:\n",
        "\n",
        "\n",
        "*   get (data_num, TOKEN_LENGH, FEATURE_DIM) from the ELMo model\n",
        "*   then compute the mean of each feature considering those sequence length that does not include \"\" token\n"
      ]
    },
    {
      "cell_type": "code",
      "metadata": {
        "id": "UgItbjobGO0O",
        "colab_type": "code",
        "colab": {}
      },
      "source": [
        "config = tf.ConfigProto()\n",
        "config.gpu_options.allow_growth = True\n",
        "\n",
        "def extract_elmo_feature(sentences: List[str]):\n",
        "  elmo = hub.Module(\"https://tfhub.dev/google/elmo/2\", trainable=False)\n",
        "  \n",
        "  def _padding(sentence: List[str]):\n",
        "    if len(sentence) < TOKEN_LENGTH:\n",
        "      sentence = sentence + [\"\"] * (TOKEN_LENGTH - len(sentence))\n",
        "    return sentence\n",
        "\n",
        "  def _get_elmo_features(sentences: List[str]):\n",
        "    embeddings = elmo(\n",
        "        inputs = {\n",
        "            \"tokens\": list(map(lambda x: _padding(x), sentences)),\n",
        "            \"sequence_len\": list(map(lambda x: len(x), sentences))\n",
        "        },\n",
        "        signature=\"tokens\",\n",
        "        as_dict=True\n",
        "    )[\"elmo\"]\n",
        "    return embeddings  \n",
        "  \n",
        "  with tf.Session(config=config) as sess:\n",
        "    sess.run(tf.global_variables_initializer())\n",
        "    sess.run(tf.tables_initializer())\n",
        "    result = sess.run(_get_elmo_features(sentences))\n",
        "\n",
        "  tf.reset_default_graph()\n",
        "  return result"
      ],
      "execution_count": 0,
      "outputs": []
    },
    {
      "cell_type": "code",
      "metadata": {
        "id": "G5KIsMICLQSL",
        "colab_type": "code",
        "colab": {}
      },
      "source": [
        "# GS_BASE = \"gs://yohei-kikuta/mlstudy-phys/patent-analysis/3000-extracted-feature/ELMO-512tokenmean\"\n",
        "GS_BASE = \"gs://yohei-kikuta/mlstudy-phys/patent-analysis/3000-extracted-feature/ELMO-4096tokenmean\"\n",
        "\n",
        "def dump_and_send(fname, obj):\n",
        "  with gzip.open(fname, 'w') as f:\n",
        "     pickle.dump(obj, f)\n",
        "  !gsutil cp {fname} {GS_BASE}/{fname}\n",
        "  print(f\"send to {GS_BASE}/{fname}\")"
      ],
      "execution_count": 0,
      "outputs": []
    },
    {
      "cell_type": "code",
      "metadata": {
        "id": "9BoEVXW2qMCu",
        "colab_type": "code",
        "colab": {}
      },
      "source": [
        "### For TOKEN_LENGTH = 512 case.\n",
        "# BATCH_SIZE = 32\n",
        "\n",
        "### For TOKEN_LENGTH = 4096 case.\n",
        "BATCH_SIZE = 4\n",
        "\n",
        "FEATURE_DIM = 1024"
      ],
      "execution_count": 0,
      "outputs": []
    },
    {
      "cell_type": "markdown",
      "metadata": {
        "id": "aQB3NOkG8tj4",
        "colab_type": "text"
      },
      "source": [
        "Due to the memory error, compute the mean features for each batch."
      ]
    },
    {
      "cell_type": "code",
      "metadata": {
        "id": "2SODvXGkhoXv",
        "colab_type": "code",
        "outputId": "d9d59cb3-4285-4e93-bf8a-35a7d0b7cc05",
        "colab": {
          "base_uri": "https://localhost:8080/",
          "height": 52
        }
      },
      "source": [
        "%%time\n",
        "\n",
        "train_features = np.empty((BATCH_SIZE, TOKEN_LENGTH, FEATURE_DIM))\n",
        "mean_train_features = np.empty((len(train_app), FEATURE_DIM))\n",
        "token_lengths = list(map(lambda x: len(x), list(train_app['claim_app'])))\n",
        "\n",
        "for start in range(0, len(train_app), BATCH_SIZE):\n",
        "  train_features = extract_elmo_feature(list(train_app['claim_app'])[start: start + BATCH_SIZE])\n",
        "  for (idx, (feature, token_length)) in enumerate(zip(train_features, token_lengths[start: start + BATCH_SIZE])):\n",
        "    mean_train_features[start + idx] = np.mean(feature[:token_length], axis=0)"
      ],
      "execution_count": 0,
      "outputs": [
        {
          "output_type": "stream",
          "text": [
            "CPU times: user 1h 45min 5s, sys: 21min 23s, total: 2h 6min 28s\n",
            "Wall time: 1h 23min 17s\n"
          ],
          "name": "stdout"
        }
      ]
    },
    {
      "cell_type": "code",
      "metadata": {
        "id": "a-6dIo7_86Bq",
        "colab_type": "code",
        "outputId": "10d294ab-b669-4d7c-9f7d-6351ec4cb4c7",
        "colab": {
          "base_uri": "https://localhost:8080/",
          "height": 34
        }
      },
      "source": [
        "mean_train_features.shape"
      ],
      "execution_count": 0,
      "outputs": [
        {
          "output_type": "execute_result",
          "data": {
            "text/plain": [
              "(3000, 1024)"
            ]
          },
          "metadata": {
            "tags": []
          },
          "execution_count": 17
        }
      ]
    },
    {
      "cell_type": "code",
      "metadata": {
        "id": "gGZVNw_N86Te",
        "colab_type": "code",
        "outputId": "3927bf73-e08c-47b2-c95b-0e9bbd3581ff",
        "colab": {
          "base_uri": "https://localhost:8080/",
          "height": 34
        }
      },
      "source": [
        "mean_train_features[0][:5]"
      ],
      "execution_count": 0,
      "outputs": [
        {
          "output_type": "execute_result",
          "data": {
            "text/plain": [
              "array([ 0.08837943,  0.19150606, -0.51628566, -0.01050414, -0.07731926])"
            ]
          },
          "metadata": {
            "tags": []
          },
          "execution_count": 18
        }
      ]
    },
    {
      "cell_type": "code",
      "metadata": {
        "id": "FsBR2nMAgups",
        "colab_type": "code",
        "outputId": "f0746685-7b6d-4a9d-fcec-223c028bbb04",
        "colab": {
          "base_uri": "https://localhost:8080/",
          "height": 86
        }
      },
      "source": [
        "# dump_and_send(\"elmo_512_feature_train_app_3000.pkl.gz\", mean_train_features)\n",
        "dump_and_send(\"elmo_4096_feature_train_app_3000.pkl.gz\", mean_train_features)"
      ],
      "execution_count": 0,
      "outputs": [
        {
          "output_type": "stream",
          "text": [
            "Copying file://elmo_4096_feature_train_app_3000.pkl.gz [Content-Type=application/octet-stream]...\n",
            "-\n",
            "Operation completed over 1 objects/12.5 MiB.                                     \n",
            "send to gs://yohei-kikuta/mlstudy-phys/patent-analysis/3000-extracted-feature/ELMO-512tokenmean/elmo_4096_feature_train_app_3000.pkl.gz\n"
          ],
          "name": "stdout"
        }
      ]
    },
    {
      "cell_type": "code",
      "metadata": {
        "id": "mJ3I6hNpH7F4",
        "colab_type": "code",
        "outputId": "e663a29a-f595-4cbd-f1bf-073315db6d83",
        "colab": {
          "base_uri": "https://localhost:8080/",
          "height": 52
        }
      },
      "source": [
        "%%time\n",
        "\n",
        "test_features = np.empty((BATCH_SIZE, TOKEN_LENGTH, FEATURE_DIM))\n",
        "mean_test_features = np.empty((len(test_app), FEATURE_DIM))\n",
        "token_lengths = list(map(lambda x: len(x), list(test_app['claim_app'])))\n",
        "\n",
        "for start in range(0, len(test_app), BATCH_SIZE):\n",
        "  test_features = extract_elmo_feature(list(test_app['claim_app'])[start: start + BATCH_SIZE])\n",
        "  for (idx, (feature, token_length)) in enumerate(zip(test_features, token_lengths[start: start + BATCH_SIZE])):\n",
        "    mean_test_features[start + idx] = np.mean(feature[:token_length], axis=0)"
      ],
      "execution_count": 0,
      "outputs": [
        {
          "output_type": "stream",
          "text": [
            "CPU times: user 1h 41min 31s, sys: 21min 24s, total: 2h 2min 55s\n",
            "Wall time: 1h 22min 7s\n"
          ],
          "name": "stdout"
        }
      ]
    },
    {
      "cell_type": "code",
      "metadata": {
        "id": "zEk7FezNs-6W",
        "colab_type": "code",
        "outputId": "abc90e30-5fe4-45f9-d3d1-0fb3d91fb6f1",
        "colab": {
          "base_uri": "https://localhost:8080/",
          "height": 34
        }
      },
      "source": [
        "mean_test_features.shape"
      ],
      "execution_count": 0,
      "outputs": [
        {
          "output_type": "execute_result",
          "data": {
            "text/plain": [
              "(3000, 1024)"
            ]
          },
          "metadata": {
            "tags": []
          },
          "execution_count": 23
        }
      ]
    },
    {
      "cell_type": "code",
      "metadata": {
        "id": "XscBkdHiH7Iz",
        "colab_type": "code",
        "outputId": "452c03b6-4ddf-4c28-9898-2d923b147eb7",
        "colab": {
          "base_uri": "https://localhost:8080/",
          "height": 86
        }
      },
      "source": [
        "# dump_and_send(\"elmo_512_feature_test_app_3000.pkl.gz\", mean_test_features)\n",
        "dump_and_send(\"elmo_4096_feature_test_app_3000.pkl.gz\", mean_test_features)"
      ],
      "execution_count": 0,
      "outputs": [
        {
          "output_type": "stream",
          "text": [
            "Copying file://elmo_4096_feature_test_app_3000.pkl.gz [Content-Type=application/octet-stream]...\n",
            "/ [0 files][    0.0 B/ 12.5 MiB]                                                \r/ [1 files][ 12.5 MiB/ 12.5 MiB]                                                \r-\r\n",
            "Operation completed over 1 objects/12.5 MiB.                                     \n",
            "send to gs://yohei-kikuta/mlstudy-phys/patent-analysis/3000-extracted-feature/ELMO-512tokenmean/elmo_4096_feature_test_app_3000.pkl.gz\n"
          ],
          "name": "stdout"
        }
      ]
    },
    {
      "cell_type": "code",
      "metadata": {
        "id": "iOiPe8qfMGYn",
        "colab_type": "code",
        "outputId": "daf0183f-3015-4d42-f43a-01768c9ff695",
        "colab": {
          "base_uri": "https://localhost:8080/",
          "height": 52
        }
      },
      "source": [
        "%%time\n",
        "\n",
        "grants_features = np.empty((BATCH_SIZE, TOKEN_LENGTH, FEATURE_DIM))\n",
        "mean_grants_features = np.empty((len(grants), FEATURE_DIM))\n",
        "token_lengths = list(map(lambda x: len(x), list(grants['claim_cited_grant'])))\n",
        "\n",
        "for start in range(0, len(grants), BATCH_SIZE):\n",
        "  grants_features = extract_elmo_feature(list(grants['claim_cited_grant'])[start: start + BATCH_SIZE])\n",
        "  for (idx, (feature, token_length)) in enumerate(zip(grants_features, token_lengths[start: start + BATCH_SIZE])):\n",
        "    mean_grants_features[start + idx] = np.mean(feature[:token_length], axis=0)"
      ],
      "execution_count": 0,
      "outputs": [
        {
          "output_type": "stream",
          "text": [
            "CPU times: user 4h 19min 41s, sys: 57min 6s, total: 5h 16min 47s\n",
            "Wall time: 3h 23min 6s\n"
          ],
          "name": "stdout"
        }
      ]
    },
    {
      "cell_type": "code",
      "metadata": {
        "id": "Ir2ufbbnMGdc",
        "colab_type": "code",
        "outputId": "0c5fb617-304d-47ed-ab6b-440d730574a7",
        "colab": {
          "base_uri": "https://localhost:8080/",
          "height": 34
        }
      },
      "source": [
        "mean_grants_features.shape"
      ],
      "execution_count": 0,
      "outputs": [
        {
          "output_type": "execute_result",
          "data": {
            "text/plain": [
              "(6440, 1024)"
            ]
          },
          "metadata": {
            "tags": []
          },
          "execution_count": 28
        }
      ]
    },
    {
      "cell_type": "code",
      "metadata": {
        "id": "24GI0pRDMgWW",
        "colab_type": "code",
        "outputId": "ff46074b-7de4-468d-a8aa-ca300c8802c0",
        "colab": {
          "base_uri": "https://localhost:8080/",
          "height": 86
        }
      },
      "source": [
        "# dump_and_send(\"elmo_512_feature_grants_3000_3000.pkl.gz\", mean_grants_features)\n",
        "dump_and_send(\"elmo_4096_feature_grants_3000_3000.pkl.gz\", mean_grants_features)"
      ],
      "execution_count": 0,
      "outputs": [
        {
          "output_type": "stream",
          "text": [
            "Copying file://elmo_4096_feature_grants_3000_3000.pkl.gz [Content-Type=application/octet-stream]...\n",
            "-\n",
            "Operation completed over 1 objects/26.8 MiB.                                     \n",
            "send to gs://yohei-kikuta/mlstudy-phys/patent-analysis/3000-extracted-feature/ELMO-512tokenmean/elmo_4096_feature_grants_3000_3000.pkl.gz\n"
          ],
          "name": "stdout"
        }
      ]
    },
    {
      "cell_type": "code",
      "metadata": {
        "id": "gxK-fbV-eSDY",
        "colab_type": "code",
        "colab": {}
      },
      "source": [
        ""
      ],
      "execution_count": 0,
      "outputs": []
    },
    {
      "cell_type": "code",
      "metadata": {
        "id": "Ok_7LDdheSAC",
        "colab_type": "code",
        "colab": {}
      },
      "source": [
        ""
      ],
      "execution_count": 0,
      "outputs": []
    },
    {
      "cell_type": "code",
      "metadata": {
        "id": "vfFwmzmYeR9i",
        "colab_type": "code",
        "colab": {}
      },
      "source": [
        ""
      ],
      "execution_count": 0,
      "outputs": []
    },
    {
      "cell_type": "code",
      "metadata": {
        "id": "vjvtMVo7eR7d",
        "colab_type": "code",
        "colab": {}
      },
      "source": [
        ""
      ],
      "execution_count": 0,
      "outputs": []
    },
    {
      "cell_type": "code",
      "metadata": {
        "id": "8W5R7CqJeR4X",
        "colab_type": "code",
        "colab": {}
      },
      "source": [
        ""
      ],
      "execution_count": 0,
      "outputs": []
    },
    {
      "cell_type": "code",
      "metadata": {
        "id": "cbzEN6dWeR1o",
        "colab_type": "code",
        "colab": {}
      },
      "source": [
        ""
      ],
      "execution_count": 0,
      "outputs": []
    },
    {
      "cell_type": "code",
      "metadata": {
        "id": "qpOd28LNeRzO",
        "colab_type": "code",
        "colab": {}
      },
      "source": [
        ""
      ],
      "execution_count": 0,
      "outputs": []
    },
    {
      "cell_type": "markdown",
      "metadata": {
        "id": "FEXrhSsV8oOB",
        "colab_type": "text"
      },
      "source": [
        "## Trial and errors"
      ]
    },
    {
      "cell_type": "code",
      "metadata": {
        "id": "fhklFwNs6P55",
        "colab_type": "code",
        "colab": {}
      },
      "source": [
        "elmo = hub.Module(\"https://tfhub.dev/google/elmo/2\", trainable=False)\n",
        "\n",
        "embeddings = elmo(\n",
        "    [\"the cat is on the mat\", \"dogs are in the fog\"],\n",
        "    signature=\"default\",\n",
        "    as_dict=True)[\"elmo\"]\n",
        "\n",
        "averaged_embeddings = tf.reduce_mean(embeddings, axis=1)"
      ],
      "execution_count": 0,
      "outputs": []
    },
    {
      "cell_type": "code",
      "metadata": {
        "id": "y175Nkz5dAbL",
        "colab_type": "code",
        "colab": {}
      },
      "source": [
        "averaged_embeddings"
      ],
      "execution_count": 0,
      "outputs": []
    },
    {
      "cell_type": "code",
      "metadata": {
        "id": "vL7QaHV88d9I",
        "colab_type": "code",
        "colab": {}
      },
      "source": [
        "with tf.Session() as sess:\n",
        "  sess.run(tf.global_variables_initializer())\n",
        "  sess.run(tf.tables_initializer())\n",
        "  test = sess.run(averaged_embeddings)"
      ],
      "execution_count": 0,
      "outputs": []
    },
    {
      "cell_type": "code",
      "metadata": {
        "id": "pUMxBOrH8hSo",
        "colab_type": "code",
        "colab": {}
      },
      "source": [
        "test.shape"
      ],
      "execution_count": 0,
      "outputs": []
    },
    {
      "cell_type": "code",
      "metadata": {
        "id": "wmN10TNG8nXu",
        "colab_type": "code",
        "colab": {}
      },
      "source": [
        "test = extract_elmo_feature([\"the cat is on the mat\", \"dogs are in the fog\"])"
      ],
      "execution_count": 0,
      "outputs": []
    },
    {
      "cell_type": "code",
      "metadata": {
        "id": "nfdWL3VW9YQz",
        "colab_type": "code",
        "colab": {}
      },
      "source": [
        "test.shape"
      ],
      "execution_count": 0,
      "outputs": []
    },
    {
      "cell_type": "code",
      "metadata": {
        "id": "i50iI5LE9gHx",
        "colab_type": "code",
        "colab": {}
      },
      "source": [
        "embeddings = elmo(\n",
        "    [grants_target_df['claim'][0]],\n",
        "    signature=\"default\",  # Treat input as raw string.\n",
        "    as_dict=True\n",
        ")[\"elmo\"]"
      ],
      "execution_count": 0,
      "outputs": []
    },
    {
      "cell_type": "code",
      "metadata": {
        "id": "ASHhcSO6dLwx",
        "colab_type": "code",
        "colab": {}
      },
      "source": [
        "embeddings"
      ],
      "execution_count": 0,
      "outputs": []
    },
    {
      "cell_type": "code",
      "metadata": {
        "id": "b14oXOrDdNM4",
        "colab_type": "code",
        "colab": {}
      },
      "source": [
        "grants_target_df['claim'][0].split()[0:512]"
      ],
      "execution_count": 0,
      "outputs": []
    },
    {
      "cell_type": "code",
      "metadata": {
        "id": "74W-Qbmsd9mC",
        "colab_type": "code",
        "colab": {}
      },
      "source": [
        "embeddings = elmo(\n",
        "    inputs = {\n",
        "        \"tokens\": [grants_target_df['claim'][0].split()[0:512]],\n",
        "        \"sequence_len\": [512]\n",
        "    },\n",
        "    signature=\"tokens\",\n",
        "    as_dict=True\n",
        ")[\"elmo\"]"
      ],
      "execution_count": 0,
      "outputs": []
    },
    {
      "cell_type": "code",
      "metadata": {
        "id": "cltQTlE2eQuo",
        "colab_type": "code",
        "colab": {}
      },
      "source": [
        "embeddings"
      ],
      "execution_count": 0,
      "outputs": []
    },
    {
      "cell_type": "code",
      "metadata": {
        "id": "iVoCbaWFe-cj",
        "colab_type": "code",
        "colab": {}
      },
      "source": [
        "len(training_app_df)"
      ],
      "execution_count": 0,
      "outputs": []
    },
    {
      "cell_type": "code",
      "metadata": {
        "id": "wjfsXksFgNEo",
        "colab_type": "code",
        "colab": {}
      },
      "source": [
        "sum(training_app_df['claim'].map(len)) / len(training_app_df)"
      ],
      "execution_count": 0,
      "outputs": []
    },
    {
      "cell_type": "code",
      "metadata": {
        "id": "QAW0HWhOgR2i",
        "colab_type": "code",
        "colab": {}
      },
      "source": [
        "list(training_app_df['claim'].map(len))[:5]"
      ],
      "execution_count": 0,
      "outputs": []
    },
    {
      "cell_type": "code",
      "metadata": {
        "id": "uZof5p8ognQY",
        "colab_type": "code",
        "colab": {}
      },
      "source": [
        "training_app_df['claim'][3]"
      ],
      "execution_count": 0,
      "outputs": []
    },
    {
      "cell_type": "code",
      "metadata": {
        "id": "2yoCTEOkmatz",
        "colab_type": "code",
        "colab": {}
      },
      "source": [
        "training_app_df['claim'].map(len).hist()"
      ],
      "execution_count": 0,
      "outputs": []
    },
    {
      "cell_type": "code",
      "metadata": {
        "id": "DlR3qjn_JTzy",
        "colab_type": "code",
        "colab": {}
      },
      "source": [
        "testset_app_df['claim'].map(len).hist()"
      ],
      "execution_count": 0,
      "outputs": []
    },
    {
      "cell_type": "code",
      "metadata": {
        "id": "mqzQPGm-JVGw",
        "colab_type": "code",
        "colab": {}
      },
      "source": [
        "grants_target_df['claim'].map(len).hist()"
      ],
      "execution_count": 0,
      "outputs": []
    },
    {
      "cell_type": "code",
      "metadata": {
        "id": "FwUnpnypJbCC",
        "colab_type": "code",
        "colab": {}
      },
      "source": [
        ""
      ],
      "execution_count": 0,
      "outputs": []
    }
  ]
}