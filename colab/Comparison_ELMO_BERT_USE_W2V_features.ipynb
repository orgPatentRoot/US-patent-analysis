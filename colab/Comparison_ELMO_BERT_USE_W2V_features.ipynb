{
  "nbformat": 4,
  "nbformat_minor": 0,
  "metadata": {
    "colab": {
      "name": "Comparison_ELMO_BERT_USE_W2V_features.ipynb",
      "version": "0.3.2",
      "provenance": [],
      "collapsed_sections": [],
      "toc_visible": true,
      "include_colab_link": true
    },
    "kernelspec": {
      "name": "python3",
      "display_name": "Python 3"
    }
  },
  "cells": [
    {
      "cell_type": "markdown",
      "metadata": {
        "id": "view-in-github",
        "colab_type": "text"
      },
      "source": [
        "<a href=\"https://colab.research.google.com/github/yoheikikuta/US-patent-analysis/blob/master/colab/Comparison_ELMO_BERT_USE_W2V_features.ipynb\" target=\"_parent\"><img src=\"https://colab.research.google.com/assets/colab-badge.svg\" alt=\"Open In Colab\"/></a>"
      ]
    },
    {
      "cell_type": "markdown",
      "metadata": {
        "id": "JDtqNaOKeAWT",
        "colab_type": "text"
      },
      "source": [
        "# Comparison_ELMO_BERT_USE_W2V_features"
      ]
    },
    {
      "cell_type": "markdown",
      "metadata": {
        "id": "Sh6e4MelSvwB",
        "colab_type": "text"
      },
      "source": [
        "# Prerequisites\n",
        "\n",
        "Authentication, data downloading."
      ]
    },
    {
      "cell_type": "code",
      "metadata": {
        "id": "IblKx597oguP",
        "colab_type": "code",
        "colab": {}
      },
      "source": [
        "from google.colab import auth\n",
        "auth.authenticate_user()"
      ],
      "execution_count": 0,
      "outputs": []
    },
    {
      "cell_type": "code",
      "metadata": {
        "id": "006Nu3q7S8If",
        "colab_type": "code",
        "colab": {}
      },
      "source": [
        "GCS_BASE = \"gs://yohei-kikuta/mlstudy-phys/patent-analysis/3000-extracted-feature\"\n",
        "\n",
        "target_features_dict = {\n",
        "    \"BERT-2ndlastmean\" : [\"bert_2ndlastmean_feature_train_app_3000\", \"bert_2ndlastmean_feature_test_app_3000\", \"bert_2ndlastmean_feature_grants_3000_3000\"],\n",
        "    \"BERT-pretrained-2ndlastmean\" : [\"bert_pretrained_2ndlastmean_feature_train_app_3000\", \"bert_pretrained_2ndlastmean_feature_test_app_3000\", \"bert_pretrained_2ndlastmean_feature_grants_3000_3000\"],\n",
        "#    \"BERT-Large-2ndlastmean\" : [\"bert_large_2ndlastmean_feature_train_app_3000\", \"bert_large_2ndlastmean_feature_test_app_3000\", \"bert_large_2ndlastmean_feature_grants_3000_3000\"],\n",
        "    \"ELMO-512tokenmean\" : [\"elmo_512_feature_train_app_3000\", \"elmo_512_feature_test_app_3000\", \"elmo_512_feature_grants_3000_3000\"],\n",
        "    \"ELMO-4096tokenmean\" : [\"elmo_4096_feature_train_app_3000\", \"elmo_4096_feature_test_app_3000\", \"elmo_4096_feature_grants_3000_3000\"],\n",
        "    \"USE\" : [\"use_feature_train_app_3000\", \"use_feature_test_app_3000\", \"use_feature_grants_3000_3000\"],\n",
        "    \"W2V\" : [\"w2v_100_feature_train_app_3000\", \"w2v_100_feature_test_app_3000\", \"w2v_100_feature_grants_3000_3000\"],\n",
        "    \"fastText\" : [\"fasttext_300_feature_train_app_3000\", \"fasttext_300_feature_test_app_3000\", \"fasttext_300_feature_grants_3000_3000\"],\n",
        "}"
      ],
      "execution_count": 0,
      "outputs": []
    },
    {
      "cell_type": "markdown",
      "metadata": {
        "id": "OI8Jli2vS33X",
        "colab_type": "text"
      },
      "source": [
        "## Data downloading"
      ]
    },
    {
      "cell_type": "code",
      "metadata": {
        "id": "1eWBNIHyj342",
        "colab_type": "code",
        "outputId": "a88a2fb2-e543-4fb8-8f52-767894eb8004",
        "colab": {
          "base_uri": "https://localhost:8080/",
          "height": 225
        }
      },
      "source": [
        "!gsutil cp gs://yohei-kikuta/mlstudy-phys/patent-analysis/3000-info/citations_info_3000+3000.df.gz ./\n",
        "\n",
        "!gsutil cp gs://yohei-kikuta/mlstudy-phys/patent-analysis/3000-xml/training_app_3000.df.gz ./  \n",
        "!gsutil cp gs://yohei-kikuta/mlstudy-phys/patent-analysis/3000-xml/testset_app_3000.df.gz ./\n",
        "!gsutil cp gs://yohei-kikuta/mlstudy-phys/patent-analysis/3000-xml/grants_for_3000+3000.df.gz ./"
      ],
      "execution_count": 4,
      "outputs": [
        {
          "output_type": "stream",
          "text": [
            "Copying gs://yohei-kikuta/mlstudy-phys/patent-analysis/3000-info/citations_info_3000+3000.df.gz...\n",
            "/ [1 files][506.5 KiB/506.5 KiB]                                                \n",
            "Operation completed over 1 objects/506.5 KiB.                                    \n",
            "Copying gs://yohei-kikuta/mlstudy-phys/patent-analysis/3000-xml/training_app_3000.df.gz...\n",
            "- [1 files][ 45.0 MiB/ 45.0 MiB]                                                \n",
            "Operation completed over 1 objects/45.0 MiB.                                     \n",
            "Copying gs://yohei-kikuta/mlstudy-phys/patent-analysis/3000-xml/testset_app_3000.df.gz...\n",
            "\\ [1 files][ 45.5 MiB/ 45.5 MiB]                                                \n",
            "Operation completed over 1 objects/45.5 MiB.                                     \n",
            "Copying gs://yohei-kikuta/mlstudy-phys/patent-analysis/3000-xml/grants_for_3000+3000.df.gz...\n",
            "| [1 files][129.4 MiB/129.4 MiB]                                                \n",
            "Operation completed over 1 objects/129.4 MiB.                                    \n"
          ],
          "name": "stdout"
        }
      ]
    },
    {
      "cell_type": "code",
      "metadata": {
        "id": "51oLKwAsUKlI",
        "colab_type": "code",
        "outputId": "26d34664-25bf-4d51-cd2a-694601b199d3",
        "colab": {
          "base_uri": "https://localhost:8080/",
          "height": 1000
        }
      },
      "source": [
        "%%time\n",
        "\n",
        "for model, files in target_features_dict.items():\n",
        "  for f in files:\n",
        "    !gsutil cp {GCS_BASE}/{model}/{f}.pkl.gz ./"
      ],
      "execution_count": 5,
      "outputs": [
        {
          "output_type": "stream",
          "text": [
            "Copying gs://yohei-kikuta/mlstudy-phys/patent-analysis/3000-extracted-feature/BERT-2ndlastmean/bert_2ndlastmean_feature_train_app_3000.pkl.gz...\n",
            "- [1 files][  9.4 MiB/  9.4 MiB]                                                \n",
            "Operation completed over 1 objects/9.4 MiB.                                      \n",
            "Copying gs://yohei-kikuta/mlstudy-phys/patent-analysis/3000-extracted-feature/BERT-2ndlastmean/bert_2ndlastmean_feature_test_app_3000.pkl.gz...\n",
            "- [1 files][  9.4 MiB/  9.4 MiB]                                                \n",
            "Operation completed over 1 objects/9.4 MiB.                                      \n",
            "Copying gs://yohei-kikuta/mlstudy-phys/patent-analysis/3000-extracted-feature/BERT-2ndlastmean/bert_2ndlastmean_feature_grants_3000_3000.pkl.gz...\n",
            "- [1 files][ 20.1 MiB/ 20.1 MiB]                                                \n",
            "Operation completed over 1 objects/20.1 MiB.                                     \n",
            "Copying gs://yohei-kikuta/mlstudy-phys/patent-analysis/3000-extracted-feature/BERT-pretrained-2ndlastmean/bert_pretrained_2ndlastmean_feature_train_app_3000.pkl.gz...\n",
            "- [1 files][  9.4 MiB/  9.4 MiB]                                                \n",
            "Operation completed over 1 objects/9.4 MiB.                                      \n",
            "Copying gs://yohei-kikuta/mlstudy-phys/patent-analysis/3000-extracted-feature/BERT-pretrained-2ndlastmean/bert_pretrained_2ndlastmean_feature_test_app_3000.pkl.gz...\n",
            "- [1 files][  9.4 MiB/  9.4 MiB]                                                \n",
            "Operation completed over 1 objects/9.4 MiB.                                      \n",
            "Copying gs://yohei-kikuta/mlstudy-phys/patent-analysis/3000-extracted-feature/BERT-pretrained-2ndlastmean/bert_pretrained_2ndlastmean_feature_grants_3000_3000.pkl.gz...\n",
            "\\ [1 files][ 20.1 MiB/ 20.1 MiB]                                                \n",
            "Operation completed over 1 objects/20.1 MiB.                                     \n",
            "Copying gs://yohei-kikuta/mlstudy-phys/patent-analysis/3000-extracted-feature/ELMO-512tokenmean/elmo_512_feature_train_app_3000.pkl.gz...\n",
            "- [1 files][ 12.5 MiB/ 12.5 MiB]                                                \n",
            "Operation completed over 1 objects/12.5 MiB.                                     \n",
            "Copying gs://yohei-kikuta/mlstudy-phys/patent-analysis/3000-extracted-feature/ELMO-512tokenmean/elmo_512_feature_test_app_3000.pkl.gz...\n",
            "- [1 files][ 12.5 MiB/ 12.5 MiB]                                                \n",
            "Operation completed over 1 objects/12.5 MiB.                                     \n",
            "Copying gs://yohei-kikuta/mlstudy-phys/patent-analysis/3000-extracted-feature/ELMO-512tokenmean/elmo_512_feature_grants_3000_3000.pkl.gz...\n",
            "- [1 files][ 26.8 MiB/ 26.8 MiB]                                                \n",
            "Operation completed over 1 objects/26.8 MiB.                                     \n",
            "Copying gs://yohei-kikuta/mlstudy-phys/patent-analysis/3000-extracted-feature/ELMO-4096tokenmean/elmo_4096_feature_train_app_3000.pkl.gz...\n",
            "- [1 files][ 12.5 MiB/ 12.5 MiB]                                                \n",
            "Operation completed over 1 objects/12.5 MiB.                                     \n",
            "Copying gs://yohei-kikuta/mlstudy-phys/patent-analysis/3000-extracted-feature/ELMO-4096tokenmean/elmo_4096_feature_test_app_3000.pkl.gz...\n",
            "- [1 files][ 12.5 MiB/ 12.5 MiB]                                                \n",
            "Operation completed over 1 objects/12.5 MiB.                                     \n",
            "Copying gs://yohei-kikuta/mlstudy-phys/patent-analysis/3000-extracted-feature/ELMO-4096tokenmean/elmo_4096_feature_grants_3000_3000.pkl.gz...\n",
            "- [1 files][ 26.8 MiB/ 26.8 MiB]                                                \n",
            "Operation completed over 1 objects/26.8 MiB.                                     \n",
            "Copying gs://yohei-kikuta/mlstudy-phys/patent-analysis/3000-extracted-feature/USE/use_feature_train_app_3000.pkl.gz...\n",
            "- [1 files][  6.2 MiB/  6.2 MiB]                                                \n",
            "Operation completed over 1 objects/6.2 MiB.                                      \n",
            "Copying gs://yohei-kikuta/mlstudy-phys/patent-analysis/3000-extracted-feature/USE/use_feature_test_app_3000.pkl.gz...\n",
            "- [1 files][  6.2 MiB/  6.2 MiB]                                                \n",
            "Operation completed over 1 objects/6.2 MiB.                                      \n",
            "Copying gs://yohei-kikuta/mlstudy-phys/patent-analysis/3000-extracted-feature/USE/use_feature_grants_3000_3000.pkl.gz...\n",
            "- [1 files][ 13.3 MiB/ 13.3 MiB]                                                \n",
            "Operation completed over 1 objects/13.3 MiB.                                     \n",
            "Copying gs://yohei-kikuta/mlstudy-phys/patent-analysis/3000-extracted-feature/W2V/w2v_100_feature_train_app_3000.pkl.gz...\n",
            "/ [1 files][  1.1 MiB/  1.1 MiB]                                                \n",
            "Operation completed over 1 objects/1.1 MiB.                                      \n",
            "Copying gs://yohei-kikuta/mlstudy-phys/patent-analysis/3000-extracted-feature/W2V/w2v_100_feature_test_app_3000.pkl.gz...\n",
            "/ [1 files][  1.1 MiB/  1.1 MiB]                                                \n",
            "Operation completed over 1 objects/1.1 MiB.                                      \n",
            "Copying gs://yohei-kikuta/mlstudy-phys/patent-analysis/3000-extracted-feature/W2V/w2v_100_feature_grants_3000_3000.pkl.gz...\n",
            "- [1 files][  2.3 MiB/  2.3 MiB]                                                \n",
            "Operation completed over 1 objects/2.3 MiB.                                      \n",
            "Copying gs://yohei-kikuta/mlstudy-phys/patent-analysis/3000-extracted-feature/fastText/fasttext_300_feature_train_app_3000.pkl.gz...\n",
            "/ [1 files][  3.2 MiB/  3.2 MiB]                                                \n",
            "Operation completed over 1 objects/3.2 MiB.                                      \n",
            "Copying gs://yohei-kikuta/mlstudy-phys/patent-analysis/3000-extracted-feature/fastText/fasttext_300_feature_test_app_3000.pkl.gz...\n",
            "/ [1 files][  3.2 MiB/  3.2 MiB]                                                \n",
            "Operation completed over 1 objects/3.2 MiB.                                      \n",
            "Copying gs://yohei-kikuta/mlstudy-phys/patent-analysis/3000-extracted-feature/fastText/fasttext_300_feature_grants_3000_3000.pkl.gz...\n",
            "\\ [1 files][  6.9 MiB/  6.9 MiB]                                                \n",
            "Operation completed over 1 objects/6.9 MiB.                                      \n",
            "CPU times: user 879 ms, sys: 209 ms, total: 1.09 s\n",
            "Wall time: 1min 10s\n"
          ],
          "name": "stdout"
        }
      ]
    },
    {
      "cell_type": "code",
      "metadata": {
        "id": "lu4o6t-YjRKR",
        "colab_type": "code",
        "outputId": "190de9a3-c123-477f-f8cc-829d69f1beab",
        "colab": {
          "base_uri": "https://localhost:8080/",
          "height": 485
        }
      },
      "source": [
        "!ls"
      ],
      "execution_count": 6,
      "outputs": [
        {
          "output_type": "stream",
          "text": [
            "adc.json\n",
            "bert_2ndlastmean_feature_grants_3000_3000.pkl.gz\n",
            "bert_2ndlastmean_feature_test_app_3000.pkl.gz\n",
            "bert_2ndlastmean_feature_train_app_3000.pkl.gz\n",
            "bert_pretrained_2ndlastmean_feature_grants_3000_3000.pkl.gz\n",
            "bert_pretrained_2ndlastmean_feature_test_app_3000.pkl.gz\n",
            "bert_pretrained_2ndlastmean_feature_train_app_3000.pkl.gz\n",
            "citations_info_3000+3000.df.gz\n",
            "elmo_4096_feature_grants_3000_3000.pkl.gz\n",
            "elmo_4096_feature_test_app_3000.pkl.gz\n",
            "elmo_4096_feature_train_app_3000.pkl.gz\n",
            "elmo_512_feature_grants_3000_3000.pkl.gz\n",
            "elmo_512_feature_test_app_3000.pkl.gz\n",
            "elmo_512_feature_train_app_3000.pkl.gz\n",
            "fasttext_300_feature_grants_3000_3000.pkl.gz\n",
            "fasttext_300_feature_test_app_3000.pkl.gz\n",
            "fasttext_300_feature_train_app_3000.pkl.gz\n",
            "grants_for_3000+3000.df.gz\n",
            "sample_data\n",
            "testset_app_3000.df.gz\n",
            "training_app_3000.df.gz\n",
            "use_feature_grants_3000_3000.pkl.gz\n",
            "use_feature_test_app_3000.pkl.gz\n",
            "use_feature_train_app_3000.pkl.gz\n",
            "w2v_100_feature_grants_3000_3000.pkl.gz\n",
            "w2v_100_feature_test_app_3000.pkl.gz\n",
            "w2v_100_feature_train_app_3000.pkl.gz\n"
          ],
          "name": "stdout"
        }
      ]
    },
    {
      "cell_type": "code",
      "metadata": {
        "id": "9lCuxPt6ifQQ",
        "colab_type": "code",
        "colab": {}
      },
      "source": [
        ""
      ],
      "execution_count": 0,
      "outputs": []
    },
    {
      "cell_type": "code",
      "metadata": {
        "id": "pc32jC6-ifgk",
        "colab_type": "code",
        "colab": {}
      },
      "source": [
        ""
      ],
      "execution_count": 0,
      "outputs": []
    },
    {
      "cell_type": "code",
      "metadata": {
        "id": "R4C2KotZifLZ",
        "colab_type": "code",
        "colab": {}
      },
      "source": [
        ""
      ],
      "execution_count": 0,
      "outputs": []
    },
    {
      "cell_type": "markdown",
      "metadata": {
        "id": "D9s6049USuJO",
        "colab_type": "text"
      },
      "source": [
        "# Naive similarities using raw features\n",
        "\n",
        "Check cosine similarities using the extracted features."
      ]
    },
    {
      "cell_type": "markdown",
      "metadata": {
        "id": "yaqX-h0zULUJ",
        "colab_type": "text"
      },
      "source": [
        "## Binary classification problem using the extracted fesatures"
      ]
    },
    {
      "cell_type": "code",
      "metadata": {
        "id": "5QQj6zjWUQso",
        "colab_type": "code",
        "colab": {}
      },
      "source": [
        "import pandas as pd\n",
        "import numpy as np"
      ],
      "execution_count": 0,
      "outputs": []
    },
    {
      "cell_type": "code",
      "metadata": {
        "id": "Y1ItV0r3jrBp",
        "colab_type": "code",
        "colab": {}
      },
      "source": [
        "citations_info_target = pd.read_pickle(\"./citations_info_3000+3000.df.gz\")\n",
        "test_app = pd.read_pickle(\"./testset_app_3000.df.gz\")\n",
        "grants = pd.read_pickle(\"./grants_for_3000+3000.df.gz\")\n",
        "train_app = pd.read_pickle(\"./training_app_3000.df.gz\")"
      ],
      "execution_count": 0,
      "outputs": []
    },
    {
      "cell_type": "code",
      "metadata": {
        "id": "ovKKABDakF4b",
        "colab_type": "code",
        "colab": {}
      },
      "source": [
        "train_data = pd.merge(train_app, citations_info_target, on='app_id')[[\"app_id\", \"parsed\"]]\n",
        "dev_data = pd.merge(test_app, citations_info_target, on='app_id')[[\"app_id\", \"parsed\"]]"
      ],
      "execution_count": 0,
      "outputs": []
    },
    {
      "cell_type": "code",
      "metadata": {
        "id": "5z_pcua7kGHo",
        "colab_type": "code",
        "colab": {}
      },
      "source": [
        "train_data['label'] = 1\n",
        "dev_data['label'] = 1"
      ],
      "execution_count": 0,
      "outputs": []
    },
    {
      "cell_type": "code",
      "metadata": {
        "id": "4Wlax3ZMmnOO",
        "colab_type": "code",
        "outputId": "807c0bf7-f724-4d89-b181-0c679c48659a",
        "colab": {
          "base_uri": "https://localhost:8080/",
          "height": 202
        }
      },
      "source": [
        "train_data.head()"
      ],
      "execution_count": 11,
      "outputs": [
        {
          "output_type": "execute_result",
          "data": {
            "text/html": [
              "<div>\n",
              "<style scoped>\n",
              "    .dataframe tbody tr th:only-of-type {\n",
              "        vertical-align: middle;\n",
              "    }\n",
              "\n",
              "    .dataframe tbody tr th {\n",
              "        vertical-align: top;\n",
              "    }\n",
              "\n",
              "    .dataframe thead th {\n",
              "        text-align: right;\n",
              "    }\n",
              "</style>\n",
              "<table border=\"1\" class=\"dataframe\">\n",
              "  <thead>\n",
              "    <tr style=\"text-align: right;\">\n",
              "      <th></th>\n",
              "      <th>app_id</th>\n",
              "      <th>parsed</th>\n",
              "      <th>label</th>\n",
              "    </tr>\n",
              "  </thead>\n",
              "  <tbody>\n",
              "    <tr>\n",
              "      <th>0</th>\n",
              "      <td>12130785</td>\n",
              "      <td>7212849</td>\n",
              "      <td>1</td>\n",
              "    </tr>\n",
              "    <tr>\n",
              "      <th>1</th>\n",
              "      <td>12652424</td>\n",
              "      <td>7814459</td>\n",
              "      <td>1</td>\n",
              "    </tr>\n",
              "    <tr>\n",
              "      <th>2</th>\n",
              "      <td>12652424</td>\n",
              "      <td>7814459</td>\n",
              "      <td>1</td>\n",
              "    </tr>\n",
              "    <tr>\n",
              "      <th>3</th>\n",
              "      <td>12214532</td>\n",
              "      <td>7652956</td>\n",
              "      <td>1</td>\n",
              "    </tr>\n",
              "    <tr>\n",
              "      <th>4</th>\n",
              "      <td>14204411</td>\n",
              "      <td>7439432</td>\n",
              "      <td>1</td>\n",
              "    </tr>\n",
              "  </tbody>\n",
              "</table>\n",
              "</div>"
            ],
            "text/plain": [
              "     app_id   parsed  label\n",
              "0  12130785  7212849      1\n",
              "1  12652424  7814459      1\n",
              "2  12652424  7814459      1\n",
              "3  12214532  7652956      1\n",
              "4  14204411  7439432      1"
            ]
          },
          "metadata": {
            "tags": []
          },
          "execution_count": 11
        }
      ]
    },
    {
      "cell_type": "code",
      "metadata": {
        "id": "E5YjkP-imtB0",
        "colab_type": "code",
        "colab": {}
      },
      "source": [
        "def pick_up_uncited_grants(df, app_id, n=1, random_state=23):\n",
        "    '''\n",
        "    Randomly pick up uncited grant pair to a given app_id for generating negative samples.\n",
        "    '''\n",
        "    n_rows = df[ df['app_id'] != app_id ].sample(n=n, random_state=random_state)\n",
        "    \n",
        "    return [n_rows['parsed'].values[0], 0]"
      ],
      "execution_count": 0,
      "outputs": []
    },
    {
      "cell_type": "code",
      "metadata": {
        "id": "7XFw_XoZmuWv",
        "colab_type": "code",
        "outputId": "807eed07-df2c-433d-8420-0b012353fe5c",
        "colab": {
          "base_uri": "https://localhost:8080/",
          "height": 202
        }
      },
      "source": [
        "seed = 23\n",
        "\n",
        "train_non_cited_data = pd.DataFrame([\n",
        "    [app_id] + pick_up_uncited_grants(train_data, app_id, random_state=seed+idx)\n",
        "    for idx, (app_id)\n",
        "    in enumerate(train_data['app_id'])\n",
        "])\n",
        "\n",
        "train_non_cited_data.columns = train_data.columns\n",
        "\n",
        "train_non_cited_data.head()"
      ],
      "execution_count": 13,
      "outputs": [
        {
          "output_type": "execute_result",
          "data": {
            "text/html": [
              "<div>\n",
              "<style scoped>\n",
              "    .dataframe tbody tr th:only-of-type {\n",
              "        vertical-align: middle;\n",
              "    }\n",
              "\n",
              "    .dataframe tbody tr th {\n",
              "        vertical-align: top;\n",
              "    }\n",
              "\n",
              "    .dataframe thead th {\n",
              "        text-align: right;\n",
              "    }\n",
              "</style>\n",
              "<table border=\"1\" class=\"dataframe\">\n",
              "  <thead>\n",
              "    <tr style=\"text-align: right;\">\n",
              "      <th></th>\n",
              "      <th>app_id</th>\n",
              "      <th>parsed</th>\n",
              "      <th>label</th>\n",
              "    </tr>\n",
              "  </thead>\n",
              "  <tbody>\n",
              "    <tr>\n",
              "      <th>0</th>\n",
              "      <td>12130785</td>\n",
              "      <td>7848141</td>\n",
              "      <td>0</td>\n",
              "    </tr>\n",
              "    <tr>\n",
              "      <th>1</th>\n",
              "      <td>12652424</td>\n",
              "      <td>7992009</td>\n",
              "      <td>0</td>\n",
              "    </tr>\n",
              "    <tr>\n",
              "      <th>2</th>\n",
              "      <td>12652424</td>\n",
              "      <td>7896548</td>\n",
              "      <td>0</td>\n",
              "    </tr>\n",
              "    <tr>\n",
              "      <th>3</th>\n",
              "      <td>12214532</td>\n",
              "      <td>7236946</td>\n",
              "      <td>0</td>\n",
              "    </tr>\n",
              "    <tr>\n",
              "      <th>4</th>\n",
              "      <td>14204411</td>\n",
              "      <td>6910200</td>\n",
              "      <td>0</td>\n",
              "    </tr>\n",
              "  </tbody>\n",
              "</table>\n",
              "</div>"
            ],
            "text/plain": [
              "     app_id   parsed  label\n",
              "0  12130785  7848141      0\n",
              "1  12652424  7992009      0\n",
              "2  12652424  7896548      0\n",
              "3  12214532  7236946      0\n",
              "4  14204411  6910200      0"
            ]
          },
          "metadata": {
            "tags": []
          },
          "execution_count": 13
        }
      ]
    },
    {
      "cell_type": "code",
      "metadata": {
        "id": "pPzUNS7Om6N5",
        "colab_type": "code",
        "outputId": "eeeee32c-7839-4aed-aa1e-194a9719341c",
        "colab": {
          "base_uri": "https://localhost:8080/",
          "height": 202
        }
      },
      "source": [
        "seed = 23\n",
        "\n",
        "dev_non_cited_data = pd.DataFrame([\n",
        "    [app_id] + pick_up_uncited_grants(dev_data, app_id, random_state=seed+idx)\n",
        "    for idx, (app_id)\n",
        "    in enumerate(dev_data['app_id'])\n",
        "])\n",
        "\n",
        "dev_non_cited_data.columns = dev_data.columns\n",
        "\n",
        "dev_non_cited_data.head()"
      ],
      "execution_count": 14,
      "outputs": [
        {
          "output_type": "execute_result",
          "data": {
            "text/html": [
              "<div>\n",
              "<style scoped>\n",
              "    .dataframe tbody tr th:only-of-type {\n",
              "        vertical-align: middle;\n",
              "    }\n",
              "\n",
              "    .dataframe tbody tr th {\n",
              "        vertical-align: top;\n",
              "    }\n",
              "\n",
              "    .dataframe thead th {\n",
              "        text-align: right;\n",
              "    }\n",
              "</style>\n",
              "<table border=\"1\" class=\"dataframe\">\n",
              "  <thead>\n",
              "    <tr style=\"text-align: right;\">\n",
              "      <th></th>\n",
              "      <th>app_id</th>\n",
              "      <th>parsed</th>\n",
              "      <th>label</th>\n",
              "    </tr>\n",
              "  </thead>\n",
              "  <tbody>\n",
              "    <tr>\n",
              "      <th>0</th>\n",
              "      <td>12211548</td>\n",
              "      <td>7264313</td>\n",
              "      <td>0</td>\n",
              "    </tr>\n",
              "    <tr>\n",
              "      <th>1</th>\n",
              "      <td>12765236</td>\n",
              "      <td>7294763</td>\n",
              "      <td>0</td>\n",
              "    </tr>\n",
              "    <tr>\n",
              "      <th>2</th>\n",
              "      <td>12827269</td>\n",
              "      <td>7559338</td>\n",
              "      <td>0</td>\n",
              "    </tr>\n",
              "    <tr>\n",
              "      <th>3</th>\n",
              "      <td>14436491</td>\n",
              "      <td>8012217</td>\n",
              "      <td>0</td>\n",
              "    </tr>\n",
              "    <tr>\n",
              "      <th>4</th>\n",
              "      <td>13633425</td>\n",
              "      <td>8305811</td>\n",
              "      <td>0</td>\n",
              "    </tr>\n",
              "  </tbody>\n",
              "</table>\n",
              "</div>"
            ],
            "text/plain": [
              "     app_id   parsed  label\n",
              "0  12211548  7264313      0\n",
              "1  12765236  7294763      0\n",
              "2  12827269  7559338      0\n",
              "3  14436491  8012217      0\n",
              "4  13633425  8305811      0"
            ]
          },
          "metadata": {
            "tags": []
          },
          "execution_count": 14
        }
      ]
    },
    {
      "cell_type": "code",
      "metadata": {
        "id": "NhD99UTjm9Kq",
        "colab_type": "code",
        "outputId": "99ccce22-129b-43ef-f79f-b74b0803b6be",
        "colab": {
          "base_uri": "https://localhost:8080/",
          "height": 202
        }
      },
      "source": [
        "train_data = pd.concat([train_data, train_non_cited_data]).reset_index(drop=True)\n",
        "dev_data = pd.concat([dev_data, dev_non_cited_data]).reset_index(drop=True)\n",
        "\n",
        "train_data = train_data.sample(frac=1, random_state=seed).reset_index(drop=True)\n",
        "dev_data = dev_data.sample(frac=1, random_state=seed).reset_index(drop=True)\n",
        "\n",
        "train_data.head()"
      ],
      "execution_count": 15,
      "outputs": [
        {
          "output_type": "execute_result",
          "data": {
            "text/html": [
              "<div>\n",
              "<style scoped>\n",
              "    .dataframe tbody tr th:only-of-type {\n",
              "        vertical-align: middle;\n",
              "    }\n",
              "\n",
              "    .dataframe tbody tr th {\n",
              "        vertical-align: top;\n",
              "    }\n",
              "\n",
              "    .dataframe thead th {\n",
              "        text-align: right;\n",
              "    }\n",
              "</style>\n",
              "<table border=\"1\" class=\"dataframe\">\n",
              "  <thead>\n",
              "    <tr style=\"text-align: right;\">\n",
              "      <th></th>\n",
              "      <th>app_id</th>\n",
              "      <th>parsed</th>\n",
              "      <th>label</th>\n",
              "    </tr>\n",
              "  </thead>\n",
              "  <tbody>\n",
              "    <tr>\n",
              "      <th>0</th>\n",
              "      <td>12000676</td>\n",
              "      <td>7751044</td>\n",
              "      <td>0</td>\n",
              "    </tr>\n",
              "    <tr>\n",
              "      <th>1</th>\n",
              "      <td>12507166</td>\n",
              "      <td>7519470</td>\n",
              "      <td>1</td>\n",
              "    </tr>\n",
              "    <tr>\n",
              "      <th>2</th>\n",
              "      <td>12852271</td>\n",
              "      <td>6963389</td>\n",
              "      <td>0</td>\n",
              "    </tr>\n",
              "    <tr>\n",
              "      <th>3</th>\n",
              "      <td>12871308</td>\n",
              "      <td>7917688</td>\n",
              "      <td>1</td>\n",
              "    </tr>\n",
              "    <tr>\n",
              "      <th>4</th>\n",
              "      <td>13796666</td>\n",
              "      <td>7111455</td>\n",
              "      <td>1</td>\n",
              "    </tr>\n",
              "  </tbody>\n",
              "</table>\n",
              "</div>"
            ],
            "text/plain": [
              "     app_id   parsed  label\n",
              "0  12000676  7751044      0\n",
              "1  12507166  7519470      1\n",
              "2  12852271  6963389      0\n",
              "3  12871308  7917688      1\n",
              "4  13796666  7111455      1"
            ]
          },
          "metadata": {
            "tags": []
          },
          "execution_count": 15
        }
      ]
    },
    {
      "cell_type": "code",
      "metadata": {
        "id": "XS8FrTlokGOq",
        "colab_type": "code",
        "colab": {}
      },
      "source": [
        "def _read_feature(target_dict, model):\n",
        "  train_fpath, test_fpath, grant_fpath = target_dict[model]\n",
        "  train_app_f = pd.read_pickle(f\"./{train_fpath}.pkl.gz\")\n",
        "  test_app_f = pd.read_pickle(f\"./{test_fpath}.pkl.gz\")\n",
        "  grant_f = pd.read_pickle(f\"./{grant_fpath}.pkl.gz\")\n",
        "  \n",
        "  assert 3000 == train_app_f.shape[0]\n",
        "  assert 3000 == test_app_f.shape[0]\n",
        "  assert 6440 == grant_f.shape[0]\n",
        "  \n",
        "  return train_app_f, test_app_f, grant_f"
      ],
      "execution_count": 0,
      "outputs": []
    },
    {
      "cell_type": "code",
      "metadata": {
        "id": "ynRfElual9pR",
        "colab_type": "code",
        "colab": {}
      },
      "source": [
        "def _prepare_feature_for_labeled_data(target_dict, model):\n",
        "  train_app_f, test_app_f, grant_f = _read_feature(target_dict, model)\n",
        "  \n",
        "  train_feature = np.empty((len(train_data), train_app_f.shape[1] + grant_f.shape[1]))\n",
        "  test_feature = np.empty((len(dev_data), test_app_f.shape[1] + grant_f.shape[1]))\n",
        "  \n",
        "  for i in range(len(train_data)):\n",
        "    app_id = train_data[\"app_id\"][i]\n",
        "    idx_app = train_app[train_app[\"app_id\"] == app_id ].index.values[0]\n",
        "\n",
        "    parsed = train_data[\"parsed\"][i]\n",
        "    idx_grant = grants[grants[\"parsed\"] == parsed].index.values[0]\n",
        "\n",
        "    f = np.concatenate([train_app_f[idx_app], grant_f[idx_grant]])\n",
        "    train_feature[i] = f\n",
        "\n",
        "  for i in range(len(dev_data)):\n",
        "    app_id = dev_data[\"app_id\"][i]\n",
        "    idx_app = test_app[test_app[\"app_id\"] == app_id ].index.values[0]\n",
        "\n",
        "    parsed = dev_data[\"parsed\"][i]\n",
        "    idx_grant = grants[grants[\"parsed\"] == parsed].index.values[0]\n",
        "\n",
        "    f = np.concatenate([test_app_f[idx_app], grant_f[idx_grant]])\n",
        "    test_feature[i] = f\n",
        "\n",
        "  train_label = np.array(train_data[\"label\"].values.tolist())\n",
        "  test_label = np.array(dev_data[\"label\"].values.tolist())\n",
        "    \n",
        "  return train_feature, train_label, test_feature, test_label"
      ],
      "execution_count": 0,
      "outputs": []
    },
    {
      "cell_type": "markdown",
      "metadata": {
        "id": "ylaY-OFIvZPG",
        "colab_type": "text"
      },
      "source": [
        "### Classification with lightgbm"
      ]
    },
    {
      "cell_type": "code",
      "metadata": {
        "id": "2ntA2UCMvPYX",
        "colab_type": "code",
        "colab": {}
      },
      "source": [
        "import lightgbm as lgb\n",
        "\n",
        "params = {\n",
        "    'boosting_type': 'gbdt',\n",
        "    'objective': 'binary',\n",
        "    'metric': 'binary_logloss',\n",
        "    'num_leaves': 250,\n",
        "    'learning_rate': 0.05,\n",
        "    'feature_fraction': 0.8,\n",
        "    'bagging_fraction': 0.8,\n",
        "    'bagging_freq': 5,\n",
        "    'min_child_weight': 2,\n",
        "    'gamma': 0.2,\n",
        "    'verbose': -1,\n",
        "    'verbose_eval' : -1\n",
        "}"
      ],
      "execution_count": 0,
      "outputs": []
    },
    {
      "cell_type": "code",
      "metadata": {
        "id": "OO81toWRvveu",
        "colab_type": "code",
        "colab": {}
      },
      "source": [
        "def exp(target_dict, model):\n",
        "  train_x, train_y, test_x, test_y = _prepare_feature_for_labeled_data(target_dict, model)\n",
        "  lgb_train = lgb.Dataset(train_x[:2500], train_y[:2500])\n",
        "  lgb_valid = lgb.Dataset(train_x[2500:], train_y[2500:])\n",
        "\n",
        "  # Train a model.\n",
        "  gbm = lgb.train(params,\n",
        "                lgb_train,\n",
        "                num_boost_round=200,\n",
        "                early_stopping_rounds=10,\n",
        "                valid_sets=lgb_valid)\n",
        "  \n",
        "  def _compute_acc(x, y):\n",
        "    predict_prob = gbm.predict(x)\n",
        "    predict_label = [ 1 if elem >= 0.5 else 0 for elem in predict_prob]\n",
        "    acc = sum( np.array(predict_label) == np.array(y) ) / len(predict_label)\n",
        "    return acc\n",
        "  \n",
        "  return _compute_acc(train_x, train_y), _compute_acc(test_x, test_y)"
      ],
      "execution_count": 0,
      "outputs": []
    },
    {
      "cell_type": "code",
      "metadata": {
        "id": "KaSkiXnvvPh6",
        "colab_type": "code",
        "outputId": "efbb116f-6b02-4ad0-d104-9c1b1c430556",
        "colab": {
          "base_uri": "https://localhost:8080/",
          "height": 1000
        }
      },
      "source": [
        "%%time\n",
        "\n",
        "result = []\n",
        "\n",
        "for model in target_features_dict.keys():\n",
        "  print(f\"Training a model using {model} features...\")\n",
        "  result.append([model, exp(target_features_dict, model)])"
      ],
      "execution_count": 20,
      "outputs": [
        {
          "output_type": "stream",
          "text": [
            "Training a model using BERT-2ndlastmean features...\n",
            "[1]\tvalid_0's binary_logloss: 0.68757\n",
            "Training until validation scores don't improve for 10 rounds.\n",
            "[2]\tvalid_0's binary_logloss: 0.682729\n",
            "[3]\tvalid_0's binary_logloss: 0.678494\n",
            "[4]\tvalid_0's binary_logloss: 0.674794\n",
            "[5]\tvalid_0's binary_logloss: 0.672128\n",
            "[6]\tvalid_0's binary_logloss: 0.668143\n",
            "[7]\tvalid_0's binary_logloss: 0.664852\n",
            "[8]\tvalid_0's binary_logloss: 0.661208\n",
            "[9]\tvalid_0's binary_logloss: 0.658923\n",
            "[10]\tvalid_0's binary_logloss: 0.657306\n",
            "[11]\tvalid_0's binary_logloss: 0.651258\n",
            "[12]\tvalid_0's binary_logloss: 0.647629\n",
            "[13]\tvalid_0's binary_logloss: 0.644056\n",
            "[14]\tvalid_0's binary_logloss: 0.639583\n",
            "[15]\tvalid_0's binary_logloss: 0.63665\n",
            "[16]\tvalid_0's binary_logloss: 0.633283\n",
            "[17]\tvalid_0's binary_logloss: 0.628616\n",
            "[18]\tvalid_0's binary_logloss: 0.627018\n",
            "[19]\tvalid_0's binary_logloss: 0.624624\n",
            "[20]\tvalid_0's binary_logloss: 0.622346\n",
            "[21]\tvalid_0's binary_logloss: 0.61838\n",
            "[22]\tvalid_0's binary_logloss: 0.616526\n",
            "[23]\tvalid_0's binary_logloss: 0.614473\n",
            "[24]\tvalid_0's binary_logloss: 0.610467\n",
            "[25]\tvalid_0's binary_logloss: 0.609283\n",
            "[26]\tvalid_0's binary_logloss: 0.606956\n",
            "[27]\tvalid_0's binary_logloss: 0.604185\n",
            "[28]\tvalid_0's binary_logloss: 0.601865\n",
            "[29]\tvalid_0's binary_logloss: 0.598969\n",
            "[30]\tvalid_0's binary_logloss: 0.59785\n",
            "[31]\tvalid_0's binary_logloss: 0.596069\n",
            "[32]\tvalid_0's binary_logloss: 0.594672\n",
            "[33]\tvalid_0's binary_logloss: 0.590727\n",
            "[34]\tvalid_0's binary_logloss: 0.589162\n",
            "[35]\tvalid_0's binary_logloss: 0.587768\n",
            "[36]\tvalid_0's binary_logloss: 0.585222\n",
            "[37]\tvalid_0's binary_logloss: 0.583002\n",
            "[38]\tvalid_0's binary_logloss: 0.58154\n",
            "[39]\tvalid_0's binary_logloss: 0.580471\n",
            "[40]\tvalid_0's binary_logloss: 0.579012\n",
            "[41]\tvalid_0's binary_logloss: 0.578066\n",
            "[42]\tvalid_0's binary_logloss: 0.576913\n",
            "[43]\tvalid_0's binary_logloss: 0.575859\n",
            "[44]\tvalid_0's binary_logloss: 0.573553\n",
            "[45]\tvalid_0's binary_logloss: 0.573178\n",
            "[46]\tvalid_0's binary_logloss: 0.572277\n",
            "[47]\tvalid_0's binary_logloss: 0.571228\n",
            "[48]\tvalid_0's binary_logloss: 0.570504\n",
            "[49]\tvalid_0's binary_logloss: 0.569666\n",
            "[50]\tvalid_0's binary_logloss: 0.568796\n",
            "[51]\tvalid_0's binary_logloss: 0.566761\n",
            "[52]\tvalid_0's binary_logloss: 0.565176\n",
            "[53]\tvalid_0's binary_logloss: 0.563657\n",
            "[54]\tvalid_0's binary_logloss: 0.561331\n",
            "[55]\tvalid_0's binary_logloss: 0.560565\n",
            "[56]\tvalid_0's binary_logloss: 0.559274\n",
            "[57]\tvalid_0's binary_logloss: 0.557742\n",
            "[58]\tvalid_0's binary_logloss: 0.557287\n",
            "[59]\tvalid_0's binary_logloss: 0.556602\n",
            "[60]\tvalid_0's binary_logloss: 0.555455\n",
            "[61]\tvalid_0's binary_logloss: 0.55462\n",
            "[62]\tvalid_0's binary_logloss: 0.553491\n",
            "[63]\tvalid_0's binary_logloss: 0.552598\n",
            "[64]\tvalid_0's binary_logloss: 0.551595\n",
            "[65]\tvalid_0's binary_logloss: 0.550108\n",
            "[66]\tvalid_0's binary_logloss: 0.549476\n",
            "[67]\tvalid_0's binary_logloss: 0.549535\n",
            "[68]\tvalid_0's binary_logloss: 0.549196\n",
            "[69]\tvalid_0's binary_logloss: 0.549055\n",
            "[70]\tvalid_0's binary_logloss: 0.548268\n",
            "[71]\tvalid_0's binary_logloss: 0.547411\n",
            "[72]\tvalid_0's binary_logloss: 0.546596\n",
            "[73]\tvalid_0's binary_logloss: 0.546538\n",
            "[74]\tvalid_0's binary_logloss: 0.546175\n",
            "[75]\tvalid_0's binary_logloss: 0.54573\n",
            "[76]\tvalid_0's binary_logloss: 0.545457\n",
            "[77]\tvalid_0's binary_logloss: 0.544837\n",
            "[78]\tvalid_0's binary_logloss: 0.54454\n",
            "[79]\tvalid_0's binary_logloss: 0.54448\n",
            "[80]\tvalid_0's binary_logloss: 0.54341\n",
            "[81]\tvalid_0's binary_logloss: 0.543305\n",
            "[82]\tvalid_0's binary_logloss: 0.543071\n",
            "[83]\tvalid_0's binary_logloss: 0.542882\n",
            "[84]\tvalid_0's binary_logloss: 0.542266\n",
            "[85]\tvalid_0's binary_logloss: 0.542134\n",
            "[86]\tvalid_0's binary_logloss: 0.541808\n",
            "[87]\tvalid_0's binary_logloss: 0.541518\n",
            "[88]\tvalid_0's binary_logloss: 0.540975\n",
            "[89]\tvalid_0's binary_logloss: 0.539823\n",
            "[90]\tvalid_0's binary_logloss: 0.539623\n",
            "[91]\tvalid_0's binary_logloss: 0.539141\n",
            "[92]\tvalid_0's binary_logloss: 0.538524\n",
            "[93]\tvalid_0's binary_logloss: 0.537849\n",
            "[94]\tvalid_0's binary_logloss: 0.537316\n",
            "[95]\tvalid_0's binary_logloss: 0.5372\n",
            "[96]\tvalid_0's binary_logloss: 0.536436\n",
            "[97]\tvalid_0's binary_logloss: 0.53539\n",
            "[98]\tvalid_0's binary_logloss: 0.535131\n",
            "[99]\tvalid_0's binary_logloss: 0.534851\n",
            "[100]\tvalid_0's binary_logloss: 0.534978\n",
            "[101]\tvalid_0's binary_logloss: 0.534623\n",
            "[102]\tvalid_0's binary_logloss: 0.534794\n",
            "[103]\tvalid_0's binary_logloss: 0.534231\n",
            "[104]\tvalid_0's binary_logloss: 0.534145\n",
            "[105]\tvalid_0's binary_logloss: 0.533889\n",
            "[106]\tvalid_0's binary_logloss: 0.533493\n",
            "[107]\tvalid_0's binary_logloss: 0.532745\n",
            "[108]\tvalid_0's binary_logloss: 0.531871\n",
            "[109]\tvalid_0's binary_logloss: 0.531935\n",
            "[110]\tvalid_0's binary_logloss: 0.531619\n",
            "[111]\tvalid_0's binary_logloss: 0.531074\n",
            "[112]\tvalid_0's binary_logloss: 0.531158\n",
            "[113]\tvalid_0's binary_logloss: 0.530698\n",
            "[114]\tvalid_0's binary_logloss: 0.530152\n",
            "[115]\tvalid_0's binary_logloss: 0.530157\n",
            "[116]\tvalid_0's binary_logloss: 0.530109\n",
            "[117]\tvalid_0's binary_logloss: 0.530197\n",
            "[118]\tvalid_0's binary_logloss: 0.529923\n",
            "[119]\tvalid_0's binary_logloss: 0.530231\n",
            "[120]\tvalid_0's binary_logloss: 0.530067\n",
            "[121]\tvalid_0's binary_logloss: 0.530096\n",
            "[122]\tvalid_0's binary_logloss: 0.529731\n",
            "[123]\tvalid_0's binary_logloss: 0.529548\n",
            "[124]\tvalid_0's binary_logloss: 0.529463\n",
            "[125]\tvalid_0's binary_logloss: 0.528988\n",
            "[126]\tvalid_0's binary_logloss: 0.528878\n",
            "[127]\tvalid_0's binary_logloss: 0.529261\n",
            "[128]\tvalid_0's binary_logloss: 0.529777\n",
            "[129]\tvalid_0's binary_logloss: 0.529993\n",
            "[130]\tvalid_0's binary_logloss: 0.529813\n",
            "[131]\tvalid_0's binary_logloss: 0.529726\n",
            "[132]\tvalid_0's binary_logloss: 0.529461\n",
            "[133]\tvalid_0's binary_logloss: 0.528828\n",
            "[134]\tvalid_0's binary_logloss: 0.528908\n",
            "[135]\tvalid_0's binary_logloss: 0.528661\n",
            "[136]\tvalid_0's binary_logloss: 0.528528\n",
            "[137]\tvalid_0's binary_logloss: 0.528552\n",
            "[138]\tvalid_0's binary_logloss: 0.528566\n",
            "[139]\tvalid_0's binary_logloss: 0.527791\n",
            "[140]\tvalid_0's binary_logloss: 0.527466\n",
            "[141]\tvalid_0's binary_logloss: 0.527561\n",
            "[142]\tvalid_0's binary_logloss: 0.527919\n",
            "[143]\tvalid_0's binary_logloss: 0.527589\n",
            "[144]\tvalid_0's binary_logloss: 0.527811\n",
            "[145]\tvalid_0's binary_logloss: 0.527734\n",
            "[146]\tvalid_0's binary_logloss: 0.527734\n",
            "[147]\tvalid_0's binary_logloss: 0.527631\n",
            "[148]\tvalid_0's binary_logloss: 0.527579\n",
            "[149]\tvalid_0's binary_logloss: 0.527309\n",
            "[150]\tvalid_0's binary_logloss: 0.527563\n",
            "[151]\tvalid_0's binary_logloss: 0.527323\n",
            "[152]\tvalid_0's binary_logloss: 0.527045\n",
            "[153]\tvalid_0's binary_logloss: 0.527224\n",
            "[154]\tvalid_0's binary_logloss: 0.527197\n",
            "[155]\tvalid_0's binary_logloss: 0.527338\n",
            "[156]\tvalid_0's binary_logloss: 0.52697\n",
            "[157]\tvalid_0's binary_logloss: 0.52671\n",
            "[158]\tvalid_0's binary_logloss: 0.526223\n",
            "[159]\tvalid_0's binary_logloss: 0.525997\n",
            "[160]\tvalid_0's binary_logloss: 0.52598\n",
            "[161]\tvalid_0's binary_logloss: 0.525919\n",
            "[162]\tvalid_0's binary_logloss: 0.52564\n",
            "[163]\tvalid_0's binary_logloss: 0.52568\n",
            "[164]\tvalid_0's binary_logloss: 0.525107\n",
            "[165]\tvalid_0's binary_logloss: 0.525157\n",
            "[166]\tvalid_0's binary_logloss: 0.525183\n",
            "[167]\tvalid_0's binary_logloss: 0.524992\n",
            "[168]\tvalid_0's binary_logloss: 0.524306\n",
            "[169]\tvalid_0's binary_logloss: 0.52419\n",
            "[170]\tvalid_0's binary_logloss: 0.523548\n",
            "[171]\tvalid_0's binary_logloss: 0.523216\n",
            "[172]\tvalid_0's binary_logloss: 0.523101\n",
            "[173]\tvalid_0's binary_logloss: 0.52314\n",
            "[174]\tvalid_0's binary_logloss: 0.52286\n",
            "[175]\tvalid_0's binary_logloss: 0.522699\n",
            "[176]\tvalid_0's binary_logloss: 0.523022\n",
            "[177]\tvalid_0's binary_logloss: 0.522745\n",
            "[178]\tvalid_0's binary_logloss: 0.522859\n",
            "[179]\tvalid_0's binary_logloss: 0.522479\n",
            "[180]\tvalid_0's binary_logloss: 0.522131\n",
            "[181]\tvalid_0's binary_logloss: 0.522251\n",
            "[182]\tvalid_0's binary_logloss: 0.522377\n",
            "[183]\tvalid_0's binary_logloss: 0.522312\n",
            "[184]\tvalid_0's binary_logloss: 0.522398\n",
            "[185]\tvalid_0's binary_logloss: 0.522172\n",
            "[186]\tvalid_0's binary_logloss: 0.521798\n",
            "[187]\tvalid_0's binary_logloss: 0.521662\n",
            "[188]\tvalid_0's binary_logloss: 0.521445\n",
            "[189]\tvalid_0's binary_logloss: 0.520993\n",
            "[190]\tvalid_0's binary_logloss: 0.520952\n",
            "[191]\tvalid_0's binary_logloss: 0.520732\n",
            "[192]\tvalid_0's binary_logloss: 0.520828\n",
            "[193]\tvalid_0's binary_logloss: 0.52042\n",
            "[194]\tvalid_0's binary_logloss: 0.520418\n",
            "[195]\tvalid_0's binary_logloss: 0.520372\n",
            "[196]\tvalid_0's binary_logloss: 0.520083\n",
            "[197]\tvalid_0's binary_logloss: 0.520245\n",
            "[198]\tvalid_0's binary_logloss: 0.520232\n",
            "[199]\tvalid_0's binary_logloss: 0.520093\n",
            "[200]\tvalid_0's binary_logloss: 0.520166\n",
            "Did not meet early stopping. Best iteration is:\n",
            "[196]\tvalid_0's binary_logloss: 0.520083\n",
            "Training a model using BERT-pretrained-2ndlastmean features...\n",
            "[1]\tvalid_0's binary_logloss: 0.690978\n",
            "Training until validation scores don't improve for 10 rounds.\n",
            "[2]\tvalid_0's binary_logloss: 0.687557\n",
            "[3]\tvalid_0's binary_logloss: 0.685026\n",
            "[4]\tvalid_0's binary_logloss: 0.683121\n",
            "[5]\tvalid_0's binary_logloss: 0.680753\n",
            "[6]\tvalid_0's binary_logloss: 0.677164\n",
            "[7]\tvalid_0's binary_logloss: 0.674235\n",
            "[8]\tvalid_0's binary_logloss: 0.67103\n",
            "[9]\tvalid_0's binary_logloss: 0.669331\n",
            "[10]\tvalid_0's binary_logloss: 0.667197\n",
            "[11]\tvalid_0's binary_logloss: 0.665187\n",
            "[12]\tvalid_0's binary_logloss: 0.663568\n",
            "[13]\tvalid_0's binary_logloss: 0.661883\n",
            "[14]\tvalid_0's binary_logloss: 0.660241\n",
            "[15]\tvalid_0's binary_logloss: 0.659456\n",
            "[16]\tvalid_0's binary_logloss: 0.65783\n",
            "[17]\tvalid_0's binary_logloss: 0.657838\n",
            "[18]\tvalid_0's binary_logloss: 0.656476\n",
            "[19]\tvalid_0's binary_logloss: 0.655078\n",
            "[20]\tvalid_0's binary_logloss: 0.653642\n",
            "[21]\tvalid_0's binary_logloss: 0.652649\n",
            "[22]\tvalid_0's binary_logloss: 0.651687\n",
            "[23]\tvalid_0's binary_logloss: 0.651287\n",
            "[24]\tvalid_0's binary_logloss: 0.650176\n",
            "[25]\tvalid_0's binary_logloss: 0.649605\n",
            "[26]\tvalid_0's binary_logloss: 0.647616\n",
            "[27]\tvalid_0's binary_logloss: 0.645633\n",
            "[28]\tvalid_0's binary_logloss: 0.644134\n",
            "[29]\tvalid_0's binary_logloss: 0.642745\n",
            "[30]\tvalid_0's binary_logloss: 0.64173\n",
            "[31]\tvalid_0's binary_logloss: 0.640757\n",
            "[32]\tvalid_0's binary_logloss: 0.639538\n",
            "[33]\tvalid_0's binary_logloss: 0.638582\n",
            "[34]\tvalid_0's binary_logloss: 0.637697\n",
            "[35]\tvalid_0's binary_logloss: 0.635851\n",
            "[36]\tvalid_0's binary_logloss: 0.635453\n",
            "[37]\tvalid_0's binary_logloss: 0.63384\n",
            "[38]\tvalid_0's binary_logloss: 0.633039\n",
            "[39]\tvalid_0's binary_logloss: 0.63343\n",
            "[40]\tvalid_0's binary_logloss: 0.63294\n",
            "[41]\tvalid_0's binary_logloss: 0.631955\n",
            "[42]\tvalid_0's binary_logloss: 0.63103\n",
            "[43]\tvalid_0's binary_logloss: 0.630472\n",
            "[44]\tvalid_0's binary_logloss: 0.629984\n",
            "[45]\tvalid_0's binary_logloss: 0.630125\n",
            "[46]\tvalid_0's binary_logloss: 0.629369\n",
            "[47]\tvalid_0's binary_logloss: 0.62844\n",
            "[48]\tvalid_0's binary_logloss: 0.62754\n",
            "[49]\tvalid_0's binary_logloss: 0.626701\n",
            "[50]\tvalid_0's binary_logloss: 0.625515\n",
            "[51]\tvalid_0's binary_logloss: 0.624632\n",
            "[52]\tvalid_0's binary_logloss: 0.624593\n",
            "[53]\tvalid_0's binary_logloss: 0.623896\n",
            "[54]\tvalid_0's binary_logloss: 0.623239\n",
            "[55]\tvalid_0's binary_logloss: 0.62302\n",
            "[56]\tvalid_0's binary_logloss: 0.622237\n",
            "[57]\tvalid_0's binary_logloss: 0.622195\n",
            "[58]\tvalid_0's binary_logloss: 0.620861\n",
            "[59]\tvalid_0's binary_logloss: 0.619499\n",
            "[60]\tvalid_0's binary_logloss: 0.618981\n",
            "[61]\tvalid_0's binary_logloss: 0.618623\n",
            "[62]\tvalid_0's binary_logloss: 0.618102\n",
            "[63]\tvalid_0's binary_logloss: 0.617196\n",
            "[64]\tvalid_0's binary_logloss: 0.616697\n",
            "[65]\tvalid_0's binary_logloss: 0.615946\n",
            "[66]\tvalid_0's binary_logloss: 0.615252\n",
            "[67]\tvalid_0's binary_logloss: 0.61534\n",
            "[68]\tvalid_0's binary_logloss: 0.614701\n",
            "[69]\tvalid_0's binary_logloss: 0.614532\n",
            "[70]\tvalid_0's binary_logloss: 0.614638\n",
            "[71]\tvalid_0's binary_logloss: 0.613724\n",
            "[72]\tvalid_0's binary_logloss: 0.612983\n",
            "[73]\tvalid_0's binary_logloss: 0.612094\n",
            "[74]\tvalid_0's binary_logloss: 0.6119\n",
            "[75]\tvalid_0's binary_logloss: 0.611122\n",
            "[76]\tvalid_0's binary_logloss: 0.610564\n",
            "[77]\tvalid_0's binary_logloss: 0.610306\n",
            "[78]\tvalid_0's binary_logloss: 0.610682\n",
            "[79]\tvalid_0's binary_logloss: 0.61052\n",
            "[80]\tvalid_0's binary_logloss: 0.610215\n",
            "[81]\tvalid_0's binary_logloss: 0.60898\n",
            "[82]\tvalid_0's binary_logloss: 0.60874\n",
            "[83]\tvalid_0's binary_logloss: 0.607832\n",
            "[84]\tvalid_0's binary_logloss: 0.607253\n",
            "[85]\tvalid_0's binary_logloss: 0.606842\n",
            "[86]\tvalid_0's binary_logloss: 0.606928\n",
            "[87]\tvalid_0's binary_logloss: 0.606504\n",
            "[88]\tvalid_0's binary_logloss: 0.6062\n",
            "[89]\tvalid_0's binary_logloss: 0.606015\n",
            "[90]\tvalid_0's binary_logloss: 0.605614\n",
            "[91]\tvalid_0's binary_logloss: 0.60536\n",
            "[92]\tvalid_0's binary_logloss: 0.605282\n",
            "[93]\tvalid_0's binary_logloss: 0.604818\n",
            "[94]\tvalid_0's binary_logloss: 0.604699\n",
            "[95]\tvalid_0's binary_logloss: 0.604825\n",
            "[96]\tvalid_0's binary_logloss: 0.604805\n",
            "[97]\tvalid_0's binary_logloss: 0.604068\n",
            "[98]\tvalid_0's binary_logloss: 0.604202\n",
            "[99]\tvalid_0's binary_logloss: 0.603743\n",
            "[100]\tvalid_0's binary_logloss: 0.603402\n",
            "[101]\tvalid_0's binary_logloss: 0.603252\n",
            "[102]\tvalid_0's binary_logloss: 0.60297\n",
            "[103]\tvalid_0's binary_logloss: 0.602511\n",
            "[104]\tvalid_0's binary_logloss: 0.602544\n",
            "[105]\tvalid_0's binary_logloss: 0.602746\n",
            "[106]\tvalid_0's binary_logloss: 0.602969\n",
            "[107]\tvalid_0's binary_logloss: 0.603134\n",
            "[108]\tvalid_0's binary_logloss: 0.603171\n",
            "[109]\tvalid_0's binary_logloss: 0.603125\n",
            "[110]\tvalid_0's binary_logloss: 0.603138\n",
            "[111]\tvalid_0's binary_logloss: 0.602449\n",
            "[112]\tvalid_0's binary_logloss: 0.601948\n",
            "[113]\tvalid_0's binary_logloss: 0.601343\n",
            "[114]\tvalid_0's binary_logloss: 0.600516\n",
            "[115]\tvalid_0's binary_logloss: 0.600207\n",
            "[116]\tvalid_0's binary_logloss: 0.600135\n",
            "[117]\tvalid_0's binary_logloss: 0.600376\n",
            "[118]\tvalid_0's binary_logloss: 0.600028\n",
            "[119]\tvalid_0's binary_logloss: 0.600299\n",
            "[120]\tvalid_0's binary_logloss: 0.599964\n",
            "[121]\tvalid_0's binary_logloss: 0.599544\n",
            "[122]\tvalid_0's binary_logloss: 0.599433\n",
            "[123]\tvalid_0's binary_logloss: 0.599564\n",
            "[124]\tvalid_0's binary_logloss: 0.599352\n",
            "[125]\tvalid_0's binary_logloss: 0.59898\n",
            "[126]\tvalid_0's binary_logloss: 0.598858\n",
            "[127]\tvalid_0's binary_logloss: 0.59866\n",
            "[128]\tvalid_0's binary_logloss: 0.598819\n",
            "[129]\tvalid_0's binary_logloss: 0.598908\n",
            "[130]\tvalid_0's binary_logloss: 0.598721\n",
            "[131]\tvalid_0's binary_logloss: 0.598812\n",
            "[132]\tvalid_0's binary_logloss: 0.597943\n",
            "[133]\tvalid_0's binary_logloss: 0.597692\n",
            "[134]\tvalid_0's binary_logloss: 0.597707\n",
            "[135]\tvalid_0's binary_logloss: 0.597347\n",
            "[136]\tvalid_0's binary_logloss: 0.596622\n",
            "[137]\tvalid_0's binary_logloss: 0.596816\n",
            "[138]\tvalid_0's binary_logloss: 0.596703\n",
            "[139]\tvalid_0's binary_logloss: 0.596715\n",
            "[140]\tvalid_0's binary_logloss: 0.596744\n",
            "[141]\tvalid_0's binary_logloss: 0.596824\n",
            "[142]\tvalid_0's binary_logloss: 0.597284\n",
            "[143]\tvalid_0's binary_logloss: 0.597289\n",
            "[144]\tvalid_0's binary_logloss: 0.597086\n",
            "[145]\tvalid_0's binary_logloss: 0.597045\n",
            "[146]\tvalid_0's binary_logloss: 0.596582\n",
            "[147]\tvalid_0's binary_logloss: 0.596652\n",
            "[148]\tvalid_0's binary_logloss: 0.596068\n",
            "[149]\tvalid_0's binary_logloss: 0.595982\n",
            "[150]\tvalid_0's binary_logloss: 0.595973\n",
            "[151]\tvalid_0's binary_logloss: 0.596129\n",
            "[152]\tvalid_0's binary_logloss: 0.596159\n",
            "[153]\tvalid_0's binary_logloss: 0.595975\n",
            "[154]\tvalid_0's binary_logloss: 0.595725\n",
            "[155]\tvalid_0's binary_logloss: 0.595493\n",
            "[156]\tvalid_0's binary_logloss: 0.595532\n",
            "[157]\tvalid_0's binary_logloss: 0.595895\n",
            "[158]\tvalid_0's binary_logloss: 0.595327\n",
            "[159]\tvalid_0's binary_logloss: 0.595054\n",
            "[160]\tvalid_0's binary_logloss: 0.595385\n",
            "[161]\tvalid_0's binary_logloss: 0.595496\n",
            "[162]\tvalid_0's binary_logloss: 0.595153\n",
            "[163]\tvalid_0's binary_logloss: 0.595295\n",
            "[164]\tvalid_0's binary_logloss: 0.595495\n",
            "[165]\tvalid_0's binary_logloss: 0.595564\n",
            "[166]\tvalid_0's binary_logloss: 0.595731\n",
            "[167]\tvalid_0's binary_logloss: 0.595509\n",
            "[168]\tvalid_0's binary_logloss: 0.595092\n",
            "[169]\tvalid_0's binary_logloss: 0.594692\n",
            "[170]\tvalid_0's binary_logloss: 0.594511\n",
            "[171]\tvalid_0's binary_logloss: 0.594226\n",
            "[172]\tvalid_0's binary_logloss: 0.594358\n",
            "[173]\tvalid_0's binary_logloss: 0.594212\n",
            "[174]\tvalid_0's binary_logloss: 0.594134\n",
            "[175]\tvalid_0's binary_logloss: 0.594319\n",
            "[176]\tvalid_0's binary_logloss: 0.594152\n",
            "[177]\tvalid_0's binary_logloss: 0.594389\n",
            "[178]\tvalid_0's binary_logloss: 0.594362\n",
            "[179]\tvalid_0's binary_logloss: 0.594255\n",
            "[180]\tvalid_0's binary_logloss: 0.5944\n",
            "[181]\tvalid_0's binary_logloss: 0.594377\n",
            "[182]\tvalid_0's binary_logloss: 0.594419\n",
            "[183]\tvalid_0's binary_logloss: 0.594036\n",
            "[184]\tvalid_0's binary_logloss: 0.594229\n",
            "[185]\tvalid_0's binary_logloss: 0.593967\n",
            "[186]\tvalid_0's binary_logloss: 0.593335\n",
            "[187]\tvalid_0's binary_logloss: 0.593496\n",
            "[188]\tvalid_0's binary_logloss: 0.593729\n",
            "[189]\tvalid_0's binary_logloss: 0.593675\n",
            "[190]\tvalid_0's binary_logloss: 0.593508\n",
            "[191]\tvalid_0's binary_logloss: 0.593513\n",
            "[192]\tvalid_0's binary_logloss: 0.593258\n",
            "[193]\tvalid_0's binary_logloss: 0.592911\n",
            "[194]\tvalid_0's binary_logloss: 0.59264\n",
            "[195]\tvalid_0's binary_logloss: 0.592619\n",
            "[196]\tvalid_0's binary_logloss: 0.59247\n",
            "[197]\tvalid_0's binary_logloss: 0.592445\n",
            "[198]\tvalid_0's binary_logloss: 0.592466\n",
            "[199]\tvalid_0's binary_logloss: 0.592475\n",
            "[200]\tvalid_0's binary_logloss: 0.592532\n",
            "Did not meet early stopping. Best iteration is:\n",
            "[197]\tvalid_0's binary_logloss: 0.592445\n",
            "Training a model using ELMO-512tokenmean features...\n",
            "[1]\tvalid_0's binary_logloss: 0.686822\n",
            "Training until validation scores don't improve for 10 rounds.\n",
            "[2]\tvalid_0's binary_logloss: 0.680787\n",
            "[3]\tvalid_0's binary_logloss: 0.674377\n",
            "[4]\tvalid_0's binary_logloss: 0.667836\n",
            "[5]\tvalid_0's binary_logloss: 0.662157\n",
            "[6]\tvalid_0's binary_logloss: 0.657126\n",
            "[7]\tvalid_0's binary_logloss: 0.652013\n",
            "[8]\tvalid_0's binary_logloss: 0.646827\n",
            "[9]\tvalid_0's binary_logloss: 0.641475\n",
            "[10]\tvalid_0's binary_logloss: 0.636804\n",
            "[11]\tvalid_0's binary_logloss: 0.631888\n",
            "[12]\tvalid_0's binary_logloss: 0.628224\n",
            "[13]\tvalid_0's binary_logloss: 0.623812\n",
            "[14]\tvalid_0's binary_logloss: 0.620247\n",
            "[15]\tvalid_0's binary_logloss: 0.615863\n",
            "[16]\tvalid_0's binary_logloss: 0.612834\n",
            "[17]\tvalid_0's binary_logloss: 0.608993\n",
            "[18]\tvalid_0's binary_logloss: 0.603431\n",
            "[19]\tvalid_0's binary_logloss: 0.599084\n",
            "[20]\tvalid_0's binary_logloss: 0.594562\n",
            "[21]\tvalid_0's binary_logloss: 0.591729\n",
            "[22]\tvalid_0's binary_logloss: 0.587984\n",
            "[23]\tvalid_0's binary_logloss: 0.584633\n",
            "[24]\tvalid_0's binary_logloss: 0.580724\n",
            "[25]\tvalid_0's binary_logloss: 0.577727\n",
            "[26]\tvalid_0's binary_logloss: 0.574573\n",
            "[27]\tvalid_0's binary_logloss: 0.57175\n",
            "[28]\tvalid_0's binary_logloss: 0.569107\n",
            "[29]\tvalid_0's binary_logloss: 0.567296\n",
            "[30]\tvalid_0's binary_logloss: 0.564962\n",
            "[31]\tvalid_0's binary_logloss: 0.561845\n",
            "[32]\tvalid_0's binary_logloss: 0.559893\n",
            "[33]\tvalid_0's binary_logloss: 0.557248\n",
            "[34]\tvalid_0's binary_logloss: 0.555269\n",
            "[35]\tvalid_0's binary_logloss: 0.55291\n",
            "[36]\tvalid_0's binary_logloss: 0.549776\n",
            "[37]\tvalid_0's binary_logloss: 0.547183\n",
            "[38]\tvalid_0's binary_logloss: 0.54652\n",
            "[39]\tvalid_0's binary_logloss: 0.543885\n",
            "[40]\tvalid_0's binary_logloss: 0.541933\n",
            "[41]\tvalid_0's binary_logloss: 0.538671\n",
            "[42]\tvalid_0's binary_logloss: 0.536404\n",
            "[43]\tvalid_0's binary_logloss: 0.534782\n",
            "[44]\tvalid_0's binary_logloss: 0.533039\n",
            "[45]\tvalid_0's binary_logloss: 0.531298\n",
            "[46]\tvalid_0's binary_logloss: 0.529443\n",
            "[47]\tvalid_0's binary_logloss: 0.527077\n",
            "[48]\tvalid_0's binary_logloss: 0.525716\n",
            "[49]\tvalid_0's binary_logloss: 0.523938\n",
            "[50]\tvalid_0's binary_logloss: 0.522604\n",
            "[51]\tvalid_0's binary_logloss: 0.52154\n",
            "[52]\tvalid_0's binary_logloss: 0.519668\n",
            "[53]\tvalid_0's binary_logloss: 0.51785\n",
            "[54]\tvalid_0's binary_logloss: 0.516981\n",
            "[55]\tvalid_0's binary_logloss: 0.515748\n",
            "[56]\tvalid_0's binary_logloss: 0.514708\n",
            "[57]\tvalid_0's binary_logloss: 0.51335\n",
            "[58]\tvalid_0's binary_logloss: 0.512484\n",
            "[59]\tvalid_0's binary_logloss: 0.511129\n",
            "[60]\tvalid_0's binary_logloss: 0.509774\n",
            "[61]\tvalid_0's binary_logloss: 0.508683\n",
            "[62]\tvalid_0's binary_logloss: 0.507596\n",
            "[63]\tvalid_0's binary_logloss: 0.506711\n",
            "[64]\tvalid_0's binary_logloss: 0.50459\n",
            "[65]\tvalid_0's binary_logloss: 0.503194\n",
            "[66]\tvalid_0's binary_logloss: 0.502468\n",
            "[67]\tvalid_0's binary_logloss: 0.502017\n",
            "[68]\tvalid_0's binary_logloss: 0.500557\n",
            "[69]\tvalid_0's binary_logloss: 0.499899\n",
            "[70]\tvalid_0's binary_logloss: 0.498871\n",
            "[71]\tvalid_0's binary_logloss: 0.497855\n",
            "[72]\tvalid_0's binary_logloss: 0.497021\n",
            "[73]\tvalid_0's binary_logloss: 0.495597\n",
            "[74]\tvalid_0's binary_logloss: 0.493995\n",
            "[75]\tvalid_0's binary_logloss: 0.493022\n",
            "[76]\tvalid_0's binary_logloss: 0.491928\n",
            "[77]\tvalid_0's binary_logloss: 0.490699\n",
            "[78]\tvalid_0's binary_logloss: 0.489644\n",
            "[79]\tvalid_0's binary_logloss: 0.488386\n",
            "[80]\tvalid_0's binary_logloss: 0.486744\n",
            "[81]\tvalid_0's binary_logloss: 0.485764\n",
            "[82]\tvalid_0's binary_logloss: 0.484989\n",
            "[83]\tvalid_0's binary_logloss: 0.484798\n",
            "[84]\tvalid_0's binary_logloss: 0.483842\n",
            "[85]\tvalid_0's binary_logloss: 0.483351\n",
            "[86]\tvalid_0's binary_logloss: 0.48235\n",
            "[87]\tvalid_0's binary_logloss: 0.481417\n",
            "[88]\tvalid_0's binary_logloss: 0.480496\n",
            "[89]\tvalid_0's binary_logloss: 0.479489\n",
            "[90]\tvalid_0's binary_logloss: 0.479438\n",
            "[91]\tvalid_0's binary_logloss: 0.479186\n",
            "[92]\tvalid_0's binary_logloss: 0.478336\n",
            "[93]\tvalid_0's binary_logloss: 0.478135\n",
            "[94]\tvalid_0's binary_logloss: 0.477204\n",
            "[95]\tvalid_0's binary_logloss: 0.476567\n",
            "[96]\tvalid_0's binary_logloss: 0.476083\n",
            "[97]\tvalid_0's binary_logloss: 0.475635\n",
            "[98]\tvalid_0's binary_logloss: 0.474751\n",
            "[99]\tvalid_0's binary_logloss: 0.474229\n",
            "[100]\tvalid_0's binary_logloss: 0.473905\n",
            "[101]\tvalid_0's binary_logloss: 0.473317\n",
            "[102]\tvalid_0's binary_logloss: 0.47296\n",
            "[103]\tvalid_0's binary_logloss: 0.472391\n",
            "[104]\tvalid_0's binary_logloss: 0.471803\n",
            "[105]\tvalid_0's binary_logloss: 0.471323\n",
            "[106]\tvalid_0's binary_logloss: 0.470921\n",
            "[107]\tvalid_0's binary_logloss: 0.470817\n",
            "[108]\tvalid_0's binary_logloss: 0.470481\n",
            "[109]\tvalid_0's binary_logloss: 0.469991\n",
            "[110]\tvalid_0's binary_logloss: 0.469915\n",
            "[111]\tvalid_0's binary_logloss: 0.469067\n",
            "[112]\tvalid_0's binary_logloss: 0.468801\n",
            "[113]\tvalid_0's binary_logloss: 0.468975\n",
            "[114]\tvalid_0's binary_logloss: 0.468288\n",
            "[115]\tvalid_0's binary_logloss: 0.467843\n",
            "[116]\tvalid_0's binary_logloss: 0.467111\n",
            "[117]\tvalid_0's binary_logloss: 0.466213\n",
            "[118]\tvalid_0's binary_logloss: 0.466163\n",
            "[119]\tvalid_0's binary_logloss: 0.465965\n",
            "[120]\tvalid_0's binary_logloss: 0.465754\n",
            "[121]\tvalid_0's binary_logloss: 0.46511\n",
            "[122]\tvalid_0's binary_logloss: 0.465185\n",
            "[123]\tvalid_0's binary_logloss: 0.464976\n",
            "[124]\tvalid_0's binary_logloss: 0.464671\n",
            "[125]\tvalid_0's binary_logloss: 0.464595\n",
            "[126]\tvalid_0's binary_logloss: 0.46401\n",
            "[127]\tvalid_0's binary_logloss: 0.463852\n",
            "[128]\tvalid_0's binary_logloss: 0.463343\n",
            "[129]\tvalid_0's binary_logloss: 0.463136\n",
            "[130]\tvalid_0's binary_logloss: 0.462955\n",
            "[131]\tvalid_0's binary_logloss: 0.462822\n",
            "[132]\tvalid_0's binary_logloss: 0.462421\n",
            "[133]\tvalid_0's binary_logloss: 0.462446\n",
            "[134]\tvalid_0's binary_logloss: 0.462546\n",
            "[135]\tvalid_0's binary_logloss: 0.462163\n",
            "[136]\tvalid_0's binary_logloss: 0.461851\n",
            "[137]\tvalid_0's binary_logloss: 0.461223\n",
            "[138]\tvalid_0's binary_logloss: 0.461185\n",
            "[139]\tvalid_0's binary_logloss: 0.460512\n",
            "[140]\tvalid_0's binary_logloss: 0.46032\n",
            "[141]\tvalid_0's binary_logloss: 0.459864\n",
            "[142]\tvalid_0's binary_logloss: 0.459541\n",
            "[143]\tvalid_0's binary_logloss: 0.459717\n",
            "[144]\tvalid_0's binary_logloss: 0.459632\n",
            "[145]\tvalid_0's binary_logloss: 0.459486\n",
            "[146]\tvalid_0's binary_logloss: 0.45942\n",
            "[147]\tvalid_0's binary_logloss: 0.459428\n",
            "[148]\tvalid_0's binary_logloss: 0.459458\n",
            "[149]\tvalid_0's binary_logloss: 0.459009\n",
            "[150]\tvalid_0's binary_logloss: 0.459006\n",
            "[151]\tvalid_0's binary_logloss: 0.458947\n",
            "[152]\tvalid_0's binary_logloss: 0.459078\n",
            "[153]\tvalid_0's binary_logloss: 0.458859\n",
            "[154]\tvalid_0's binary_logloss: 0.45874\n",
            "[155]\tvalid_0's binary_logloss: 0.458209\n",
            "[156]\tvalid_0's binary_logloss: 0.45829\n",
            "[157]\tvalid_0's binary_logloss: 0.458208\n",
            "[158]\tvalid_0's binary_logloss: 0.457956\n",
            "[159]\tvalid_0's binary_logloss: 0.457964\n",
            "[160]\tvalid_0's binary_logloss: 0.457886\n",
            "[161]\tvalid_0's binary_logloss: 0.457486\n",
            "[162]\tvalid_0's binary_logloss: 0.457485\n",
            "[163]\tvalid_0's binary_logloss: 0.457421\n",
            "[164]\tvalid_0's binary_logloss: 0.457013\n",
            "[165]\tvalid_0's binary_logloss: 0.456944\n",
            "[166]\tvalid_0's binary_logloss: 0.456854\n",
            "[167]\tvalid_0's binary_logloss: 0.457126\n",
            "[168]\tvalid_0's binary_logloss: 0.456993\n",
            "[169]\tvalid_0's binary_logloss: 0.456679\n",
            "[170]\tvalid_0's binary_logloss: 0.456478\n",
            "[171]\tvalid_0's binary_logloss: 0.45618\n",
            "[172]\tvalid_0's binary_logloss: 0.455793\n",
            "[173]\tvalid_0's binary_logloss: 0.455591\n",
            "[174]\tvalid_0's binary_logloss: 0.4556\n",
            "[175]\tvalid_0's binary_logloss: 0.455454\n",
            "[176]\tvalid_0's binary_logloss: 0.455384\n",
            "[177]\tvalid_0's binary_logloss: 0.455423\n",
            "[178]\tvalid_0's binary_logloss: 0.455301\n",
            "[179]\tvalid_0's binary_logloss: 0.455432\n",
            "[180]\tvalid_0's binary_logloss: 0.455233\n",
            "[181]\tvalid_0's binary_logloss: 0.455669\n",
            "[182]\tvalid_0's binary_logloss: 0.455591\n",
            "[183]\tvalid_0's binary_logloss: 0.455677\n",
            "[184]\tvalid_0's binary_logloss: 0.455783\n",
            "[185]\tvalid_0's binary_logloss: 0.455923\n",
            "[186]\tvalid_0's binary_logloss: 0.455578\n",
            "[187]\tvalid_0's binary_logloss: 0.455768\n",
            "[188]\tvalid_0's binary_logloss: 0.455534\n",
            "[189]\tvalid_0's binary_logloss: 0.455434\n",
            "[190]\tvalid_0's binary_logloss: 0.455412\n",
            "Early stopping, best iteration is:\n",
            "[180]\tvalid_0's binary_logloss: 0.455233\n",
            "Training a model using ELMO-4096tokenmean features...\n",
            "[1]\tvalid_0's binary_logloss: 0.685248\n",
            "Training until validation scores don't improve for 10 rounds.\n",
            "[2]\tvalid_0's binary_logloss: 0.677745\n",
            "[3]\tvalid_0's binary_logloss: 0.670915\n",
            "[4]\tvalid_0's binary_logloss: 0.665001\n",
            "[5]\tvalid_0's binary_logloss: 0.657801\n",
            "[6]\tvalid_0's binary_logloss: 0.651119\n",
            "[7]\tvalid_0's binary_logloss: 0.64522\n",
            "[8]\tvalid_0's binary_logloss: 0.640673\n",
            "[9]\tvalid_0's binary_logloss: 0.636049\n",
            "[10]\tvalid_0's binary_logloss: 0.630826\n",
            "[11]\tvalid_0's binary_logloss: 0.626956\n",
            "[12]\tvalid_0's binary_logloss: 0.622962\n",
            "[13]\tvalid_0's binary_logloss: 0.617956\n",
            "[14]\tvalid_0's binary_logloss: 0.613337\n",
            "[15]\tvalid_0's binary_logloss: 0.609633\n",
            "[16]\tvalid_0's binary_logloss: 0.605292\n",
            "[17]\tvalid_0's binary_logloss: 0.602547\n",
            "[18]\tvalid_0's binary_logloss: 0.598574\n",
            "[19]\tvalid_0's binary_logloss: 0.595063\n",
            "[20]\tvalid_0's binary_logloss: 0.592146\n",
            "[21]\tvalid_0's binary_logloss: 0.58801\n",
            "[22]\tvalid_0's binary_logloss: 0.584491\n",
            "[23]\tvalid_0's binary_logloss: 0.580367\n",
            "[24]\tvalid_0's binary_logloss: 0.575959\n",
            "[25]\tvalid_0's binary_logloss: 0.573394\n",
            "[26]\tvalid_0's binary_logloss: 0.571555\n",
            "[27]\tvalid_0's binary_logloss: 0.567803\n",
            "[28]\tvalid_0's binary_logloss: 0.56416\n",
            "[29]\tvalid_0's binary_logloss: 0.56063\n",
            "[30]\tvalid_0's binary_logloss: 0.557393\n",
            "[31]\tvalid_0's binary_logloss: 0.555571\n",
            "[32]\tvalid_0's binary_logloss: 0.552833\n",
            "[33]\tvalid_0's binary_logloss: 0.549498\n",
            "[34]\tvalid_0's binary_logloss: 0.547907\n",
            "[35]\tvalid_0's binary_logloss: 0.546577\n",
            "[36]\tvalid_0's binary_logloss: 0.543415\n",
            "[37]\tvalid_0's binary_logloss: 0.542101\n",
            "[38]\tvalid_0's binary_logloss: 0.540357\n",
            "[39]\tvalid_0's binary_logloss: 0.538592\n",
            "[40]\tvalid_0's binary_logloss: 0.536911\n",
            "[41]\tvalid_0's binary_logloss: 0.534755\n",
            "[42]\tvalid_0's binary_logloss: 0.53312\n",
            "[43]\tvalid_0's binary_logloss: 0.531405\n",
            "[44]\tvalid_0's binary_logloss: 0.530852\n",
            "[45]\tvalid_0's binary_logloss: 0.528838\n",
            "[46]\tvalid_0's binary_logloss: 0.527438\n",
            "[47]\tvalid_0's binary_logloss: 0.52575\n",
            "[48]\tvalid_0's binary_logloss: 0.524229\n",
            "[49]\tvalid_0's binary_logloss: 0.523002\n",
            "[50]\tvalid_0's binary_logloss: 0.521345\n",
            "[51]\tvalid_0's binary_logloss: 0.519466\n",
            "[52]\tvalid_0's binary_logloss: 0.51761\n",
            "[53]\tvalid_0's binary_logloss: 0.515671\n",
            "[54]\tvalid_0's binary_logloss: 0.514284\n",
            "[55]\tvalid_0's binary_logloss: 0.51258\n",
            "[56]\tvalid_0's binary_logloss: 0.511259\n",
            "[57]\tvalid_0's binary_logloss: 0.50983\n",
            "[58]\tvalid_0's binary_logloss: 0.508494\n",
            "[59]\tvalid_0's binary_logloss: 0.507198\n",
            "[60]\tvalid_0's binary_logloss: 0.506094\n",
            "[61]\tvalid_0's binary_logloss: 0.50486\n",
            "[62]\tvalid_0's binary_logloss: 0.504424\n",
            "[63]\tvalid_0's binary_logloss: 0.502857\n",
            "[64]\tvalid_0's binary_logloss: 0.502099\n",
            "[65]\tvalid_0's binary_logloss: 0.500889\n",
            "[66]\tvalid_0's binary_logloss: 0.500365\n",
            "[67]\tvalid_0's binary_logloss: 0.499087\n",
            "[68]\tvalid_0's binary_logloss: 0.49814\n",
            "[69]\tvalid_0's binary_logloss: 0.496492\n",
            "[70]\tvalid_0's binary_logloss: 0.494793\n",
            "[71]\tvalid_0's binary_logloss: 0.49434\n",
            "[72]\tvalid_0's binary_logloss: 0.493154\n",
            "[73]\tvalid_0's binary_logloss: 0.492438\n",
            "[74]\tvalid_0's binary_logloss: 0.491298\n",
            "[75]\tvalid_0's binary_logloss: 0.490192\n",
            "[76]\tvalid_0's binary_logloss: 0.489149\n",
            "[77]\tvalid_0's binary_logloss: 0.488549\n",
            "[78]\tvalid_0's binary_logloss: 0.487749\n",
            "[79]\tvalid_0's binary_logloss: 0.487449\n",
            "[80]\tvalid_0's binary_logloss: 0.487035\n",
            "[81]\tvalid_0's binary_logloss: 0.485662\n",
            "[82]\tvalid_0's binary_logloss: 0.48447\n",
            "[83]\tvalid_0's binary_logloss: 0.483438\n",
            "[84]\tvalid_0's binary_logloss: 0.482302\n",
            "[85]\tvalid_0's binary_logloss: 0.48115\n",
            "[86]\tvalid_0's binary_logloss: 0.480954\n",
            "[87]\tvalid_0's binary_logloss: 0.480356\n",
            "[88]\tvalid_0's binary_logloss: 0.479843\n",
            "[89]\tvalid_0's binary_logloss: 0.479654\n",
            "[90]\tvalid_0's binary_logloss: 0.478448\n",
            "[91]\tvalid_0's binary_logloss: 0.478382\n",
            "[92]\tvalid_0's binary_logloss: 0.47743\n",
            "[93]\tvalid_0's binary_logloss: 0.476858\n",
            "[94]\tvalid_0's binary_logloss: 0.476537\n",
            "[95]\tvalid_0's binary_logloss: 0.476145\n",
            "[96]\tvalid_0's binary_logloss: 0.475755\n",
            "[97]\tvalid_0's binary_logloss: 0.475363\n",
            "[98]\tvalid_0's binary_logloss: 0.474389\n",
            "[99]\tvalid_0's binary_logloss: 0.473109\n",
            "[100]\tvalid_0's binary_logloss: 0.472914\n",
            "[101]\tvalid_0's binary_logloss: 0.471956\n",
            "[102]\tvalid_0's binary_logloss: 0.471503\n",
            "[103]\tvalid_0's binary_logloss: 0.470665\n",
            "[104]\tvalid_0's binary_logloss: 0.470322\n",
            "[105]\tvalid_0's binary_logloss: 0.470105\n",
            "[106]\tvalid_0's binary_logloss: 0.469516\n",
            "[107]\tvalid_0's binary_logloss: 0.469313\n",
            "[108]\tvalid_0's binary_logloss: 0.469079\n",
            "[109]\tvalid_0's binary_logloss: 0.468317\n",
            "[110]\tvalid_0's binary_logloss: 0.467828\n",
            "[111]\tvalid_0's binary_logloss: 0.467518\n",
            "[112]\tvalid_0's binary_logloss: 0.466768\n",
            "[113]\tvalid_0's binary_logloss: 0.466193\n",
            "[114]\tvalid_0's binary_logloss: 0.465696\n",
            "[115]\tvalid_0's binary_logloss: 0.465616\n",
            "[116]\tvalid_0's binary_logloss: 0.465662\n",
            "[117]\tvalid_0's binary_logloss: 0.46528\n",
            "[118]\tvalid_0's binary_logloss: 0.465191\n",
            "[119]\tvalid_0's binary_logloss: 0.464496\n",
            "[120]\tvalid_0's binary_logloss: 0.463614\n",
            "[121]\tvalid_0's binary_logloss: 0.462685\n",
            "[122]\tvalid_0's binary_logloss: 0.462175\n",
            "[123]\tvalid_0's binary_logloss: 0.461954\n",
            "[124]\tvalid_0's binary_logloss: 0.461835\n",
            "[125]\tvalid_0's binary_logloss: 0.461165\n",
            "[126]\tvalid_0's binary_logloss: 0.460427\n",
            "[127]\tvalid_0's binary_logloss: 0.459911\n",
            "[128]\tvalid_0's binary_logloss: 0.459165\n",
            "[129]\tvalid_0's binary_logloss: 0.45863\n",
            "[130]\tvalid_0's binary_logloss: 0.458304\n",
            "[131]\tvalid_0's binary_logloss: 0.458168\n",
            "[132]\tvalid_0's binary_logloss: 0.457778\n",
            "[133]\tvalid_0's binary_logloss: 0.457854\n",
            "[134]\tvalid_0's binary_logloss: 0.457739\n",
            "[135]\tvalid_0's binary_logloss: 0.457404\n",
            "[136]\tvalid_0's binary_logloss: 0.456827\n",
            "[137]\tvalid_0's binary_logloss: 0.456738\n",
            "[138]\tvalid_0's binary_logloss: 0.456722\n",
            "[139]\tvalid_0's binary_logloss: 0.45639\n",
            "[140]\tvalid_0's binary_logloss: 0.455947\n",
            "[141]\tvalid_0's binary_logloss: 0.455483\n",
            "[142]\tvalid_0's binary_logloss: 0.455469\n",
            "[143]\tvalid_0's binary_logloss: 0.455552\n",
            "[144]\tvalid_0's binary_logloss: 0.455274\n",
            "[145]\tvalid_0's binary_logloss: 0.455063\n",
            "[146]\tvalid_0's binary_logloss: 0.454824\n",
            "[147]\tvalid_0's binary_logloss: 0.454923\n",
            "[148]\tvalid_0's binary_logloss: 0.454597\n",
            "[149]\tvalid_0's binary_logloss: 0.454152\n",
            "[150]\tvalid_0's binary_logloss: 0.454082\n",
            "[151]\tvalid_0's binary_logloss: 0.453758\n",
            "[152]\tvalid_0's binary_logloss: 0.453523\n",
            "[153]\tvalid_0's binary_logloss: 0.453557\n",
            "[154]\tvalid_0's binary_logloss: 0.453258\n",
            "[155]\tvalid_0's binary_logloss: 0.4531\n",
            "[156]\tvalid_0's binary_logloss: 0.452699\n",
            "[157]\tvalid_0's binary_logloss: 0.452429\n",
            "[158]\tvalid_0's binary_logloss: 0.452187\n",
            "[159]\tvalid_0's binary_logloss: 0.451825\n",
            "[160]\tvalid_0's binary_logloss: 0.45166\n",
            "[161]\tvalid_0's binary_logloss: 0.451539\n",
            "[162]\tvalid_0's binary_logloss: 0.451395\n",
            "[163]\tvalid_0's binary_logloss: 0.451671\n",
            "[164]\tvalid_0's binary_logloss: 0.451225\n",
            "[165]\tvalid_0's binary_logloss: 0.451346\n",
            "[166]\tvalid_0's binary_logloss: 0.451225\n",
            "[167]\tvalid_0's binary_logloss: 0.450843\n",
            "[168]\tvalid_0's binary_logloss: 0.450827\n",
            "[169]\tvalid_0's binary_logloss: 0.450915\n",
            "[170]\tvalid_0's binary_logloss: 0.45046\n",
            "[171]\tvalid_0's binary_logloss: 0.45068\n",
            "[172]\tvalid_0's binary_logloss: 0.450559\n",
            "[173]\tvalid_0's binary_logloss: 0.450529\n",
            "[174]\tvalid_0's binary_logloss: 0.450556\n",
            "[175]\tvalid_0's binary_logloss: 0.450398\n",
            "[176]\tvalid_0's binary_logloss: 0.450018\n",
            "[177]\tvalid_0's binary_logloss: 0.45013\n",
            "[178]\tvalid_0's binary_logloss: 0.449778\n",
            "[179]\tvalid_0's binary_logloss: 0.449829\n",
            "[180]\tvalid_0's binary_logloss: 0.449603\n",
            "[181]\tvalid_0's binary_logloss: 0.449403\n",
            "[182]\tvalid_0's binary_logloss: 0.449256\n",
            "[183]\tvalid_0's binary_logloss: 0.449327\n",
            "[184]\tvalid_0's binary_logloss: 0.449384\n",
            "[185]\tvalid_0's binary_logloss: 0.449423\n",
            "[186]\tvalid_0's binary_logloss: 0.449271\n",
            "[187]\tvalid_0's binary_logloss: 0.449255\n",
            "[188]\tvalid_0's binary_logloss: 0.449041\n",
            "[189]\tvalid_0's binary_logloss: 0.448954\n",
            "[190]\tvalid_0's binary_logloss: 0.448913\n",
            "[191]\tvalid_0's binary_logloss: 0.448806\n",
            "[192]\tvalid_0's binary_logloss: 0.448558\n",
            "[193]\tvalid_0's binary_logloss: 0.448417\n",
            "[194]\tvalid_0's binary_logloss: 0.448175\n",
            "[195]\tvalid_0's binary_logloss: 0.448314\n",
            "[196]\tvalid_0's binary_logloss: 0.448452\n",
            "[197]\tvalid_0's binary_logloss: 0.448536\n",
            "[198]\tvalid_0's binary_logloss: 0.448458\n",
            "[199]\tvalid_0's binary_logloss: 0.448237\n",
            "[200]\tvalid_0's binary_logloss: 0.448308\n",
            "Did not meet early stopping. Best iteration is:\n",
            "[194]\tvalid_0's binary_logloss: 0.448175\n",
            "Training a model using USE features...\n",
            "[1]\tvalid_0's binary_logloss: 0.684222\n",
            "Training until validation scores don't improve for 10 rounds.\n",
            "[2]\tvalid_0's binary_logloss: 0.676744\n",
            "[3]\tvalid_0's binary_logloss: 0.671036\n",
            "[4]\tvalid_0's binary_logloss: 0.661316\n",
            "[5]\tvalid_0's binary_logloss: 0.653487\n",
            "[6]\tvalid_0's binary_logloss: 0.647449\n",
            "[7]\tvalid_0's binary_logloss: 0.641266\n",
            "[8]\tvalid_0's binary_logloss: 0.635496\n",
            "[9]\tvalid_0's binary_logloss: 0.630885\n",
            "[10]\tvalid_0's binary_logloss: 0.625599\n",
            "[11]\tvalid_0's binary_logloss: 0.623183\n",
            "[12]\tvalid_0's binary_logloss: 0.616984\n",
            "[13]\tvalid_0's binary_logloss: 0.612458\n",
            "[14]\tvalid_0's binary_logloss: 0.609438\n",
            "[15]\tvalid_0's binary_logloss: 0.605904\n",
            "[16]\tvalid_0's binary_logloss: 0.602659\n",
            "[17]\tvalid_0's binary_logloss: 0.597838\n",
            "[18]\tvalid_0's binary_logloss: 0.593798\n",
            "[19]\tvalid_0's binary_logloss: 0.591045\n",
            "[20]\tvalid_0's binary_logloss: 0.587812\n",
            "[21]\tvalid_0's binary_logloss: 0.584859\n",
            "[22]\tvalid_0's binary_logloss: 0.581349\n",
            "[23]\tvalid_0's binary_logloss: 0.578001\n",
            "[24]\tvalid_0's binary_logloss: 0.573805\n",
            "[25]\tvalid_0's binary_logloss: 0.57101\n",
            "[26]\tvalid_0's binary_logloss: 0.56701\n",
            "[27]\tvalid_0's binary_logloss: 0.564158\n",
            "[28]\tvalid_0's binary_logloss: 0.56146\n",
            "[29]\tvalid_0's binary_logloss: 0.557996\n",
            "[30]\tvalid_0's binary_logloss: 0.554923\n",
            "[31]\tvalid_0's binary_logloss: 0.553049\n",
            "[32]\tvalid_0's binary_logloss: 0.550455\n",
            "[33]\tvalid_0's binary_logloss: 0.548091\n",
            "[34]\tvalid_0's binary_logloss: 0.546042\n",
            "[35]\tvalid_0's binary_logloss: 0.544687\n",
            "[36]\tvalid_0's binary_logloss: 0.542365\n",
            "[37]\tvalid_0's binary_logloss: 0.539639\n",
            "[38]\tvalid_0's binary_logloss: 0.538243\n",
            "[39]\tvalid_0's binary_logloss: 0.535794\n",
            "[40]\tvalid_0's binary_logloss: 0.533552\n",
            "[41]\tvalid_0's binary_logloss: 0.530496\n",
            "[42]\tvalid_0's binary_logloss: 0.528804\n",
            "[43]\tvalid_0's binary_logloss: 0.526607\n",
            "[44]\tvalid_0's binary_logloss: 0.524954\n",
            "[45]\tvalid_0's binary_logloss: 0.522919\n",
            "[46]\tvalid_0's binary_logloss: 0.521404\n",
            "[47]\tvalid_0's binary_logloss: 0.519162\n",
            "[48]\tvalid_0's binary_logloss: 0.518202\n",
            "[49]\tvalid_0's binary_logloss: 0.516145\n",
            "[50]\tvalid_0's binary_logloss: 0.514904\n",
            "[51]\tvalid_0's binary_logloss: 0.513211\n",
            "[52]\tvalid_0's binary_logloss: 0.511356\n",
            "[53]\tvalid_0's binary_logloss: 0.510088\n",
            "[54]\tvalid_0's binary_logloss: 0.508394\n",
            "[55]\tvalid_0's binary_logloss: 0.507294\n",
            "[56]\tvalid_0's binary_logloss: 0.505348\n",
            "[57]\tvalid_0's binary_logloss: 0.504229\n",
            "[58]\tvalid_0's binary_logloss: 0.502724\n",
            "[59]\tvalid_0's binary_logloss: 0.501465\n",
            "[60]\tvalid_0's binary_logloss: 0.499804\n",
            "[61]\tvalid_0's binary_logloss: 0.499043\n",
            "[62]\tvalid_0's binary_logloss: 0.49764\n",
            "[63]\tvalid_0's binary_logloss: 0.496151\n",
            "[64]\tvalid_0's binary_logloss: 0.494507\n",
            "[65]\tvalid_0's binary_logloss: 0.493553\n",
            "[66]\tvalid_0's binary_logloss: 0.492683\n",
            "[67]\tvalid_0's binary_logloss: 0.491341\n",
            "[68]\tvalid_0's binary_logloss: 0.490986\n",
            "[69]\tvalid_0's binary_logloss: 0.490213\n",
            "[70]\tvalid_0's binary_logloss: 0.489716\n",
            "[71]\tvalid_0's binary_logloss: 0.488973\n",
            "[72]\tvalid_0's binary_logloss: 0.488668\n",
            "[73]\tvalid_0's binary_logloss: 0.488268\n",
            "[74]\tvalid_0's binary_logloss: 0.487265\n",
            "[75]\tvalid_0's binary_logloss: 0.487203\n",
            "[76]\tvalid_0's binary_logloss: 0.486161\n",
            "[77]\tvalid_0's binary_logloss: 0.484783\n",
            "[78]\tvalid_0's binary_logloss: 0.484001\n",
            "[79]\tvalid_0's binary_logloss: 0.482972\n",
            "[80]\tvalid_0's binary_logloss: 0.482379\n",
            "[81]\tvalid_0's binary_logloss: 0.480997\n",
            "[82]\tvalid_0's binary_logloss: 0.480534\n",
            "[83]\tvalid_0's binary_logloss: 0.479252\n",
            "[84]\tvalid_0's binary_logloss: 0.478608\n",
            "[85]\tvalid_0's binary_logloss: 0.477996\n",
            "[86]\tvalid_0's binary_logloss: 0.477316\n",
            "[87]\tvalid_0's binary_logloss: 0.476412\n",
            "[88]\tvalid_0's binary_logloss: 0.475237\n",
            "[89]\tvalid_0's binary_logloss: 0.474245\n",
            "[90]\tvalid_0's binary_logloss: 0.473075\n",
            "[91]\tvalid_0's binary_logloss: 0.472247\n",
            "[92]\tvalid_0's binary_logloss: 0.470926\n",
            "[93]\tvalid_0's binary_logloss: 0.469964\n",
            "[94]\tvalid_0's binary_logloss: 0.469453\n",
            "[95]\tvalid_0's binary_logloss: 0.468705\n",
            "[96]\tvalid_0's binary_logloss: 0.467841\n",
            "[97]\tvalid_0's binary_logloss: 0.467004\n",
            "[98]\tvalid_0's binary_logloss: 0.464791\n",
            "[99]\tvalid_0's binary_logloss: 0.463807\n",
            "[100]\tvalid_0's binary_logloss: 0.462793\n",
            "[101]\tvalid_0's binary_logloss: 0.462194\n",
            "[102]\tvalid_0's binary_logloss: 0.46176\n",
            "[103]\tvalid_0's binary_logloss: 0.4607\n",
            "[104]\tvalid_0's binary_logloss: 0.460474\n",
            "[105]\tvalid_0's binary_logloss: 0.459872\n",
            "[106]\tvalid_0's binary_logloss: 0.458821\n",
            "[107]\tvalid_0's binary_logloss: 0.458519\n",
            "[108]\tvalid_0's binary_logloss: 0.457803\n",
            "[109]\tvalid_0's binary_logloss: 0.457724\n",
            "[110]\tvalid_0's binary_logloss: 0.456853\n",
            "[111]\tvalid_0's binary_logloss: 0.456315\n",
            "[112]\tvalid_0's binary_logloss: 0.455899\n",
            "[113]\tvalid_0's binary_logloss: 0.455217\n",
            "[114]\tvalid_0's binary_logloss: 0.454755\n",
            "[115]\tvalid_0's binary_logloss: 0.453943\n",
            "[116]\tvalid_0's binary_logloss: 0.453266\n",
            "[117]\tvalid_0's binary_logloss: 0.452982\n",
            "[118]\tvalid_0's binary_logloss: 0.452705\n",
            "[119]\tvalid_0's binary_logloss: 0.452709\n",
            "[120]\tvalid_0's binary_logloss: 0.451575\n",
            "[121]\tvalid_0's binary_logloss: 0.451139\n",
            "[122]\tvalid_0's binary_logloss: 0.451289\n",
            "[123]\tvalid_0's binary_logloss: 0.45093\n",
            "[124]\tvalid_0's binary_logloss: 0.450649\n",
            "[125]\tvalid_0's binary_logloss: 0.450022\n",
            "[126]\tvalid_0's binary_logloss: 0.4493\n",
            "[127]\tvalid_0's binary_logloss: 0.449091\n",
            "[128]\tvalid_0's binary_logloss: 0.44851\n",
            "[129]\tvalid_0's binary_logloss: 0.448587\n",
            "[130]\tvalid_0's binary_logloss: 0.447979\n",
            "[131]\tvalid_0's binary_logloss: 0.447531\n",
            "[132]\tvalid_0's binary_logloss: 0.446939\n",
            "[133]\tvalid_0's binary_logloss: 0.446302\n",
            "[134]\tvalid_0's binary_logloss: 0.445915\n",
            "[135]\tvalid_0's binary_logloss: 0.445413\n",
            "[136]\tvalid_0's binary_logloss: 0.444752\n",
            "[137]\tvalid_0's binary_logloss: 0.444261\n",
            "[138]\tvalid_0's binary_logloss: 0.444112\n",
            "[139]\tvalid_0's binary_logloss: 0.443686\n",
            "[140]\tvalid_0's binary_logloss: 0.443331\n",
            "[141]\tvalid_0's binary_logloss: 0.443122\n",
            "[142]\tvalid_0's binary_logloss: 0.442942\n",
            "[143]\tvalid_0's binary_logloss: 0.442802\n",
            "[144]\tvalid_0's binary_logloss: 0.442097\n",
            "[145]\tvalid_0's binary_logloss: 0.441958\n",
            "[146]\tvalid_0's binary_logloss: 0.441431\n",
            "[147]\tvalid_0's binary_logloss: 0.440889\n",
            "[148]\tvalid_0's binary_logloss: 0.440794\n",
            "[149]\tvalid_0's binary_logloss: 0.440653\n",
            "[150]\tvalid_0's binary_logloss: 0.440257\n",
            "[151]\tvalid_0's binary_logloss: 0.440011\n",
            "[152]\tvalid_0's binary_logloss: 0.439794\n",
            "[153]\tvalid_0's binary_logloss: 0.439999\n",
            "[154]\tvalid_0's binary_logloss: 0.439636\n",
            "[155]\tvalid_0's binary_logloss: 0.43977\n",
            "[156]\tvalid_0's binary_logloss: 0.438955\n",
            "[157]\tvalid_0's binary_logloss: 0.439184\n",
            "[158]\tvalid_0's binary_logloss: 0.438421\n",
            "[159]\tvalid_0's binary_logloss: 0.437629\n",
            "[160]\tvalid_0's binary_logloss: 0.436648\n",
            "[161]\tvalid_0's binary_logloss: 0.436785\n",
            "[162]\tvalid_0's binary_logloss: 0.436367\n",
            "[163]\tvalid_0's binary_logloss: 0.436554\n",
            "[164]\tvalid_0's binary_logloss: 0.436233\n",
            "[165]\tvalid_0's binary_logloss: 0.436149\n",
            "[166]\tvalid_0's binary_logloss: 0.436116\n",
            "[167]\tvalid_0's binary_logloss: 0.436065\n",
            "[168]\tvalid_0's binary_logloss: 0.435966\n",
            "[169]\tvalid_0's binary_logloss: 0.436208\n",
            "[170]\tvalid_0's binary_logloss: 0.436368\n",
            "[171]\tvalid_0's binary_logloss: 0.435922\n",
            "[172]\tvalid_0's binary_logloss: 0.435649\n",
            "[173]\tvalid_0's binary_logloss: 0.435097\n",
            "[174]\tvalid_0's binary_logloss: 0.434668\n",
            "[175]\tvalid_0's binary_logloss: 0.434092\n",
            "[176]\tvalid_0's binary_logloss: 0.434028\n",
            "[177]\tvalid_0's binary_logloss: 0.433549\n",
            "[178]\tvalid_0's binary_logloss: 0.43301\n",
            "[179]\tvalid_0's binary_logloss: 0.432486\n",
            "[180]\tvalid_0's binary_logloss: 0.432022\n",
            "[181]\tvalid_0's binary_logloss: 0.431519\n",
            "[182]\tvalid_0's binary_logloss: 0.431315\n",
            "[183]\tvalid_0's binary_logloss: 0.431027\n",
            "[184]\tvalid_0's binary_logloss: 0.430956\n",
            "[185]\tvalid_0's binary_logloss: 0.430755\n",
            "[186]\tvalid_0's binary_logloss: 0.430335\n",
            "[187]\tvalid_0's binary_logloss: 0.430144\n",
            "[188]\tvalid_0's binary_logloss: 0.43016\n",
            "[189]\tvalid_0's binary_logloss: 0.429699\n",
            "[190]\tvalid_0's binary_logloss: 0.429203\n",
            "[191]\tvalid_0's binary_logloss: 0.429353\n",
            "[192]\tvalid_0's binary_logloss: 0.428727\n",
            "[193]\tvalid_0's binary_logloss: 0.428693\n",
            "[194]\tvalid_0's binary_logloss: 0.428932\n",
            "[195]\tvalid_0's binary_logloss: 0.428562\n",
            "[196]\tvalid_0's binary_logloss: 0.428584\n",
            "[197]\tvalid_0's binary_logloss: 0.428674\n",
            "[198]\tvalid_0's binary_logloss: 0.428664\n",
            "[199]\tvalid_0's binary_logloss: 0.428294\n",
            "[200]\tvalid_0's binary_logloss: 0.428414\n",
            "Did not meet early stopping. Best iteration is:\n",
            "[199]\tvalid_0's binary_logloss: 0.428294\n",
            "Training a model using W2V features...\n",
            "[1]\tvalid_0's binary_logloss: 0.685348\n",
            "Training until validation scores don't improve for 10 rounds.\n",
            "[2]\tvalid_0's binary_logloss: 0.676082\n",
            "[3]\tvalid_0's binary_logloss: 0.667649\n",
            "[4]\tvalid_0's binary_logloss: 0.66088\n",
            "[5]\tvalid_0's binary_logloss: 0.655209\n",
            "[6]\tvalid_0's binary_logloss: 0.64627\n",
            "[7]\tvalid_0's binary_logloss: 0.639386\n",
            "[8]\tvalid_0's binary_logloss: 0.631695\n",
            "[9]\tvalid_0's binary_logloss: 0.625337\n",
            "[10]\tvalid_0's binary_logloss: 0.61769\n",
            "[11]\tvalid_0's binary_logloss: 0.612575\n",
            "[12]\tvalid_0's binary_logloss: 0.607136\n",
            "[13]\tvalid_0's binary_logloss: 0.601465\n",
            "[14]\tvalid_0's binary_logloss: 0.596702\n",
            "[15]\tvalid_0's binary_logloss: 0.591087\n",
            "[16]\tvalid_0's binary_logloss: 0.585231\n",
            "[17]\tvalid_0's binary_logloss: 0.581247\n",
            "[18]\tvalid_0's binary_logloss: 0.576446\n",
            "[19]\tvalid_0's binary_logloss: 0.57214\n",
            "[20]\tvalid_0's binary_logloss: 0.56783\n",
            "[21]\tvalid_0's binary_logloss: 0.562861\n",
            "[22]\tvalid_0's binary_logloss: 0.558246\n",
            "[23]\tvalid_0's binary_logloss: 0.553942\n",
            "[24]\tvalid_0's binary_logloss: 0.550219\n",
            "[25]\tvalid_0's binary_logloss: 0.546554\n",
            "[26]\tvalid_0's binary_logloss: 0.542782\n",
            "[27]\tvalid_0's binary_logloss: 0.539345\n",
            "[28]\tvalid_0's binary_logloss: 0.535487\n",
            "[29]\tvalid_0's binary_logloss: 0.532467\n",
            "[30]\tvalid_0's binary_logloss: 0.528939\n",
            "[31]\tvalid_0's binary_logloss: 0.525683\n",
            "[32]\tvalid_0's binary_logloss: 0.521146\n",
            "[33]\tvalid_0's binary_logloss: 0.518618\n",
            "[34]\tvalid_0's binary_logloss: 0.516004\n",
            "[35]\tvalid_0's binary_logloss: 0.513524\n",
            "[36]\tvalid_0's binary_logloss: 0.510231\n",
            "[37]\tvalid_0's binary_logloss: 0.507162\n",
            "[38]\tvalid_0's binary_logloss: 0.5048\n",
            "[39]\tvalid_0's binary_logloss: 0.502133\n",
            "[40]\tvalid_0's binary_logloss: 0.499372\n",
            "[41]\tvalid_0's binary_logloss: 0.496269\n",
            "[42]\tvalid_0's binary_logloss: 0.494482\n",
            "[43]\tvalid_0's binary_logloss: 0.491733\n",
            "[44]\tvalid_0's binary_logloss: 0.489411\n",
            "[45]\tvalid_0's binary_logloss: 0.48582\n",
            "[46]\tvalid_0's binary_logloss: 0.48406\n",
            "[47]\tvalid_0's binary_logloss: 0.481312\n",
            "[48]\tvalid_0's binary_logloss: 0.478556\n",
            "[49]\tvalid_0's binary_logloss: 0.476425\n",
            "[50]\tvalid_0's binary_logloss: 0.474681\n",
            "[51]\tvalid_0's binary_logloss: 0.472969\n",
            "[52]\tvalid_0's binary_logloss: 0.470697\n",
            "[53]\tvalid_0's binary_logloss: 0.468127\n",
            "[54]\tvalid_0's binary_logloss: 0.465539\n",
            "[55]\tvalid_0's binary_logloss: 0.463141\n",
            "[56]\tvalid_0's binary_logloss: 0.460416\n",
            "[57]\tvalid_0's binary_logloss: 0.458283\n",
            "[58]\tvalid_0's binary_logloss: 0.456611\n",
            "[59]\tvalid_0's binary_logloss: 0.454258\n",
            "[60]\tvalid_0's binary_logloss: 0.453022\n",
            "[61]\tvalid_0's binary_logloss: 0.450708\n",
            "[62]\tvalid_0's binary_logloss: 0.448647\n",
            "[63]\tvalid_0's binary_logloss: 0.447127\n",
            "[64]\tvalid_0's binary_logloss: 0.445536\n",
            "[65]\tvalid_0's binary_logloss: 0.444502\n",
            "[66]\tvalid_0's binary_logloss: 0.442636\n",
            "[67]\tvalid_0's binary_logloss: 0.440737\n",
            "[68]\tvalid_0's binary_logloss: 0.439359\n",
            "[69]\tvalid_0's binary_logloss: 0.437384\n",
            "[70]\tvalid_0's binary_logloss: 0.435837\n",
            "[71]\tvalid_0's binary_logloss: 0.434038\n",
            "[72]\tvalid_0's binary_logloss: 0.432058\n",
            "[73]\tvalid_0's binary_logloss: 0.430182\n",
            "[74]\tvalid_0's binary_logloss: 0.428758\n",
            "[75]\tvalid_0's binary_logloss: 0.427876\n",
            "[76]\tvalid_0's binary_logloss: 0.426651\n",
            "[77]\tvalid_0's binary_logloss: 0.425314\n",
            "[78]\tvalid_0's binary_logloss: 0.423927\n",
            "[79]\tvalid_0's binary_logloss: 0.422642\n",
            "[80]\tvalid_0's binary_logloss: 0.421481\n",
            "[81]\tvalid_0's binary_logloss: 0.419798\n",
            "[82]\tvalid_0's binary_logloss: 0.418536\n",
            "[83]\tvalid_0's binary_logloss: 0.417467\n",
            "[84]\tvalid_0's binary_logloss: 0.416305\n",
            "[85]\tvalid_0's binary_logloss: 0.41457\n",
            "[86]\tvalid_0's binary_logloss: 0.412634\n",
            "[87]\tvalid_0's binary_logloss: 0.411734\n",
            "[88]\tvalid_0's binary_logloss: 0.411014\n",
            "[89]\tvalid_0's binary_logloss: 0.409564\n",
            "[90]\tvalid_0's binary_logloss: 0.408477\n",
            "[91]\tvalid_0's binary_logloss: 0.407429\n",
            "[92]\tvalid_0's binary_logloss: 0.406654\n",
            "[93]\tvalid_0's binary_logloss: 0.406357\n",
            "[94]\tvalid_0's binary_logloss: 0.405708\n",
            "[95]\tvalid_0's binary_logloss: 0.404786\n",
            "[96]\tvalid_0's binary_logloss: 0.403964\n",
            "[97]\tvalid_0's binary_logloss: 0.403144\n",
            "[98]\tvalid_0's binary_logloss: 0.402511\n",
            "[99]\tvalid_0's binary_logloss: 0.401204\n",
            "[100]\tvalid_0's binary_logloss: 0.400134\n",
            "[101]\tvalid_0's binary_logloss: 0.399383\n",
            "[102]\tvalid_0's binary_logloss: 0.398184\n",
            "[103]\tvalid_0's binary_logloss: 0.397422\n",
            "[104]\tvalid_0's binary_logloss: 0.396321\n",
            "[105]\tvalid_0's binary_logloss: 0.395481\n",
            "[106]\tvalid_0's binary_logloss: 0.394882\n",
            "[107]\tvalid_0's binary_logloss: 0.394158\n",
            "[108]\tvalid_0's binary_logloss: 0.393363\n",
            "[109]\tvalid_0's binary_logloss: 0.392842\n",
            "[110]\tvalid_0's binary_logloss: 0.392629\n",
            "[111]\tvalid_0's binary_logloss: 0.392109\n",
            "[112]\tvalid_0's binary_logloss: 0.391765\n",
            "[113]\tvalid_0's binary_logloss: 0.39076\n",
            "[114]\tvalid_0's binary_logloss: 0.390344\n",
            "[115]\tvalid_0's binary_logloss: 0.389433\n",
            "[116]\tvalid_0's binary_logloss: 0.388595\n",
            "[117]\tvalid_0's binary_logloss: 0.387932\n",
            "[118]\tvalid_0's binary_logloss: 0.387402\n",
            "[119]\tvalid_0's binary_logloss: 0.38712\n",
            "[120]\tvalid_0's binary_logloss: 0.386822\n",
            "[121]\tvalid_0's binary_logloss: 0.385732\n",
            "[122]\tvalid_0's binary_logloss: 0.384887\n",
            "[123]\tvalid_0's binary_logloss: 0.384107\n",
            "[124]\tvalid_0's binary_logloss: 0.38333\n",
            "[125]\tvalid_0's binary_logloss: 0.38293\n",
            "[126]\tvalid_0's binary_logloss: 0.382069\n",
            "[127]\tvalid_0's binary_logloss: 0.381254\n",
            "[128]\tvalid_0's binary_logloss: 0.380829\n",
            "[129]\tvalid_0's binary_logloss: 0.380363\n",
            "[130]\tvalid_0's binary_logloss: 0.379982\n",
            "[131]\tvalid_0's binary_logloss: 0.379654\n",
            "[132]\tvalid_0's binary_logloss: 0.379083\n",
            "[133]\tvalid_0's binary_logloss: 0.378405\n",
            "[134]\tvalid_0's binary_logloss: 0.378045\n",
            "[135]\tvalid_0's binary_logloss: 0.377494\n",
            "[136]\tvalid_0's binary_logloss: 0.377248\n",
            "[137]\tvalid_0's binary_logloss: 0.376907\n",
            "[138]\tvalid_0's binary_logloss: 0.376643\n",
            "[139]\tvalid_0's binary_logloss: 0.376181\n",
            "[140]\tvalid_0's binary_logloss: 0.375573\n",
            "[141]\tvalid_0's binary_logloss: 0.375648\n",
            "[142]\tvalid_0's binary_logloss: 0.375204\n",
            "[143]\tvalid_0's binary_logloss: 0.374589\n",
            "[144]\tvalid_0's binary_logloss: 0.374295\n",
            "[145]\tvalid_0's binary_logloss: 0.373969\n",
            "[146]\tvalid_0's binary_logloss: 0.373674\n",
            "[147]\tvalid_0's binary_logloss: 0.373115\n",
            "[148]\tvalid_0's binary_logloss: 0.372858\n",
            "[149]\tvalid_0's binary_logloss: 0.372046\n",
            "[150]\tvalid_0's binary_logloss: 0.371171\n",
            "[151]\tvalid_0's binary_logloss: 0.371041\n",
            "[152]\tvalid_0's binary_logloss: 0.370682\n",
            "[153]\tvalid_0's binary_logloss: 0.370365\n",
            "[154]\tvalid_0's binary_logloss: 0.36996\n",
            "[155]\tvalid_0's binary_logloss: 0.369573\n",
            "[156]\tvalid_0's binary_logloss: 0.369063\n",
            "[157]\tvalid_0's binary_logloss: 0.368656\n",
            "[158]\tvalid_0's binary_logloss: 0.368395\n",
            "[159]\tvalid_0's binary_logloss: 0.367743\n",
            "[160]\tvalid_0's binary_logloss: 0.367328\n",
            "[161]\tvalid_0's binary_logloss: 0.367087\n",
            "[162]\tvalid_0's binary_logloss: 0.366802\n",
            "[163]\tvalid_0's binary_logloss: 0.366431\n",
            "[164]\tvalid_0's binary_logloss: 0.366056\n",
            "[165]\tvalid_0's binary_logloss: 0.365759\n",
            "[166]\tvalid_0's binary_logloss: 0.365339\n",
            "[167]\tvalid_0's binary_logloss: 0.36493\n",
            "[168]\tvalid_0's binary_logloss: 0.36486\n",
            "[169]\tvalid_0's binary_logloss: 0.3646\n",
            "[170]\tvalid_0's binary_logloss: 0.364458\n",
            "[171]\tvalid_0's binary_logloss: 0.364167\n",
            "[172]\tvalid_0's binary_logloss: 0.363783\n",
            "[173]\tvalid_0's binary_logloss: 0.363695\n",
            "[174]\tvalid_0's binary_logloss: 0.363651\n",
            "[175]\tvalid_0's binary_logloss: 0.363519\n",
            "[176]\tvalid_0's binary_logloss: 0.363359\n",
            "[177]\tvalid_0's binary_logloss: 0.363364\n",
            "[178]\tvalid_0's binary_logloss: 0.363361\n",
            "[179]\tvalid_0's binary_logloss: 0.363361\n",
            "[180]\tvalid_0's binary_logloss: 0.363171\n",
            "[181]\tvalid_0's binary_logloss: 0.362916\n",
            "[182]\tvalid_0's binary_logloss: 0.363008\n",
            "[183]\tvalid_0's binary_logloss: 0.362869\n",
            "[184]\tvalid_0's binary_logloss: 0.362522\n",
            "[185]\tvalid_0's binary_logloss: 0.362469\n",
            "[186]\tvalid_0's binary_logloss: 0.362275\n",
            "[187]\tvalid_0's binary_logloss: 0.361841\n",
            "[188]\tvalid_0's binary_logloss: 0.361506\n",
            "[189]\tvalid_0's binary_logloss: 0.361656\n",
            "[190]\tvalid_0's binary_logloss: 0.361576\n",
            "[191]\tvalid_0's binary_logloss: 0.361588\n",
            "[192]\tvalid_0's binary_logloss: 0.361212\n",
            "[193]\tvalid_0's binary_logloss: 0.361027\n",
            "[194]\tvalid_0's binary_logloss: 0.360845\n",
            "[195]\tvalid_0's binary_logloss: 0.360766\n",
            "[196]\tvalid_0's binary_logloss: 0.360523\n",
            "[197]\tvalid_0's binary_logloss: 0.360341\n",
            "[198]\tvalid_0's binary_logloss: 0.3605\n",
            "[199]\tvalid_0's binary_logloss: 0.360471\n",
            "[200]\tvalid_0's binary_logloss: 0.360434\n",
            "Did not meet early stopping. Best iteration is:\n",
            "[197]\tvalid_0's binary_logloss: 0.360341\n",
            "Training a model using fastText features...\n",
            "[1]\tvalid_0's binary_logloss: 0.68992\n",
            "Training until validation scores don't improve for 10 rounds.\n",
            "[2]\tvalid_0's binary_logloss: 0.686575\n",
            "[3]\tvalid_0's binary_logloss: 0.683037\n",
            "[4]\tvalid_0's binary_logloss: 0.676512\n",
            "[5]\tvalid_0's binary_logloss: 0.674604\n",
            "[6]\tvalid_0's binary_logloss: 0.668613\n",
            "[7]\tvalid_0's binary_logloss: 0.665063\n",
            "[8]\tvalid_0's binary_logloss: 0.660148\n",
            "[9]\tvalid_0's binary_logloss: 0.654629\n",
            "[10]\tvalid_0's binary_logloss: 0.651646\n",
            "[11]\tvalid_0's binary_logloss: 0.648775\n",
            "[12]\tvalid_0's binary_logloss: 0.645718\n",
            "[13]\tvalid_0's binary_logloss: 0.642266\n",
            "[14]\tvalid_0's binary_logloss: 0.640363\n",
            "[15]\tvalid_0's binary_logloss: 0.637659\n",
            "[16]\tvalid_0's binary_logloss: 0.634244\n",
            "[17]\tvalid_0's binary_logloss: 0.630959\n",
            "[18]\tvalid_0's binary_logloss: 0.627696\n",
            "[19]\tvalid_0's binary_logloss: 0.625013\n",
            "[20]\tvalid_0's binary_logloss: 0.620579\n",
            "[21]\tvalid_0's binary_logloss: 0.618682\n",
            "[22]\tvalid_0's binary_logloss: 0.616413\n",
            "[23]\tvalid_0's binary_logloss: 0.614582\n",
            "[24]\tvalid_0's binary_logloss: 0.612725\n",
            "[25]\tvalid_0's binary_logloss: 0.611214\n",
            "[26]\tvalid_0's binary_logloss: 0.609722\n",
            "[27]\tvalid_0's binary_logloss: 0.608282\n",
            "[28]\tvalid_0's binary_logloss: 0.605465\n",
            "[29]\tvalid_0's binary_logloss: 0.604104\n",
            "[30]\tvalid_0's binary_logloss: 0.602398\n",
            "[31]\tvalid_0's binary_logloss: 0.599507\n",
            "[32]\tvalid_0's binary_logloss: 0.597247\n",
            "[33]\tvalid_0's binary_logloss: 0.595194\n",
            "[34]\tvalid_0's binary_logloss: 0.593246\n",
            "[35]\tvalid_0's binary_logloss: 0.590875\n",
            "[36]\tvalid_0's binary_logloss: 0.588729\n",
            "[37]\tvalid_0's binary_logloss: 0.586117\n",
            "[38]\tvalid_0's binary_logloss: 0.584175\n",
            "[39]\tvalid_0's binary_logloss: 0.582329\n",
            "[40]\tvalid_0's binary_logloss: 0.57966\n",
            "[41]\tvalid_0's binary_logloss: 0.577635\n",
            "[42]\tvalid_0's binary_logloss: 0.573797\n",
            "[43]\tvalid_0's binary_logloss: 0.57216\n",
            "[44]\tvalid_0's binary_logloss: 0.568941\n",
            "[45]\tvalid_0's binary_logloss: 0.568045\n",
            "[46]\tvalid_0's binary_logloss: 0.566845\n",
            "[47]\tvalid_0's binary_logloss: 0.565189\n",
            "[48]\tvalid_0's binary_logloss: 0.564215\n",
            "[49]\tvalid_0's binary_logloss: 0.563752\n",
            "[50]\tvalid_0's binary_logloss: 0.562219\n",
            "[51]\tvalid_0's binary_logloss: 0.560303\n",
            "[52]\tvalid_0's binary_logloss: 0.558332\n",
            "[53]\tvalid_0's binary_logloss: 0.557206\n",
            "[54]\tvalid_0's binary_logloss: 0.556112\n",
            "[55]\tvalid_0's binary_logloss: 0.553153\n",
            "[56]\tvalid_0's binary_logloss: 0.551808\n",
            "[57]\tvalid_0's binary_logloss: 0.550854\n",
            "[58]\tvalid_0's binary_logloss: 0.549566\n",
            "[59]\tvalid_0's binary_logloss: 0.548737\n",
            "[60]\tvalid_0's binary_logloss: 0.546961\n",
            "[61]\tvalid_0's binary_logloss: 0.546212\n",
            "[62]\tvalid_0's binary_logloss: 0.545626\n",
            "[63]\tvalid_0's binary_logloss: 0.543969\n",
            "[64]\tvalid_0's binary_logloss: 0.544286\n",
            "[65]\tvalid_0's binary_logloss: 0.542734\n",
            "[66]\tvalid_0's binary_logloss: 0.54081\n",
            "[67]\tvalid_0's binary_logloss: 0.539933\n",
            "[68]\tvalid_0's binary_logloss: 0.53905\n",
            "[69]\tvalid_0's binary_logloss: 0.538671\n",
            "[70]\tvalid_0's binary_logloss: 0.537718\n",
            "[71]\tvalid_0's binary_logloss: 0.536033\n",
            "[72]\tvalid_0's binary_logloss: 0.534789\n",
            "[73]\tvalid_0's binary_logloss: 0.533971\n",
            "[74]\tvalid_0's binary_logloss: 0.532384\n",
            "[75]\tvalid_0's binary_logloss: 0.53196\n",
            "[76]\tvalid_0's binary_logloss: 0.530792\n",
            "[77]\tvalid_0's binary_logloss: 0.530145\n",
            "[78]\tvalid_0's binary_logloss: 0.529354\n",
            "[79]\tvalid_0's binary_logloss: 0.52834\n",
            "[80]\tvalid_0's binary_logloss: 0.527438\n",
            "[81]\tvalid_0's binary_logloss: 0.526836\n",
            "[82]\tvalid_0's binary_logloss: 0.52627\n",
            "[83]\tvalid_0's binary_logloss: 0.524613\n",
            "[84]\tvalid_0's binary_logloss: 0.523958\n",
            "[85]\tvalid_0's binary_logloss: 0.523417\n",
            "[86]\tvalid_0's binary_logloss: 0.522605\n",
            "[87]\tvalid_0's binary_logloss: 0.521615\n",
            "[88]\tvalid_0's binary_logloss: 0.521224\n",
            "[89]\tvalid_0's binary_logloss: 0.520229\n",
            "[90]\tvalid_0's binary_logloss: 0.519222\n",
            "[91]\tvalid_0's binary_logloss: 0.518399\n",
            "[92]\tvalid_0's binary_logloss: 0.517285\n",
            "[93]\tvalid_0's binary_logloss: 0.516648\n",
            "[94]\tvalid_0's binary_logloss: 0.515618\n",
            "[95]\tvalid_0's binary_logloss: 0.515225\n",
            "[96]\tvalid_0's binary_logloss: 0.515378\n",
            "[97]\tvalid_0's binary_logloss: 0.515229\n",
            "[98]\tvalid_0's binary_logloss: 0.514314\n",
            "[99]\tvalid_0's binary_logloss: 0.513543\n",
            "[100]\tvalid_0's binary_logloss: 0.513024\n",
            "[101]\tvalid_0's binary_logloss: 0.512671\n",
            "[102]\tvalid_0's binary_logloss: 0.511718\n",
            "[103]\tvalid_0's binary_logloss: 0.510993\n",
            "[104]\tvalid_0's binary_logloss: 0.510022\n",
            "[105]\tvalid_0's binary_logloss: 0.509421\n",
            "[106]\tvalid_0's binary_logloss: 0.508674\n",
            "[107]\tvalid_0's binary_logloss: 0.508145\n",
            "[108]\tvalid_0's binary_logloss: 0.507119\n",
            "[109]\tvalid_0's binary_logloss: 0.506599\n",
            "[110]\tvalid_0's binary_logloss: 0.506011\n",
            "[111]\tvalid_0's binary_logloss: 0.505326\n",
            "[112]\tvalid_0's binary_logloss: 0.505273\n",
            "[113]\tvalid_0's binary_logloss: 0.505279\n",
            "[114]\tvalid_0's binary_logloss: 0.504613\n",
            "[115]\tvalid_0's binary_logloss: 0.504758\n",
            "[116]\tvalid_0's binary_logloss: 0.505104\n",
            "[117]\tvalid_0's binary_logloss: 0.50514\n",
            "[118]\tvalid_0's binary_logloss: 0.505207\n",
            "[119]\tvalid_0's binary_logloss: 0.504807\n",
            "[120]\tvalid_0's binary_logloss: 0.50452\n",
            "[121]\tvalid_0's binary_logloss: 0.503812\n",
            "[122]\tvalid_0's binary_logloss: 0.503744\n",
            "[123]\tvalid_0's binary_logloss: 0.503425\n",
            "[124]\tvalid_0's binary_logloss: 0.503399\n",
            "[125]\tvalid_0's binary_logloss: 0.502486\n",
            "[126]\tvalid_0's binary_logloss: 0.502033\n",
            "[127]\tvalid_0's binary_logloss: 0.501519\n",
            "[128]\tvalid_0's binary_logloss: 0.500728\n",
            "[129]\tvalid_0's binary_logloss: 0.50047\n",
            "[130]\tvalid_0's binary_logloss: 0.500084\n",
            "[131]\tvalid_0's binary_logloss: 0.499493\n",
            "[132]\tvalid_0's binary_logloss: 0.499199\n",
            "[133]\tvalid_0's binary_logloss: 0.498995\n",
            "[134]\tvalid_0's binary_logloss: 0.498605\n",
            "[135]\tvalid_0's binary_logloss: 0.498291\n",
            "[136]\tvalid_0's binary_logloss: 0.498267\n",
            "[137]\tvalid_0's binary_logloss: 0.497983\n",
            "[138]\tvalid_0's binary_logloss: 0.497732\n",
            "[139]\tvalid_0's binary_logloss: 0.497634\n",
            "[140]\tvalid_0's binary_logloss: 0.497582\n",
            "[141]\tvalid_0's binary_logloss: 0.497534\n",
            "[142]\tvalid_0's binary_logloss: 0.49712\n",
            "[143]\tvalid_0's binary_logloss: 0.496805\n",
            "[144]\tvalid_0's binary_logloss: 0.496822\n",
            "[145]\tvalid_0's binary_logloss: 0.496395\n",
            "[146]\tvalid_0's binary_logloss: 0.49603\n",
            "[147]\tvalid_0's binary_logloss: 0.49533\n",
            "[148]\tvalid_0's binary_logloss: 0.495125\n",
            "[149]\tvalid_0's binary_logloss: 0.494393\n",
            "[150]\tvalid_0's binary_logloss: 0.49363\n",
            "[151]\tvalid_0's binary_logloss: 0.493267\n",
            "[152]\tvalid_0's binary_logloss: 0.49296\n",
            "[153]\tvalid_0's binary_logloss: 0.493088\n",
            "[154]\tvalid_0's binary_logloss: 0.492519\n",
            "[155]\tvalid_0's binary_logloss: 0.492164\n",
            "[156]\tvalid_0's binary_logloss: 0.492005\n",
            "[157]\tvalid_0's binary_logloss: 0.49159\n",
            "[158]\tvalid_0's binary_logloss: 0.491203\n",
            "[159]\tvalid_0's binary_logloss: 0.491119\n",
            "[160]\tvalid_0's binary_logloss: 0.490755\n",
            "[161]\tvalid_0's binary_logloss: 0.490484\n",
            "[162]\tvalid_0's binary_logloss: 0.490273\n",
            "[163]\tvalid_0's binary_logloss: 0.49003\n",
            "[164]\tvalid_0's binary_logloss: 0.490272\n",
            "[165]\tvalid_0's binary_logloss: 0.489976\n",
            "[166]\tvalid_0's binary_logloss: 0.489756\n",
            "[167]\tvalid_0's binary_logloss: 0.489352\n",
            "[168]\tvalid_0's binary_logloss: 0.489445\n",
            "[169]\tvalid_0's binary_logloss: 0.489376\n",
            "[170]\tvalid_0's binary_logloss: 0.488646\n",
            "[171]\tvalid_0's binary_logloss: 0.488716\n",
            "[172]\tvalid_0's binary_logloss: 0.488584\n",
            "[173]\tvalid_0's binary_logloss: 0.488763\n",
            "[174]\tvalid_0's binary_logloss: 0.488783\n",
            "[175]\tvalid_0's binary_logloss: 0.488498\n",
            "[176]\tvalid_0's binary_logloss: 0.488003\n",
            "[177]\tvalid_0's binary_logloss: 0.487533\n",
            "[178]\tvalid_0's binary_logloss: 0.487316\n",
            "[179]\tvalid_0's binary_logloss: 0.487119\n",
            "[180]\tvalid_0's binary_logloss: 0.486974\n",
            "[181]\tvalid_0's binary_logloss: 0.486404\n",
            "[182]\tvalid_0's binary_logloss: 0.486497\n",
            "[183]\tvalid_0's binary_logloss: 0.486077\n",
            "[184]\tvalid_0's binary_logloss: 0.485278\n",
            "[185]\tvalid_0's binary_logloss: 0.485013\n",
            "[186]\tvalid_0's binary_logloss: 0.485203\n",
            "[187]\tvalid_0's binary_logloss: 0.485426\n",
            "[188]\tvalid_0's binary_logloss: 0.48534\n",
            "[189]\tvalid_0's binary_logloss: 0.485029\n",
            "[190]\tvalid_0's binary_logloss: 0.484645\n",
            "[191]\tvalid_0's binary_logloss: 0.48444\n",
            "[192]\tvalid_0's binary_logloss: 0.484132\n",
            "[193]\tvalid_0's binary_logloss: 0.483779\n",
            "[194]\tvalid_0's binary_logloss: 0.483772\n",
            "[195]\tvalid_0's binary_logloss: 0.483508\n",
            "[196]\tvalid_0's binary_logloss: 0.483318\n",
            "[197]\tvalid_0's binary_logloss: 0.482846\n",
            "[198]\tvalid_0's binary_logloss: 0.48278\n",
            "[199]\tvalid_0's binary_logloss: 0.482452\n",
            "[200]\tvalid_0's binary_logloss: 0.482587\n",
            "Did not meet early stopping. Best iteration is:\n",
            "[199]\tvalid_0's binary_logloss: 0.482452\n",
            "CPU times: user 14min 51s, sys: 11.2 s, total: 15min 2s\n",
            "Wall time: 9min 12s\n"
          ],
          "name": "stdout"
        }
      ]
    },
    {
      "cell_type": "code",
      "metadata": {
        "id": "O-faZHoJmyEm",
        "colab_type": "code",
        "outputId": "91ba0bc6-cb69-4e4c-fb7f-cd21f88bb6dd",
        "colab": {
          "base_uri": "https://localhost:8080/",
          "height": 502
        }
      },
      "source": [
        "for model, (train_acc, test_acc) in result:\n",
        "  print(\"-\" * 20)\n",
        "  print(f\"{model} result:\")\n",
        "  print(f\"  Train ACC: {train_acc:.4f}\")\n",
        "  print(f\"  Test ACC: {test_acc:.4f}\")"
      ],
      "execution_count": 21,
      "outputs": [
        {
          "output_type": "stream",
          "text": [
            "--------------------\n",
            "BERT-2ndlastmean result:\n",
            "  Train ACC: 0.8234\n",
            "  Test ACC: 0.8019\n",
            "--------------------\n",
            "BERT-pretrained-2ndlastmean result:\n",
            "  Train ACC: 0.7815\n",
            "  Test ACC: 0.7506\n",
            "--------------------\n",
            "ELMO-512tokenmean result:\n",
            "  Train ACC: 0.8532\n",
            "  Test ACC: 0.8255\n",
            "--------------------\n",
            "ELMO-4096tokenmean result:\n",
            "  Train ACC: 0.8575\n",
            "  Test ACC: 0.8322\n",
            "--------------------\n",
            "USE result:\n",
            "  Train ACC: 0.8637\n",
            "  Test ACC: 0.8484\n",
            "--------------------\n",
            "W2V result:\n",
            "  Train ACC: 0.8943\n",
            "  Test ACC: 0.8632\n",
            "--------------------\n",
            "fastText result:\n",
            "  Train ACC: 0.8404\n",
            "  Test ACC: 0.8245\n"
          ],
          "name": "stdout"
        }
      ]
    },
    {
      "cell_type": "markdown",
      "metadata": {
        "id": "yPgP_UZiUQ3S",
        "colab_type": "text"
      },
      "source": [
        "## Ranking problem using the extracted features\n",
        "\n",
        "Similarities will be computed by simple cosine similarity of the extracted features.  \n",
        "The extracted features are constructed from only claim texts."
      ]
    },
    {
      "cell_type": "code",
      "metadata": {
        "id": "RQnajL9--UmA",
        "colab_type": "code",
        "colab": {}
      },
      "source": [
        "def _test_label(app_id, grant, cite_relation):\n",
        "  cited_parsed = cite_relation[cite_relation[\"app_id\"] == app_id][\"parsed\"]\n",
        "  return [1 if parsed == cited_parsed.values[0] else 0 for parsed in grant[\"parsed\"]]"
      ],
      "execution_count": 0,
      "outputs": []
    },
    {
      "cell_type": "code",
      "metadata": {
        "id": "Ve1zOgv5w-GJ",
        "colab_type": "code",
        "colab": {}
      },
      "source": [
        "def _compute_similarities(target_dict, model):\n",
        "  similarities = []\n",
        "  train_app_f, test_app_f, grant_f = _read_feature(target_dict, model)\n",
        "  \n",
        "  for t_feature in test_app_f:\n",
        "    similarities.append(np.array(list(\n",
        "        map(lambda g_feature: np.dot(t_feature, g_feature) / (np.linalg.norm(t_feature * np.linalg.norm(g_feature))), grant_f)\n",
        "    )))\n",
        "   \n",
        "  return similarities"
      ],
      "execution_count": 0,
      "outputs": []
    },
    {
      "cell_type": "code",
      "metadata": {
        "id": "793enQH89cTS",
        "colab_type": "code",
        "colab": {}
      },
      "source": [
        "def compute_ranking(target_dict, model):\n",
        "  similarities = _compute_similarities(target_dict, model)\n",
        "  rankings = []\n",
        "  \n",
        "  for idx in range(len(similarities)):\n",
        "    app_id = test_app[\"app_id\"][idx]\n",
        "    label = pd.Series(_test_label(app_id, grants, citations_info_target))\n",
        "\n",
        "    i, = np.where(label == 1)\n",
        "    cited_index = i[0]\n",
        "\n",
        "    rank = sorted(similarities[idx], reverse=True).index(similarities[idx][cited_index])\n",
        "    rankings.append(rank)\n",
        "  \n",
        "  return rankings"
      ],
      "execution_count": 0,
      "outputs": []
    },
    {
      "cell_type": "code",
      "metadata": {
        "id": "aNrjWJ9kHoOR",
        "colab_type": "code",
        "colab": {}
      },
      "source": [
        "def compute_positive_count(rankings):\n",
        "  return [sum(np.array(rankings) <= thrd) for thrd in range(len(grants))]"
      ],
      "execution_count": 0,
      "outputs": []
    },
    {
      "cell_type": "code",
      "metadata": {
        "id": "nENTQ0No9xH6",
        "colab_type": "code",
        "outputId": "62c12cce-9d86-4d9f-bbb8-40a016584ea5",
        "colab": {
          "base_uri": "https://localhost:8080/",
          "height": 173
        }
      },
      "source": [
        "%%time\n",
        "\n",
        "ranking_result = []\n",
        "\n",
        "for model in target_features_dict.keys():\n",
        "  print(f\"Computing rankings using {model} features...\")\n",
        "  rankings = compute_ranking(target_features_dict, model)\n",
        "  positive_counts = compute_positive_count(rankings)\n",
        "  ranking_result.append([model, rankings, positive_counts])"
      ],
      "execution_count": 26,
      "outputs": [
        {
          "output_type": "stream",
          "text": [
            "Computing rankings using BERT-2ndlastmean features...\n",
            "Computing rankings using BERT-pretrained-2ndlastmean features...\n",
            "Computing rankings using ELMO-512tokenmean features...\n",
            "Computing rankings using ELMO-4096tokenmean features...\n",
            "Computing rankings using USE features...\n",
            "Computing rankings using W2V features...\n",
            "Computing rankings using fastText features...\n",
            "CPU times: user 42min 48s, sys: 4.52 s, total: 42min 52s\n",
            "Wall time: 42min 52s\n"
          ],
          "name": "stdout"
        }
      ]
    },
    {
      "cell_type": "code",
      "metadata": {
        "id": "95cKos_PApXP",
        "colab_type": "code",
        "colab": {}
      },
      "source": [
        "import matplotlib.pyplot as plt\n",
        "from pylab import rcParams\n",
        "\n",
        "rcParams['figure.figsize'] = 8,8"
      ],
      "execution_count": 0,
      "outputs": []
    },
    {
      "cell_type": "code",
      "metadata": {
        "id": "01PJjqBYApdh",
        "colab_type": "code",
        "outputId": "eac80850-4714-4a56-b1b3-b90fd7d8fc1b",
        "colab": {
          "base_uri": "https://localhost:8080/",
          "height": 500
        }
      },
      "source": [
        "for model, ranking, _ in ranking_result:\n",
        "  plt.hist(ranking, alpha=0.5, bins=100, label=f\"{model} cosine similarity\")\n",
        "\n",
        "plt.title(\"Cited grants rank\")\n",
        "plt.legend()\n",
        "plt.show()"
      ],
      "execution_count": 28,
      "outputs": [
        {
          "output_type": "display_data",
          "data": {
            "image/png": "[encoded data removed]",
            "text/plain": [
              "<Figure size 576x576 with 1 Axes>"
            ]
          },
          "metadata": {
            "tags": []
          }
        }
      ]
    },
    {
      "cell_type": "code",
      "metadata": {
        "id": "Mw22KVr_A1Ey",
        "colab_type": "code",
        "outputId": "aced400b-bebb-40ae-c3c1-a688f271d13e",
        "colab": {
          "base_uri": "https://localhost:8080/",
          "height": 500
        }
      },
      "source": [
        "for model, ranking, _ in ranking_result:\n",
        "  plt.hist(ranking, alpha=0.5, bins=100, label=f\"{model} cosine similarity\")\n",
        "\n",
        "plt.yscale('log')\n",
        "plt.title(\"Cited grants rank in log scale\")\n",
        "plt.legend()\n",
        "plt.show()"
      ],
      "execution_count": 29,
      "outputs": [
        {
          "output_type": "display_data",
          "data": {
            "image/png": "[encoded data removed]",
            "text/plain": [
              "<Figure size 576x576 with 1 Axes>"
            ]
          },
          "metadata": {
            "tags": []
          }
        }
      ]
    },
    {
      "cell_type": "code",
      "metadata": {
        "id": "jDuT2revGInj",
        "colab_type": "code",
        "outputId": "cb3c96ca-8095-4bbb-f4d4-5321e1b0ce7f",
        "colab": {
          "base_uri": "https://localhost:8080/",
          "height": 500
        }
      },
      "source": [
        "for model, _, positive_count in ranking_result:\n",
        "  plt.plot(range(len(grants)), positive_count, label=f\"{model} cosine similarity\")\n",
        "\n",
        "plt.title(\"rank vs covered num\")\n",
        "plt.legend()\n",
        "plt.show()"
      ],
      "execution_count": 30,
      "outputs": [
        {
          "output_type": "display_data",
          "data": {
            "image/png": "[encoded data removed]",
            "text/plain": [
              "<Figure size 576x576 with 1 Axes>"
            ]
          },
          "metadata": {
            "tags": []
          }
        }
      ]
    },
    {
      "cell_type": "code",
      "metadata": {
        "id": "c2d9xCxLGIrG",
        "colab_type": "code",
        "outputId": "9038708a-a0e2-45af-8950-97172894cb3c",
        "colab": {
          "base_uri": "https://localhost:8080/",
          "height": 500
        }
      },
      "source": [
        "for model, _, positive_count in ranking_result:\n",
        "  plt.plot(range(1000), positive_count[:1000], label=f\"{model} cosine similarity\")\n",
        "\n",
        "plt.title(\"rank vs covered num\")\n",
        "plt.legend()\n",
        "plt.show()"
      ],
      "execution_count": 31,
      "outputs": [
        {
          "output_type": "display_data",
          "data": {
            "image/png": "[encoded data removed]",
            "text/plain": [
              "<Figure size 576x576 with 1 Axes>"
            ]
          },
          "metadata": {
            "tags": []
          }
        }
      ]
    },
    {
      "cell_type": "code",
      "metadata": {
        "id": "b5pzODxkA1lp",
        "colab_type": "code",
        "outputId": "3a5fc9d0-87e2-4cf6-c9be-c900eca48286",
        "colab": {
          "base_uri": "https://localhost:8080/",
          "height": 500
        }
      },
      "source": [
        "for model, ranking, positive_count in ranking_result:\n",
        "  plt.plot(range(200), (np.array(positive_count)/len(ranking))[0:200], label=f\"{model} cosine similarity\")\n",
        "\n",
        "plt.title(\"rank vs covered rate, till 200\")\n",
        "plt.legend()\n",
        "plt.show()"
      ],
      "execution_count": 32,
      "outputs": [
        {
          "output_type": "display_data",
          "data": {
            "image/png": "[encoded data removed]",
            "text/plain": [
              "<Figure size 576x576 with 1 Axes>"
            ]
          },
          "metadata": {
            "tags": []
          }
        }
      ]
    },
    {
      "cell_type": "code",
      "metadata": {
        "id": "DTBDCHVfm3DY",
        "colab_type": "code",
        "outputId": "a9ae06eb-726a-483f-f557-48875b0c3ce9",
        "colab": {
          "base_uri": "https://localhost:8080/",
          "height": 502
        }
      },
      "source": [
        "for model, ranking, positive_count in ranking_result:\n",
        "  print(\"-\" * 20)\n",
        "  print(f\"{model} top 10: {(np.array(positive_count)/len(ranking))[10]:.4f}\")\n",
        "  print(f\"{model} top 100: {(np.array(positive_count)/len(ranking))[100]:.4f}\")\n",
        "  print(f\"{model} top 200: {(np.array(positive_count)/len(ranking))[200]:.4f}\")"
      ],
      "execution_count": 33,
      "outputs": [
        {
          "output_type": "stream",
          "text": [
            "--------------------\n",
            "BERT-2ndlastmean top 10: 0.2527\n",
            "BERT-2ndlastmean top 100: 0.5050\n",
            "BERT-2ndlastmean top 200: 0.5923\n",
            "--------------------\n",
            "BERT-pretrained-2ndlastmean top 10: 0.2997\n",
            "BERT-pretrained-2ndlastmean top 100: 0.5773\n",
            "BERT-pretrained-2ndlastmean top 200: 0.6657\n",
            "--------------------\n",
            "ELMO-512tokenmean top 10: 0.2367\n",
            "ELMO-512tokenmean top 100: 0.5280\n",
            "ELMO-512tokenmean top 200: 0.6260\n",
            "--------------------\n",
            "ELMO-4096tokenmean top 10: 0.2620\n",
            "ELMO-4096tokenmean top 100: 0.5357\n",
            "ELMO-4096tokenmean top 200: 0.6407\n",
            "--------------------\n",
            "USE top 10: 0.3400\n",
            "USE top 100: 0.6467\n",
            "USE top 200: 0.7480\n",
            "--------------------\n",
            "W2V top 10: 0.3057\n",
            "W2V top 100: 0.5990\n",
            "W2V top 200: 0.7037\n",
            "--------------------\n",
            "fastText top 10: 0.1767\n",
            "fastText top 100: 0.3690\n",
            "fastText top 200: 0.4473\n"
          ],
          "name": "stdout"
        }
      ]
    },
    {
      "cell_type": "markdown",
      "metadata": {
        "id": "g3p4QLa25FbR",
        "colab_type": "text"
      },
      "source": [
        "BERT-pretrained-15000\n",
        "\n",
        "```\n",
        "--------------------\n",
        "BERT-2ndlastmean top 10: 0.2527\n",
        "BERT-2ndlastmean top 100: 0.5050\n",
        "BERT-2ndlastmean top 200: 0.5923\n",
        "--------------------\n",
        "BERT-pretrained-2ndlastmean top 10: 0.2893\n",
        "BERT-pretrained-2ndlastmean top 100: 0.5590\n",
        "BERT-pretrained-2ndlastmean top 200: 0.6507\n",
        "--------------------\n",
        "ELMO-512tokenmean top 10: 0.2367\n",
        "ELMO-512tokenmean top 100: 0.5280\n",
        "ELMO-512tokenmean top 200: 0.6260\n",
        "--------------------\n",
        "ELMO-4096tokenmean top 10: 0.2620\n",
        "ELMO-4096tokenmean top 100: 0.5357\n",
        "ELMO-4096tokenmean top 200: 0.6407\n",
        "--------------------\n",
        "USE top 10: 0.3400\n",
        "USE top 100: 0.6467\n",
        "USE top 200: 0.7480\n",
        "--------------------\n",
        "W2V top 10: 0.3057\n",
        "W2V top 100: 0.5990\n",
        "W2V top 200: 0.7037\n",
        "--------------------\n",
        "fastText top 10: 0.1767\n",
        "fastText top 100: 0.3690\n",
        "fastText top 200: 0.4473\n",
        "```"
      ]
    },
    {
      "cell_type": "code",
      "metadata": {
        "id": "RqWHgEXlHdMS",
        "colab_type": "code",
        "colab": {}
      },
      "source": [
        ""
      ],
      "execution_count": 0,
      "outputs": []
    },
    {
      "cell_type": "code",
      "metadata": {
        "id": "XSNNlsGv3EKS",
        "colab_type": "code",
        "colab": {}
      },
      "source": [
        ""
      ],
      "execution_count": 0,
      "outputs": []
    },
    {
      "cell_type": "code",
      "metadata": {
        "id": "YUwwipgX3EVr",
        "colab_type": "code",
        "colab": {}
      },
      "source": [
        ""
      ],
      "execution_count": 0,
      "outputs": []
    },
    {
      "cell_type": "code",
      "metadata": {
        "id": "X8QYQsJ7icgz",
        "colab_type": "code",
        "colab": {}
      },
      "source": [
        ""
      ],
      "execution_count": 0,
      "outputs": []
    },
    {
      "cell_type": "code",
      "metadata": {
        "id": "_78791H1icc4",
        "colab_type": "code",
        "colab": {}
      },
      "source": [
        ""
      ],
      "execution_count": 0,
      "outputs": []
    },
    {
      "cell_type": "markdown",
      "metadata": {
        "id": "ziHLhHaOk5-i",
        "colab_type": "text"
      },
      "source": [
        "# Triplet Loss model\n",
        "\n",
        "Train triplet loss models for each extracted feature.  \n",
        "The models have the same output dimension that are used to compute similarities."
      ]
    },
    {
      "cell_type": "markdown",
      "metadata": {
        "id": "RiBZUWQvs2ZQ",
        "colab_type": "text"
      },
      "source": [
        "## Data handling"
      ]
    },
    {
      "cell_type": "code",
      "metadata": {
        "id": "rMDTSr93s-eX",
        "colab_type": "code",
        "colab": {}
      },
      "source": [
        "import os\n",
        "import datetime\n",
        "import pickle\n",
        "import gzip\n",
        "import math\n",
        "import pandas as pd\n",
        "import numpy as np\n",
        "\n",
        "import tensorflow as tf\n",
        "\n",
        "tf.enable_eager_execution()"
      ],
      "execution_count": 0,
      "outputs": []
    },
    {
      "cell_type": "code",
      "metadata": {
        "id": "RwRaM7jxtEDt",
        "colab_type": "code",
        "outputId": "67ceb4e2-cd4c-4e87-b282-1d899c4d1ea4",
        "colab": {
          "base_uri": "https://localhost:8080/",
          "height": 34
        }
      },
      "source": [
        "tf.__version__"
      ],
      "execution_count": 34,
      "outputs": [
        {
          "output_type": "execute_result",
          "data": {
            "text/plain": [
              "'1.14.0'"
            ]
          },
          "metadata": {
            "tags": []
          },
          "execution_count": 34
        }
      ]
    },
    {
      "cell_type": "code",
      "metadata": {
        "id": "IO2yNWE1x3HH",
        "colab_type": "code",
        "colab": {}
      },
      "source": [
        "citations_info_target = pd.read_pickle(\"./citations_info_3000+3000.df.gz\")\n",
        "test_app = pd.read_pickle(\"./testset_app_3000.df.gz\")\n",
        "grants = pd.read_pickle(\"./grants_for_3000+3000.df.gz\")\n",
        "train_app = pd.read_pickle(\"./training_app_3000.df.gz\")"
      ],
      "execution_count": 0,
      "outputs": []
    },
    {
      "cell_type": "code",
      "metadata": {
        "id": "qROgkPUOmug_",
        "colab_type": "code",
        "colab": {}
      },
      "source": [
        "def read_feature(target_dict, model: str):\n",
        "  train_fpath, test_fpath, grant_fpath = target_dict[model]\n",
        "  train_app_f = pd.read_pickle(f\"./{train_fpath}.pkl.gz\")\n",
        "  test_app_f = pd.read_pickle(f\"./{test_fpath}.pkl.gz\")\n",
        "  grant_f = pd.read_pickle(f\"./{grant_fpath}.pkl.gz\")\n",
        "  \n",
        "  assert 3000 == train_app_f.shape[0]\n",
        "  assert 3000 == test_app_f.shape[0]\n",
        "  assert 6440 == grant_f.shape[0]\n",
        "  \n",
        "  return train_app_f, test_app_f, grant_f"
      ],
      "execution_count": 0,
      "outputs": []
    },
    {
      "cell_type": "code",
      "metadata": {
        "id": "bVUNf7JtMCOZ",
        "colab_type": "code",
        "colab": {}
      },
      "source": [
        "tr, te, gr = read_feature(target_features_dict, \"BERT-2ndlastmean\")"
      ],
      "execution_count": 0,
      "outputs": []
    },
    {
      "cell_type": "code",
      "metadata": {
        "id": "PGFWGfUEyCd3",
        "colab_type": "code",
        "outputId": "6da1effd-e0aa-45c1-c057-c1fbe48bc355",
        "colab": {
          "base_uri": "https://localhost:8080/",
          "height": 34
        }
      },
      "source": [
        "tr.shape"
      ],
      "execution_count": 38,
      "outputs": [
        {
          "output_type": "execute_result",
          "data": {
            "text/plain": [
              "(3000, 768)"
            ]
          },
          "metadata": {
            "tags": []
          },
          "execution_count": 38
        }
      ]
    },
    {
      "cell_type": "code",
      "metadata": {
        "id": "NFh7kl54yHoe",
        "colab_type": "code",
        "colab": {}
      },
      "source": [
        "def normalize_feature(train_app_f, test_app_f, grant_f):\n",
        "    train_normalized_feature_dict = {\n",
        "        k:v/np.linalg.norm(v) for k,v in zip(train_app['app_id'], train_app_f[:, ])\n",
        "    }\n",
        "    test_normalized_feature_dict = { \n",
        "        k:v/np.linalg.norm(v) for k,v in zip(test_app['app_id'], test_app_f[:, ])\n",
        "    }\n",
        "    grants_normalized_feature_dict = { \n",
        "        k:v/np.linalg.norm(v) for k,v in zip(grants['parsed'], grant_f[:, ])\n",
        "    }\n",
        "    \n",
        "    return train_normalized_feature_dict, test_normalized_feature_dict, grants_normalized_feature_dict"
      ],
      "execution_count": 0,
      "outputs": []
    },
    {
      "cell_type": "code",
      "metadata": {
        "id": "R7VLpyq-Lj5C",
        "colab_type": "code",
        "colab": {}
      },
      "source": [
        "tr_dict, te_dict, gr_dict = normalize_feature(tr, te, gr)"
      ],
      "execution_count": 0,
      "outputs": []
    },
    {
      "cell_type": "code",
      "metadata": {
        "id": "e0zu7unVLq3z",
        "colab_type": "code",
        "outputId": "fb02b987-8efc-4864-df77-730e3cba63de",
        "colab": {
          "base_uri": "https://localhost:8080/",
          "height": 34
        }
      },
      "source": [
        "list(tr_dict.keys())[:5]"
      ],
      "execution_count": 41,
      "outputs": [
        {
          "output_type": "execute_result",
          "data": {
            "text/plain": [
              "[12130785, 12652424, 12214532, 14204411, 13090122]"
            ]
          },
          "metadata": {
            "tags": []
          },
          "execution_count": 41
        }
      ]
    },
    {
      "cell_type": "code",
      "metadata": {
        "id": "tSGmyEHwLa6P",
        "colab_type": "code",
        "colab": {}
      },
      "source": [
        "def to_df(train_normalized_feature_dict, test_normalized_feature_dict, grants_normalized_feature_dict):\n",
        "    train_app_df = pd.DataFrame.from_dict(train_normalized_feature_dict).T\n",
        "    test_app_df = pd.DataFrame.from_dict(test_normalized_feature_dict).T\n",
        "    grants_target_df = pd.DataFrame.from_dict(grants_normalized_feature_dict).T\n",
        "    \n",
        "    return train_app_df, test_app_df, grants_target_df"
      ],
      "execution_count": 0,
      "outputs": []
    },
    {
      "cell_type": "code",
      "metadata": {
        "id": "bjEXIEAxzAP1",
        "colab_type": "code",
        "colab": {}
      },
      "source": [
        "tr_df, te_df, gr_df = to_df(tr_dict, te_dict, gr_dict)"
      ],
      "execution_count": 0,
      "outputs": []
    },
    {
      "cell_type": "code",
      "metadata": {
        "id": "xbvXrqKtzJ9_",
        "colab_type": "code",
        "outputId": "5faa227a-2719-4ced-d3fa-7e8a66535281",
        "colab": {
          "base_uri": "https://localhost:8080/",
          "height": 190
        }
      },
      "source": [
        "tr_df.head(3)"
      ],
      "execution_count": 44,
      "outputs": [
        {
          "output_type": "execute_result",
          "data": {
            "text/html": [
              "<div>\n",
              "<style scoped>\n",
              "    .dataframe tbody tr th:only-of-type {\n",
              "        vertical-align: middle;\n",
              "    }\n",
              "\n",
              "    .dataframe tbody tr th {\n",
              "        vertical-align: top;\n",
              "    }\n",
              "\n",
              "    .dataframe thead th {\n",
              "        text-align: right;\n",
              "    }\n",
              "</style>\n",
              "<table border=\"1\" class=\"dataframe\">\n",
              "  <thead>\n",
              "    <tr style=\"text-align: right;\">\n",
              "      <th></th>\n",
              "      <th>0</th>\n",
              "      <th>1</th>\n",
              "      <th>2</th>\n",
              "      <th>3</th>\n",
              "      <th>4</th>\n",
              "      <th>5</th>\n",
              "      <th>6</th>\n",
              "      <th>7</th>\n",
              "      <th>8</th>\n",
              "      <th>9</th>\n",
              "      <th>10</th>\n",
              "      <th>11</th>\n",
              "      <th>12</th>\n",
              "      <th>13</th>\n",
              "      <th>14</th>\n",
              "      <th>15</th>\n",
              "      <th>16</th>\n",
              "      <th>17</th>\n",
              "      <th>18</th>\n",
              "      <th>19</th>\n",
              "      <th>20</th>\n",
              "      <th>21</th>\n",
              "      <th>22</th>\n",
              "      <th>23</th>\n",
              "      <th>24</th>\n",
              "      <th>25</th>\n",
              "      <th>26</th>\n",
              "      <th>27</th>\n",
              "      <th>28</th>\n",
              "      <th>29</th>\n",
              "      <th>30</th>\n",
              "      <th>31</th>\n",
              "      <th>32</th>\n",
              "      <th>33</th>\n",
              "      <th>34</th>\n",
              "      <th>35</th>\n",
              "      <th>36</th>\n",
              "      <th>37</th>\n",
              "      <th>38</th>\n",
              "      <th>39</th>\n",
              "      <th>...</th>\n",
              "      <th>728</th>\n",
              "      <th>729</th>\n",
              "      <th>730</th>\n",
              "      <th>731</th>\n",
              "      <th>732</th>\n",
              "      <th>733</th>\n",
              "      <th>734</th>\n",
              "      <th>735</th>\n",
              "      <th>736</th>\n",
              "      <th>737</th>\n",
              "      <th>738</th>\n",
              "      <th>739</th>\n",
              "      <th>740</th>\n",
              "      <th>741</th>\n",
              "      <th>742</th>\n",
              "      <th>743</th>\n",
              "      <th>744</th>\n",
              "      <th>745</th>\n",
              "      <th>746</th>\n",
              "      <th>747</th>\n",
              "      <th>748</th>\n",
              "      <th>749</th>\n",
              "      <th>750</th>\n",
              "      <th>751</th>\n",
              "      <th>752</th>\n",
              "      <th>753</th>\n",
              "      <th>754</th>\n",
              "      <th>755</th>\n",
              "      <th>756</th>\n",
              "      <th>757</th>\n",
              "      <th>758</th>\n",
              "      <th>759</th>\n",
              "      <th>760</th>\n",
              "      <th>761</th>\n",
              "      <th>762</th>\n",
              "      <th>763</th>\n",
              "      <th>764</th>\n",
              "      <th>765</th>\n",
              "      <th>766</th>\n",
              "      <th>767</th>\n",
              "    </tr>\n",
              "  </thead>\n",
              "  <tbody>\n",
              "    <tr>\n",
              "      <th>12130785</th>\n",
              "      <td>-0.046645</td>\n",
              "      <td>0.006913</td>\n",
              "      <td>0.010893</td>\n",
              "      <td>-0.017808</td>\n",
              "      <td>0.032082</td>\n",
              "      <td>0.007820</td>\n",
              "      <td>0.011999</td>\n",
              "      <td>-0.015869</td>\n",
              "      <td>0.021733</td>\n",
              "      <td>0.018658</td>\n",
              "      <td>0.002937</td>\n",
              "      <td>-0.026457</td>\n",
              "      <td>-0.016850</td>\n",
              "      <td>0.005283</td>\n",
              "      <td>-0.015389</td>\n",
              "      <td>0.058526</td>\n",
              "      <td>0.044367</td>\n",
              "      <td>-0.006275</td>\n",
              "      <td>-0.005156</td>\n",
              "      <td>0.023779</td>\n",
              "      <td>0.013409</td>\n",
              "      <td>-0.025611</td>\n",
              "      <td>0.009284</td>\n",
              "      <td>0.045420</td>\n",
              "      <td>0.010558</td>\n",
              "      <td>0.024745</td>\n",
              "      <td>0.010859</td>\n",
              "      <td>0.000776</td>\n",
              "      <td>-0.038072</td>\n",
              "      <td>0.038470</td>\n",
              "      <td>0.032499</td>\n",
              "      <td>0.020875</td>\n",
              "      <td>-0.006601</td>\n",
              "      <td>-0.053681</td>\n",
              "      <td>0.017432</td>\n",
              "      <td>0.003357</td>\n",
              "      <td>0.013471</td>\n",
              "      <td>-0.013657</td>\n",
              "      <td>-0.010706</td>\n",
              "      <td>0.022657</td>\n",
              "      <td>...</td>\n",
              "      <td>-0.020080</td>\n",
              "      <td>-0.055074</td>\n",
              "      <td>0.007421</td>\n",
              "      <td>-0.011994</td>\n",
              "      <td>-0.017921</td>\n",
              "      <td>-0.066461</td>\n",
              "      <td>0.055465</td>\n",
              "      <td>-0.019081</td>\n",
              "      <td>-0.002855</td>\n",
              "      <td>-0.003388</td>\n",
              "      <td>0.000854</td>\n",
              "      <td>0.018889</td>\n",
              "      <td>0.015069</td>\n",
              "      <td>0.015604</td>\n",
              "      <td>0.017174</td>\n",
              "      <td>-0.025693</td>\n",
              "      <td>0.015463</td>\n",
              "      <td>0.013340</td>\n",
              "      <td>-0.012412</td>\n",
              "      <td>0.074775</td>\n",
              "      <td>0.000853</td>\n",
              "      <td>0.027863</td>\n",
              "      <td>0.000769</td>\n",
              "      <td>0.009007</td>\n",
              "      <td>-0.004997</td>\n",
              "      <td>0.016910</td>\n",
              "      <td>-0.010935</td>\n",
              "      <td>-0.032986</td>\n",
              "      <td>-0.009932</td>\n",
              "      <td>0.005521</td>\n",
              "      <td>-0.044306</td>\n",
              "      <td>-0.021679</td>\n",
              "      <td>0.015486</td>\n",
              "      <td>0.006068</td>\n",
              "      <td>-0.023185</td>\n",
              "      <td>-0.034466</td>\n",
              "      <td>-0.029968</td>\n",
              "      <td>-0.009365</td>\n",
              "      <td>-0.007689</td>\n",
              "      <td>0.015788</td>\n",
              "    </tr>\n",
              "    <tr>\n",
              "      <th>12652424</th>\n",
              "      <td>-0.061969</td>\n",
              "      <td>0.017713</td>\n",
              "      <td>0.009619</td>\n",
              "      <td>-0.009157</td>\n",
              "      <td>0.039077</td>\n",
              "      <td>-0.017372</td>\n",
              "      <td>0.014095</td>\n",
              "      <td>-0.015718</td>\n",
              "      <td>0.007638</td>\n",
              "      <td>0.021244</td>\n",
              "      <td>-0.004633</td>\n",
              "      <td>-0.041532</td>\n",
              "      <td>-0.024072</td>\n",
              "      <td>0.017764</td>\n",
              "      <td>-0.041506</td>\n",
              "      <td>0.055293</td>\n",
              "      <td>0.016456</td>\n",
              "      <td>-0.007478</td>\n",
              "      <td>0.000613</td>\n",
              "      <td>0.005077</td>\n",
              "      <td>0.016292</td>\n",
              "      <td>-0.013882</td>\n",
              "      <td>-0.012833</td>\n",
              "      <td>0.027040</td>\n",
              "      <td>0.016649</td>\n",
              "      <td>0.012265</td>\n",
              "      <td>-0.007724</td>\n",
              "      <td>-0.026031</td>\n",
              "      <td>-0.032674</td>\n",
              "      <td>0.028179</td>\n",
              "      <td>0.009130</td>\n",
              "      <td>0.017308</td>\n",
              "      <td>0.014556</td>\n",
              "      <td>-0.037420</td>\n",
              "      <td>0.030846</td>\n",
              "      <td>-0.007933</td>\n",
              "      <td>0.001425</td>\n",
              "      <td>-0.031675</td>\n",
              "      <td>-0.017687</td>\n",
              "      <td>0.013407</td>\n",
              "      <td>...</td>\n",
              "      <td>-0.014837</td>\n",
              "      <td>-0.045542</td>\n",
              "      <td>-0.008787</td>\n",
              "      <td>-0.011497</td>\n",
              "      <td>-0.016257</td>\n",
              "      <td>-0.057126</td>\n",
              "      <td>0.043559</td>\n",
              "      <td>-0.013549</td>\n",
              "      <td>-0.014678</td>\n",
              "      <td>-0.013844</td>\n",
              "      <td>-0.004745</td>\n",
              "      <td>0.007421</td>\n",
              "      <td>0.017101</td>\n",
              "      <td>0.026955</td>\n",
              "      <td>0.012102</td>\n",
              "      <td>-0.032124</td>\n",
              "      <td>-0.010950</td>\n",
              "      <td>0.002367</td>\n",
              "      <td>-0.001238</td>\n",
              "      <td>0.079090</td>\n",
              "      <td>-0.019542</td>\n",
              "      <td>0.033533</td>\n",
              "      <td>0.010786</td>\n",
              "      <td>0.009152</td>\n",
              "      <td>-0.028368</td>\n",
              "      <td>0.017872</td>\n",
              "      <td>0.008089</td>\n",
              "      <td>-0.021367</td>\n",
              "      <td>-0.024182</td>\n",
              "      <td>0.005731</td>\n",
              "      <td>-0.032880</td>\n",
              "      <td>-0.022294</td>\n",
              "      <td>-0.000458</td>\n",
              "      <td>0.017317</td>\n",
              "      <td>-0.018435</td>\n",
              "      <td>-0.033708</td>\n",
              "      <td>-0.028398</td>\n",
              "      <td>-0.003872</td>\n",
              "      <td>0.012843</td>\n",
              "      <td>0.012283</td>\n",
              "    </tr>\n",
              "    <tr>\n",
              "      <th>12214532</th>\n",
              "      <td>-0.076274</td>\n",
              "      <td>0.005261</td>\n",
              "      <td>0.017580</td>\n",
              "      <td>-0.016479</td>\n",
              "      <td>0.026777</td>\n",
              "      <td>-0.001571</td>\n",
              "      <td>0.006106</td>\n",
              "      <td>-0.014504</td>\n",
              "      <td>-0.000292</td>\n",
              "      <td>0.020798</td>\n",
              "      <td>-0.000573</td>\n",
              "      <td>-0.013655</td>\n",
              "      <td>-0.023409</td>\n",
              "      <td>0.018188</td>\n",
              "      <td>-0.026328</td>\n",
              "      <td>0.066785</td>\n",
              "      <td>0.021590</td>\n",
              "      <td>-0.020870</td>\n",
              "      <td>-0.009991</td>\n",
              "      <td>0.023161</td>\n",
              "      <td>0.018887</td>\n",
              "      <td>-0.010480</td>\n",
              "      <td>-0.016887</td>\n",
              "      <td>0.016502</td>\n",
              "      <td>0.010315</td>\n",
              "      <td>0.006833</td>\n",
              "      <td>0.002492</td>\n",
              "      <td>0.001475</td>\n",
              "      <td>-0.025198</td>\n",
              "      <td>0.034632</td>\n",
              "      <td>0.023642</td>\n",
              "      <td>0.019162</td>\n",
              "      <td>0.000431</td>\n",
              "      <td>-0.056014</td>\n",
              "      <td>0.008303</td>\n",
              "      <td>0.003038</td>\n",
              "      <td>0.022140</td>\n",
              "      <td>0.001026</td>\n",
              "      <td>-0.014061</td>\n",
              "      <td>0.024689</td>\n",
              "      <td>...</td>\n",
              "      <td>-0.010662</td>\n",
              "      <td>-0.046897</td>\n",
              "      <td>0.011670</td>\n",
              "      <td>-0.011461</td>\n",
              "      <td>-0.011180</td>\n",
              "      <td>-0.034187</td>\n",
              "      <td>0.067544</td>\n",
              "      <td>-0.009973</td>\n",
              "      <td>-0.003486</td>\n",
              "      <td>-0.022536</td>\n",
              "      <td>0.007160</td>\n",
              "      <td>0.010439</td>\n",
              "      <td>0.029017</td>\n",
              "      <td>0.007350</td>\n",
              "      <td>0.022905</td>\n",
              "      <td>-0.025319</td>\n",
              "      <td>-0.017866</td>\n",
              "      <td>0.020271</td>\n",
              "      <td>0.002670</td>\n",
              "      <td>0.075160</td>\n",
              "      <td>-0.000157</td>\n",
              "      <td>0.034308</td>\n",
              "      <td>0.037252</td>\n",
              "      <td>-0.005920</td>\n",
              "      <td>0.006003</td>\n",
              "      <td>-0.007328</td>\n",
              "      <td>-0.010786</td>\n",
              "      <td>-0.019647</td>\n",
              "      <td>-0.014919</td>\n",
              "      <td>-0.000992</td>\n",
              "      <td>-0.050182</td>\n",
              "      <td>-0.033599</td>\n",
              "      <td>0.012297</td>\n",
              "      <td>0.012928</td>\n",
              "      <td>-0.001658</td>\n",
              "      <td>-0.015105</td>\n",
              "      <td>-0.025801</td>\n",
              "      <td>-0.018709</td>\n",
              "      <td>0.008812</td>\n",
              "      <td>0.021856</td>\n",
              "    </tr>\n",
              "  </tbody>\n",
              "</table>\n",
              "<p>3 rows × 768 columns</p>\n",
              "</div>"
            ],
            "text/plain": [
              "               0         1         2    ...       765       766       767\n",
              "12130785 -0.046645  0.006913  0.010893  ... -0.009365 -0.007689  0.015788\n",
              "12652424 -0.061969  0.017713  0.009619  ... -0.003872  0.012843  0.012283\n",
              "12214532 -0.076274  0.005261  0.017580  ... -0.018709  0.008812  0.021856\n",
              "\n",
              "[3 rows x 768 columns]"
            ]
          },
          "metadata": {
            "tags": []
          },
          "execution_count": 44
        }
      ]
    },
    {
      "cell_type": "code",
      "metadata": {
        "id": "iiVHhivjzT0O",
        "colab_type": "code",
        "outputId": "04cd7abe-1127-4076-c002-f8bef88a2315",
        "colab": {
          "base_uri": "https://localhost:8080/",
          "height": 34
        }
      },
      "source": [
        "sum(tr_df.iloc[0, :] ** 2)"
      ],
      "execution_count": 45,
      "outputs": [
        {
          "output_type": "execute_result",
          "data": {
            "text/plain": [
              "1.0000000000000007"
            ]
          },
          "metadata": {
            "tags": []
          },
          "execution_count": 45
        }
      ]
    },
    {
      "cell_type": "code",
      "metadata": {
        "id": "nNQ0PhNWzNWA",
        "colab_type": "code",
        "outputId": "349d1b48-9906-446e-c3a2-fbb273e20539",
        "colab": {
          "base_uri": "https://localhost:8080/",
          "height": 190
        }
      },
      "source": [
        "gr_df.head(3)"
      ],
      "execution_count": 46,
      "outputs": [
        {
          "output_type": "execute_result",
          "data": {
            "text/html": [
              "<div>\n",
              "<style scoped>\n",
              "    .dataframe tbody tr th:only-of-type {\n",
              "        vertical-align: middle;\n",
              "    }\n",
              "\n",
              "    .dataframe tbody tr th {\n",
              "        vertical-align: top;\n",
              "    }\n",
              "\n",
              "    .dataframe thead th {\n",
              "        text-align: right;\n",
              "    }\n",
              "</style>\n",
              "<table border=\"1\" class=\"dataframe\">\n",
              "  <thead>\n",
              "    <tr style=\"text-align: right;\">\n",
              "      <th></th>\n",
              "      <th>0</th>\n",
              "      <th>1</th>\n",
              "      <th>2</th>\n",
              "      <th>3</th>\n",
              "      <th>4</th>\n",
              "      <th>5</th>\n",
              "      <th>6</th>\n",
              "      <th>7</th>\n",
              "      <th>8</th>\n",
              "      <th>9</th>\n",
              "      <th>10</th>\n",
              "      <th>11</th>\n",
              "      <th>12</th>\n",
              "      <th>13</th>\n",
              "      <th>14</th>\n",
              "      <th>15</th>\n",
              "      <th>16</th>\n",
              "      <th>17</th>\n",
              "      <th>18</th>\n",
              "      <th>19</th>\n",
              "      <th>20</th>\n",
              "      <th>21</th>\n",
              "      <th>22</th>\n",
              "      <th>23</th>\n",
              "      <th>24</th>\n",
              "      <th>25</th>\n",
              "      <th>26</th>\n",
              "      <th>27</th>\n",
              "      <th>28</th>\n",
              "      <th>29</th>\n",
              "      <th>30</th>\n",
              "      <th>31</th>\n",
              "      <th>32</th>\n",
              "      <th>33</th>\n",
              "      <th>34</th>\n",
              "      <th>35</th>\n",
              "      <th>36</th>\n",
              "      <th>37</th>\n",
              "      <th>38</th>\n",
              "      <th>39</th>\n",
              "      <th>...</th>\n",
              "      <th>728</th>\n",
              "      <th>729</th>\n",
              "      <th>730</th>\n",
              "      <th>731</th>\n",
              "      <th>732</th>\n",
              "      <th>733</th>\n",
              "      <th>734</th>\n",
              "      <th>735</th>\n",
              "      <th>736</th>\n",
              "      <th>737</th>\n",
              "      <th>738</th>\n",
              "      <th>739</th>\n",
              "      <th>740</th>\n",
              "      <th>741</th>\n",
              "      <th>742</th>\n",
              "      <th>743</th>\n",
              "      <th>744</th>\n",
              "      <th>745</th>\n",
              "      <th>746</th>\n",
              "      <th>747</th>\n",
              "      <th>748</th>\n",
              "      <th>749</th>\n",
              "      <th>750</th>\n",
              "      <th>751</th>\n",
              "      <th>752</th>\n",
              "      <th>753</th>\n",
              "      <th>754</th>\n",
              "      <th>755</th>\n",
              "      <th>756</th>\n",
              "      <th>757</th>\n",
              "      <th>758</th>\n",
              "      <th>759</th>\n",
              "      <th>760</th>\n",
              "      <th>761</th>\n",
              "      <th>762</th>\n",
              "      <th>763</th>\n",
              "      <th>764</th>\n",
              "      <th>765</th>\n",
              "      <th>766</th>\n",
              "      <th>767</th>\n",
              "    </tr>\n",
              "  </thead>\n",
              "  <tbody>\n",
              "    <tr>\n",
              "      <th>6837113</th>\n",
              "      <td>-0.052470</td>\n",
              "      <td>-0.011762</td>\n",
              "      <td>0.026219</td>\n",
              "      <td>-0.018850</td>\n",
              "      <td>0.025676</td>\n",
              "      <td>0.017800</td>\n",
              "      <td>0.025282</td>\n",
              "      <td>-0.023923</td>\n",
              "      <td>0.026376</td>\n",
              "      <td>0.019638</td>\n",
              "      <td>0.018501</td>\n",
              "      <td>-0.021956</td>\n",
              "      <td>-0.018714</td>\n",
              "      <td>0.011238</td>\n",
              "      <td>-0.010180</td>\n",
              "      <td>0.042673</td>\n",
              "      <td>0.027848</td>\n",
              "      <td>-0.001644</td>\n",
              "      <td>-0.001062</td>\n",
              "      <td>0.029849</td>\n",
              "      <td>0.032307</td>\n",
              "      <td>-0.016766</td>\n",
              "      <td>-0.002610</td>\n",
              "      <td>0.003720</td>\n",
              "      <td>0.010422</td>\n",
              "      <td>0.027964</td>\n",
              "      <td>-0.010004</td>\n",
              "      <td>-0.013519</td>\n",
              "      <td>-0.039761</td>\n",
              "      <td>0.030001</td>\n",
              "      <td>0.029491</td>\n",
              "      <td>0.031985</td>\n",
              "      <td>0.007977</td>\n",
              "      <td>-0.043301</td>\n",
              "      <td>0.015796</td>\n",
              "      <td>-0.003283</td>\n",
              "      <td>0.024377</td>\n",
              "      <td>-0.025870</td>\n",
              "      <td>0.000478</td>\n",
              "      <td>0.009878</td>\n",
              "      <td>...</td>\n",
              "      <td>-0.031142</td>\n",
              "      <td>-0.047118</td>\n",
              "      <td>-0.005661</td>\n",
              "      <td>-0.020642</td>\n",
              "      <td>-0.026128</td>\n",
              "      <td>-0.059563</td>\n",
              "      <td>0.055751</td>\n",
              "      <td>-0.019769</td>\n",
              "      <td>-0.002810</td>\n",
              "      <td>-0.005285</td>\n",
              "      <td>-0.024311</td>\n",
              "      <td>0.022666</td>\n",
              "      <td>0.010194</td>\n",
              "      <td>0.011936</td>\n",
              "      <td>0.001966</td>\n",
              "      <td>-0.031903</td>\n",
              "      <td>0.010330</td>\n",
              "      <td>-0.005121</td>\n",
              "      <td>-0.001706</td>\n",
              "      <td>0.070945</td>\n",
              "      <td>-0.009578</td>\n",
              "      <td>0.026239</td>\n",
              "      <td>-0.013785</td>\n",
              "      <td>-0.000701</td>\n",
              "      <td>-0.002448</td>\n",
              "      <td>0.008421</td>\n",
              "      <td>0.000625</td>\n",
              "      <td>-0.010738</td>\n",
              "      <td>-0.018865</td>\n",
              "      <td>-0.001817</td>\n",
              "      <td>-0.027796</td>\n",
              "      <td>-0.007236</td>\n",
              "      <td>0.010103</td>\n",
              "      <td>0.005393</td>\n",
              "      <td>-0.013165</td>\n",
              "      <td>-0.047559</td>\n",
              "      <td>-0.043471</td>\n",
              "      <td>0.000434</td>\n",
              "      <td>0.004245</td>\n",
              "      <td>0.024405</td>\n",
              "    </tr>\n",
              "    <tr>\n",
              "      <th>6837224</th>\n",
              "      <td>-0.037794</td>\n",
              "      <td>0.025686</td>\n",
              "      <td>0.017124</td>\n",
              "      <td>-0.017776</td>\n",
              "      <td>0.051855</td>\n",
              "      <td>-0.018968</td>\n",
              "      <td>0.025671</td>\n",
              "      <td>0.005169</td>\n",
              "      <td>0.036447</td>\n",
              "      <td>0.011105</td>\n",
              "      <td>0.002971</td>\n",
              "      <td>-0.025132</td>\n",
              "      <td>-0.024133</td>\n",
              "      <td>0.015560</td>\n",
              "      <td>-0.013505</td>\n",
              "      <td>0.051734</td>\n",
              "      <td>0.031949</td>\n",
              "      <td>0.002038</td>\n",
              "      <td>-0.007399</td>\n",
              "      <td>0.013816</td>\n",
              "      <td>0.021255</td>\n",
              "      <td>-0.015452</td>\n",
              "      <td>0.011260</td>\n",
              "      <td>0.032981</td>\n",
              "      <td>0.010058</td>\n",
              "      <td>0.021520</td>\n",
              "      <td>-0.000565</td>\n",
              "      <td>-0.030208</td>\n",
              "      <td>-0.027479</td>\n",
              "      <td>0.015198</td>\n",
              "      <td>0.028078</td>\n",
              "      <td>0.037707</td>\n",
              "      <td>0.020563</td>\n",
              "      <td>-0.043211</td>\n",
              "      <td>0.024382</td>\n",
              "      <td>-0.011991</td>\n",
              "      <td>-0.007263</td>\n",
              "      <td>-0.010826</td>\n",
              "      <td>-0.019962</td>\n",
              "      <td>0.029432</td>\n",
              "      <td>...</td>\n",
              "      <td>-0.028112</td>\n",
              "      <td>-0.054487</td>\n",
              "      <td>-0.013329</td>\n",
              "      <td>0.000977</td>\n",
              "      <td>-0.014300</td>\n",
              "      <td>-0.015428</td>\n",
              "      <td>0.038196</td>\n",
              "      <td>-0.026487</td>\n",
              "      <td>-0.007385</td>\n",
              "      <td>-0.004392</td>\n",
              "      <td>-0.023546</td>\n",
              "      <td>-0.005929</td>\n",
              "      <td>-0.000692</td>\n",
              "      <td>0.016306</td>\n",
              "      <td>-0.005261</td>\n",
              "      <td>-0.007938</td>\n",
              "      <td>0.007620</td>\n",
              "      <td>0.037378</td>\n",
              "      <td>-0.000861</td>\n",
              "      <td>0.073579</td>\n",
              "      <td>-0.005105</td>\n",
              "      <td>0.030803</td>\n",
              "      <td>-0.014448</td>\n",
              "      <td>-0.015768</td>\n",
              "      <td>0.006296</td>\n",
              "      <td>-0.000058</td>\n",
              "      <td>-0.017964</td>\n",
              "      <td>-0.027644</td>\n",
              "      <td>-0.011758</td>\n",
              "      <td>0.001680</td>\n",
              "      <td>-0.040544</td>\n",
              "      <td>-0.021849</td>\n",
              "      <td>0.021917</td>\n",
              "      <td>0.037093</td>\n",
              "      <td>-0.013227</td>\n",
              "      <td>-0.041878</td>\n",
              "      <td>-0.031920</td>\n",
              "      <td>-0.027740</td>\n",
              "      <td>-0.008683</td>\n",
              "      <td>0.010178</td>\n",
              "    </tr>\n",
              "    <tr>\n",
              "      <th>6837699</th>\n",
              "      <td>-0.043172</td>\n",
              "      <td>-0.002984</td>\n",
              "      <td>0.036607</td>\n",
              "      <td>-0.000916</td>\n",
              "      <td>0.022144</td>\n",
              "      <td>-0.009788</td>\n",
              "      <td>-0.010236</td>\n",
              "      <td>-0.005002</td>\n",
              "      <td>0.013355</td>\n",
              "      <td>-0.002435</td>\n",
              "      <td>-0.000908</td>\n",
              "      <td>-0.028002</td>\n",
              "      <td>-0.024239</td>\n",
              "      <td>0.012131</td>\n",
              "      <td>-0.016714</td>\n",
              "      <td>0.031939</td>\n",
              "      <td>0.008673</td>\n",
              "      <td>-0.001092</td>\n",
              "      <td>-0.044129</td>\n",
              "      <td>0.016188</td>\n",
              "      <td>0.033273</td>\n",
              "      <td>-0.011019</td>\n",
              "      <td>-0.001665</td>\n",
              "      <td>0.020989</td>\n",
              "      <td>0.016197</td>\n",
              "      <td>0.007904</td>\n",
              "      <td>0.006510</td>\n",
              "      <td>-0.029697</td>\n",
              "      <td>-0.005616</td>\n",
              "      <td>0.004217</td>\n",
              "      <td>0.012563</td>\n",
              "      <td>0.024203</td>\n",
              "      <td>0.024600</td>\n",
              "      <td>-0.038445</td>\n",
              "      <td>0.020260</td>\n",
              "      <td>-0.028640</td>\n",
              "      <td>0.027461</td>\n",
              "      <td>-0.013246</td>\n",
              "      <td>-0.000194</td>\n",
              "      <td>0.011208</td>\n",
              "      <td>...</td>\n",
              "      <td>-0.000281</td>\n",
              "      <td>-0.039175</td>\n",
              "      <td>-0.024974</td>\n",
              "      <td>-0.003366</td>\n",
              "      <td>-0.004325</td>\n",
              "      <td>-0.038942</td>\n",
              "      <td>0.030466</td>\n",
              "      <td>-0.004291</td>\n",
              "      <td>0.014980</td>\n",
              "      <td>-0.012127</td>\n",
              "      <td>-0.003047</td>\n",
              "      <td>0.006677</td>\n",
              "      <td>0.015516</td>\n",
              "      <td>0.003934</td>\n",
              "      <td>-0.016808</td>\n",
              "      <td>-0.021768</td>\n",
              "      <td>0.000449</td>\n",
              "      <td>0.031220</td>\n",
              "      <td>-0.003773</td>\n",
              "      <td>0.062103</td>\n",
              "      <td>0.004147</td>\n",
              "      <td>0.023740</td>\n",
              "      <td>-0.006793</td>\n",
              "      <td>0.004333</td>\n",
              "      <td>0.008368</td>\n",
              "      <td>0.011173</td>\n",
              "      <td>-0.003968</td>\n",
              "      <td>-0.022614</td>\n",
              "      <td>-0.006830</td>\n",
              "      <td>0.000589</td>\n",
              "      <td>-0.037500</td>\n",
              "      <td>-0.030384</td>\n",
              "      <td>-0.000246</td>\n",
              "      <td>0.017766</td>\n",
              "      <td>-0.006978</td>\n",
              "      <td>-0.015143</td>\n",
              "      <td>-0.021031</td>\n",
              "      <td>-0.003455</td>\n",
              "      <td>-0.001084</td>\n",
              "      <td>0.003663</td>\n",
              "    </tr>\n",
              "  </tbody>\n",
              "</table>\n",
              "<p>3 rows × 768 columns</p>\n",
              "</div>"
            ],
            "text/plain": [
              "              0         1         2    ...       765       766       767\n",
              "6837113 -0.052470 -0.011762  0.026219  ...  0.000434  0.004245  0.024405\n",
              "6837224 -0.037794  0.025686  0.017124  ... -0.027740 -0.008683  0.010178\n",
              "6837699 -0.043172 -0.002984  0.036607  ... -0.003455 -0.001084  0.003663\n",
              "\n",
              "[3 rows x 768 columns]"
            ]
          },
          "metadata": {
            "tags": []
          },
          "execution_count": 46
        }
      ]
    },
    {
      "cell_type": "code",
      "metadata": {
        "id": "-jEUtPXLzp_i",
        "colab_type": "code",
        "colab": {}
      },
      "source": [
        "def make_dict_from_chunk(df, grants_target_df):\n",
        "    app_ids_u = df.index.values\n",
        "    cited_df = citations_info_target.loc[:, ['app_id', 'parsed']]\\\n",
        "                   .drop_duplicates().set_index('app_id')\\\n",
        "                   .loc[app_ids_u, ['parsed']].reset_index()\n",
        "    app_ids = cited_df.app_id.values\n",
        "    grant_ids = cited_df.parsed.values\n",
        "    grant_ids_u = cited_df.parsed.unique()\n",
        "    app_ids_u_blob = df.reindex(app_ids_u).values\n",
        "    grant_ids_u_blob = grants_target_df.reindex(grant_ids_u).values\n",
        "    data_dict = {'app_ids_u':app_ids_u,\n",
        "                 'app_ids':app_ids, \n",
        "                 'app_ids_u_blob': app_ids_u_blob,\n",
        "                 'grant_ids_u':grant_ids_u,\n",
        "                 'grant_ids':grant_ids,\n",
        "                 'grant_ids_u_blob':grant_ids_u_blob}\n",
        "    return data_dict\n"
      ],
      "execution_count": 0,
      "outputs": []
    },
    {
      "cell_type": "code",
      "metadata": {
        "id": "zMug0i4K1dJz",
        "colab_type": "code",
        "colab": {}
      },
      "source": [
        "tr_data_dict = make_dict_from_chunk(tr_df, gr_df)"
      ],
      "execution_count": 0,
      "outputs": []
    },
    {
      "cell_type": "code",
      "metadata": {
        "id": "rGrD2QWZ2lXr",
        "colab_type": "code",
        "outputId": "ce0f0a79-4e3e-4c0b-9056-b87101ebd24f",
        "colab": {
          "base_uri": "https://localhost:8080/",
          "height": 34
        }
      },
      "source": [
        "tr_data_dict.keys()"
      ],
      "execution_count": 49,
      "outputs": [
        {
          "output_type": "execute_result",
          "data": {
            "text/plain": [
              "dict_keys(['app_ids_u', 'app_ids', 'app_ids_u_blob', 'grant_ids_u', 'grant_ids', 'grant_ids_u_blob'])"
            ]
          },
          "metadata": {
            "tags": []
          },
          "execution_count": 49
        }
      ]
    },
    {
      "cell_type": "code",
      "metadata": {
        "id": "e-fmBdJg2o6p",
        "colab_type": "code",
        "outputId": "d5f5aaf4-1b0c-4d3c-c8f2-b4bd7b6821b8",
        "colab": {
          "base_uri": "https://localhost:8080/",
          "height": 34
        }
      },
      "source": [
        "tr_data_dict['app_ids_u']"
      ],
      "execution_count": 50,
      "outputs": [
        {
          "output_type": "execute_result",
          "data": {
            "text/plain": [
              "array([12130785, 12652424, 12214532, ..., 13968266, 12667685, 14601713])"
            ]
          },
          "metadata": {
            "tags": []
          },
          "execution_count": 50
        }
      ]
    },
    {
      "cell_type": "code",
      "metadata": {
        "id": "arbPWMIb2zNU",
        "colab_type": "code",
        "outputId": "a094a44e-0f27-4564-e7d4-346b48e35151",
        "colab": {
          "base_uri": "https://localhost:8080/",
          "height": 34
        }
      },
      "source": [
        "tr_data_dict['grant_ids']"
      ],
      "execution_count": 51,
      "outputs": [
        {
          "output_type": "execute_result",
          "data": {
            "text/plain": [
              "array([7212849, 7814459, 7652956, ..., 7810013, 6913298, 7554640])"
            ]
          },
          "metadata": {
            "tags": []
          },
          "execution_count": 51
        }
      ]
    },
    {
      "cell_type": "markdown",
      "metadata": {
        "id": "ma1DFsk9syVa",
        "colab_type": "text"
      },
      "source": [
        "## Train models"
      ]
    },
    {
      "cell_type": "code",
      "metadata": {
        "id": "uw6p2i_VMCKv",
        "colab_type": "code",
        "colab": {}
      },
      "source": [
        "### LOSS FUNCTIONS: dist(a, b)\n",
        "# Assume that 'a' has dimensions 18 x 100 and 'b' has dimensions \n",
        "# 34x100, we would like to produce a vector with all distances,\n",
        "# having the shape 18 x 34.\n",
        "# we hence first cast 'a' to a shape 18 x 1 x 100\n",
        "# and then 'b' to a shape 1 x 34 x 100. \n",
        "# rules of broadcasting then give us a tensor of 18 x 34 x 100\n",
        "# summing over the last axis only (axis=-1) gives us the desired\n",
        "# 18 x 34 shape\n",
        "\n",
        "### EUCLIDEAN DISTANCE\n",
        "# def dist(a, b):\n",
        "#     with tf.name_scope('dist'):\n",
        "#         diffs = tf.expand_dims(a, axis=1) - tf.expand_dims(b, axis=0)\n",
        "#         return tf.sqrt(tf.reduce_sum(tf.square(diffs), axis=-1) + 1e-12)\n",
        "\n",
        "### COSINE DISTANCE\n",
        "def dist(a, b):\n",
        "    # Assume a and b are normalized to one.\n",
        "    with tf.name_scope('dist'):\n",
        "        prods = tf.math.multiply(tf.expand_dims(a, axis=1), tf.expand_dims(b, axis=0))\n",
        "        unnormalized_dist = tf.subtract(tf.constant(1.0, dtype=tf.float32),\n",
        "                                        tf.reduce_sum(prods, axis=-1))\n",
        "        normalized_dist = tf.multiply(unnormalized_dist, 0.5)\n",
        "        return normalized_dist + 1e-12\n",
        "\n",
        "### COSINE ANGULAR DISTANCE\n",
        "# def dist(a, b):\n",
        "#     # Assume a and b are normalized to one.\n",
        "#     with tf.name_scope('dist'):\n",
        "#         prods = tf.math.multiply(tf.expand_dims(a, axis=1), tf.expand_dims(b, axis=0))\n",
        "#         angular_dist = tf.acos(prods)\n",
        "#         normalized_dist = tf.div(angular_dist, tf.constant(math.pi))\n",
        "#         return normalized_dist + 1e-12"
      ],
      "execution_count": 0,
      "outputs": []
    },
    {
      "cell_type": "code",
      "metadata": {
        "id": "6NnmXFzqpjVT",
        "colab_type": "code",
        "colab": {}
      },
      "source": [
        "def calc_cited_mask(data_dict):\n",
        "    aids_one_hot = tf.equal(tf.expand_dims(data_dict['app_ids_u'], axis=1),\n",
        "                            tf.expand_dims(data_dict['app_ids'], axis=0))\n",
        "    gids_one_hot = tf.equal(tf.expand_dims(data_dict['grant_ids'], axis=1),\n",
        "                            tf.expand_dims(data_dict['grant_ids_u'], axis=0))\n",
        "    cited_mask = tf.matmul(tf.cast(aids_one_hot, tf.int32), \n",
        "                           tf.cast(gids_one_hot, tf.int32))\n",
        "    cited_mask = tf.equal(cited_mask, 1)\n",
        "    return cited_mask\n",
        "  \n",
        "def batch_hard(dists, cited_mask, margin=0.2):\n",
        "    # Assume that app_ids_unique has shape (18, ) and grant_ids_unique (34,)\n",
        "    # app_ids and grant_ids have the same length, 36. This implies \n",
        "    # that there are 2 grants that appear twice.\n",
        "    # We construct a mask for same identity of shape 18 x 34\n",
        "    negative_mask = tf.logical_not(cited_mask)\n",
        "    positive_mask = cited_mask\n",
        "    furthest_positive = tf.reduce_max(dists * tf.cast(positive_mask, tf.float32), axis=1)\n",
        "    closest_negative = tf.map_fn(lambda x:tf.reduce_min(\n",
        "                                 tf.boolean_mask(x[0], x[1])),\n",
        "                                 (dists, negative_mask), tf.float32)\n",
        "    diff = furthest_positive - closest_negative\n",
        "    loss = tf.maximum(diff + margin, 0.0)\n",
        "    return loss\n",
        "  \n",
        "def calc_ranks(rdists, cited_mask):\n",
        "    _, indices = tf.nn.top_k(-rdists, k=rdists.shape[1])\n",
        "    _, indices = tf.nn.top_k(-indices, k=rdists.shape[1])\n",
        "    indices = indices +1\n",
        "    sorted_ranks = tf.sort(tf.reshape(tf.cast(cited_mask, tf.int32) * indices, [-1]))\n",
        "    unique, vals, counts = tf.unique_with_counts(sorted_ranks)\n",
        "    return dict(zip(unique.numpy(), counts.numpy()))"
      ],
      "execution_count": 0,
      "outputs": []
    },
    {
      "cell_type": "code",
      "metadata": {
        "id": "2ZXxDcBwmujZ",
        "colab_type": "code",
        "colab": {}
      },
      "source": [
        "class Model(object):\n",
        "    def __init__(self, input_shape, output_shape):\n",
        "        self.input_shape = input_shape\n",
        "        self.output_shape = output_shape\n",
        "        self.W = tf.Variable( tf.random_normal( [self.input_shape, self.output_shape] ), name='weight' )\n",
        "        self.B = tf.Variable( tf.random_normal( [self.output_shape] ), name='bias' ) \n",
        "        self.variables = [self.W, self.B]\n",
        "    \n",
        "    def frwrd_pass(self,X_train):\n",
        "        out = tf.matmul(X_train, self.W) + self.B\n",
        "        normalized_out = tf.nn.l2_normalize(out, axis=1)\n",
        "        return normalized_out"
      ],
      "execution_count": 0,
      "outputs": []
    },
    {
      "cell_type": "code",
      "metadata": {
        "id": "M5B7baLYMCVr",
        "colab_type": "code",
        "colab": {}
      },
      "source": [
        "def get_batch(b_size, df, grants_target_df):\n",
        "    df = df.sample(frac=1, random_state=23)\n",
        "    for chunk in np.array_split(df, b_size):\n",
        "        yield make_dict_from_chunk(chunk, grants_target_df)"
      ],
      "execution_count": 0,
      "outputs": []
    },
    {
      "cell_type": "code",
      "metadata": {
        "id": "sVg10ZhL3h2V",
        "colab_type": "code",
        "colab": {}
      },
      "source": [
        "def calc_dists_for_model(dd, model):\n",
        "  app_ids_u_emb = model.frwrd_pass(dd['app_ids_u_blob'].astype('float32'))\n",
        "  grant_ids_u_emb = model.frwrd_pass(dd['grant_ids_u_blob'].astype('float32'))\n",
        "  dists = dist(app_ids_u_emb, grant_ids_u_emb)\n",
        "  return dists"
      ],
      "execution_count": 0,
      "outputs": []
    },
    {
      "cell_type": "code",
      "metadata": {
        "id": "Oidg0bbLHdPr",
        "colab_type": "code",
        "colab": {}
      },
      "source": [
        "from tqdm import tqdm_notebook as tqdm"
      ],
      "execution_count": 0,
      "outputs": []
    },
    {
      "cell_type": "code",
      "metadata": {
        "id": "pC3rQxOU3QgA",
        "colab_type": "code",
        "colab": {}
      },
      "source": [
        "# Parameters.\n",
        "\n",
        "OUTPUT_DIM = 100\n",
        "EPOCHS = 50\n",
        "BATCH_SIZE = 20\n",
        "DEV_SIZE = 400"
      ],
      "execution_count": 0,
      "outputs": []
    },
    {
      "cell_type": "markdown",
      "metadata": {
        "id": "Z0eJxgoXtTrC",
        "colab_type": "text"
      },
      "source": [
        "Train models using each extracted feature."
      ]
    },
    {
      "cell_type": "code",
      "metadata": {
        "id": "7GjFeNLAfGtP",
        "colab_type": "code",
        "colab": {}
      },
      "source": [
        "trained_models = {}"
      ],
      "execution_count": 0,
      "outputs": []
    },
    {
      "cell_type": "code",
      "metadata": {
        "id": "1OcGqiX_fQUi",
        "colab_type": "code",
        "outputId": "6b2045f9-db00-473f-c001-9b4eafcf2ec3",
        "colab": {
          "base_uri": "https://localhost:8080/",
          "height": 1000
        }
      },
      "source": [
        "%%time\n",
        "\n",
        "for model_name in target_features_dict.keys():\n",
        "    print(f\"{model_name} training...\")\n",
        "    tr, te, gr = read_feature(target_features_dict, model_name)\n",
        "    tr_dict, te_dict, gr_dict = normalize_feature(tr, te, gr)\n",
        "    tr_df, te_df, gr_df = to_df(tr_dict, te_dict, gr_dict)\n",
        "\n",
        "    input_dim = tr.shape[1]  # Feature dimension.\n",
        "    dev_data_dict = make_dict_from_chunk(te_df.iloc[:DEV_SIZE], gr_df)  # Used only to check a intermediate model performance (not used to train a model)\n",
        "\n",
        "    model = Model(input_shape=input_dim, output_shape=OUTPUT_DIM)\n",
        "    loss_history = []\n",
        "    for i in tqdm(range(EPOCHS)):\n",
        "        for data_dict in get_batch(BATCH_SIZE, tr_df, gr_df):\n",
        "            with tf.GradientTape() as tape:\n",
        "              dists = calc_dists_for_model(data_dict, model)\n",
        "              cited_mask = calc_cited_mask(data_dict)\n",
        "              losses = batch_hard(dists, cited_mask)\n",
        "              loss = tf.reduce_mean(losses)\n",
        "    \n",
        "            global_step = tf.Variable(0, trainable=False, name='global_step')\n",
        "            learning_rate = tf.train.exponential_decay(0.01, global_step, EPOCHS, 0.96, staircase=True)\n",
        "            optimizer = tf.train.AdamOptimizer(learning_rate)\n",
        "            loss_history.append(loss.numpy())\n",
        "            grads = tape.gradient(loss, model.variables)\n",
        "            optimizer.apply_gradients(zip(grads, model.variables), global_step=global_step)\n",
        "  \n",
        "        # After every epoch, we would like to check our ranking score on the dev_data_dict,\n",
        "        # as well as on some subset of our training data dict\n",
        "        dev_dists = calc_dists_for_model(dev_data_dict, model)\n",
        "        dev_cited_mask = calc_cited_mask(dev_data_dict)\n",
        "        dev_ranks = calc_ranks(dev_dists, dev_cited_mask)\n",
        "        top_5_ranks = sum(list(dev_ranks.values())[1:6]) / DEV_SIZE\n",
        "        top_1_rank = list(dev_ranks.values())[1] / DEV_SIZE\n",
        "        print(f\"Top 1 rank (%): {str(top_1_rank)}, Top 5 ranks (%): {str(top_5_ranks)}\")\n",
        "\n",
        "    trained_models[model_name] = {\"model\": model, \"loss_history\" : loss_history}\n"
      ],
      "execution_count": 60,
      "outputs": [
        {
          "output_type": "stream",
          "text": [
            "BERT-2ndlastmean training...\n"
          ],
          "name": "stdout"
        },
        {
          "output_type": "display_data",
          "data": {
            "application/vnd.jupyter.widget-view+json": {
              "model_id": "04f214a97f74466c80285a3ad19fcfbc",
              "version_minor": 0,
              "version_major": 2
            },
            "text/plain": [
              "HBox(children=(IntProgress(value=0, max=50), HTML(value='')))"
            ]
          },
          "metadata": {
            "tags": []
          }
        },
        {
          "output_type": "stream",
          "text": [
            "WARNING: Logging before flag parsing goes to stderr.\n",
            "W0811 21:24:19.552857 140598719047552 deprecation.py:323] From /usr/local/lib/python3.6/dist-packages/tensorflow/python/ops/array_ops.py:1354: add_dispatch_support.<locals>.wrapper (from tensorflow.python.ops.array_ops) is deprecated and will be removed in a future version.\n",
            "Instructions for updating:\n",
            "Use tf.where in 2.0, which has the same broadcast rule as np.where\n"
          ],
          "name": "stderr"
        },
        {
          "output_type": "stream",
          "text": [
            "Top 1 rank (%): 0.2525, Top 5 ranks (%): 0.495\n",
            "Top 1 rank (%): 0.275, Top 5 ranks (%): 0.5\n",
            "Top 1 rank (%): 0.2975, Top 5 ranks (%): 0.515\n",
            "Top 1 rank (%): 0.3025, Top 5 ranks (%): 0.515\n",
            "Top 1 rank (%): 0.315, Top 5 ranks (%): 0.52\n",
            "Top 1 rank (%): 0.3125, Top 5 ranks (%): 0.5275\n",
            "Top 1 rank (%): 0.32, Top 5 ranks (%): 0.5525\n",
            "Top 1 rank (%): 0.3175, Top 5 ranks (%): 0.5625\n",
            "Top 1 rank (%): 0.315, Top 5 ranks (%): 0.5625\n",
            "Top 1 rank (%): 0.315, Top 5 ranks (%): 0.5625\n",
            "Top 1 rank (%): 0.325, Top 5 ranks (%): 0.5675\n",
            "Top 1 rank (%): 0.32, Top 5 ranks (%): 0.5675\n",
            "Top 1 rank (%): 0.3225, Top 5 ranks (%): 0.5725\n",
            "Top 1 rank (%): 0.3225, Top 5 ranks (%): 0.5775\n",
            "Top 1 rank (%): 0.3225, Top 5 ranks (%): 0.5825\n",
            "Top 1 rank (%): 0.315, Top 5 ranks (%): 0.6\n",
            "Top 1 rank (%): 0.3325, Top 5 ranks (%): 0.595\n",
            "Top 1 rank (%): 0.335, Top 5 ranks (%): 0.6075\n",
            "Top 1 rank (%): 0.3375, Top 5 ranks (%): 0.64\n",
            "Top 1 rank (%): 0.3475, Top 5 ranks (%): 0.635\n",
            "Top 1 rank (%): 0.355, Top 5 ranks (%): 0.6425\n",
            "Top 1 rank (%): 0.35, Top 5 ranks (%): 0.655\n",
            "Top 1 rank (%): 0.35, Top 5 ranks (%): 0.6525\n",
            "Top 1 rank (%): 0.355, Top 5 ranks (%): 0.645\n",
            "Top 1 rank (%): 0.3575, Top 5 ranks (%): 0.6625\n",
            "Top 1 rank (%): 0.36, Top 5 ranks (%): 0.6325\n",
            "Top 1 rank (%): 0.36, Top 5 ranks (%): 0.65\n",
            "Top 1 rank (%): 0.3575, Top 5 ranks (%): 0.6325\n",
            "Top 1 rank (%): 0.365, Top 5 ranks (%): 0.6525\n",
            "Top 1 rank (%): 0.3525, Top 5 ranks (%): 0.67\n",
            "Top 1 rank (%): 0.355, Top 5 ranks (%): 0.65\n",
            "Top 1 rank (%): 0.36, Top 5 ranks (%): 0.625\n",
            "Top 1 rank (%): 0.3475, Top 5 ranks (%): 0.65\n",
            "Top 1 rank (%): 0.375, Top 5 ranks (%): 0.635\n",
            "Top 1 rank (%): 0.365, Top 5 ranks (%): 0.6375\n",
            "Top 1 rank (%): 0.375, Top 5 ranks (%): 0.6225\n",
            "Top 1 rank (%): 0.3775, Top 5 ranks (%): 0.65\n",
            "Top 1 rank (%): 0.355, Top 5 ranks (%): 0.64\n",
            "Top 1 rank (%): 0.36, Top 5 ranks (%): 0.6475\n",
            "Top 1 rank (%): 0.37, Top 5 ranks (%): 0.6425\n",
            "Top 1 rank (%): 0.3575, Top 5 ranks (%): 0.64\n",
            "Top 1 rank (%): 0.37, Top 5 ranks (%): 0.645\n",
            "Top 1 rank (%): 0.3575, Top 5 ranks (%): 0.6525\n",
            "Top 1 rank (%): 0.365, Top 5 ranks (%): 0.65\n",
            "Top 1 rank (%): 0.3575, Top 5 ranks (%): 0.66\n",
            "Top 1 rank (%): 0.395, Top 5 ranks (%): 0.6425\n",
            "Top 1 rank (%): 0.3725, Top 5 ranks (%): 0.655\n",
            "Top 1 rank (%): 0.3675, Top 5 ranks (%): 0.6525\n",
            "Top 1 rank (%): 0.3675, Top 5 ranks (%): 0.6325\n",
            "Top 1 rank (%): 0.3625, Top 5 ranks (%): 0.6375\n",
            "\n",
            "BERT-pretrained-2ndlastmean training...\n"
          ],
          "name": "stdout"
        },
        {
          "output_type": "display_data",
          "data": {
            "application/vnd.jupyter.widget-view+json": {
              "model_id": "0128801266094fd2922fea59c871e0e7",
              "version_minor": 0,
              "version_major": 2
            },
            "text/plain": [
              "HBox(children=(IntProgress(value=0, max=50), HTML(value='')))"
            ]
          },
          "metadata": {
            "tags": []
          }
        },
        {
          "output_type": "stream",
          "text": [
            "Top 1 rank (%): 0.25, Top 5 ranks (%): 0.525\n",
            "Top 1 rank (%): 0.265, Top 5 ranks (%): 0.56\n",
            "Top 1 rank (%): 0.2675, Top 5 ranks (%): 0.585\n",
            "Top 1 rank (%): 0.285, Top 5 ranks (%): 0.6\n",
            "Top 1 rank (%): 0.295, Top 5 ranks (%): 0.62\n",
            "Top 1 rank (%): 0.3, Top 5 ranks (%): 0.63\n",
            "Top 1 rank (%): 0.32, Top 5 ranks (%): 0.65\n",
            "Top 1 rank (%): 0.3225, Top 5 ranks (%): 0.67\n",
            "Top 1 rank (%): 0.35, Top 5 ranks (%): 0.6375\n",
            "Top 1 rank (%): 0.3625, Top 5 ranks (%): 0.6675\n",
            "Top 1 rank (%): 0.3675, Top 5 ranks (%): 0.6725\n",
            "Top 1 rank (%): 0.37, Top 5 ranks (%): 0.67\n",
            "Top 1 rank (%): 0.375, Top 5 ranks (%): 0.675\n",
            "Top 1 rank (%): 0.3675, Top 5 ranks (%): 0.6725\n",
            "Top 1 rank (%): 0.3725, Top 5 ranks (%): 0.6775\n",
            "Top 1 rank (%): 0.37, Top 5 ranks (%): 0.675\n",
            "Top 1 rank (%): 0.365, Top 5 ranks (%): 0.6725\n",
            "Top 1 rank (%): 0.365, Top 5 ranks (%): 0.66\n",
            "Top 1 rank (%): 0.37, Top 5 ranks (%): 0.67\n",
            "Top 1 rank (%): 0.3725, Top 5 ranks (%): 0.675\n",
            "Top 1 rank (%): 0.36, Top 5 ranks (%): 0.665\n",
            "Top 1 rank (%): 0.36, Top 5 ranks (%): 0.67\n",
            "Top 1 rank (%): 0.3425, Top 5 ranks (%): 0.6625\n",
            "Top 1 rank (%): 0.3625, Top 5 ranks (%): 0.6675\n",
            "Top 1 rank (%): 0.3625, Top 5 ranks (%): 0.6525\n",
            "Top 1 rank (%): 0.3725, Top 5 ranks (%): 0.68\n",
            "Top 1 rank (%): 0.3625, Top 5 ranks (%): 0.665\n",
            "Top 1 rank (%): 0.37, Top 5 ranks (%): 0.67\n",
            "Top 1 rank (%): 0.36, Top 5 ranks (%): 0.665\n",
            "Top 1 rank (%): 0.3575, Top 5 ranks (%): 0.6625\n",
            "Top 1 rank (%): 0.375, Top 5 ranks (%): 0.6575\n",
            "Top 1 rank (%): 0.3775, Top 5 ranks (%): 0.67\n",
            "Top 1 rank (%): 0.375, Top 5 ranks (%): 0.6525\n",
            "Top 1 rank (%): 0.3625, Top 5 ranks (%): 0.6575\n",
            "Top 1 rank (%): 0.3825, Top 5 ranks (%): 0.66\n",
            "Top 1 rank (%): 0.37, Top 5 ranks (%): 0.6675\n",
            "Top 1 rank (%): 0.37, Top 5 ranks (%): 0.6675\n",
            "Top 1 rank (%): 0.37, Top 5 ranks (%): 0.65\n",
            "Top 1 rank (%): 0.365, Top 5 ranks (%): 0.655\n",
            "Top 1 rank (%): 0.3725, Top 5 ranks (%): 0.675\n",
            "Top 1 rank (%): 0.365, Top 5 ranks (%): 0.66\n",
            "Top 1 rank (%): 0.375, Top 5 ranks (%): 0.665\n",
            "Top 1 rank (%): 0.37, Top 5 ranks (%): 0.6525\n",
            "Top 1 rank (%): 0.3675, Top 5 ranks (%): 0.665\n",
            "Top 1 rank (%): 0.365, Top 5 ranks (%): 0.6725\n",
            "Top 1 rank (%): 0.375, Top 5 ranks (%): 0.67\n",
            "Top 1 rank (%): 0.365, Top 5 ranks (%): 0.6675\n",
            "Top 1 rank (%): 0.37, Top 5 ranks (%): 0.67\n",
            "Top 1 rank (%): 0.37, Top 5 ranks (%): 0.6675\n",
            "Top 1 rank (%): 0.38, Top 5 ranks (%): 0.6675\n",
            "\n",
            "ELMO-512tokenmean training...\n"
          ],
          "name": "stdout"
        },
        {
          "output_type": "display_data",
          "data": {
            "application/vnd.jupyter.widget-view+json": {
              "model_id": "4fe31fa910434b568a50a8c51363b856",
              "version_minor": 0,
              "version_major": 2
            },
            "text/plain": [
              "HBox(children=(IntProgress(value=0, max=50), HTML(value='')))"
            ]
          },
          "metadata": {
            "tags": []
          }
        },
        {
          "output_type": "stream",
          "text": [
            "Top 1 rank (%): 0.2475, Top 5 ranks (%): 0.4825\n",
            "Top 1 rank (%): 0.2475, Top 5 ranks (%): 0.5\n",
            "Top 1 rank (%): 0.2625, Top 5 ranks (%): 0.51\n",
            "Top 1 rank (%): 0.265, Top 5 ranks (%): 0.52\n",
            "Top 1 rank (%): 0.2625, Top 5 ranks (%): 0.5275\n",
            "Top 1 rank (%): 0.265, Top 5 ranks (%): 0.53\n",
            "Top 1 rank (%): 0.27, Top 5 ranks (%): 0.5325\n",
            "Top 1 rank (%): 0.2725, Top 5 ranks (%): 0.535\n",
            "Top 1 rank (%): 0.2675, Top 5 ranks (%): 0.5225\n",
            "Top 1 rank (%): 0.27, Top 5 ranks (%): 0.525\n",
            "Top 1 rank (%): 0.2775, Top 5 ranks (%): 0.52\n",
            "Top 1 rank (%): 0.2775, Top 5 ranks (%): 0.5225\n",
            "Top 1 rank (%): 0.28, Top 5 ranks (%): 0.5225\n",
            "Top 1 rank (%): 0.2825, Top 5 ranks (%): 0.52\n",
            "Top 1 rank (%): 0.2825, Top 5 ranks (%): 0.515\n",
            "Top 1 rank (%): 0.2825, Top 5 ranks (%): 0.52\n",
            "Top 1 rank (%): 0.2825, Top 5 ranks (%): 0.5175\n",
            "Top 1 rank (%): 0.28, Top 5 ranks (%): 0.5225\n",
            "Top 1 rank (%): 0.285, Top 5 ranks (%): 0.5225\n",
            "Top 1 rank (%): 0.28, Top 5 ranks (%): 0.53\n",
            "Top 1 rank (%): 0.28, Top 5 ranks (%): 0.5325\n",
            "Top 1 rank (%): 0.2775, Top 5 ranks (%): 0.5325\n",
            "Top 1 rank (%): 0.2825, Top 5 ranks (%): 0.5325\n",
            "Top 1 rank (%): 0.2825, Top 5 ranks (%): 0.53\n",
            "Top 1 rank (%): 0.28, Top 5 ranks (%): 0.53\n",
            "Top 1 rank (%): 0.2825, Top 5 ranks (%): 0.535\n",
            "Top 1 rank (%): 0.2775, Top 5 ranks (%): 0.5325\n",
            "Top 1 rank (%): 0.2725, Top 5 ranks (%): 0.5375\n",
            "Top 1 rank (%): 0.2775, Top 5 ranks (%): 0.5425\n",
            "Top 1 rank (%): 0.2725, Top 5 ranks (%): 0.55\n",
            "Top 1 rank (%): 0.27, Top 5 ranks (%): 0.545\n",
            "Top 1 rank (%): 0.2775, Top 5 ranks (%): 0.5775\n",
            "Top 1 rank (%): 0.29, Top 5 ranks (%): 0.5775\n",
            "Top 1 rank (%): 0.29, Top 5 ranks (%): 0.585\n",
            "Top 1 rank (%): 0.2825, Top 5 ranks (%): 0.5925\n",
            "Top 1 rank (%): 0.3025, Top 5 ranks (%): 0.6025\n",
            "Top 1 rank (%): 0.29, Top 5 ranks (%): 0.5925\n",
            "Top 1 rank (%): 0.29, Top 5 ranks (%): 0.595\n",
            "Top 1 rank (%): 0.2975, Top 5 ranks (%): 0.5925\n",
            "Top 1 rank (%): 0.2925, Top 5 ranks (%): 0.5925\n",
            "Top 1 rank (%): 0.31, Top 5 ranks (%): 0.59\n",
            "Top 1 rank (%): 0.2875, Top 5 ranks (%): 0.5875\n",
            "Top 1 rank (%): 0.295, Top 5 ranks (%): 0.58\n",
            "Top 1 rank (%): 0.2975, Top 5 ranks (%): 0.595\n",
            "Top 1 rank (%): 0.3, Top 5 ranks (%): 0.585\n",
            "Top 1 rank (%): 0.305, Top 5 ranks (%): 0.6025\n",
            "Top 1 rank (%): 0.3075, Top 5 ranks (%): 0.595\n",
            "Top 1 rank (%): 0.2975, Top 5 ranks (%): 0.59\n",
            "Top 1 rank (%): 0.31, Top 5 ranks (%): 0.5925\n",
            "Top 1 rank (%): 0.3075, Top 5 ranks (%): 0.6125\n",
            "\n",
            "ELMO-4096tokenmean training...\n"
          ],
          "name": "stdout"
        },
        {
          "output_type": "display_data",
          "data": {
            "application/vnd.jupyter.widget-view+json": {
              "model_id": "d1d60459c2cf41af8c5a02240764f5ea",
              "version_minor": 0,
              "version_major": 2
            },
            "text/plain": [
              "HBox(children=(IntProgress(value=0, max=50), HTML(value='')))"
            ]
          },
          "metadata": {
            "tags": []
          }
        },
        {
          "output_type": "stream",
          "text": [
            "Top 1 rank (%): 0.2475, Top 5 ranks (%): 0.5\n",
            "Top 1 rank (%): 0.2475, Top 5 ranks (%): 0.5125\n",
            "Top 1 rank (%): 0.265, Top 5 ranks (%): 0.52\n",
            "Top 1 rank (%): 0.2575, Top 5 ranks (%): 0.51\n",
            "Top 1 rank (%): 0.2725, Top 5 ranks (%): 0.5125\n",
            "Top 1 rank (%): 0.27, Top 5 ranks (%): 0.5225\n",
            "Top 1 rank (%): 0.265, Top 5 ranks (%): 0.525\n",
            "Top 1 rank (%): 0.2625, Top 5 ranks (%): 0.525\n",
            "Top 1 rank (%): 0.2575, Top 5 ranks (%): 0.53\n",
            "Top 1 rank (%): 0.2625, Top 5 ranks (%): 0.525\n",
            "Top 1 rank (%): 0.265, Top 5 ranks (%): 0.5275\n",
            "Top 1 rank (%): 0.2625, Top 5 ranks (%): 0.5275\n",
            "Top 1 rank (%): 0.27, Top 5 ranks (%): 0.53\n",
            "Top 1 rank (%): 0.27, Top 5 ranks (%): 0.535\n",
            "Top 1 rank (%): 0.2675, Top 5 ranks (%): 0.5375\n",
            "Top 1 rank (%): 0.2625, Top 5 ranks (%): 0.5425\n",
            "Top 1 rank (%): 0.27, Top 5 ranks (%): 0.5325\n",
            "Top 1 rank (%): 0.265, Top 5 ranks (%): 0.5475\n",
            "Top 1 rank (%): 0.27, Top 5 ranks (%): 0.5425\n",
            "Top 1 rank (%): 0.27, Top 5 ranks (%): 0.5425\n",
            "Top 1 rank (%): 0.2775, Top 5 ranks (%): 0.545\n",
            "Top 1 rank (%): 0.2775, Top 5 ranks (%): 0.55\n",
            "Top 1 rank (%): 0.2775, Top 5 ranks (%): 0.55\n",
            "Top 1 rank (%): 0.275, Top 5 ranks (%): 0.5525\n",
            "Top 1 rank (%): 0.2775, Top 5 ranks (%): 0.54\n",
            "Top 1 rank (%): 0.2825, Top 5 ranks (%): 0.5425\n",
            "Top 1 rank (%): 0.2775, Top 5 ranks (%): 0.5475\n",
            "Top 1 rank (%): 0.265, Top 5 ranks (%): 0.545\n",
            "Top 1 rank (%): 0.295, Top 5 ranks (%): 0.5725\n",
            "Top 1 rank (%): 0.315, Top 5 ranks (%): 0.62\n",
            "Top 1 rank (%): 0.3, Top 5 ranks (%): 0.6175\n",
            "Top 1 rank (%): 0.3, Top 5 ranks (%): 0.625\n",
            "Top 1 rank (%): 0.3, Top 5 ranks (%): 0.615\n",
            "Top 1 rank (%): 0.3125, Top 5 ranks (%): 0.5875\n",
            "Top 1 rank (%): 0.3025, Top 5 ranks (%): 0.6025\n",
            "Top 1 rank (%): 0.31, Top 5 ranks (%): 0.6075\n",
            "Top 1 rank (%): 0.3225, Top 5 ranks (%): 0.6075\n",
            "Top 1 rank (%): 0.325, Top 5 ranks (%): 0.615\n",
            "Top 1 rank (%): 0.315, Top 5 ranks (%): 0.6225\n",
            "Top 1 rank (%): 0.31, Top 5 ranks (%): 0.6125\n",
            "Top 1 rank (%): 0.3275, Top 5 ranks (%): 0.615\n",
            "Top 1 rank (%): 0.32, Top 5 ranks (%): 0.6125\n",
            "Top 1 rank (%): 0.31, Top 5 ranks (%): 0.62\n",
            "Top 1 rank (%): 0.325, Top 5 ranks (%): 0.6275\n",
            "Top 1 rank (%): 0.3175, Top 5 ranks (%): 0.5875\n",
            "Top 1 rank (%): 0.325, Top 5 ranks (%): 0.6075\n",
            "Top 1 rank (%): 0.32, Top 5 ranks (%): 0.62\n",
            "Top 1 rank (%): 0.3325, Top 5 ranks (%): 0.615\n",
            "Top 1 rank (%): 0.33, Top 5 ranks (%): 0.6225\n",
            "Top 1 rank (%): 0.335, Top 5 ranks (%): 0.605\n",
            "\n",
            "USE training...\n"
          ],
          "name": "stdout"
        },
        {
          "output_type": "display_data",
          "data": {
            "application/vnd.jupyter.widget-view+json": {
              "model_id": "b99b8daaa60b41cbab8c0374f0d25759",
              "version_minor": 0,
              "version_major": 2
            },
            "text/plain": [
              "HBox(children=(IntProgress(value=0, max=50), HTML(value='')))"
            ]
          },
          "metadata": {
            "tags": []
          }
        },
        {
          "output_type": "stream",
          "text": [
            "Top 1 rank (%): 0.34, Top 5 ranks (%): 0.6125\n",
            "Top 1 rank (%): 0.355, Top 5 ranks (%): 0.6225\n",
            "Top 1 rank (%): 0.3525, Top 5 ranks (%): 0.6175\n",
            "Top 1 rank (%): 0.345, Top 5 ranks (%): 0.62\n",
            "Top 1 rank (%): 0.3525, Top 5 ranks (%): 0.62\n",
            "Top 1 rank (%): 0.355, Top 5 ranks (%): 0.6125\n",
            "Top 1 rank (%): 0.35, Top 5 ranks (%): 0.6125\n",
            "Top 1 rank (%): 0.3575, Top 5 ranks (%): 0.6275\n",
            "Top 1 rank (%): 0.36, Top 5 ranks (%): 0.6275\n",
            "Top 1 rank (%): 0.37, Top 5 ranks (%): 0.6325\n",
            "Top 1 rank (%): 0.39, Top 5 ranks (%): 0.6375\n",
            "Top 1 rank (%): 0.395, Top 5 ranks (%): 0.635\n",
            "Top 1 rank (%): 0.395, Top 5 ranks (%): 0.6475\n",
            "Top 1 rank (%): 0.385, Top 5 ranks (%): 0.67\n",
            "Top 1 rank (%): 0.385, Top 5 ranks (%): 0.6875\n",
            "Top 1 rank (%): 0.385, Top 5 ranks (%): 0.68\n",
            "Top 1 rank (%): 0.3825, Top 5 ranks (%): 0.6775\n",
            "Top 1 rank (%): 0.385, Top 5 ranks (%): 0.685\n",
            "Top 1 rank (%): 0.3825, Top 5 ranks (%): 0.6775\n",
            "Top 1 rank (%): 0.385, Top 5 ranks (%): 0.6775\n",
            "Top 1 rank (%): 0.3775, Top 5 ranks (%): 0.6725\n",
            "Top 1 rank (%): 0.3775, Top 5 ranks (%): 0.6675\n",
            "Top 1 rank (%): 0.3775, Top 5 ranks (%): 0.6625\n",
            "Top 1 rank (%): 0.3775, Top 5 ranks (%): 0.675\n",
            "Top 1 rank (%): 0.38, Top 5 ranks (%): 0.6575\n",
            "Top 1 rank (%): 0.3825, Top 5 ranks (%): 0.6625\n",
            "Top 1 rank (%): 0.3925, Top 5 ranks (%): 0.66\n",
            "Top 1 rank (%): 0.395, Top 5 ranks (%): 0.66\n",
            "Top 1 rank (%): 0.3875, Top 5 ranks (%): 0.65\n",
            "Top 1 rank (%): 0.3975, Top 5 ranks (%): 0.66\n",
            "Top 1 rank (%): 0.385, Top 5 ranks (%): 0.66\n",
            "Top 1 rank (%): 0.39, Top 5 ranks (%): 0.6625\n",
            "Top 1 rank (%): 0.3875, Top 5 ranks (%): 0.655\n",
            "Top 1 rank (%): 0.39, Top 5 ranks (%): 0.6625\n",
            "Top 1 rank (%): 0.4, Top 5 ranks (%): 0.655\n",
            "Top 1 rank (%): 0.3975, Top 5 ranks (%): 0.66\n",
            "Top 1 rank (%): 0.395, Top 5 ranks (%): 0.6625\n",
            "Top 1 rank (%): 0.3825, Top 5 ranks (%): 0.655\n",
            "Top 1 rank (%): 0.395, Top 5 ranks (%): 0.655\n",
            "Top 1 rank (%): 0.3975, Top 5 ranks (%): 0.65\n",
            "Top 1 rank (%): 0.39, Top 5 ranks (%): 0.65\n",
            "Top 1 rank (%): 0.395, Top 5 ranks (%): 0.655\n",
            "Top 1 rank (%): 0.385, Top 5 ranks (%): 0.6525\n",
            "Top 1 rank (%): 0.395, Top 5 ranks (%): 0.6475\n",
            "Top 1 rank (%): 0.385, Top 5 ranks (%): 0.6475\n",
            "Top 1 rank (%): 0.39, Top 5 ranks (%): 0.64\n",
            "Top 1 rank (%): 0.39, Top 5 ranks (%): 0.6425\n",
            "Top 1 rank (%): 0.3925, Top 5 ranks (%): 0.6375\n",
            "Top 1 rank (%): 0.3875, Top 5 ranks (%): 0.6475\n",
            "Top 1 rank (%): 0.395, Top 5 ranks (%): 0.64\n",
            "\n",
            "W2V training...\n"
          ],
          "name": "stdout"
        },
        {
          "output_type": "display_data",
          "data": {
            "application/vnd.jupyter.widget-view+json": {
              "model_id": "5461e688d8a94ec08119497b3c7efb56",
              "version_minor": 0,
              "version_major": 2
            },
            "text/plain": [
              "HBox(children=(IntProgress(value=0, max=50), HTML(value='')))"
            ]
          },
          "metadata": {
            "tags": []
          }
        },
        {
          "output_type": "stream",
          "text": [
            "Top 1 rank (%): 0.3025, Top 5 ranks (%): 0.6075\n",
            "Top 1 rank (%): 0.33, Top 5 ranks (%): 0.61\n",
            "Top 1 rank (%): 0.3375, Top 5 ranks (%): 0.6175\n",
            "Top 1 rank (%): 0.345, Top 5 ranks (%): 0.6275\n",
            "Top 1 rank (%): 0.35, Top 5 ranks (%): 0.6325\n",
            "Top 1 rank (%): 0.3575, Top 5 ranks (%): 0.6375\n",
            "Top 1 rank (%): 0.36, Top 5 ranks (%): 0.65\n",
            "Top 1 rank (%): 0.3575, Top 5 ranks (%): 0.665\n",
            "Top 1 rank (%): 0.3675, Top 5 ranks (%): 0.6775\n",
            "Top 1 rank (%): 0.3675, Top 5 ranks (%): 0.69\n",
            "Top 1 rank (%): 0.3875, Top 5 ranks (%): 0.71\n",
            "Top 1 rank (%): 0.395, Top 5 ranks (%): 0.7225\n",
            "Top 1 rank (%): 0.4, Top 5 ranks (%): 0.725\n",
            "Top 1 rank (%): 0.3925, Top 5 ranks (%): 0.725\n",
            "Top 1 rank (%): 0.3875, Top 5 ranks (%): 0.725\n",
            "Top 1 rank (%): 0.385, Top 5 ranks (%): 0.7325\n",
            "Top 1 rank (%): 0.385, Top 5 ranks (%): 0.7325\n",
            "Top 1 rank (%): 0.39, Top 5 ranks (%): 0.7425\n",
            "Top 1 rank (%): 0.3975, Top 5 ranks (%): 0.745\n",
            "Top 1 rank (%): 0.4, Top 5 ranks (%): 0.7475\n",
            "Top 1 rank (%): 0.39, Top 5 ranks (%): 0.74\n",
            "Top 1 rank (%): 0.395, Top 5 ranks (%): 0.7475\n",
            "Top 1 rank (%): 0.3925, Top 5 ranks (%): 0.75\n",
            "Top 1 rank (%): 0.3875, Top 5 ranks (%): 0.7475\n",
            "Top 1 rank (%): 0.4, Top 5 ranks (%): 0.7425\n",
            "Top 1 rank (%): 0.395, Top 5 ranks (%): 0.7425\n",
            "Top 1 rank (%): 0.405, Top 5 ranks (%): 0.7375\n",
            "Top 1 rank (%): 0.4025, Top 5 ranks (%): 0.7375\n",
            "Top 1 rank (%): 0.405, Top 5 ranks (%): 0.735\n",
            "Top 1 rank (%): 0.3975, Top 5 ranks (%): 0.735\n",
            "Top 1 rank (%): 0.3975, Top 5 ranks (%): 0.7275\n",
            "Top 1 rank (%): 0.3975, Top 5 ranks (%): 0.725\n",
            "Top 1 rank (%): 0.395, Top 5 ranks (%): 0.72\n",
            "Top 1 rank (%): 0.395, Top 5 ranks (%): 0.7375\n",
            "Top 1 rank (%): 0.3975, Top 5 ranks (%): 0.725\n",
            "Top 1 rank (%): 0.3975, Top 5 ranks (%): 0.725\n",
            "Top 1 rank (%): 0.4025, Top 5 ranks (%): 0.735\n",
            "Top 1 rank (%): 0.4075, Top 5 ranks (%): 0.72\n",
            "Top 1 rank (%): 0.4, Top 5 ranks (%): 0.7175\n",
            "Top 1 rank (%): 0.4025, Top 5 ranks (%): 0.72\n",
            "Top 1 rank (%): 0.405, Top 5 ranks (%): 0.7175\n",
            "Top 1 rank (%): 0.4025, Top 5 ranks (%): 0.725\n",
            "Top 1 rank (%): 0.4075, Top 5 ranks (%): 0.7225\n",
            "Top 1 rank (%): 0.4, Top 5 ranks (%): 0.72\n",
            "Top 1 rank (%): 0.4025, Top 5 ranks (%): 0.72\n",
            "Top 1 rank (%): 0.405, Top 5 ranks (%): 0.7175\n",
            "Top 1 rank (%): 0.405, Top 5 ranks (%): 0.725\n",
            "Top 1 rank (%): 0.4025, Top 5 ranks (%): 0.7275\n",
            "Top 1 rank (%): 0.4, Top 5 ranks (%): 0.725\n",
            "Top 1 rank (%): 0.405, Top 5 ranks (%): 0.7175\n",
            "\n",
            "fastText training...\n"
          ],
          "name": "stdout"
        },
        {
          "output_type": "display_data",
          "data": {
            "application/vnd.jupyter.widget-view+json": {
              "model_id": "a4718f2562ed4d46b579b8ac4650452c",
              "version_minor": 0,
              "version_major": 2
            },
            "text/plain": [
              "HBox(children=(IntProgress(value=0, max=50), HTML(value='')))"
            ]
          },
          "metadata": {
            "tags": []
          }
        },
        {
          "output_type": "stream",
          "text": [
            "Top 1 rank (%): 0.1625, Top 5 ranks (%): 0.395\n",
            "Top 1 rank (%): 0.2075, Top 5 ranks (%): 0.4375\n",
            "Top 1 rank (%): 0.23, Top 5 ranks (%): 0.4575\n",
            "Top 1 rank (%): 0.23, Top 5 ranks (%): 0.4725\n",
            "Top 1 rank (%): 0.2375, Top 5 ranks (%): 0.4775\n",
            "Top 1 rank (%): 0.2375, Top 5 ranks (%): 0.49\n",
            "Top 1 rank (%): 0.2475, Top 5 ranks (%): 0.505\n",
            "Top 1 rank (%): 0.255, Top 5 ranks (%): 0.51\n",
            "Top 1 rank (%): 0.2575, Top 5 ranks (%): 0.5125\n",
            "Top 1 rank (%): 0.2625, Top 5 ranks (%): 0.5125\n",
            "Top 1 rank (%): 0.2675, Top 5 ranks (%): 0.5125\n",
            "Top 1 rank (%): 0.27, Top 5 ranks (%): 0.5175\n",
            "Top 1 rank (%): 0.27, Top 5 ranks (%): 0.525\n",
            "Top 1 rank (%): 0.2725, Top 5 ranks (%): 0.5275\n",
            "Top 1 rank (%): 0.265, Top 5 ranks (%): 0.53\n",
            "Top 1 rank (%): 0.2675, Top 5 ranks (%): 0.5325\n",
            "Top 1 rank (%): 0.2675, Top 5 ranks (%): 0.5325\n",
            "Top 1 rank (%): 0.2725, Top 5 ranks (%): 0.5375\n",
            "Top 1 rank (%): 0.2725, Top 5 ranks (%): 0.5375\n",
            "Top 1 rank (%): 0.275, Top 5 ranks (%): 0.5375\n",
            "Top 1 rank (%): 0.2775, Top 5 ranks (%): 0.5425\n",
            "Top 1 rank (%): 0.2825, Top 5 ranks (%): 0.5425\n",
            "Top 1 rank (%): 0.28, Top 5 ranks (%): 0.5425\n",
            "Top 1 rank (%): 0.2825, Top 5 ranks (%): 0.5375\n",
            "Top 1 rank (%): 0.285, Top 5 ranks (%): 0.5375\n",
            "Top 1 rank (%): 0.2825, Top 5 ranks (%): 0.5375\n",
            "Top 1 rank (%): 0.2875, Top 5 ranks (%): 0.54\n",
            "Top 1 rank (%): 0.285, Top 5 ranks (%): 0.5425\n",
            "Top 1 rank (%): 0.29, Top 5 ranks (%): 0.5425\n",
            "Top 1 rank (%): 0.29, Top 5 ranks (%): 0.5425\n",
            "Top 1 rank (%): 0.29, Top 5 ranks (%): 0.5475\n",
            "Top 1 rank (%): 0.285, Top 5 ranks (%): 0.5475\n",
            "Top 1 rank (%): 0.2875, Top 5 ranks (%): 0.5475\n",
            "Top 1 rank (%): 0.2875, Top 5 ranks (%): 0.55\n",
            "Top 1 rank (%): 0.2875, Top 5 ranks (%): 0.55\n",
            "Top 1 rank (%): 0.29, Top 5 ranks (%): 0.555\n",
            "Top 1 rank (%): 0.29, Top 5 ranks (%): 0.5525\n",
            "Top 1 rank (%): 0.29, Top 5 ranks (%): 0.555\n",
            "Top 1 rank (%): 0.2925, Top 5 ranks (%): 0.5575\n",
            "Top 1 rank (%): 0.2925, Top 5 ranks (%): 0.5575\n",
            "Top 1 rank (%): 0.2925, Top 5 ranks (%): 0.555\n",
            "Top 1 rank (%): 0.2925, Top 5 ranks (%): 0.56\n",
            "Top 1 rank (%): 0.2925, Top 5 ranks (%): 0.56\n",
            "Top 1 rank (%): 0.2925, Top 5 ranks (%): 0.56\n",
            "Top 1 rank (%): 0.295, Top 5 ranks (%): 0.56\n",
            "Top 1 rank (%): 0.295, Top 5 ranks (%): 0.56\n",
            "Top 1 rank (%): 0.2975, Top 5 ranks (%): 0.56\n",
            "Top 1 rank (%): 0.2975, Top 5 ranks (%): 0.5625\n",
            "Top 1 rank (%): 0.295, Top 5 ranks (%): 0.565\n",
            "Top 1 rank (%): 0.2925, Top 5 ranks (%): 0.565\n",
            "\n",
            "CPU times: user 43min 28s, sys: 11.7 s, total: 43min 40s\n",
            "Wall time: 40min 49s\n"
          ],
          "name": "stdout"
        }
      ]
    },
    {
      "cell_type": "code",
      "metadata": {
        "id": "3B0lj4Jf283u",
        "colab_type": "code",
        "outputId": "dfef9ea7-1dca-43bd-f258-601c01ed7e9f",
        "colab": {
          "base_uri": "https://localhost:8080/",
          "height": 517
        }
      },
      "source": [
        "## Result of cosine distance\n",
        "import matplotlib.pyplot as plt\n",
        "from pylab import rcParams\n",
        "rcParams['figure.figsize'] = 8,8\n",
        "\n",
        "for model in trained_models.keys():\n",
        "  plt.plot(trained_models[model][\"loss_history\"], label=f\"{model}\")\n",
        "\n",
        "plt.title(\"loss histories\")\n",
        "plt.legend()\n",
        "plt.show"
      ],
      "execution_count": 61,
      "outputs": [
        {
          "output_type": "execute_result",
          "data": {
            "text/plain": [
              "<function matplotlib.pyplot.show>"
            ]
          },
          "metadata": {
            "tags": []
          },
          "execution_count": 61
        },
        {
          "output_type": "display_data",
          "data": {
            "image/png": "[encoded data removed]",
            "text/plain": [
              "<Figure size 576x576 with 1 Axes>"
            ]
          },
          "metadata": {
            "tags": []
          }
        }
      ]
    },
    {
      "cell_type": "markdown",
      "metadata": {
        "id": "rb8XEONptjrW",
        "colab_type": "text"
      },
      "source": [
        "## Compute similarities"
      ]
    },
    {
      "cell_type": "code",
      "metadata": {
        "id": "Gas0V6RpJDam",
        "colab_type": "code",
        "colab": {}
      },
      "source": [
        "def to_extracted_features(normalized_feature_dict, model):\n",
        "  # doc_id is app_id for application, pared for grants.\n",
        "  sorted_keys = sorted(normalized_feature_dict.keys())\n",
        "\n",
        "  input_tensors = tf.convert_to_tensor(\n",
        "      np.array([ normalized_feature_dict[k] for k in sorted_keys ]),\n",
        "      dtype=tf.float32)\n",
        "  extracted_features = model.frwrd_pass(input_tensors).numpy()\n",
        "  return pd.DataFrame({ \n",
        "    'doc_id':sorted_keys, 'extracted_feature':[ v/np.linalg.norm(v) for v in extracted_features ]})"
      ],
      "execution_count": 0,
      "outputs": []
    },
    {
      "cell_type": "code",
      "metadata": {
        "id": "KkJ9onvIJDjB",
        "colab_type": "code",
        "colab": {}
      },
      "source": [
        "def sort_similarity_by_value(sim_dict, app_id):\n",
        "    '''\n",
        "    input:\n",
        "        sim_dict: similary dictionary\n",
        "        app_id: target application id\n",
        "    return:\n",
        "        [(parsed1, sim1), (parsed2, sim2), ...] sorted by similarities\n",
        "    '''\n",
        "    return [(parsed, sim_dict[app_id][parsed]) for parsed in sorted(sim_dict[app_id], key=sim_dict[app_id].get)]\n",
        "  \n",
        "  \n",
        "def get_cited_grants(citations_info_target, app_id):\n",
        "    '''\n",
        "    input:\n",
        "        citations_info_target: DataFrame of citation relationships\n",
        "        app_id: target application id\n",
        "    return:\n",
        "        {parsed1, parsed2, ...} that are cited to reject app_id\n",
        "    '''\n",
        "    return set(citations_info_target[citations_info_target['app_id'] == app_id]['parsed'])\n",
        "  \n",
        "def make_uncited_grants_for_app_id(sim_dict, citations_info_target, app_id, sidx, eidx, num, shuffle=True):\n",
        "    '''\n",
        "    input:\n",
        "        sim_dict: \n",
        "        citations_info_target:\n",
        "        app_id: target application id\n",
        "        sidx: start index to slice the sorted (parsed, sim) list\n",
        "        eidx: end index to slice the sorted (parsed, sim) list\n",
        "        num: number of grants that will be returned\n",
        "    return:\n",
        "        [parsed_1, parsed_2, ..., parsed_num] that are NOT cited to reject app_id\n",
        "    '''\n",
        "    sorted_grants_list = sort_similarity_by_value(sim_dict, app_id)\n",
        "    sorted_grants_list = sorted_grants_list[sidx:eidx]\n",
        "    if shuffle:\n",
        "        random.shuffle(sorted_grants_list)\n",
        "    \n",
        "    cited_grants = get_cited_grants(citations_info_target, app_id)\n",
        "    uncited_grants = []\n",
        "    \n",
        "    idx = 0\n",
        "    while len(uncited_grants) != num:\n",
        "        grant_id, _ = sorted_grants_list[idx]\n",
        "        if not grant_id in cited_grants:\n",
        "            uncited_grants.append(grant_id)\n",
        "        idx += 1\n",
        "    \n",
        "    return uncited_grants  "
      ],
      "execution_count": 0,
      "outputs": []
    },
    {
      "cell_type": "code",
      "metadata": {
        "id": "-e3VAJ7wJIpy",
        "colab_type": "code",
        "colab": {}
      },
      "source": [
        "import collections\n",
        "\n",
        "def calc_all_ranks(all_app_ids, sim_dic):\n",
        "  all_ranks = []\n",
        "\n",
        "  for app_id in all_app_ids:\n",
        "      cited_grants = get_cited_grants(citations_info_target, app_id)\n",
        "      sorted_kv = reversed(sort_similarity_by_value(sim_dic, app_id))  # higher score, similar patent\n",
        "\n",
        "      idx = 1\n",
        "      for k,v in sorted_kv:\n",
        "          if k in cited_grants:\n",
        "              all_ranks.append(idx)\n",
        "          idx += 1\n",
        "  return all_ranks\n",
        "\n",
        "def calc_all_ranks_counter(all_app_ids, sim_dic):\n",
        "  return collections.Counter(calc_all_ranks(all_app_ids, sim_dic))"
      ],
      "execution_count": 0,
      "outputs": []
    },
    {
      "cell_type": "code",
      "metadata": {
        "id": "82wU0cfNMviG",
        "colab_type": "code",
        "colab": {}
      },
      "source": [
        "def create_sim_dict(test_extracted_df, grants_extracted_df):\n",
        "  return {\n",
        "    app_id:{ parsed:np.sum(test_f*grants_f)\n",
        "            for parsed, grants_f \n",
        "            in zip(grants_extracted_df['doc_id'], grants_extracted_df['extracted_feature']) } \n",
        "    for app_id, test_f \n",
        "    in zip(test_extracted_df['doc_id'], test_extracted_df['extracted_feature'])\n",
        "  }"
      ],
      "execution_count": 0,
      "outputs": []
    },
    {
      "cell_type": "code",
      "metadata": {
        "id": "vXaN7J0zNrrn",
        "colab_type": "code",
        "colab": {}
      },
      "source": [
        "def test_label(app_id, grant, cite_relation):\n",
        "  cited_parsed = cite_relation[cite_relation[\"app_id\"] == app_id][\"parsed\"]\n",
        "  return [ 1 if parsed == cited_parsed.values[0] else 0 for parsed in grant[\"parsed\"] ]"
      ],
      "execution_count": 0,
      "outputs": []
    },
    {
      "cell_type": "markdown",
      "metadata": {
        "id": "Exh5qqbAtvf-",
        "colab_type": "text"
      },
      "source": [
        "Compute similarities and rankings."
      ]
    },
    {
      "cell_type": "code",
      "metadata": {
        "id": "ocjmHAzJvpg5",
        "colab_type": "code",
        "outputId": "b3837bf6-d4c2-49e5-b0be-90dfe2c8861a",
        "colab": {
          "base_uri": "https://localhost:8080/",
          "height": 173
        }
      },
      "source": [
        "%%time\n",
        "\n",
        "ranking_result = []\n",
        "\n",
        "for model_name in target_features_dict.keys():\n",
        "    print(f\"{model_name} similarity computing...\")\n",
        "    tr, te, gr = read_feature(target_features_dict, model_name)\n",
        "    tr_dict, te_dict, gr_dict = normalize_feature(tr, te, gr)\n",
        "    tr_df, te_df, gr_df = to_df(tr_dict, te_dict, gr_dict)\n",
        "\n",
        "    test_extracted_features_df = to_extracted_features(te_dict, trained_models[model_name][\"model\"])\n",
        "    grants_extracted_features_df = to_extracted_features(gr_dict, trained_models[model_name][\"model\"])\n",
        "\n",
        "    sim_dict_by_extracted = create_sim_dict(test_extracted_features_df, grants_extracted_features_df)\n",
        "    similarities = [list(sim_dict_by_extracted[doc_id].values()) for doc_id in test_extracted_features_df['doc_id']]\n",
        "    sim_arr = np.array(similarities)\n",
        "\n",
        "    ranking = []\n",
        "    for num in range(len(similarities)):\n",
        "        app_id = test_extracted_features_df['doc_id'][num]\n",
        "        label = pd.Series(test_label(app_id, grants, citations_info_target))\n",
        "        i, = np.where(label == 1)\n",
        "        cited_index = i[0]\n",
        "        rank = sorted(similarities[num], reverse=True).index(similarities[num][cited_index])\n",
        "        ranking.append(rank)\n",
        "    \n",
        "    ranking_arr = np.array(ranking)\n",
        "    positive_counts = [sum(ranking_arr <= thrd) for thrd in range(len(grants))]\n",
        "\n",
        "    ranking_result.append([model_name, ranking, positive_counts])"
      ],
      "execution_count": 67,
      "outputs": [
        {
          "output_type": "stream",
          "text": [
            "BERT-2ndlastmean similarity computing...\n",
            "BERT-pretrained-2ndlastmean similarity computing...\n",
            "ELMO-512tokenmean similarity computing...\n",
            "ELMO-4096tokenmean similarity computing...\n",
            "USE similarity computing...\n",
            "W2V similarity computing...\n",
            "fastText similarity computing...\n",
            "CPU times: user 21min 45s, sys: 9.85 s, total: 21min 55s\n",
            "Wall time: 21min 55s\n"
          ],
          "name": "stdout"
        }
      ]
    },
    {
      "cell_type": "code",
      "metadata": {
        "id": "5viCysrjzvXK",
        "colab_type": "code",
        "outputId": "083ced04-fb08-42b5-e629-b236ed7655d0",
        "colab": {
          "base_uri": "https://localhost:8080/",
          "height": 502
        }
      },
      "source": [
        "for model, ranking, positive_count in ranking_result:\n",
        "  print(\"-\" * 20)\n",
        "  print(f\"{model} top 10: {(np.array(positive_count)/len(ranking))[10]:.4f}\")\n",
        "  print(f\"{model} top 100: {(np.array(positive_count)/len(ranking))[100]:.4f}\")\n",
        "  print(f\"{model} top 200: {(np.array(positive_count)/len(ranking))[200]:.4f}\")"
      ],
      "execution_count": 68,
      "outputs": [
        {
          "output_type": "stream",
          "text": [
            "--------------------\n",
            "BERT-2ndlastmean top 10: 0.3860\n",
            "BERT-2ndlastmean top 100: 0.6983\n",
            "BERT-2ndlastmean top 200: 0.7953\n",
            "--------------------\n",
            "BERT-pretrained-2ndlastmean top 10: 0.3957\n",
            "BERT-pretrained-2ndlastmean top 100: 0.7067\n",
            "BERT-pretrained-2ndlastmean top 200: 0.7920\n",
            "--------------------\n",
            "ELMO-512tokenmean top 10: 0.2950\n",
            "ELMO-512tokenmean top 100: 0.6057\n",
            "ELMO-512tokenmean top 200: 0.7093\n",
            "--------------------\n",
            "ELMO-4096tokenmean top 10: 0.3243\n",
            "ELMO-4096tokenmean top 100: 0.6327\n",
            "ELMO-4096tokenmean top 200: 0.7300\n",
            "--------------------\n",
            "USE top 10: 0.3703\n",
            "USE top 100: 0.6690\n",
            "USE top 200: 0.7627\n",
            "--------------------\n",
            "W2V top 10: 0.4053\n",
            "W2V top 100: 0.7353\n",
            "W2V top 200: 0.8310\n",
            "--------------------\n",
            "fastText top 10: 0.3183\n",
            "fastText top 100: 0.6043\n",
            "fastText top 200: 0.7000\n"
          ],
          "name": "stdout"
        }
      ]
    },
    {
      "cell_type": "markdown",
      "metadata": {
        "id": "f4T7ZXSz-peq",
        "colab_type": "text"
      },
      "source": [
        "Simple cosine similarity results (without triplet loss training):\n",
        "\n",
        "```\n",
        "--------------------\n",
        "BERT-2ndlastmean top 10: 0.2527\n",
        "BERT-2ndlastmean top 100: 0.5050\n",
        "BERT-2ndlastmean top 200: 0.5923\n",
        "--------------------\n",
        "BERT-pretrained-2ndlastmean top 10: 0.2997\n",
        "BERT-pretrained-2ndlastmean top 100: 0.5773\n",
        "BERT-pretrained-2ndlastmean top 200: 0.6657\n",
        "--------------------\n",
        "ELMO-512tokenmean top 10: 0.2367\n",
        "ELMO-512tokenmean top 100: 0.5280\n",
        "ELMO-512tokenmean top 200: 0.6260\n",
        "--------------------\n",
        "ELMO-4096tokenmean top 10: 0.2620\n",
        "ELMO-4096tokenmean top 100: 0.5357\n",
        "ELMO-4096tokenmean top 200: 0.6407\n",
        "--------------------\n",
        "USE top 10: 0.3400\n",
        "USE top 100: 0.6467\n",
        "USE top 200: 0.7480\n",
        "--------------------\n",
        "W2V top 10: 0.3057\n",
        "W2V top 100: 0.5990\n",
        "W2V top 200: 0.7037\n",
        "--------------------\n",
        "fastText top 10: 0.1767\n",
        "fastText top 100: 0.3690\n",
        "fastText top 200: 0.4473\n",
        "```"
      ]
    },
    {
      "cell_type": "code",
      "metadata": {
        "id": "XvS_4DyDzvT-",
        "colab_type": "code",
        "colab": {}
      },
      "source": [
        ""
      ],
      "execution_count": 0,
      "outputs": []
    },
    {
      "cell_type": "code",
      "metadata": {
        "id": "ENTy22RS0NY7",
        "colab_type": "code",
        "colab": {}
      },
      "source": [
        ""
      ],
      "execution_count": 0,
      "outputs": []
    },
    {
      "cell_type": "code",
      "metadata": {
        "id": "iFCvqMvo0Nd4",
        "colab_type": "code",
        "colab": {}
      },
      "source": [
        ""
      ],
      "execution_count": 0,
      "outputs": []
    },
    {
      "cell_type": "code",
      "metadata": {
        "id": "HQ6TPE_Xz-kE",
        "colab_type": "code",
        "colab": {}
      },
      "source": [
        ""
      ],
      "execution_count": 0,
      "outputs": []
    },
    {
      "cell_type": "code",
      "metadata": {
        "id": "isrpE7NFzvQj",
        "colab_type": "code",
        "colab": {}
      },
      "source": [
        ""
      ],
      "execution_count": 0,
      "outputs": []
    },
    {
      "cell_type": "markdown",
      "metadata": {
        "id": "acurc-o63JtA",
        "colab_type": "text"
      },
      "source": [
        "# Trial and Errors"
      ]
    },
    {
      "cell_type": "code",
      "metadata": {
        "id": "IU0APgMKJIu0",
        "colab_type": "code",
        "colab": {}
      },
      "source": [
        "test_extracted_features_df = to_extracted_features(te_dict, models[0])\n",
        "grants_extracted_features_df = to_extracted_features(gr_dict, models[0])"
      ],
      "execution_count": 0,
      "outputs": []
    },
    {
      "cell_type": "code",
      "metadata": {
        "id": "8IDwsDPwJDge",
        "colab_type": "code",
        "outputId": "cce688f3-87ab-4156-d5c3-b598e8c5d786",
        "colab": {
          "base_uri": "https://localhost:8080/",
          "height": 89
        }
      },
      "source": [
        "## Result of cosine distance\n",
        "%%time\n",
        "\n",
        "sim_dict_by_extracted = create_sim_dict(test_extracted_features_df, grants_extracted_features_df)\n",
        "counter = calc_all_ranks_counter(test_extracted_features_df['doc_id'], sim_dict_by_extracted)\n",
        "print(counter)"
      ],
      "execution_count": 0,
      "outputs": [
        {
          "output_type": "stream",
          "text": [
            "Counter({1: 435, 2: 200, 4: 107, 3: 104, 5: 76, 6: 68, 7: 64, 8: 62, 9: 52, 10: 47, 13: 40, 11: 39, 14: 39, 12: 38, 15: 38, 17: 35, 19: 32, 18: 29, 23: 26, 20: 25, 16: 24, 26: 24, 25: 20, 34: 19, 22: 18, 39: 17, 29: 17, 27: 16, 42: 16, 74: 16, 21: 15, 32: 15, 24: 15, 37: 15, 30: 14, 53: 14, 57: 13, 48: 13, 61: 13, 36: 13, 72: 12, 65: 12, 44: 12, 35: 11, 52: 11, 45: 11, 68: 11, 56: 11, 58: 10, 41: 10, 54: 10, 80: 9, 46: 9, 31: 9, 51: 9, 50: 9, 62: 9, 38: 9, 85: 8, 73: 8, 28: 8, 82: 8, 67: 8, 70: 8, 59: 8, 33: 8, 40: 8, 91: 8, 66: 7, 47: 7, 87: 7, 78: 7, 211: 7, 43: 7, 60: 7, 121: 7, 115: 7, 95: 7, 84: 6, 107: 6, 100: 6, 244: 6, 273: 6, 104: 6, 117: 6, 310: 6, 177: 6, 119: 6, 106: 6, 90: 6, 125: 5, 138: 5, 193: 5, 88: 5, 99: 5, 162: 5, 129: 5, 174: 5, 64: 5, 152: 5, 266: 5, 83: 5, 140: 5, 163: 5, 76: 5, 75: 5, 112: 5, 118: 5, 79: 5, 122: 5, 116: 5, 202: 4, 223: 4, 71: 4, 81: 4, 131: 4, 180: 4, 195: 4, 254: 4, 156: 4, 281: 4, 136: 4, 103: 4, 224: 4, 197: 4, 109: 4, 150: 4, 137: 4, 172: 4, 69: 4, 167: 4, 86: 4, 308: 4, 502: 4, 110: 4, 380: 4, 142: 4, 96: 4, 141: 4, 128: 4, 93: 4, 143: 4, 175: 4, 173: 3, 365: 3, 89: 3, 402: 3, 55: 3, 230: 3, 214: 3, 297: 3, 135: 3, 124: 3, 199: 3, 332: 3, 111: 3, 467: 3, 133: 3, 806: 3, 98: 3, 94: 3, 466: 3, 123: 3, 201: 3, 49: 3, 192: 3, 63: 3, 209: 3, 265: 3, 102: 3, 278: 3, 221: 3, 243: 3, 205: 3, 179: 3, 186: 3, 231: 3, 287: 3, 145: 3, 158: 3, 151: 3, 178: 3, 130: 3, 120: 3, 274: 3, 190: 3, 181: 3, 126: 3, 148: 3, 146: 3, 225: 2, 880: 2, 157: 2, 635: 2, 166: 2, 323: 2, 327: 2, 464: 2, 442: 2, 557: 2, 565: 2, 364: 2, 351: 2, 544: 2, 159: 2, 296: 2, 406: 2, 528: 2, 311: 2, 554: 2, 206: 2, 720: 2, 335: 2, 390: 2, 342: 2, 184: 2, 101: 2, 200: 2, 325: 2, 216: 2, 248: 2, 127: 2, 256: 2, 819: 2, 350: 2, 426: 2, 182: 2, 378: 2, 196: 2, 286: 2, 574: 2, 267: 2, 371: 2, 220: 2, 386: 2, 486: 2, 404: 2, 144: 2, 334: 2, 155: 2, 620: 2, 108: 2, 621: 2, 113: 2, 1029: 2, 253: 2, 198: 2, 203: 2, 194: 2, 1698: 2, 726: 2, 613: 2, 478: 2, 394: 2, 868: 2, 1413: 2, 271: 2, 799: 2, 352: 2, 185: 2, 285: 2, 705: 2, 264: 2, 213: 2, 567: 2, 238: 2, 355: 2, 292: 2, 526: 2, 363: 2, 176: 2, 219: 2, 270: 2, 422: 2, 322: 2, 3919: 2, 276: 2, 170: 2, 1180: 2, 543: 2, 183: 2, 397: 2, 204: 2, 538: 2, 860: 2, 755: 2, 289: 2, 489: 2, 257: 2, 295: 2, 77: 2, 973: 2, 547: 2, 92: 2, 441: 2, 356: 2, 330: 2, 97: 2, 307: 2, 212: 2, 160: 2, 457: 2, 134: 2, 161: 2, 1400: 2, 786: 2, 596: 2, 359: 2, 298: 2, 522: 2, 280: 2, 283: 2, 694: 2, 627: 2, 485: 1, 1916: 1, 569: 1, 413: 1, 1729: 1, 5362: 1, 1978: 1, 534: 1, 463: 1, 647: 1, 527: 1, 1323: 1, 633: 1, 1667: 1, 843: 1, 3865: 1, 324: 1, 1379: 1, 807: 1, 259: 1, 207: 1, 239: 1, 301: 1, 139: 1, 451: 1, 928: 1, 668: 1, 1451: 1, 2222: 1, 405: 1, 1384: 1, 1021: 1, 240: 1, 367: 1, 447: 1, 433: 1, 3220: 1, 1257: 1, 737: 1, 1925: 1, 804: 1, 4911: 1, 508: 1, 5156: 1, 911: 1, 2662: 1, 780: 1, 171: 1, 1866: 1, 553: 1, 947: 1, 5028: 1, 1268: 1, 1799: 1, 1051: 1, 453: 1, 648: 1, 477: 1, 282: 1, 187: 1, 272: 1, 4658: 1, 398: 1, 263: 1, 1197: 1, 2871: 1, 1691: 1, 546: 1, 2359: 1, 1713: 1, 764: 1, 917: 1, 689: 1, 237: 1, 739: 1, 715: 1, 1041: 1, 315: 1, 1198: 1, 236: 1, 1035: 1, 497: 1, 395: 1, 329: 1, 717: 1, 942: 1, 610: 1, 1409: 1, 164: 1, 1203: 1, 798: 1, 1006: 1, 1100: 1, 299: 1, 1039: 1, 935: 1, 792: 1, 771: 1, 704: 1, 671: 1, 393: 1, 968: 1, 713: 1, 1106: 1, 4014: 1, 284: 1, 3672: 1, 685: 1, 1539: 1, 294: 1, 438: 1, 210: 1, 446: 1, 114: 1, 444: 1, 427: 1, 801: 1, 1616: 1, 353: 1, 498: 1, 1328: 1, 579: 1, 346: 1, 584: 1, 1046: 1, 1633: 1, 1701: 1, 638: 1, 408: 1, 208: 1, 1238: 1, 989: 1, 415: 1, 1913: 1, 1127: 1, 816: 1, 532: 1, 501: 1, 2086: 1, 506: 1, 536: 1, 1103: 1, 991: 1, 250: 1, 665: 1, 514: 1, 1236: 1, 226: 1, 2816: 1, 149: 1, 2903: 1, 660: 1, 1241: 1, 5672: 1, 678: 1, 387: 1, 599: 1, 949: 1, 753: 1, 1417: 1, 1610: 1, 241: 1, 302: 1, 609: 1, 2553: 1, 2288: 1, 1249: 1, 2314: 1, 752: 1, 1119: 1, 462: 1, 675: 1, 504: 1, 421: 1, 748: 1, 1794: 1, 261: 1, 2295: 1, 5798: 1, 154: 1, 2161: 1, 2741: 1, 1571: 1, 232: 1, 2570: 1, 1879: 1, 950: 1, 476: 1, 432: 1, 388: 1, 1779: 1, 3791: 1, 2046: 1, 681: 1, 951: 1, 838: 1, 597: 1, 723: 1, 589: 1, 697: 1, 791: 1, 775: 1, 898: 1, 827: 1, 1927: 1, 1896: 1, 482: 1, 389: 1, 1735: 1, 4560: 1, 313: 1, 338: 1, 537: 1, 2284: 1, 876: 1, 260: 1, 487: 1, 348: 1, 721: 1, 894: 1, 428: 1, 960: 1, 696: 1, 680: 1, 890: 1, 3296: 1, 1459: 1, 403: 1, 2661: 1, 3876: 1, 905: 1, 3607: 1, 583: 1, 4934: 1, 474: 1, 439: 1, 831: 1, 1264: 1, 767: 1, 1213: 1, 3408: 1, 2874: 1, 934: 1, 228: 1, 893: 1, 2007: 1, 920: 1, 3704: 1, 473: 1, 269: 1, 889: 1, 3790: 1, 751: 1, 316: 1, 391: 1, 165: 1, 1309: 1, 429: 1, 288: 1, 1584: 1, 607: 1, 821: 1, 345: 1, 608: 1, 262: 1, 517: 1, 1353: 1, 507: 1, 2668: 1, 484: 1, 1084: 1, 458: 1, 409: 1, 1218: 1, 954: 1, 869: 1, 743: 1, 147: 1, 425: 1, 2072: 1, 1331: 1, 1260: 1, 379: 1, 1305: 1, 419: 1, 1151: 1, 1342: 1, 227: 1, 400: 1, 4575: 1, 2135: 1, 1042: 1, 191: 1, 490: 1, 1425: 1, 1795: 1, 2420: 1, 1145: 1, 1155: 1, 3371: 1, 5239: 1, 337: 1, 3673: 1, 188: 1, 1040: 1, 1405: 1, 2117: 1, 983: 1, 1209: 1, 999: 1, 1495: 1, 1062: 1, 875: 1, 1515: 1, 132: 1, 612: 1, 1606: 1, 529: 1, 396: 1, 716: 1, 2586: 1, 2908: 1, 1167: 1, 4251: 1, 4812: 1, 461: 1, 1222: 1, 841: 1, 834: 1, 750: 1, 472: 1, 279: 1, 1552: 1, 2357: 1, 291: 1, 661: 1, 1166: 1, 1979: 1, 900: 1, 4977: 1, 5761: 1, 445: 1, 4133: 1, 1789: 1, 4537: 1, 863: 1, 4169: 1, 321: 1, 381: 1, 1605: 1, 1597: 1, 712: 1, 1464: 1, 168: 1, 693: 1, 552: 1, 850: 1, 763: 1, 2522: 1, 790: 1, 290: 1, 1750: 1, 318: 1, 277: 1, 2985: 1, 2175: 1, 412: 1, 354: 1, 494: 1, 317: 1, 430: 1, 3926: 1, 215: 1, 2854: 1, 1508: 1, 2896: 1, 832: 1, 369: 1, 1117: 1, 2675: 1})\n",
            "CPU times: user 1min 59s, sys: 1.8 s, total: 2min 1s\n",
            "Wall time: 2min 1s\n"
          ],
          "name": "stdout"
        }
      ]
    },
    {
      "cell_type": "code",
      "metadata": {
        "id": "75I48WeWMiib",
        "colab_type": "code",
        "outputId": "6bc2f3d9-0b9c-4a30-bc33-7289b9042dbd",
        "colab": {
          "base_uri": "https://localhost:8080/",
          "height": 34
        }
      },
      "source": [
        "similarities = [list(sim_dict_by_extracted[doc_id].values()) for doc_id in test_extracted_features_df['doc_id']]\n",
        "sim_arr = np.array(similarities)\n",
        "sim_arr.shape"
      ],
      "execution_count": 0,
      "outputs": [
        {
          "output_type": "execute_result",
          "data": {
            "text/plain": [
              "(3000, 6440)"
            ]
          },
          "metadata": {
            "tags": []
          },
          "execution_count": 120
        }
      ]
    },
    {
      "cell_type": "code",
      "metadata": {
        "id": "JH5b2k7-Mis3",
        "colab_type": "code",
        "outputId": "76596601-c64d-41cb-bcc3-2743f679e3f3",
        "colab": {
          "base_uri": "https://localhost:8080/",
          "height": 52
        }
      },
      "source": [
        "%%time\n",
        "\n",
        "ranking = []\n",
        "\n",
        "for num in range(len(similarities)):\n",
        "\n",
        "  app_id = test_extracted_features_df['doc_id'][num]\n",
        "  label = pd.Series(test_label(app_id, grants, citations_info_target))\n",
        "    \n",
        "  i, = np.where(label == 1)\n",
        "  cited_index = i[0]\n",
        "  rank = sorted(similarities[num], reverse=True).index(similarities[num][cited_index])\n",
        "  ranking.append(rank)"
      ],
      "execution_count": 0,
      "outputs": [
        {
          "output_type": "stream",
          "text": [
            "CPU times: user 42 s, sys: 9.25 ms, total: 42 s\n",
            "Wall time: 42.1 s\n"
          ],
          "name": "stdout"
        }
      ]
    },
    {
      "cell_type": "code",
      "metadata": {
        "id": "lcnYAolqN4MI",
        "colab_type": "code",
        "outputId": "4eaccd4a-bd69-4463-aa2c-aa94c6124b63",
        "colab": {
          "base_uri": "https://localhost:8080/",
          "height": 52
        }
      },
      "source": [
        "%%time\n",
        "\n",
        "ranking_arr = np.array(ranking)\n",
        "positive_counts = [sum(ranking_arr <= thrd) for thrd in range(len(grants))]"
      ],
      "execution_count": 0,
      "outputs": [
        {
          "output_type": "stream",
          "text": [
            "CPU times: user 41.5 s, sys: 4.3 ms, total: 41.5 s\n",
            "Wall time: 41.5 s\n"
          ],
          "name": "stdout"
        }
      ]
    },
    {
      "cell_type": "code",
      "metadata": {
        "id": "6JMU1SmppL1t",
        "colab_type": "code",
        "colab": {}
      },
      "source": [
        "%%time\n",
        "\n",
        "ranking_result = []\n",
        "\n",
        "for model in target_features_dict.keys():\n",
        "  print(f\"Computing rankings using {model} features...\")\n",
        "  rankings = compute_ranking(target_features_dict, model)\n",
        "  positive_counts = compute_positive_count(rankings)\n",
        "  ranking_result.append([model, rankings, positive_counts])"
      ],
      "execution_count": 0,
      "outputs": []
    },
    {
      "cell_type": "code",
      "metadata": {
        "id": "oVI9Bb6Aoee5",
        "colab_type": "code",
        "outputId": "de68f30c-b2d8-4400-8c47-3ccff11e1a86",
        "colab": {
          "base_uri": "https://localhost:8080/",
          "height": 34
        }
      },
      "source": [
        " (np.array(positive_counts)/len(ranking))[10], (np.array(positive_counts)/len(ranking))[100],  (np.array(positive_counts)/len(ranking))[200]"
      ],
      "execution_count": 0,
      "outputs": [
        {
          "output_type": "execute_result",
          "data": {
            "text/plain": [
              "(0.387, 0.7013333333333334, 0.7936666666666666)"
            ]
          },
          "metadata": {
            "tags": []
          },
          "execution_count": 124
        }
      ]
    },
    {
      "cell_type": "code",
      "metadata": {
        "id": "UhVymp4dN4Sc",
        "colab_type": "code",
        "outputId": "73555026-7655-45ba-bdae-0cbfb20d0572",
        "colab": {
          "base_uri": "https://localhost:8080/",
          "height": 34
        }
      },
      "source": [
        " (np.array(positive_counts)/len(ranking))[10], (np.array(positive_counts)/len(ranking))[100],  (np.array(positive_counts)/len(ranking))[200]"
      ],
      "execution_count": 0,
      "outputs": [
        {
          "output_type": "execute_result",
          "data": {
            "text/plain": [
              "(0.36733333333333335, 0.6736666666666666, 0.775)"
            ]
          },
          "metadata": {
            "tags": []
          },
          "execution_count": 93
        }
      ]
    },
    {
      "cell_type": "markdown",
      "metadata": {
        "id": "Wts-D5Q0PHiU",
        "colab_type": "text"
      },
      "source": [
        "```\n",
        "USE top 10: 0.3400\n",
        "USE top 100: 0.6467\n",
        "USE top 200: 0.7480\n",
        "```"
      ]
    },
    {
      "cell_type": "code",
      "metadata": {
        "id": "rYYVEils8Php",
        "colab_type": "code",
        "colab": {}
      },
      "source": [
        "sim = compute_similarities(target_features_dict, \"USE\")"
      ],
      "execution_count": 0,
      "outputs": []
    },
    {
      "cell_type": "code",
      "metadata": {
        "id": "Xt5w4LMn8i-z",
        "colab_type": "code",
        "outputId": "548674e8-4445-45c4-d4dd-739a7c9560c7",
        "colab": {
          "base_uri": "https://localhost:8080/",
          "height": 52
        }
      },
      "source": [
        "sim[0]"
      ],
      "execution_count": 0,
      "outputs": [
        {
          "output_type": "execute_result",
          "data": {
            "text/plain": [
              "array([0.59243876, 0.49336826, 0.35891418, ..., 0.3547594 , 0.61351997,\n",
              "       0.54102679])"
            ]
          },
          "metadata": {
            "tags": []
          },
          "execution_count": 106
        }
      ]
    },
    {
      "cell_type": "code",
      "metadata": {
        "id": "8DJcxh5O_JTF",
        "colab_type": "code",
        "colab": {}
      },
      "source": [
        "ranking = compute_ranking(sim)"
      ],
      "execution_count": 0,
      "outputs": []
    },
    {
      "cell_type": "code",
      "metadata": {
        "id": "n4CQ-ZG1AQRe",
        "colab_type": "code",
        "outputId": "bd86805e-eff1-459e-d588-9770f1cd5f7e",
        "colab": {
          "base_uri": "https://localhost:8080/",
          "height": 34
        }
      },
      "source": [
        "ranking[:3]"
      ],
      "execution_count": 0,
      "outputs": [
        {
          "output_type": "execute_result",
          "data": {
            "text/plain": [
              "[14, 0, 789]"
            ]
          },
          "metadata": {
            "tags": []
          },
          "execution_count": 113
        }
      ]
    },
    {
      "cell_type": "code",
      "metadata": {
        "id": "vd6uvSYAw9iw",
        "colab_type": "code",
        "outputId": "d0673752-797f-4409-e32f-e982307df475",
        "colab": {
          "base_uri": "https://localhost:8080/",
          "height": 281
        }
      },
      "source": [
        "import matplotlib.pyplot as plt\n",
        "\n",
        "plt.hist(ranking, alpha=0.5, bins=100, label=\"ELMo cosine similarity\")\n",
        "plt.title(\"Cited grants rank\")\n",
        "plt.legend()\n",
        "plt.show()"
      ],
      "execution_count": 0,
      "outputs": [
        {
          "output_type": "display_data",
          "data": {
            "image/png": "[encoded data removed]",
            "text/plain": [
              "<Figure size 432x288 with 1 Axes>"
            ]
          },
          "metadata": {
            "tags": []
          }
        }
      ]
    },
    {
      "cell_type": "code",
      "metadata": {
        "id": "cfNyOTn8qi4e",
        "colab_type": "code",
        "outputId": "e8ab017a-84d2-445f-cc9c-53a87816e275",
        "colab": {
          "base_uri": "https://localhost:8080/",
          "height": 52
        }
      },
      "source": [
        "%%time\n",
        "\n",
        "tf, tl, tef, tel = _prepare_feature_for_labeled_data(target_features_dict, \"ELMO-512tokenmean\")"
      ],
      "execution_count": 0,
      "outputs": [
        {
          "output_type": "stream",
          "text": [
            "CPU times: user 25.7 s, sys: 199 ms, total: 25.9 s\n",
            "Wall time: 25.8 s\n"
          ],
          "name": "stdout"
        }
      ]
    },
    {
      "cell_type": "code",
      "metadata": {
        "id": "yhPbmx_unzyp",
        "colab_type": "code",
        "outputId": "db0870e9-fe25-4b3e-f55a-09da86721fe8",
        "colab": {
          "base_uri": "https://localhost:8080/",
          "height": 242
        }
      },
      "source": [
        "tf"
      ],
      "execution_count": 0,
      "outputs": [
        {
          "output_type": "execute_result",
          "data": {
            "text/plain": [
              "array([[ 0.04146077,  0.33466873, -0.02438193, ..., -0.05138287,\n",
              "         0.35489544,  0.18244757],\n",
              "       [ 0.19946417,  0.28654307, -0.03343014, ..., -0.16085735,\n",
              "         0.07497395, -0.05243134],\n",
              "       [ 0.24413267,  0.03050674, -0.2599768 , ..., -0.0933385 ,\n",
              "         0.19614401,  0.1279701 ],\n",
              "       ...,\n",
              "       [ 0.15222813,  0.09087709, -0.13535395, ..., -0.05091184,\n",
              "        -0.05838778, -0.03196971],\n",
              "       [ 0.30256709,  0.24646774, -0.14956102, ..., -0.10359577,\n",
              "         0.23123719,  0.00610641],\n",
              "       [ 0.06816008,  0.33493641, -0.21586779, ..., -0.10068552,\n",
              "         0.39663556,  0.11206492]])"
            ]
          },
          "metadata": {
            "tags": []
          },
          "execution_count": 66
        }
      ]
    },
    {
      "cell_type": "code",
      "metadata": {
        "id": "neezAudLkGay",
        "colab_type": "code",
        "colab": {}
      },
      "source": [
        "train_app_f, test_app_f, grant_f = _read_feature(target_features_dict, \"USE\")"
      ],
      "execution_count": 0,
      "outputs": []
    },
    {
      "cell_type": "code",
      "metadata": {
        "id": "65AMILh9kGez",
        "colab_type": "code",
        "outputId": "769306bd-c037-48fa-c556-9ffde2fe34c0",
        "colab": {
          "base_uri": "https://localhost:8080/",
          "height": 34
        }
      },
      "source": [
        "grant_f.shape"
      ],
      "execution_count": 0,
      "outputs": [
        {
          "output_type": "execute_result",
          "data": {
            "text/plain": [
              "(6440, 512)"
            ]
          },
          "metadata": {
            "tags": []
          },
          "execution_count": 22
        }
      ]
    },
    {
      "cell_type": "code",
      "metadata": {
        "id": "sESOyA0SkGEN",
        "colab_type": "code",
        "colab": {}
      },
      "source": [
        "assert train_app_f.shape == (3000, 512)"
      ],
      "execution_count": 0,
      "outputs": []
    }
  ]
}