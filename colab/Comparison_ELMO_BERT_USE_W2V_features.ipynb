{
  "nbformat": 4,
  "nbformat_minor": 0,
  "metadata": {
    "colab": {
      "name": "Comparison_ELMO_BERT_USE_W2V_features.ipynb",
      "version": "0.3.2",
      "provenance": [],
      "collapsed_sections": [],
      "toc_visible": true,
      "include_colab_link": true
    },
    "kernelspec": {
      "name": "python3",
      "display_name": "Python 3"
    }
  },
  "cells": [
    {
      "cell_type": "markdown",
      "metadata": {
        "id": "view-in-github",
        "colab_type": "text"
      },
      "source": [
        "<a href=\"https://colab.research.google.com/github/yoheikikuta/US-patent-analysis/blob/master/colab/Comparison_ELMO_BERT_USE_W2V_features.ipynb\" target=\"_parent\"><img src=\"https://colab.research.google.com/assets/colab-badge.svg\" alt=\"Open In Colab\"/></a>"
      ]
    },
    {
      "cell_type": "markdown",
      "metadata": {
        "id": "D9s6049USuJO",
        "colab_type": "text"
      },
      "source": [
        "# Comparison_ELMO_BERT_USE_W2V_features\n",
        "\n",
        "NOTE: used texts might be slightly difference due to some processing procedures."
      ]
    },
    {
      "cell_type": "markdown",
      "metadata": {
        "id": "Sh6e4MelSvwB",
        "colab_type": "text"
      },
      "source": [
        "## Prerequisites"
      ]
    },
    {
      "cell_type": "code",
      "metadata": {
        "id": "IblKx597oguP",
        "colab_type": "code",
        "colab": {}
      },
      "source": [
        "from google.colab import auth\n",
        "auth.authenticate_user()"
      ],
      "execution_count": 0,
      "outputs": []
    },
    {
      "cell_type": "code",
      "metadata": {
        "id": "006Nu3q7S8If",
        "colab_type": "code",
        "colab": {}
      },
      "source": [
        "GCS_BASE = \"gs://yohei-kikuta/mlstudy-phys/patent-analysis/3000-extracted-feature\"\n",
        "\n",
        "target_features_dict = {\n",
        "    \"BERT-2ndlastmean\" : [\"bert_2ndlastmean_feature_train_app_3000\", \"bert_2ndlastmean_feature_test_app_3000\", \"bert_2ndlastmean_feature_grants_3000_3000\"],\n",
        "    \"BERT-Large-2ndlastmean\" : [\"bert_large_2ndlastmean_feature_train_app_3000\", \"bert_large_2ndlastmean_feature_test_app_3000\", \"bert_large_2ndlastmean_feature_grants_3000_3000\"],\n",
        "    \"ELMO-512tokenmean\" : [\"elmo_512_feature_train_app_3000\", \"elmo_512_feature_test_app_3000\", \"elmo_512_feature_grants_3000_3000\"],\n",
        "    \"ELMO-4096tokenmean\" : [\"elmo_4096_feature_train_app_3000\", \"elmo_4096_feature_test_app_3000\", \"elmo_4096_feature_grants_3000_3000\"],\n",
        "    \"USE\" : [\"use_feature_train_app_3000\", \"use_feature_test_app_3000\", \"use_feature_grants_3000_3000\"],\n",
        "    \"W2V\" : [\"w2v_100_feature_train_app_3000\", \"w2v_100_feature_test_app_3000\", \"w2v_100_feature_grants_3000_3000\"],\n",
        "}"
      ],
      "execution_count": 0,
      "outputs": []
    },
    {
      "cell_type": "markdown",
      "metadata": {
        "id": "OI8Jli2vS33X",
        "colab_type": "text"
      },
      "source": [
        "## Data downloading"
      ]
    },
    {
      "cell_type": "code",
      "metadata": {
        "id": "1eWBNIHyj342",
        "colab_type": "code",
        "outputId": "6c470c14-16a8-4fb1-8d03-f3005ef8a2bf",
        "colab": {
          "base_uri": "https://localhost:8080/",
          "height": 225
        }
      },
      "source": [
        "!gsutil cp gs://yohei-kikuta/mlstudy-phys/patent-analysis/3000-info/citations_info_3000+3000.df.gz ./\n",
        "\n",
        "!gsutil cp gs://yohei-kikuta/mlstudy-phys/patent-analysis/3000-xml/training_app_3000.df.gz ./  \n",
        "!gsutil cp gs://yohei-kikuta/mlstudy-phys/patent-analysis/3000-xml/testset_app_3000.df.gz ./\n",
        "!gsutil cp gs://yohei-kikuta/mlstudy-phys/patent-analysis/3000-xml/grants_for_3000+3000.df.gz ./"
      ],
      "execution_count": 39,
      "outputs": [
        {
          "output_type": "stream",
          "text": [
            "Copying gs://yohei-kikuta/mlstudy-phys/patent-analysis/3000-info/citations_info_3000+3000.df.gz...\n",
            "/ [1 files][506.5 KiB/506.5 KiB]                                                \n",
            "Operation completed over 1 objects/506.5 KiB.                                    \n",
            "Copying gs://yohei-kikuta/mlstudy-phys/patent-analysis/3000-xml/training_app_3000.df.gz...\n",
            "\\ [1 files][ 45.0 MiB/ 45.0 MiB]                                                \n",
            "Operation completed over 1 objects/45.0 MiB.                                     \n",
            "Copying gs://yohei-kikuta/mlstudy-phys/patent-analysis/3000-xml/testset_app_3000.df.gz...\n",
            "\\ [1 files][ 45.5 MiB/ 45.5 MiB]                                                \n",
            "Operation completed over 1 objects/45.5 MiB.                                     \n",
            "Copying gs://yohei-kikuta/mlstudy-phys/patent-analysis/3000-xml/grants_for_3000+3000.df.gz...\n",
            "- [1 files][129.4 MiB/129.4 MiB]                                                \n",
            "Operation completed over 1 objects/129.4 MiB.                                    \n"
          ],
          "name": "stdout"
        }
      ]
    },
    {
      "cell_type": "code",
      "metadata": {
        "id": "51oLKwAsUKlI",
        "colab_type": "code",
        "outputId": "37738ed4-8be9-4d30-8640-2b11fa0f9954",
        "colab": {
          "base_uri": "https://localhost:8080/",
          "height": 988
        }
      },
      "source": [
        "%%time\n",
        "\n",
        "for model, files in target_features_dict.items():\n",
        "  for f in files:\n",
        "    !gsutil cp {GCS_BASE}/{model}/{f}.pkl.gz ./"
      ],
      "execution_count": 57,
      "outputs": [
        {
          "output_type": "stream",
          "text": [
            "Copying gs://yohei-kikuta/mlstudy-phys/patent-analysis/3000-extracted-feature/BERT-2ndlastmean/bert_2ndlastmean_feature_train_app_3000.pkl.gz...\n",
            "/ [1 files][  9.4 MiB/  9.4 MiB]                                                \n",
            "Operation completed over 1 objects/9.4 MiB.                                      \n",
            "Copying gs://yohei-kikuta/mlstudy-phys/patent-analysis/3000-extracted-feature/BERT-2ndlastmean/bert_2ndlastmean_feature_test_app_3000.pkl.gz...\n",
            "- [1 files][  9.4 MiB/  9.4 MiB]                                                \n",
            "Operation completed over 1 objects/9.4 MiB.                                      \n",
            "Copying gs://yohei-kikuta/mlstudy-phys/patent-analysis/3000-extracted-feature/BERT-2ndlastmean/bert_2ndlastmean_feature_grants_3000_3000.pkl.gz...\n",
            "- [1 files][ 20.1 MiB/ 20.1 MiB]                                                \n",
            "Operation completed over 1 objects/20.1 MiB.                                     \n",
            "Copying gs://yohei-kikuta/mlstudy-phys/patent-analysis/3000-extracted-feature/BERT-Large-2ndlastmean/bert_large_2ndlastmean_feature_train_app_3000.pkl.gz...\n",
            "- [1 files][ 12.5 MiB/ 12.5 MiB]                                                \n",
            "Operation completed over 1 objects/12.5 MiB.                                     \n",
            "Copying gs://yohei-kikuta/mlstudy-phys/patent-analysis/3000-extracted-feature/BERT-Large-2ndlastmean/bert_large_2ndlastmean_feature_test_app_3000.pkl.gz...\n",
            "-\n",
            "Operation completed over 1 objects/12.5 MiB.                                     \n",
            "Copying gs://yohei-kikuta/mlstudy-phys/patent-analysis/3000-extracted-feature/BERT-Large-2ndlastmean/bert_large_2ndlastmean_feature_grants_3000_3000.pkl.gz...\n",
            "- [1 files][ 26.8 MiB/ 26.8 MiB]                                                \n",
            "Operation completed over 1 objects/26.8 MiB.                                     \n",
            "Copying gs://yohei-kikuta/mlstudy-phys/patent-analysis/3000-extracted-feature/ELMO-512tokenmean/elmo_512_feature_train_app_3000.pkl.gz...\n",
            "\\ [1 files][ 12.5 MiB/ 12.5 MiB]                                                \n",
            "Operation completed over 1 objects/12.5 MiB.                                     \n",
            "Copying gs://yohei-kikuta/mlstudy-phys/patent-analysis/3000-extracted-feature/ELMO-512tokenmean/elmo_512_feature_test_app_3000.pkl.gz...\n",
            "- [1 files][ 12.5 MiB/ 12.5 MiB]                                                \n",
            "Operation completed over 1 objects/12.5 MiB.                                     \n",
            "Copying gs://yohei-kikuta/mlstudy-phys/patent-analysis/3000-extracted-feature/ELMO-512tokenmean/elmo_512_feature_grants_3000_3000.pkl.gz...\n",
            "- [1 files][ 26.8 MiB/ 26.8 MiB]                                                \n",
            "Operation completed over 1 objects/26.8 MiB.                                     \n",
            "Copying gs://yohei-kikuta/mlstudy-phys/patent-analysis/3000-extracted-feature/ELMO-4096tokenmean/elmo_4096_feature_train_app_3000.pkl.gz...\n",
            "- [1 files][ 12.5 MiB/ 12.5 MiB]                                                \n",
            "Operation completed over 1 objects/12.5 MiB.                                     \n",
            "Copying gs://yohei-kikuta/mlstudy-phys/patent-analysis/3000-extracted-feature/ELMO-4096tokenmean/elmo_4096_feature_test_app_3000.pkl.gz...\n",
            "- [1 files][ 12.5 MiB/ 12.5 MiB]                                                \n",
            "Operation completed over 1 objects/12.5 MiB.                                     \n",
            "Copying gs://yohei-kikuta/mlstudy-phys/patent-analysis/3000-extracted-feature/ELMO-4096tokenmean/elmo_4096_feature_grants_3000_3000.pkl.gz...\n",
            "\\ [1 files][ 26.8 MiB/ 26.8 MiB]                                                \n",
            "Operation completed over 1 objects/26.8 MiB.                                     \n",
            "Copying gs://yohei-kikuta/mlstudy-phys/patent-analysis/3000-extracted-feature/USE/use_feature_train_app_3000.pkl.gz...\n",
            "- [1 files][  6.2 MiB/  6.2 MiB]                                                \n",
            "Operation completed over 1 objects/6.2 MiB.                                      \n",
            "Copying gs://yohei-kikuta/mlstudy-phys/patent-analysis/3000-extracted-feature/USE/use_feature_test_app_3000.pkl.gz...\n",
            "- [1 files][  6.2 MiB/  6.2 MiB]                                                \n",
            "Operation completed over 1 objects/6.2 MiB.                                      \n",
            "Copying gs://yohei-kikuta/mlstudy-phys/patent-analysis/3000-extracted-feature/USE/use_feature_grants_3000_3000.pkl.gz...\n",
            "/ [1 files][ 13.3 MiB/ 13.3 MiB]                                                \n",
            "Operation completed over 1 objects/13.3 MiB.                                     \n",
            "Copying gs://yohei-kikuta/mlstudy-phys/patent-analysis/3000-extracted-feature/W2V/w2v_100_feature_train_app_3000.pkl.gz...\n",
            "/ [1 files][  1.1 MiB/  1.1 MiB]                                                \n",
            "Operation completed over 1 objects/1.1 MiB.                                      \n",
            "Copying gs://yohei-kikuta/mlstudy-phys/patent-analysis/3000-extracted-feature/W2V/w2v_100_feature_test_app_3000.pkl.gz...\n",
            "/ [1 files][  1.1 MiB/  1.1 MiB]                                                \n",
            "Operation completed over 1 objects/1.1 MiB.                                      \n",
            "Copying gs://yohei-kikuta/mlstudy-phys/patent-analysis/3000-extracted-feature/W2V/w2v_100_feature_grants_3000_3000.pkl.gz...\n",
            "- [1 files][  2.3 MiB/  2.3 MiB]                                                \n",
            "Operation completed over 1 objects/2.3 MiB.                                      \n",
            "CPU times: user 763 ms, sys: 1.17 s, total: 1.94 s\n",
            "Wall time: 1min 11s\n"
          ],
          "name": "stdout"
        }
      ]
    },
    {
      "cell_type": "code",
      "metadata": {
        "id": "lu4o6t-YjRKR",
        "colab_type": "code",
        "outputId": "a9e57fc7-057a-46dc-cc18-cfe70396cd82",
        "colab": {
          "base_uri": "https://localhost:8080/",
          "height": 433
        }
      },
      "source": [
        "!ls"
      ],
      "execution_count": 58,
      "outputs": [
        {
          "output_type": "stream",
          "text": [
            "adc.json\n",
            "bert_2ndlastmean_feature_grants_3000_3000.pkl.gz\n",
            "bert_2ndlastmean_feature_test_app_3000.pkl.gz\n",
            "bert_2ndlastmean_feature_train_app_3000.pkl.gz\n",
            "bert_large_2ndlastmean_feature_grants_3000_3000.pkl.gz\n",
            "bert_large_2ndlastmean_feature_test_app_3000.pkl.gz\n",
            "bert_large_2ndlastmean_feature_train_app_3000.pkl.gz\n",
            "citations_info_3000+3000.df.gz\n",
            "elmo_4096_feature_grants_3000_3000.pkl.gz\n",
            "elmo_4096_feature_test_app_3000.pkl.gz\n",
            "elmo_4096_feature_train_app_3000.pkl.gz\n",
            "elmo_512_feature_grants_3000_3000.pkl.gz\n",
            "elmo_512_feature_test_app_3000.pkl.gz\n",
            "elmo_512_feature_train_app_3000.pkl.gz\n",
            "grants_for_3000+3000.df.gz\n",
            "sample_data\n",
            "testset_app_3000.df.gz\n",
            "training_app_3000.df.gz\n",
            "use_feature_grants_3000_3000.pkl.gz\n",
            "use_feature_test_app_3000.pkl.gz\n",
            "use_feature_train_app_3000.pkl.gz\n",
            "w2v_100_feature_grants_3000_3000.pkl.gz\n",
            "w2v_100_feature_test_app_3000.pkl.gz\n",
            "w2v_100_feature_train_app_3000.pkl.gz\n"
          ],
          "name": "stdout"
        }
      ]
    },
    {
      "cell_type": "markdown",
      "metadata": {
        "id": "yaqX-h0zULUJ",
        "colab_type": "text"
      },
      "source": [
        "## Binary classification problem using the extracted fesatures"
      ]
    },
    {
      "cell_type": "code",
      "metadata": {
        "id": "5QQj6zjWUQso",
        "colab_type": "code",
        "colab": {}
      },
      "source": [
        "import pandas as pd\n",
        "import numpy as np"
      ],
      "execution_count": 0,
      "outputs": []
    },
    {
      "cell_type": "code",
      "metadata": {
        "id": "Y1ItV0r3jrBp",
        "colab_type": "code",
        "colab": {}
      },
      "source": [
        "citations_info_target = pd.read_pickle(\"./citations_info_3000+3000.df.gz\")\n",
        "test_app = pd.read_pickle(\"./testset_app_3000.df.gz\")\n",
        "grants = pd.read_pickle(\"./grants_for_3000+3000.df.gz\")\n",
        "train_app = pd.read_pickle(\"./training_app_3000.df.gz\")"
      ],
      "execution_count": 0,
      "outputs": []
    },
    {
      "cell_type": "code",
      "metadata": {
        "id": "ovKKABDakF4b",
        "colab_type": "code",
        "colab": {}
      },
      "source": [
        "train_data = pd.merge(train_app, citations_info_target, on='app_id')[[\"app_id\", \"parsed\"]]\n",
        "dev_data = pd.merge(test_app, citations_info_target, on='app_id')[[\"app_id\", \"parsed\"]]"
      ],
      "execution_count": 0,
      "outputs": []
    },
    {
      "cell_type": "code",
      "metadata": {
        "id": "5z_pcua7kGHo",
        "colab_type": "code",
        "colab": {}
      },
      "source": [
        "train_data['label'] = 1\n",
        "dev_data['label'] = 1"
      ],
      "execution_count": 0,
      "outputs": []
    },
    {
      "cell_type": "code",
      "metadata": {
        "id": "4Wlax3ZMmnOO",
        "colab_type": "code",
        "outputId": "d40348b6-fbf7-4d2e-fa04-3b467c0cd427",
        "colab": {
          "base_uri": "https://localhost:8080/",
          "height": 202
        }
      },
      "source": [
        "train_data.head()"
      ],
      "execution_count": 63,
      "outputs": [
        {
          "output_type": "execute_result",
          "data": {
            "text/html": [
              "<div>\n",
              "<style scoped>\n",
              "    .dataframe tbody tr th:only-of-type {\n",
              "        vertical-align: middle;\n",
              "    }\n",
              "\n",
              "    .dataframe tbody tr th {\n",
              "        vertical-align: top;\n",
              "    }\n",
              "\n",
              "    .dataframe thead th {\n",
              "        text-align: right;\n",
              "    }\n",
              "</style>\n",
              "<table border=\"1\" class=\"dataframe\">\n",
              "  <thead>\n",
              "    <tr style=\"text-align: right;\">\n",
              "      <th></th>\n",
              "      <th>app_id</th>\n",
              "      <th>parsed</th>\n",
              "      <th>label</th>\n",
              "    </tr>\n",
              "  </thead>\n",
              "  <tbody>\n",
              "    <tr>\n",
              "      <th>0</th>\n",
              "      <td>12130785</td>\n",
              "      <td>7212849</td>\n",
              "      <td>1</td>\n",
              "    </tr>\n",
              "    <tr>\n",
              "      <th>1</th>\n",
              "      <td>12652424</td>\n",
              "      <td>7814459</td>\n",
              "      <td>1</td>\n",
              "    </tr>\n",
              "    <tr>\n",
              "      <th>2</th>\n",
              "      <td>12652424</td>\n",
              "      <td>7814459</td>\n",
              "      <td>1</td>\n",
              "    </tr>\n",
              "    <tr>\n",
              "      <th>3</th>\n",
              "      <td>12214532</td>\n",
              "      <td>7652956</td>\n",
              "      <td>1</td>\n",
              "    </tr>\n",
              "    <tr>\n",
              "      <th>4</th>\n",
              "      <td>14204411</td>\n",
              "      <td>7439432</td>\n",
              "      <td>1</td>\n",
              "    </tr>\n",
              "  </tbody>\n",
              "</table>\n",
              "</div>"
            ],
            "text/plain": [
              "     app_id   parsed  label\n",
              "0  12130785  7212849      1\n",
              "1  12652424  7814459      1\n",
              "2  12652424  7814459      1\n",
              "3  12214532  7652956      1\n",
              "4  14204411  7439432      1"
            ]
          },
          "metadata": {
            "tags": []
          },
          "execution_count": 63
        }
      ]
    },
    {
      "cell_type": "code",
      "metadata": {
        "id": "E5YjkP-imtB0",
        "colab_type": "code",
        "colab": {}
      },
      "source": [
        "def pick_up_uncited_grants(df, app_id, n=1, random_state=23):\n",
        "    '''\n",
        "    Randomly pick up uncited grant pair to a given app_id for generating negative samples.\n",
        "    '''\n",
        "    n_rows = df[ df['app_id'] != app_id ].sample(n=n, random_state=random_state)\n",
        "    \n",
        "    return [n_rows['parsed'].values[0], 0]"
      ],
      "execution_count": 0,
      "outputs": []
    },
    {
      "cell_type": "code",
      "metadata": {
        "id": "7XFw_XoZmuWv",
        "colab_type": "code",
        "outputId": "233e23fa-a937-48e4-8dce-97d9876f5014",
        "colab": {
          "base_uri": "https://localhost:8080/",
          "height": 202
        }
      },
      "source": [
        "seed = 23\n",
        "\n",
        "train_non_cited_data = pd.DataFrame([\n",
        "    [app_id] + pick_up_uncited_grants(train_data, app_id, random_state=seed+idx)\n",
        "    for idx, (app_id)\n",
        "    in enumerate(train_data['app_id'])\n",
        "])\n",
        "\n",
        "train_non_cited_data.columns = train_data.columns\n",
        "\n",
        "train_non_cited_data.head()"
      ],
      "execution_count": 65,
      "outputs": [
        {
          "output_type": "execute_result",
          "data": {
            "text/html": [
              "<div>\n",
              "<style scoped>\n",
              "    .dataframe tbody tr th:only-of-type {\n",
              "        vertical-align: middle;\n",
              "    }\n",
              "\n",
              "    .dataframe tbody tr th {\n",
              "        vertical-align: top;\n",
              "    }\n",
              "\n",
              "    .dataframe thead th {\n",
              "        text-align: right;\n",
              "    }\n",
              "</style>\n",
              "<table border=\"1\" class=\"dataframe\">\n",
              "  <thead>\n",
              "    <tr style=\"text-align: right;\">\n",
              "      <th></th>\n",
              "      <th>app_id</th>\n",
              "      <th>parsed</th>\n",
              "      <th>label</th>\n",
              "    </tr>\n",
              "  </thead>\n",
              "  <tbody>\n",
              "    <tr>\n",
              "      <th>0</th>\n",
              "      <td>12130785</td>\n",
              "      <td>7848141</td>\n",
              "      <td>0</td>\n",
              "    </tr>\n",
              "    <tr>\n",
              "      <th>1</th>\n",
              "      <td>12652424</td>\n",
              "      <td>7992009</td>\n",
              "      <td>0</td>\n",
              "    </tr>\n",
              "    <tr>\n",
              "      <th>2</th>\n",
              "      <td>12652424</td>\n",
              "      <td>7896548</td>\n",
              "      <td>0</td>\n",
              "    </tr>\n",
              "    <tr>\n",
              "      <th>3</th>\n",
              "      <td>12214532</td>\n",
              "      <td>7236946</td>\n",
              "      <td>0</td>\n",
              "    </tr>\n",
              "    <tr>\n",
              "      <th>4</th>\n",
              "      <td>14204411</td>\n",
              "      <td>6910200</td>\n",
              "      <td>0</td>\n",
              "    </tr>\n",
              "  </tbody>\n",
              "</table>\n",
              "</div>"
            ],
            "text/plain": [
              "     app_id   parsed  label\n",
              "0  12130785  7848141      0\n",
              "1  12652424  7992009      0\n",
              "2  12652424  7896548      0\n",
              "3  12214532  7236946      0\n",
              "4  14204411  6910200      0"
            ]
          },
          "metadata": {
            "tags": []
          },
          "execution_count": 65
        }
      ]
    },
    {
      "cell_type": "code",
      "metadata": {
        "id": "pPzUNS7Om6N5",
        "colab_type": "code",
        "outputId": "29362338-e50c-4d81-ab1f-8fb0cc946c5f",
        "colab": {
          "base_uri": "https://localhost:8080/",
          "height": 202
        }
      },
      "source": [
        "seed = 23\n",
        "\n",
        "dev_non_cited_data = pd.DataFrame([\n",
        "    [app_id] + pick_up_uncited_grants(dev_data, app_id, random_state=seed+idx)\n",
        "    for idx, (app_id)\n",
        "    in enumerate(dev_data['app_id'])\n",
        "])\n",
        "\n",
        "dev_non_cited_data.columns = dev_data.columns\n",
        "\n",
        "dev_non_cited_data.head()"
      ],
      "execution_count": 66,
      "outputs": [
        {
          "output_type": "execute_result",
          "data": {
            "text/html": [
              "<div>\n",
              "<style scoped>\n",
              "    .dataframe tbody tr th:only-of-type {\n",
              "        vertical-align: middle;\n",
              "    }\n",
              "\n",
              "    .dataframe tbody tr th {\n",
              "        vertical-align: top;\n",
              "    }\n",
              "\n",
              "    .dataframe thead th {\n",
              "        text-align: right;\n",
              "    }\n",
              "</style>\n",
              "<table border=\"1\" class=\"dataframe\">\n",
              "  <thead>\n",
              "    <tr style=\"text-align: right;\">\n",
              "      <th></th>\n",
              "      <th>app_id</th>\n",
              "      <th>parsed</th>\n",
              "      <th>label</th>\n",
              "    </tr>\n",
              "  </thead>\n",
              "  <tbody>\n",
              "    <tr>\n",
              "      <th>0</th>\n",
              "      <td>12211548</td>\n",
              "      <td>7264313</td>\n",
              "      <td>0</td>\n",
              "    </tr>\n",
              "    <tr>\n",
              "      <th>1</th>\n",
              "      <td>12765236</td>\n",
              "      <td>7294763</td>\n",
              "      <td>0</td>\n",
              "    </tr>\n",
              "    <tr>\n",
              "      <th>2</th>\n",
              "      <td>12827269</td>\n",
              "      <td>7559338</td>\n",
              "      <td>0</td>\n",
              "    </tr>\n",
              "    <tr>\n",
              "      <th>3</th>\n",
              "      <td>14436491</td>\n",
              "      <td>8012217</td>\n",
              "      <td>0</td>\n",
              "    </tr>\n",
              "    <tr>\n",
              "      <th>4</th>\n",
              "      <td>13633425</td>\n",
              "      <td>8305811</td>\n",
              "      <td>0</td>\n",
              "    </tr>\n",
              "  </tbody>\n",
              "</table>\n",
              "</div>"
            ],
            "text/plain": [
              "     app_id   parsed  label\n",
              "0  12211548  7264313      0\n",
              "1  12765236  7294763      0\n",
              "2  12827269  7559338      0\n",
              "3  14436491  8012217      0\n",
              "4  13633425  8305811      0"
            ]
          },
          "metadata": {
            "tags": []
          },
          "execution_count": 66
        }
      ]
    },
    {
      "cell_type": "code",
      "metadata": {
        "id": "NhD99UTjm9Kq",
        "colab_type": "code",
        "outputId": "b5c427b0-25a2-401b-c546-42d16f2b0644",
        "colab": {
          "base_uri": "https://localhost:8080/",
          "height": 202
        }
      },
      "source": [
        "train_data = pd.concat([train_data, train_non_cited_data]).reset_index(drop=True)\n",
        "dev_data = pd.concat([dev_data, dev_non_cited_data]).reset_index(drop=True)\n",
        "\n",
        "train_data = train_data.sample(frac=1, random_state=seed).reset_index(drop=True)\n",
        "dev_data = dev_data.sample(frac=1, random_state=seed).reset_index(drop=True)\n",
        "\n",
        "train_data.head()"
      ],
      "execution_count": 67,
      "outputs": [
        {
          "output_type": "execute_result",
          "data": {
            "text/html": [
              "<div>\n",
              "<style scoped>\n",
              "    .dataframe tbody tr th:only-of-type {\n",
              "        vertical-align: middle;\n",
              "    }\n",
              "\n",
              "    .dataframe tbody tr th {\n",
              "        vertical-align: top;\n",
              "    }\n",
              "\n",
              "    .dataframe thead th {\n",
              "        text-align: right;\n",
              "    }\n",
              "</style>\n",
              "<table border=\"1\" class=\"dataframe\">\n",
              "  <thead>\n",
              "    <tr style=\"text-align: right;\">\n",
              "      <th></th>\n",
              "      <th>app_id</th>\n",
              "      <th>parsed</th>\n",
              "      <th>label</th>\n",
              "    </tr>\n",
              "  </thead>\n",
              "  <tbody>\n",
              "    <tr>\n",
              "      <th>0</th>\n",
              "      <td>12000676</td>\n",
              "      <td>7751044</td>\n",
              "      <td>0</td>\n",
              "    </tr>\n",
              "    <tr>\n",
              "      <th>1</th>\n",
              "      <td>12507166</td>\n",
              "      <td>7519470</td>\n",
              "      <td>1</td>\n",
              "    </tr>\n",
              "    <tr>\n",
              "      <th>2</th>\n",
              "      <td>12852271</td>\n",
              "      <td>6963389</td>\n",
              "      <td>0</td>\n",
              "    </tr>\n",
              "    <tr>\n",
              "      <th>3</th>\n",
              "      <td>12871308</td>\n",
              "      <td>7917688</td>\n",
              "      <td>1</td>\n",
              "    </tr>\n",
              "    <tr>\n",
              "      <th>4</th>\n",
              "      <td>13796666</td>\n",
              "      <td>7111455</td>\n",
              "      <td>1</td>\n",
              "    </tr>\n",
              "  </tbody>\n",
              "</table>\n",
              "</div>"
            ],
            "text/plain": [
              "     app_id   parsed  label\n",
              "0  12000676  7751044      0\n",
              "1  12507166  7519470      1\n",
              "2  12852271  6963389      0\n",
              "3  12871308  7917688      1\n",
              "4  13796666  7111455      1"
            ]
          },
          "metadata": {
            "tags": []
          },
          "execution_count": 67
        }
      ]
    },
    {
      "cell_type": "code",
      "metadata": {
        "id": "XS8FrTlokGOq",
        "colab_type": "code",
        "colab": {}
      },
      "source": [
        "def _read_feature(target_dict, model):\n",
        "  train_fpath, test_fpath, grant_fpath = target_dict[model]\n",
        "  train_app_f = pd.read_pickle(f\"./{train_fpath}.pkl.gz\")\n",
        "  test_app_f = pd.read_pickle(f\"./{test_fpath}.pkl.gz\")\n",
        "  grant_f = pd.read_pickle(f\"./{grant_fpath}.pkl.gz\")\n",
        "  \n",
        "  assert 3000 == train_app_f.shape[0]\n",
        "  assert 3000 == test_app_f.shape[0]\n",
        "  assert 6440 == grant_f.shape[0]\n",
        "  \n",
        "  return train_app_f, test_app_f, grant_f"
      ],
      "execution_count": 0,
      "outputs": []
    },
    {
      "cell_type": "code",
      "metadata": {
        "id": "ynRfElual9pR",
        "colab_type": "code",
        "colab": {}
      },
      "source": [
        "def _prepare_feature_for_labeled_data(target_dict, model):\n",
        "  train_app_f, test_app_f, grant_f = _read_feature(target_dict, model)\n",
        "  \n",
        "  train_feature = np.empty((len(train_data), train_app_f.shape[1] + grant_f.shape[1]))\n",
        "  test_feature = np.empty((len(dev_data), test_app_f.shape[1] + grant_f.shape[1]))\n",
        "  \n",
        "  for i in range(len(train_data)):\n",
        "    app_id = train_data[\"app_id\"][i]\n",
        "    idx_app = train_app[train_app[\"app_id\"] == app_id ].index.values[0]\n",
        "\n",
        "    parsed = train_data[\"parsed\"][i]\n",
        "    idx_grant = grants[grants[\"parsed\"] == parsed].index.values[0]\n",
        "\n",
        "    f = np.concatenate([train_app_f[idx_app], grant_f[idx_grant]])\n",
        "    train_feature[i] = f\n",
        "\n",
        "  for i in range(len(dev_data)):\n",
        "    app_id = dev_data[\"app_id\"][i]\n",
        "    idx_app = test_app[test_app[\"app_id\"] == app_id ].index.values[0]\n",
        "\n",
        "    parsed = dev_data[\"parsed\"][i]\n",
        "    idx_grant = grants[grants[\"parsed\"] == parsed].index.values[0]\n",
        "\n",
        "    f = np.concatenate([test_app_f[idx_app], grant_f[idx_grant]])\n",
        "    test_feature[i] = f\n",
        "\n",
        "  train_label = np.array(train_data[\"label\"].values.tolist())\n",
        "  test_label = np.array(dev_data[\"label\"].values.tolist())\n",
        "    \n",
        "  return train_feature, train_label, test_feature, test_label"
      ],
      "execution_count": 0,
      "outputs": []
    },
    {
      "cell_type": "markdown",
      "metadata": {
        "id": "ylaY-OFIvZPG",
        "colab_type": "text"
      },
      "source": [
        "### Classification with lightgbm"
      ]
    },
    {
      "cell_type": "code",
      "metadata": {
        "id": "2ntA2UCMvPYX",
        "colab_type": "code",
        "colab": {}
      },
      "source": [
        "import lightgbm as lgb\n",
        "\n",
        "params = {\n",
        "    'boosting_type': 'gbdt',\n",
        "    'objective': 'binary',\n",
        "    'metric': 'binary_logloss',\n",
        "    'num_leaves': 250,\n",
        "    'learning_rate': 0.05,\n",
        "    'feature_fraction': 0.8,\n",
        "    'bagging_fraction': 0.8,\n",
        "    'bagging_freq': 5,\n",
        "    'min_child_weight': 2,\n",
        "    'gamma': 0.2,\n",
        "    'verbose': -1,\n",
        "    'verbose_eval' : -1\n",
        "}"
      ],
      "execution_count": 0,
      "outputs": []
    },
    {
      "cell_type": "code",
      "metadata": {
        "id": "OO81toWRvveu",
        "colab_type": "code",
        "colab": {}
      },
      "source": [
        "def exp(target_dict, model):\n",
        "  train_x, train_y, test_x, test_y = _prepare_feature_for_labeled_data(target_dict, model)\n",
        "  lgb_train = lgb.Dataset(train_x[:2500], train_y[:2500])\n",
        "  lgb_valid = lgb.Dataset(train_x[2500:], train_y[2500:])\n",
        "\n",
        "  # Train a model.\n",
        "  gbm = lgb.train(params,\n",
        "                lgb_train,\n",
        "                num_boost_round=200,\n",
        "                early_stopping_rounds=10,\n",
        "                valid_sets=lgb_valid)\n",
        "  \n",
        "  def _compute_acc(x, y):\n",
        "    predict_prob = gbm.predict(x)\n",
        "    predict_label = [ 1 if elem >= 0.5 else 0 for elem in predict_prob]\n",
        "    acc = sum( np.array(predict_label) == np.array(y) ) / len(predict_label)\n",
        "    return acc\n",
        "  \n",
        "  return _compute_acc(train_x, train_y), _compute_acc(test_x, test_y)"
      ],
      "execution_count": 0,
      "outputs": []
    },
    {
      "cell_type": "code",
      "metadata": {
        "id": "KaSkiXnvvPh6",
        "colab_type": "code",
        "outputId": "d0768ab1-a41f-413b-e0d3-456ea500c5e8",
        "colab": {
          "base_uri": "https://localhost:8080/",
          "height": 1000
        }
      },
      "source": [
        "%%time\n",
        "\n",
        "result = []\n",
        "\n",
        "for model in target_features_dict.keys():\n",
        "  print(f\"Training a model using {model} features...\")\n",
        "  result.append([model, exp(target_features_dict, model)])"
      ],
      "execution_count": 72,
      "outputs": [
        {
          "output_type": "stream",
          "text": [
            "Training a model using BERT-2ndlastmean features...\n",
            "[1]\tvalid_0's binary_logloss: 0.68757\n",
            "Training until validation scores don't improve for 10 rounds.\n",
            "[2]\tvalid_0's binary_logloss: 0.682729\n",
            "[3]\tvalid_0's binary_logloss: 0.678494\n",
            "[4]\tvalid_0's binary_logloss: 0.674794\n",
            "[5]\tvalid_0's binary_logloss: 0.672128\n",
            "[6]\tvalid_0's binary_logloss: 0.668143\n",
            "[7]\tvalid_0's binary_logloss: 0.664852\n",
            "[8]\tvalid_0's binary_logloss: 0.661208\n",
            "[9]\tvalid_0's binary_logloss: 0.658923\n",
            "[10]\tvalid_0's binary_logloss: 0.657306\n",
            "[11]\tvalid_0's binary_logloss: 0.651258\n",
            "[12]\tvalid_0's binary_logloss: 0.647629\n",
            "[13]\tvalid_0's binary_logloss: 0.644056\n",
            "[14]\tvalid_0's binary_logloss: 0.639583\n",
            "[15]\tvalid_0's binary_logloss: 0.63665\n",
            "[16]\tvalid_0's binary_logloss: 0.633283\n",
            "[17]\tvalid_0's binary_logloss: 0.628616\n",
            "[18]\tvalid_0's binary_logloss: 0.627018\n",
            "[19]\tvalid_0's binary_logloss: 0.624624\n",
            "[20]\tvalid_0's binary_logloss: 0.622346\n",
            "[21]\tvalid_0's binary_logloss: 0.61838\n",
            "[22]\tvalid_0's binary_logloss: 0.616526\n",
            "[23]\tvalid_0's binary_logloss: 0.614473\n",
            "[24]\tvalid_0's binary_logloss: 0.610467\n",
            "[25]\tvalid_0's binary_logloss: 0.609283\n",
            "[26]\tvalid_0's binary_logloss: 0.606956\n",
            "[27]\tvalid_0's binary_logloss: 0.604185\n",
            "[28]\tvalid_0's binary_logloss: 0.601865\n",
            "[29]\tvalid_0's binary_logloss: 0.598969\n",
            "[30]\tvalid_0's binary_logloss: 0.59785\n",
            "[31]\tvalid_0's binary_logloss: 0.596069\n",
            "[32]\tvalid_0's binary_logloss: 0.594672\n",
            "[33]\tvalid_0's binary_logloss: 0.590727\n",
            "[34]\tvalid_0's binary_logloss: 0.589162\n",
            "[35]\tvalid_0's binary_logloss: 0.587768\n",
            "[36]\tvalid_0's binary_logloss: 0.585222\n",
            "[37]\tvalid_0's binary_logloss: 0.583002\n",
            "[38]\tvalid_0's binary_logloss: 0.58154\n",
            "[39]\tvalid_0's binary_logloss: 0.580471\n",
            "[40]\tvalid_0's binary_logloss: 0.579012\n",
            "[41]\tvalid_0's binary_logloss: 0.578066\n",
            "[42]\tvalid_0's binary_logloss: 0.576913\n",
            "[43]\tvalid_0's binary_logloss: 0.575859\n",
            "[44]\tvalid_0's binary_logloss: 0.573553\n",
            "[45]\tvalid_0's binary_logloss: 0.573178\n",
            "[46]\tvalid_0's binary_logloss: 0.572277\n",
            "[47]\tvalid_0's binary_logloss: 0.571228\n",
            "[48]\tvalid_0's binary_logloss: 0.570504\n",
            "[49]\tvalid_0's binary_logloss: 0.569666\n",
            "[50]\tvalid_0's binary_logloss: 0.568796\n",
            "[51]\tvalid_0's binary_logloss: 0.566761\n",
            "[52]\tvalid_0's binary_logloss: 0.565176\n",
            "[53]\tvalid_0's binary_logloss: 0.563657\n",
            "[54]\tvalid_0's binary_logloss: 0.561331\n",
            "[55]\tvalid_0's binary_logloss: 0.560565\n",
            "[56]\tvalid_0's binary_logloss: 0.559274\n",
            "[57]\tvalid_0's binary_logloss: 0.557742\n",
            "[58]\tvalid_0's binary_logloss: 0.557287\n",
            "[59]\tvalid_0's binary_logloss: 0.556602\n",
            "[60]\tvalid_0's binary_logloss: 0.555455\n",
            "[61]\tvalid_0's binary_logloss: 0.55462\n",
            "[62]\tvalid_0's binary_logloss: 0.553491\n",
            "[63]\tvalid_0's binary_logloss: 0.552598\n",
            "[64]\tvalid_0's binary_logloss: 0.551595\n",
            "[65]\tvalid_0's binary_logloss: 0.550108\n",
            "[66]\tvalid_0's binary_logloss: 0.549476\n",
            "[67]\tvalid_0's binary_logloss: 0.549535\n",
            "[68]\tvalid_0's binary_logloss: 0.549196\n",
            "[69]\tvalid_0's binary_logloss: 0.549055\n",
            "[70]\tvalid_0's binary_logloss: 0.548268\n",
            "[71]\tvalid_0's binary_logloss: 0.547411\n",
            "[72]\tvalid_0's binary_logloss: 0.546596\n",
            "[73]\tvalid_0's binary_logloss: 0.546538\n",
            "[74]\tvalid_0's binary_logloss: 0.546175\n",
            "[75]\tvalid_0's binary_logloss: 0.54573\n",
            "[76]\tvalid_0's binary_logloss: 0.545457\n",
            "[77]\tvalid_0's binary_logloss: 0.544837\n",
            "[78]\tvalid_0's binary_logloss: 0.54454\n",
            "[79]\tvalid_0's binary_logloss: 0.54448\n",
            "[80]\tvalid_0's binary_logloss: 0.54341\n",
            "[81]\tvalid_0's binary_logloss: 0.543305\n",
            "[82]\tvalid_0's binary_logloss: 0.543071\n",
            "[83]\tvalid_0's binary_logloss: 0.542882\n",
            "[84]\tvalid_0's binary_logloss: 0.542266\n",
            "[85]\tvalid_0's binary_logloss: 0.542134\n",
            "[86]\tvalid_0's binary_logloss: 0.541808\n",
            "[87]\tvalid_0's binary_logloss: 0.541518\n",
            "[88]\tvalid_0's binary_logloss: 0.540975\n",
            "[89]\tvalid_0's binary_logloss: 0.539823\n",
            "[90]\tvalid_0's binary_logloss: 0.539623\n",
            "[91]\tvalid_0's binary_logloss: 0.539141\n",
            "[92]\tvalid_0's binary_logloss: 0.538524\n",
            "[93]\tvalid_0's binary_logloss: 0.537849\n",
            "[94]\tvalid_0's binary_logloss: 0.537316\n",
            "[95]\tvalid_0's binary_logloss: 0.5372\n",
            "[96]\tvalid_0's binary_logloss: 0.536436\n",
            "[97]\tvalid_0's binary_logloss: 0.53539\n",
            "[98]\tvalid_0's binary_logloss: 0.535131\n",
            "[99]\tvalid_0's binary_logloss: 0.534851\n",
            "[100]\tvalid_0's binary_logloss: 0.534978\n",
            "[101]\tvalid_0's binary_logloss: 0.534623\n",
            "[102]\tvalid_0's binary_logloss: 0.534794\n",
            "[103]\tvalid_0's binary_logloss: 0.534231\n",
            "[104]\tvalid_0's binary_logloss: 0.534145\n",
            "[105]\tvalid_0's binary_logloss: 0.533889\n",
            "[106]\tvalid_0's binary_logloss: 0.533493\n",
            "[107]\tvalid_0's binary_logloss: 0.532745\n",
            "[108]\tvalid_0's binary_logloss: 0.531871\n",
            "[109]\tvalid_0's binary_logloss: 0.531935\n",
            "[110]\tvalid_0's binary_logloss: 0.531619\n",
            "[111]\tvalid_0's binary_logloss: 0.531074\n",
            "[112]\tvalid_0's binary_logloss: 0.531158\n",
            "[113]\tvalid_0's binary_logloss: 0.530698\n",
            "[114]\tvalid_0's binary_logloss: 0.530152\n",
            "[115]\tvalid_0's binary_logloss: 0.530157\n",
            "[116]\tvalid_0's binary_logloss: 0.530109\n",
            "[117]\tvalid_0's binary_logloss: 0.530197\n",
            "[118]\tvalid_0's binary_logloss: 0.529923\n",
            "[119]\tvalid_0's binary_logloss: 0.530231\n",
            "[120]\tvalid_0's binary_logloss: 0.530067\n",
            "[121]\tvalid_0's binary_logloss: 0.530096\n",
            "[122]\tvalid_0's binary_logloss: 0.529731\n",
            "[123]\tvalid_0's binary_logloss: 0.529548\n",
            "[124]\tvalid_0's binary_logloss: 0.529463\n",
            "[125]\tvalid_0's binary_logloss: 0.528988\n",
            "[126]\tvalid_0's binary_logloss: 0.528878\n",
            "[127]\tvalid_0's binary_logloss: 0.529261\n",
            "[128]\tvalid_0's binary_logloss: 0.529777\n",
            "[129]\tvalid_0's binary_logloss: 0.529993\n",
            "[130]\tvalid_0's binary_logloss: 0.529813\n",
            "[131]\tvalid_0's binary_logloss: 0.529726\n",
            "[132]\tvalid_0's binary_logloss: 0.529461\n",
            "[133]\tvalid_0's binary_logloss: 0.528828\n",
            "[134]\tvalid_0's binary_logloss: 0.528908\n",
            "[135]\tvalid_0's binary_logloss: 0.528661\n",
            "[136]\tvalid_0's binary_logloss: 0.528528\n",
            "[137]\tvalid_0's binary_logloss: 0.528552\n",
            "[138]\tvalid_0's binary_logloss: 0.528566\n",
            "[139]\tvalid_0's binary_logloss: 0.527791\n",
            "[140]\tvalid_0's binary_logloss: 0.527466\n",
            "[141]\tvalid_0's binary_logloss: 0.527561\n",
            "[142]\tvalid_0's binary_logloss: 0.527919\n",
            "[143]\tvalid_0's binary_logloss: 0.527589\n",
            "[144]\tvalid_0's binary_logloss: 0.527811\n",
            "[145]\tvalid_0's binary_logloss: 0.527734\n",
            "[146]\tvalid_0's binary_logloss: 0.527734\n",
            "[147]\tvalid_0's binary_logloss: 0.527631\n",
            "[148]\tvalid_0's binary_logloss: 0.527579\n",
            "[149]\tvalid_0's binary_logloss: 0.527309\n",
            "[150]\tvalid_0's binary_logloss: 0.527563\n",
            "[151]\tvalid_0's binary_logloss: 0.527323\n",
            "[152]\tvalid_0's binary_logloss: 0.527045\n",
            "[153]\tvalid_0's binary_logloss: 0.527224\n",
            "[154]\tvalid_0's binary_logloss: 0.527197\n",
            "[155]\tvalid_0's binary_logloss: 0.527338\n",
            "[156]\tvalid_0's binary_logloss: 0.52697\n",
            "[157]\tvalid_0's binary_logloss: 0.52671\n",
            "[158]\tvalid_0's binary_logloss: 0.526223\n",
            "[159]\tvalid_0's binary_logloss: 0.525997\n",
            "[160]\tvalid_0's binary_logloss: 0.52598\n",
            "[161]\tvalid_0's binary_logloss: 0.525919\n",
            "[162]\tvalid_0's binary_logloss: 0.52564\n",
            "[163]\tvalid_0's binary_logloss: 0.52568\n",
            "[164]\tvalid_0's binary_logloss: 0.525107\n",
            "[165]\tvalid_0's binary_logloss: 0.525157\n",
            "[166]\tvalid_0's binary_logloss: 0.525183\n",
            "[167]\tvalid_0's binary_logloss: 0.524992\n",
            "[168]\tvalid_0's binary_logloss: 0.524306\n",
            "[169]\tvalid_0's binary_logloss: 0.52419\n",
            "[170]\tvalid_0's binary_logloss: 0.523548\n",
            "[171]\tvalid_0's binary_logloss: 0.523216\n",
            "[172]\tvalid_0's binary_logloss: 0.523101\n",
            "[173]\tvalid_0's binary_logloss: 0.52314\n",
            "[174]\tvalid_0's binary_logloss: 0.52286\n",
            "[175]\tvalid_0's binary_logloss: 0.522699\n",
            "[176]\tvalid_0's binary_logloss: 0.523022\n",
            "[177]\tvalid_0's binary_logloss: 0.522745\n",
            "[178]\tvalid_0's binary_logloss: 0.522859\n",
            "[179]\tvalid_0's binary_logloss: 0.522479\n",
            "[180]\tvalid_0's binary_logloss: 0.522131\n",
            "[181]\tvalid_0's binary_logloss: 0.522251\n",
            "[182]\tvalid_0's binary_logloss: 0.522377\n",
            "[183]\tvalid_0's binary_logloss: 0.522312\n",
            "[184]\tvalid_0's binary_logloss: 0.522398\n",
            "[185]\tvalid_0's binary_logloss: 0.522172\n",
            "[186]\tvalid_0's binary_logloss: 0.521798\n",
            "[187]\tvalid_0's binary_logloss: 0.521662\n",
            "[188]\tvalid_0's binary_logloss: 0.521445\n",
            "[189]\tvalid_0's binary_logloss: 0.520993\n",
            "[190]\tvalid_0's binary_logloss: 0.520952\n",
            "[191]\tvalid_0's binary_logloss: 0.520732\n",
            "[192]\tvalid_0's binary_logloss: 0.520828\n",
            "[193]\tvalid_0's binary_logloss: 0.52042\n",
            "[194]\tvalid_0's binary_logloss: 0.520418\n",
            "[195]\tvalid_0's binary_logloss: 0.520372\n",
            "[196]\tvalid_0's binary_logloss: 0.520083\n",
            "[197]\tvalid_0's binary_logloss: 0.520245\n",
            "[198]\tvalid_0's binary_logloss: 0.520232\n",
            "[199]\tvalid_0's binary_logloss: 0.520093\n",
            "[200]\tvalid_0's binary_logloss: 0.520166\n",
            "Did not meet early stopping. Best iteration is:\n",
            "[196]\tvalid_0's binary_logloss: 0.520083\n",
            "Training a model using BERT-Large-2ndlastmean features...\n",
            "[1]\tvalid_0's binary_logloss: 0.690342\n",
            "Training until validation scores don't improve for 10 rounds.\n",
            "[2]\tvalid_0's binary_logloss: 0.688012\n",
            "[3]\tvalid_0's binary_logloss: 0.683954\n",
            "[4]\tvalid_0's binary_logloss: 0.6819\n",
            "[5]\tvalid_0's binary_logloss: 0.679188\n",
            "[6]\tvalid_0's binary_logloss: 0.675286\n",
            "[7]\tvalid_0's binary_logloss: 0.670921\n",
            "[8]\tvalid_0's binary_logloss: 0.666946\n",
            "[9]\tvalid_0's binary_logloss: 0.663614\n",
            "[10]\tvalid_0's binary_logloss: 0.658981\n",
            "[11]\tvalid_0's binary_logloss: 0.656037\n",
            "[12]\tvalid_0's binary_logloss: 0.652626\n",
            "[13]\tvalid_0's binary_logloss: 0.650253\n",
            "[14]\tvalid_0's binary_logloss: 0.646405\n",
            "[15]\tvalid_0's binary_logloss: 0.644997\n",
            "[16]\tvalid_0's binary_logloss: 0.641985\n",
            "[17]\tvalid_0's binary_logloss: 0.639035\n",
            "[18]\tvalid_0's binary_logloss: 0.636126\n",
            "[19]\tvalid_0's binary_logloss: 0.634269\n",
            "[20]\tvalid_0's binary_logloss: 0.632144\n",
            "[21]\tvalid_0's binary_logloss: 0.631671\n",
            "[22]\tvalid_0's binary_logloss: 0.628335\n",
            "[23]\tvalid_0's binary_logloss: 0.626676\n",
            "[24]\tvalid_0's binary_logloss: 0.624673\n",
            "[25]\tvalid_0's binary_logloss: 0.621212\n",
            "[26]\tvalid_0's binary_logloss: 0.619188\n",
            "[27]\tvalid_0's binary_logloss: 0.61714\n",
            "[28]\tvalid_0's binary_logloss: 0.614428\n",
            "[29]\tvalid_0's binary_logloss: 0.612412\n",
            "[30]\tvalid_0's binary_logloss: 0.611408\n",
            "[31]\tvalid_0's binary_logloss: 0.608352\n",
            "[32]\tvalid_0's binary_logloss: 0.606355\n",
            "[33]\tvalid_0's binary_logloss: 0.604748\n",
            "[34]\tvalid_0's binary_logloss: 0.60223\n",
            "[35]\tvalid_0's binary_logloss: 0.601207\n",
            "[36]\tvalid_0's binary_logloss: 0.600182\n",
            "[37]\tvalid_0's binary_logloss: 0.598058\n",
            "[38]\tvalid_0's binary_logloss: 0.596373\n",
            "[39]\tvalid_0's binary_logloss: 0.594021\n",
            "[40]\tvalid_0's binary_logloss: 0.591742\n",
            "[41]\tvalid_0's binary_logloss: 0.589747\n",
            "[42]\tvalid_0's binary_logloss: 0.588939\n",
            "[43]\tvalid_0's binary_logloss: 0.587306\n",
            "[44]\tvalid_0's binary_logloss: 0.585816\n",
            "[45]\tvalid_0's binary_logloss: 0.585417\n",
            "[46]\tvalid_0's binary_logloss: 0.583576\n",
            "[47]\tvalid_0's binary_logloss: 0.582296\n",
            "[48]\tvalid_0's binary_logloss: 0.580971\n",
            "[49]\tvalid_0's binary_logloss: 0.579665\n",
            "[50]\tvalid_0's binary_logloss: 0.578742\n",
            "[51]\tvalid_0's binary_logloss: 0.577668\n",
            "[52]\tvalid_0's binary_logloss: 0.576596\n",
            "[53]\tvalid_0's binary_logloss: 0.576037\n",
            "[54]\tvalid_0's binary_logloss: 0.574911\n",
            "[55]\tvalid_0's binary_logloss: 0.574099\n",
            "[56]\tvalid_0's binary_logloss: 0.573163\n",
            "[57]\tvalid_0's binary_logloss: 0.572641\n",
            "[58]\tvalid_0's binary_logloss: 0.571202\n",
            "[59]\tvalid_0's binary_logloss: 0.570038\n",
            "[60]\tvalid_0's binary_logloss: 0.569229\n",
            "[61]\tvalid_0's binary_logloss: 0.568267\n",
            "[62]\tvalid_0's binary_logloss: 0.567403\n",
            "[63]\tvalid_0's binary_logloss: 0.56628\n",
            "[64]\tvalid_0's binary_logloss: 0.565114\n",
            "[65]\tvalid_0's binary_logloss: 0.564538\n",
            "[66]\tvalid_0's binary_logloss: 0.56306\n",
            "[67]\tvalid_0's binary_logloss: 0.561946\n",
            "[68]\tvalid_0's binary_logloss: 0.561393\n",
            "[69]\tvalid_0's binary_logloss: 0.561361\n",
            "[70]\tvalid_0's binary_logloss: 0.561655\n",
            "[71]\tvalid_0's binary_logloss: 0.561058\n",
            "[72]\tvalid_0's binary_logloss: 0.559597\n",
            "[73]\tvalid_0's binary_logloss: 0.558512\n",
            "[74]\tvalid_0's binary_logloss: 0.557329\n",
            "[75]\tvalid_0's binary_logloss: 0.556951\n",
            "[76]\tvalid_0's binary_logloss: 0.55503\n",
            "[77]\tvalid_0's binary_logloss: 0.55465\n",
            "[78]\tvalid_0's binary_logloss: 0.553666\n",
            "[79]\tvalid_0's binary_logloss: 0.552316\n",
            "[80]\tvalid_0's binary_logloss: 0.550754\n",
            "[81]\tvalid_0's binary_logloss: 0.550571\n",
            "[82]\tvalid_0's binary_logloss: 0.550117\n",
            "[83]\tvalid_0's binary_logloss: 0.549699\n",
            "[84]\tvalid_0's binary_logloss: 0.548645\n",
            "[85]\tvalid_0's binary_logloss: 0.547656\n",
            "[86]\tvalid_0's binary_logloss: 0.547407\n",
            "[87]\tvalid_0's binary_logloss: 0.547139\n",
            "[88]\tvalid_0's binary_logloss: 0.546937\n",
            "[89]\tvalid_0's binary_logloss: 0.546801\n",
            "[90]\tvalid_0's binary_logloss: 0.546634\n",
            "[91]\tvalid_0's binary_logloss: 0.54579\n",
            "[92]\tvalid_0's binary_logloss: 0.544863\n",
            "[93]\tvalid_0's binary_logloss: 0.544301\n",
            "[94]\tvalid_0's binary_logloss: 0.543947\n",
            "[95]\tvalid_0's binary_logloss: 0.543287\n",
            "[96]\tvalid_0's binary_logloss: 0.543343\n",
            "[97]\tvalid_0's binary_logloss: 0.542876\n",
            "[98]\tvalid_0's binary_logloss: 0.543108\n",
            "[99]\tvalid_0's binary_logloss: 0.543139\n",
            "[100]\tvalid_0's binary_logloss: 0.542965\n",
            "[101]\tvalid_0's binary_logloss: 0.543131\n",
            "[102]\tvalid_0's binary_logloss: 0.542932\n",
            "[103]\tvalid_0's binary_logloss: 0.542446\n",
            "[104]\tvalid_0's binary_logloss: 0.541562\n",
            "[105]\tvalid_0's binary_logloss: 0.540651\n",
            "[106]\tvalid_0's binary_logloss: 0.540009\n",
            "[107]\tvalid_0's binary_logloss: 0.539979\n",
            "[108]\tvalid_0's binary_logloss: 0.539507\n",
            "[109]\tvalid_0's binary_logloss: 0.539605\n",
            "[110]\tvalid_0's binary_logloss: 0.539329\n",
            "[111]\tvalid_0's binary_logloss: 0.53949\n",
            "[112]\tvalid_0's binary_logloss: 0.539385\n",
            "[113]\tvalid_0's binary_logloss: 0.539105\n",
            "[114]\tvalid_0's binary_logloss: 0.539246\n",
            "[115]\tvalid_0's binary_logloss: 0.538761\n",
            "[116]\tvalid_0's binary_logloss: 0.53863\n",
            "[117]\tvalid_0's binary_logloss: 0.538307\n",
            "[118]\tvalid_0's binary_logloss: 0.53813\n",
            "[119]\tvalid_0's binary_logloss: 0.537996\n",
            "[120]\tvalid_0's binary_logloss: 0.537972\n",
            "[121]\tvalid_0's binary_logloss: 0.53787\n",
            "[122]\tvalid_0's binary_logloss: 0.537776\n",
            "[123]\tvalid_0's binary_logloss: 0.537906\n",
            "[124]\tvalid_0's binary_logloss: 0.537314\n",
            "[125]\tvalid_0's binary_logloss: 0.536925\n",
            "[126]\tvalid_0's binary_logloss: 0.536528\n",
            "[127]\tvalid_0's binary_logloss: 0.536359\n",
            "[128]\tvalid_0's binary_logloss: 0.536226\n",
            "[129]\tvalid_0's binary_logloss: 0.536003\n",
            "[130]\tvalid_0's binary_logloss: 0.536105\n",
            "[131]\tvalid_0's binary_logloss: 0.535951\n",
            "[132]\tvalid_0's binary_logloss: 0.535704\n",
            "[133]\tvalid_0's binary_logloss: 0.535459\n",
            "[134]\tvalid_0's binary_logloss: 0.53523\n",
            "[135]\tvalid_0's binary_logloss: 0.53524\n",
            "[136]\tvalid_0's binary_logloss: 0.535286\n",
            "[137]\tvalid_0's binary_logloss: 0.535149\n",
            "[138]\tvalid_0's binary_logloss: 0.535065\n",
            "[139]\tvalid_0's binary_logloss: 0.534778\n",
            "[140]\tvalid_0's binary_logloss: 0.534816\n",
            "[141]\tvalid_0's binary_logloss: 0.534541\n",
            "[142]\tvalid_0's binary_logloss: 0.534434\n",
            "[143]\tvalid_0's binary_logloss: 0.534422\n",
            "[144]\tvalid_0's binary_logloss: 0.534482\n",
            "[145]\tvalid_0's binary_logloss: 0.534506\n",
            "[146]\tvalid_0's binary_logloss: 0.534355\n",
            "[147]\tvalid_0's binary_logloss: 0.534641\n",
            "[148]\tvalid_0's binary_logloss: 0.534765\n",
            "[149]\tvalid_0's binary_logloss: 0.534419\n",
            "[150]\tvalid_0's binary_logloss: 0.534236\n",
            "[151]\tvalid_0's binary_logloss: 0.533521\n",
            "[152]\tvalid_0's binary_logloss: 0.533564\n",
            "[153]\tvalid_0's binary_logloss: 0.53324\n",
            "[154]\tvalid_0's binary_logloss: 0.533214\n",
            "[155]\tvalid_0's binary_logloss: 0.532782\n",
            "[156]\tvalid_0's binary_logloss: 0.532607\n",
            "[157]\tvalid_0's binary_logloss: 0.532518\n",
            "[158]\tvalid_0's binary_logloss: 0.532231\n",
            "[159]\tvalid_0's binary_logloss: 0.531995\n",
            "[160]\tvalid_0's binary_logloss: 0.532217\n",
            "[161]\tvalid_0's binary_logloss: 0.532515\n",
            "[162]\tvalid_0's binary_logloss: 0.532856\n",
            "[163]\tvalid_0's binary_logloss: 0.532844\n",
            "[164]\tvalid_0's binary_logloss: 0.532759\n",
            "[165]\tvalid_0's binary_logloss: 0.532459\n",
            "[166]\tvalid_0's binary_logloss: 0.532219\n",
            "[167]\tvalid_0's binary_logloss: 0.532303\n",
            "[168]\tvalid_0's binary_logloss: 0.532092\n",
            "[169]\tvalid_0's binary_logloss: 0.531764\n",
            "[170]\tvalid_0's binary_logloss: 0.531245\n",
            "[171]\tvalid_0's binary_logloss: 0.53104\n",
            "[172]\tvalid_0's binary_logloss: 0.531195\n",
            "[173]\tvalid_0's binary_logloss: 0.531054\n",
            "[174]\tvalid_0's binary_logloss: 0.53145\n",
            "[175]\tvalid_0's binary_logloss: 0.531318\n",
            "[176]\tvalid_0's binary_logloss: 0.531123\n",
            "[177]\tvalid_0's binary_logloss: 0.531236\n",
            "[178]\tvalid_0's binary_logloss: 0.53122\n",
            "[179]\tvalid_0's binary_logloss: 0.531402\n",
            "[180]\tvalid_0's binary_logloss: 0.531295\n",
            "[181]\tvalid_0's binary_logloss: 0.530915\n",
            "[182]\tvalid_0's binary_logloss: 0.5306\n",
            "[183]\tvalid_0's binary_logloss: 0.530594\n",
            "[184]\tvalid_0's binary_logloss: 0.530581\n",
            "[185]\tvalid_0's binary_logloss: 0.530655\n",
            "[186]\tvalid_0's binary_logloss: 0.530747\n",
            "[187]\tvalid_0's binary_logloss: 0.530834\n",
            "[188]\tvalid_0's binary_logloss: 0.530776\n",
            "[189]\tvalid_0's binary_logloss: 0.530914\n",
            "[190]\tvalid_0's binary_logloss: 0.530874\n",
            "[191]\tvalid_0's binary_logloss: 0.530597\n",
            "[192]\tvalid_0's binary_logloss: 0.530265\n",
            "[193]\tvalid_0's binary_logloss: 0.529873\n",
            "[194]\tvalid_0's binary_logloss: 0.529837\n",
            "[195]\tvalid_0's binary_logloss: 0.529701\n",
            "[196]\tvalid_0's binary_logloss: 0.529289\n",
            "[197]\tvalid_0's binary_logloss: 0.529006\n",
            "[198]\tvalid_0's binary_logloss: 0.528592\n",
            "[199]\tvalid_0's binary_logloss: 0.528187\n",
            "[200]\tvalid_0's binary_logloss: 0.527912\n",
            "Did not meet early stopping. Best iteration is:\n",
            "[200]\tvalid_0's binary_logloss: 0.527912\n",
            "Training a model using ELMO-512tokenmean features...\n",
            "[1]\tvalid_0's binary_logloss: 0.686822\n",
            "Training until validation scores don't improve for 10 rounds.\n",
            "[2]\tvalid_0's binary_logloss: 0.680787\n",
            "[3]\tvalid_0's binary_logloss: 0.674377\n",
            "[4]\tvalid_0's binary_logloss: 0.667836\n",
            "[5]\tvalid_0's binary_logloss: 0.662157\n",
            "[6]\tvalid_0's binary_logloss: 0.657126\n",
            "[7]\tvalid_0's binary_logloss: 0.652013\n",
            "[8]\tvalid_0's binary_logloss: 0.646827\n",
            "[9]\tvalid_0's binary_logloss: 0.641475\n",
            "[10]\tvalid_0's binary_logloss: 0.636804\n",
            "[11]\tvalid_0's binary_logloss: 0.631888\n",
            "[12]\tvalid_0's binary_logloss: 0.628224\n",
            "[13]\tvalid_0's binary_logloss: 0.623812\n",
            "[14]\tvalid_0's binary_logloss: 0.620247\n",
            "[15]\tvalid_0's binary_logloss: 0.615863\n",
            "[16]\tvalid_0's binary_logloss: 0.612834\n",
            "[17]\tvalid_0's binary_logloss: 0.608993\n",
            "[18]\tvalid_0's binary_logloss: 0.603431\n",
            "[19]\tvalid_0's binary_logloss: 0.599084\n",
            "[20]\tvalid_0's binary_logloss: 0.594562\n",
            "[21]\tvalid_0's binary_logloss: 0.591729\n",
            "[22]\tvalid_0's binary_logloss: 0.587984\n",
            "[23]\tvalid_0's binary_logloss: 0.584633\n",
            "[24]\tvalid_0's binary_logloss: 0.580724\n",
            "[25]\tvalid_0's binary_logloss: 0.577727\n",
            "[26]\tvalid_0's binary_logloss: 0.574573\n",
            "[27]\tvalid_0's binary_logloss: 0.57175\n",
            "[28]\tvalid_0's binary_logloss: 0.569107\n",
            "[29]\tvalid_0's binary_logloss: 0.567296\n",
            "[30]\tvalid_0's binary_logloss: 0.564962\n",
            "[31]\tvalid_0's binary_logloss: 0.561845\n",
            "[32]\tvalid_0's binary_logloss: 0.559893\n",
            "[33]\tvalid_0's binary_logloss: 0.557248\n",
            "[34]\tvalid_0's binary_logloss: 0.555269\n",
            "[35]\tvalid_0's binary_logloss: 0.55291\n",
            "[36]\tvalid_0's binary_logloss: 0.549776\n",
            "[37]\tvalid_0's binary_logloss: 0.547183\n",
            "[38]\tvalid_0's binary_logloss: 0.54652\n",
            "[39]\tvalid_0's binary_logloss: 0.543885\n",
            "[40]\tvalid_0's binary_logloss: 0.541933\n",
            "[41]\tvalid_0's binary_logloss: 0.538671\n",
            "[42]\tvalid_0's binary_logloss: 0.536404\n",
            "[43]\tvalid_0's binary_logloss: 0.534782\n",
            "[44]\tvalid_0's binary_logloss: 0.533039\n",
            "[45]\tvalid_0's binary_logloss: 0.531298\n",
            "[46]\tvalid_0's binary_logloss: 0.529443\n",
            "[47]\tvalid_0's binary_logloss: 0.527077\n",
            "[48]\tvalid_0's binary_logloss: 0.525716\n",
            "[49]\tvalid_0's binary_logloss: 0.523938\n",
            "[50]\tvalid_0's binary_logloss: 0.522604\n",
            "[51]\tvalid_0's binary_logloss: 0.52154\n",
            "[52]\tvalid_0's binary_logloss: 0.519668\n",
            "[53]\tvalid_0's binary_logloss: 0.51785\n",
            "[54]\tvalid_0's binary_logloss: 0.516981\n",
            "[55]\tvalid_0's binary_logloss: 0.515748\n",
            "[56]\tvalid_0's binary_logloss: 0.514708\n",
            "[57]\tvalid_0's binary_logloss: 0.51335\n",
            "[58]\tvalid_0's binary_logloss: 0.512484\n",
            "[59]\tvalid_0's binary_logloss: 0.511129\n",
            "[60]\tvalid_0's binary_logloss: 0.509774\n",
            "[61]\tvalid_0's binary_logloss: 0.508683\n",
            "[62]\tvalid_0's binary_logloss: 0.507596\n",
            "[63]\tvalid_0's binary_logloss: 0.506711\n",
            "[64]\tvalid_0's binary_logloss: 0.50459\n",
            "[65]\tvalid_0's binary_logloss: 0.503194\n",
            "[66]\tvalid_0's binary_logloss: 0.502468\n",
            "[67]\tvalid_0's binary_logloss: 0.502017\n",
            "[68]\tvalid_0's binary_logloss: 0.500557\n",
            "[69]\tvalid_0's binary_logloss: 0.499899\n",
            "[70]\tvalid_0's binary_logloss: 0.498871\n",
            "[71]\tvalid_0's binary_logloss: 0.497855\n",
            "[72]\tvalid_0's binary_logloss: 0.497021\n",
            "[73]\tvalid_0's binary_logloss: 0.495597\n",
            "[74]\tvalid_0's binary_logloss: 0.493995\n",
            "[75]\tvalid_0's binary_logloss: 0.493022\n",
            "[76]\tvalid_0's binary_logloss: 0.491928\n",
            "[77]\tvalid_0's binary_logloss: 0.490699\n",
            "[78]\tvalid_0's binary_logloss: 0.489644\n",
            "[79]\tvalid_0's binary_logloss: 0.488386\n",
            "[80]\tvalid_0's binary_logloss: 0.486744\n",
            "[81]\tvalid_0's binary_logloss: 0.485764\n",
            "[82]\tvalid_0's binary_logloss: 0.484989\n",
            "[83]\tvalid_0's binary_logloss: 0.484798\n",
            "[84]\tvalid_0's binary_logloss: 0.483842\n",
            "[85]\tvalid_0's binary_logloss: 0.483351\n",
            "[86]\tvalid_0's binary_logloss: 0.48235\n",
            "[87]\tvalid_0's binary_logloss: 0.481417\n",
            "[88]\tvalid_0's binary_logloss: 0.480496\n",
            "[89]\tvalid_0's binary_logloss: 0.479489\n",
            "[90]\tvalid_0's binary_logloss: 0.479438\n",
            "[91]\tvalid_0's binary_logloss: 0.479186\n",
            "[92]\tvalid_0's binary_logloss: 0.478336\n",
            "[93]\tvalid_0's binary_logloss: 0.478135\n",
            "[94]\tvalid_0's binary_logloss: 0.477204\n",
            "[95]\tvalid_0's binary_logloss: 0.476567\n",
            "[96]\tvalid_0's binary_logloss: 0.476083\n",
            "[97]\tvalid_0's binary_logloss: 0.475635\n",
            "[98]\tvalid_0's binary_logloss: 0.474751\n",
            "[99]\tvalid_0's binary_logloss: 0.474229\n",
            "[100]\tvalid_0's binary_logloss: 0.473905\n",
            "[101]\tvalid_0's binary_logloss: 0.473317\n",
            "[102]\tvalid_0's binary_logloss: 0.47296\n",
            "[103]\tvalid_0's binary_logloss: 0.472391\n",
            "[104]\tvalid_0's binary_logloss: 0.471803\n",
            "[105]\tvalid_0's binary_logloss: 0.471323\n",
            "[106]\tvalid_0's binary_logloss: 0.470921\n",
            "[107]\tvalid_0's binary_logloss: 0.470817\n",
            "[108]\tvalid_0's binary_logloss: 0.470481\n",
            "[109]\tvalid_0's binary_logloss: 0.469991\n",
            "[110]\tvalid_0's binary_logloss: 0.469915\n",
            "[111]\tvalid_0's binary_logloss: 0.469067\n",
            "[112]\tvalid_0's binary_logloss: 0.468801\n",
            "[113]\tvalid_0's binary_logloss: 0.468975\n",
            "[114]\tvalid_0's binary_logloss: 0.468288\n",
            "[115]\tvalid_0's binary_logloss: 0.467843\n",
            "[116]\tvalid_0's binary_logloss: 0.467111\n",
            "[117]\tvalid_0's binary_logloss: 0.466213\n",
            "[118]\tvalid_0's binary_logloss: 0.466163\n",
            "[119]\tvalid_0's binary_logloss: 0.465965\n",
            "[120]\tvalid_0's binary_logloss: 0.465754\n",
            "[121]\tvalid_0's binary_logloss: 0.46511\n",
            "[122]\tvalid_0's binary_logloss: 0.465185\n",
            "[123]\tvalid_0's binary_logloss: 0.464976\n",
            "[124]\tvalid_0's binary_logloss: 0.464671\n",
            "[125]\tvalid_0's binary_logloss: 0.464595\n",
            "[126]\tvalid_0's binary_logloss: 0.46401\n",
            "[127]\tvalid_0's binary_logloss: 0.463852\n",
            "[128]\tvalid_0's binary_logloss: 0.463343\n",
            "[129]\tvalid_0's binary_logloss: 0.463136\n",
            "[130]\tvalid_0's binary_logloss: 0.462955\n",
            "[131]\tvalid_0's binary_logloss: 0.462822\n",
            "[132]\tvalid_0's binary_logloss: 0.462421\n",
            "[133]\tvalid_0's binary_logloss: 0.462446\n",
            "[134]\tvalid_0's binary_logloss: 0.462546\n",
            "[135]\tvalid_0's binary_logloss: 0.462163\n",
            "[136]\tvalid_0's binary_logloss: 0.461851\n",
            "[137]\tvalid_0's binary_logloss: 0.461223\n",
            "[138]\tvalid_0's binary_logloss: 0.461185\n",
            "[139]\tvalid_0's binary_logloss: 0.460512\n",
            "[140]\tvalid_0's binary_logloss: 0.46032\n",
            "[141]\tvalid_0's binary_logloss: 0.459864\n",
            "[142]\tvalid_0's binary_logloss: 0.459541\n",
            "[143]\tvalid_0's binary_logloss: 0.459717\n",
            "[144]\tvalid_0's binary_logloss: 0.459632\n",
            "[145]\tvalid_0's binary_logloss: 0.459486\n",
            "[146]\tvalid_0's binary_logloss: 0.45942\n",
            "[147]\tvalid_0's binary_logloss: 0.459428\n",
            "[148]\tvalid_0's binary_logloss: 0.459458\n",
            "[149]\tvalid_0's binary_logloss: 0.459009\n",
            "[150]\tvalid_0's binary_logloss: 0.459006\n",
            "[151]\tvalid_0's binary_logloss: 0.458947\n",
            "[152]\tvalid_0's binary_logloss: 0.459078\n",
            "[153]\tvalid_0's binary_logloss: 0.458859\n",
            "[154]\tvalid_0's binary_logloss: 0.45874\n",
            "[155]\tvalid_0's binary_logloss: 0.458209\n",
            "[156]\tvalid_0's binary_logloss: 0.45829\n",
            "[157]\tvalid_0's binary_logloss: 0.458208\n",
            "[158]\tvalid_0's binary_logloss: 0.457956\n",
            "[159]\tvalid_0's binary_logloss: 0.457964\n",
            "[160]\tvalid_0's binary_logloss: 0.457886\n",
            "[161]\tvalid_0's binary_logloss: 0.457486\n",
            "[162]\tvalid_0's binary_logloss: 0.457485\n",
            "[163]\tvalid_0's binary_logloss: 0.457421\n",
            "[164]\tvalid_0's binary_logloss: 0.457013\n",
            "[165]\tvalid_0's binary_logloss: 0.456944\n",
            "[166]\tvalid_0's binary_logloss: 0.456854\n",
            "[167]\tvalid_0's binary_logloss: 0.457126\n",
            "[168]\tvalid_0's binary_logloss: 0.456993\n",
            "[169]\tvalid_0's binary_logloss: 0.456679\n",
            "[170]\tvalid_0's binary_logloss: 0.456478\n",
            "[171]\tvalid_0's binary_logloss: 0.45618\n",
            "[172]\tvalid_0's binary_logloss: 0.455793\n",
            "[173]\tvalid_0's binary_logloss: 0.455591\n",
            "[174]\tvalid_0's binary_logloss: 0.4556\n",
            "[175]\tvalid_0's binary_logloss: 0.455454\n",
            "[176]\tvalid_0's binary_logloss: 0.455384\n",
            "[177]\tvalid_0's binary_logloss: 0.455423\n",
            "[178]\tvalid_0's binary_logloss: 0.455301\n",
            "[179]\tvalid_0's binary_logloss: 0.455432\n",
            "[180]\tvalid_0's binary_logloss: 0.455233\n",
            "[181]\tvalid_0's binary_logloss: 0.455669\n",
            "[182]\tvalid_0's binary_logloss: 0.455591\n",
            "[183]\tvalid_0's binary_logloss: 0.455677\n",
            "[184]\tvalid_0's binary_logloss: 0.455783\n",
            "[185]\tvalid_0's binary_logloss: 0.455923\n",
            "[186]\tvalid_0's binary_logloss: 0.455578\n",
            "[187]\tvalid_0's binary_logloss: 0.455768\n",
            "[188]\tvalid_0's binary_logloss: 0.455534\n",
            "[189]\tvalid_0's binary_logloss: 0.455434\n",
            "[190]\tvalid_0's binary_logloss: 0.455412\n",
            "Early stopping, best iteration is:\n",
            "[180]\tvalid_0's binary_logloss: 0.455233\n",
            "Training a model using ELMO-4096tokenmean features...\n",
            "[1]\tvalid_0's binary_logloss: 0.685248\n",
            "Training until validation scores don't improve for 10 rounds.\n",
            "[2]\tvalid_0's binary_logloss: 0.677745\n",
            "[3]\tvalid_0's binary_logloss: 0.670915\n",
            "[4]\tvalid_0's binary_logloss: 0.665001\n",
            "[5]\tvalid_0's binary_logloss: 0.657801\n",
            "[6]\tvalid_0's binary_logloss: 0.651119\n",
            "[7]\tvalid_0's binary_logloss: 0.64522\n",
            "[8]\tvalid_0's binary_logloss: 0.640673\n",
            "[9]\tvalid_0's binary_logloss: 0.636049\n",
            "[10]\tvalid_0's binary_logloss: 0.630826\n",
            "[11]\tvalid_0's binary_logloss: 0.626956\n",
            "[12]\tvalid_0's binary_logloss: 0.622962\n",
            "[13]\tvalid_0's binary_logloss: 0.617956\n",
            "[14]\tvalid_0's binary_logloss: 0.613337\n",
            "[15]\tvalid_0's binary_logloss: 0.609633\n",
            "[16]\tvalid_0's binary_logloss: 0.605292\n",
            "[17]\tvalid_0's binary_logloss: 0.602547\n",
            "[18]\tvalid_0's binary_logloss: 0.598574\n",
            "[19]\tvalid_0's binary_logloss: 0.595063\n",
            "[20]\tvalid_0's binary_logloss: 0.592146\n",
            "[21]\tvalid_0's binary_logloss: 0.58801\n",
            "[22]\tvalid_0's binary_logloss: 0.584491\n",
            "[23]\tvalid_0's binary_logloss: 0.580367\n",
            "[24]\tvalid_0's binary_logloss: 0.575959\n",
            "[25]\tvalid_0's binary_logloss: 0.573394\n",
            "[26]\tvalid_0's binary_logloss: 0.571555\n",
            "[27]\tvalid_0's binary_logloss: 0.567803\n",
            "[28]\tvalid_0's binary_logloss: 0.56416\n",
            "[29]\tvalid_0's binary_logloss: 0.56063\n",
            "[30]\tvalid_0's binary_logloss: 0.557393\n",
            "[31]\tvalid_0's binary_logloss: 0.555571\n",
            "[32]\tvalid_0's binary_logloss: 0.552833\n",
            "[33]\tvalid_0's binary_logloss: 0.549498\n",
            "[34]\tvalid_0's binary_logloss: 0.547907\n",
            "[35]\tvalid_0's binary_logloss: 0.546577\n",
            "[36]\tvalid_0's binary_logloss: 0.543415\n",
            "[37]\tvalid_0's binary_logloss: 0.542101\n",
            "[38]\tvalid_0's binary_logloss: 0.540357\n",
            "[39]\tvalid_0's binary_logloss: 0.538592\n",
            "[40]\tvalid_0's binary_logloss: 0.536911\n",
            "[41]\tvalid_0's binary_logloss: 0.534755\n",
            "[42]\tvalid_0's binary_logloss: 0.53312\n",
            "[43]\tvalid_0's binary_logloss: 0.531405\n",
            "[44]\tvalid_0's binary_logloss: 0.530852\n",
            "[45]\tvalid_0's binary_logloss: 0.528838\n",
            "[46]\tvalid_0's binary_logloss: 0.527438\n",
            "[47]\tvalid_0's binary_logloss: 0.52575\n",
            "[48]\tvalid_0's binary_logloss: 0.524229\n",
            "[49]\tvalid_0's binary_logloss: 0.523002\n",
            "[50]\tvalid_0's binary_logloss: 0.521345\n",
            "[51]\tvalid_0's binary_logloss: 0.519466\n",
            "[52]\tvalid_0's binary_logloss: 0.51761\n",
            "[53]\tvalid_0's binary_logloss: 0.515671\n",
            "[54]\tvalid_0's binary_logloss: 0.514284\n",
            "[55]\tvalid_0's binary_logloss: 0.51258\n",
            "[56]\tvalid_0's binary_logloss: 0.511259\n",
            "[57]\tvalid_0's binary_logloss: 0.50983\n",
            "[58]\tvalid_0's binary_logloss: 0.508494\n",
            "[59]\tvalid_0's binary_logloss: 0.507198\n",
            "[60]\tvalid_0's binary_logloss: 0.506094\n",
            "[61]\tvalid_0's binary_logloss: 0.50486\n",
            "[62]\tvalid_0's binary_logloss: 0.504424\n",
            "[63]\tvalid_0's binary_logloss: 0.502857\n",
            "[64]\tvalid_0's binary_logloss: 0.502099\n",
            "[65]\tvalid_0's binary_logloss: 0.500889\n",
            "[66]\tvalid_0's binary_logloss: 0.500365\n",
            "[67]\tvalid_0's binary_logloss: 0.499087\n",
            "[68]\tvalid_0's binary_logloss: 0.49814\n",
            "[69]\tvalid_0's binary_logloss: 0.496492\n",
            "[70]\tvalid_0's binary_logloss: 0.494793\n",
            "[71]\tvalid_0's binary_logloss: 0.49434\n",
            "[72]\tvalid_0's binary_logloss: 0.493154\n",
            "[73]\tvalid_0's binary_logloss: 0.492438\n",
            "[74]\tvalid_0's binary_logloss: 0.491298\n",
            "[75]\tvalid_0's binary_logloss: 0.490192\n",
            "[76]\tvalid_0's binary_logloss: 0.489149\n",
            "[77]\tvalid_0's binary_logloss: 0.488549\n",
            "[78]\tvalid_0's binary_logloss: 0.487749\n",
            "[79]\tvalid_0's binary_logloss: 0.487449\n",
            "[80]\tvalid_0's binary_logloss: 0.487035\n",
            "[81]\tvalid_0's binary_logloss: 0.485662\n",
            "[82]\tvalid_0's binary_logloss: 0.48447\n",
            "[83]\tvalid_0's binary_logloss: 0.483438\n",
            "[84]\tvalid_0's binary_logloss: 0.482302\n",
            "[85]\tvalid_0's binary_logloss: 0.48115\n",
            "[86]\tvalid_0's binary_logloss: 0.480954\n",
            "[87]\tvalid_0's binary_logloss: 0.480356\n",
            "[88]\tvalid_0's binary_logloss: 0.479843\n",
            "[89]\tvalid_0's binary_logloss: 0.479654\n",
            "[90]\tvalid_0's binary_logloss: 0.478448\n",
            "[91]\tvalid_0's binary_logloss: 0.478382\n",
            "[92]\tvalid_0's binary_logloss: 0.47743\n",
            "[93]\tvalid_0's binary_logloss: 0.476858\n",
            "[94]\tvalid_0's binary_logloss: 0.476537\n",
            "[95]\tvalid_0's binary_logloss: 0.476145\n",
            "[96]\tvalid_0's binary_logloss: 0.475755\n",
            "[97]\tvalid_0's binary_logloss: 0.475363\n",
            "[98]\tvalid_0's binary_logloss: 0.474389\n",
            "[99]\tvalid_0's binary_logloss: 0.473109\n",
            "[100]\tvalid_0's binary_logloss: 0.472914\n",
            "[101]\tvalid_0's binary_logloss: 0.471956\n",
            "[102]\tvalid_0's binary_logloss: 0.471503\n",
            "[103]\tvalid_0's binary_logloss: 0.470665\n",
            "[104]\tvalid_0's binary_logloss: 0.470322\n",
            "[105]\tvalid_0's binary_logloss: 0.470105\n",
            "[106]\tvalid_0's binary_logloss: 0.469516\n",
            "[107]\tvalid_0's binary_logloss: 0.469313\n",
            "[108]\tvalid_0's binary_logloss: 0.469079\n",
            "[109]\tvalid_0's binary_logloss: 0.468317\n",
            "[110]\tvalid_0's binary_logloss: 0.467828\n",
            "[111]\tvalid_0's binary_logloss: 0.467518\n",
            "[112]\tvalid_0's binary_logloss: 0.466768\n",
            "[113]\tvalid_0's binary_logloss: 0.466193\n",
            "[114]\tvalid_0's binary_logloss: 0.465696\n",
            "[115]\tvalid_0's binary_logloss: 0.465616\n",
            "[116]\tvalid_0's binary_logloss: 0.465662\n",
            "[117]\tvalid_0's binary_logloss: 0.46528\n",
            "[118]\tvalid_0's binary_logloss: 0.465191\n",
            "[119]\tvalid_0's binary_logloss: 0.464496\n",
            "[120]\tvalid_0's binary_logloss: 0.463614\n",
            "[121]\tvalid_0's binary_logloss: 0.462685\n",
            "[122]\tvalid_0's binary_logloss: 0.462175\n",
            "[123]\tvalid_0's binary_logloss: 0.461954\n",
            "[124]\tvalid_0's binary_logloss: 0.461835\n",
            "[125]\tvalid_0's binary_logloss: 0.461165\n",
            "[126]\tvalid_0's binary_logloss: 0.460427\n",
            "[127]\tvalid_0's binary_logloss: 0.459911\n",
            "[128]\tvalid_0's binary_logloss: 0.459165\n",
            "[129]\tvalid_0's binary_logloss: 0.45863\n",
            "[130]\tvalid_0's binary_logloss: 0.458304\n",
            "[131]\tvalid_0's binary_logloss: 0.458168\n",
            "[132]\tvalid_0's binary_logloss: 0.457778\n",
            "[133]\tvalid_0's binary_logloss: 0.457854\n",
            "[134]\tvalid_0's binary_logloss: 0.457739\n",
            "[135]\tvalid_0's binary_logloss: 0.457404\n",
            "[136]\tvalid_0's binary_logloss: 0.456827\n",
            "[137]\tvalid_0's binary_logloss: 0.456738\n",
            "[138]\tvalid_0's binary_logloss: 0.456722\n",
            "[139]\tvalid_0's binary_logloss: 0.45639\n",
            "[140]\tvalid_0's binary_logloss: 0.455947\n",
            "[141]\tvalid_0's binary_logloss: 0.455483\n",
            "[142]\tvalid_0's binary_logloss: 0.455469\n",
            "[143]\tvalid_0's binary_logloss: 0.455552\n",
            "[144]\tvalid_0's binary_logloss: 0.455274\n",
            "[145]\tvalid_0's binary_logloss: 0.455063\n",
            "[146]\tvalid_0's binary_logloss: 0.454824\n",
            "[147]\tvalid_0's binary_logloss: 0.454923\n",
            "[148]\tvalid_0's binary_logloss: 0.454597\n",
            "[149]\tvalid_0's binary_logloss: 0.454152\n",
            "[150]\tvalid_0's binary_logloss: 0.454082\n",
            "[151]\tvalid_0's binary_logloss: 0.453758\n",
            "[152]\tvalid_0's binary_logloss: 0.453523\n",
            "[153]\tvalid_0's binary_logloss: 0.453557\n",
            "[154]\tvalid_0's binary_logloss: 0.453258\n",
            "[155]\tvalid_0's binary_logloss: 0.4531\n",
            "[156]\tvalid_0's binary_logloss: 0.452699\n",
            "[157]\tvalid_0's binary_logloss: 0.452429\n",
            "[158]\tvalid_0's binary_logloss: 0.452187\n",
            "[159]\tvalid_0's binary_logloss: 0.451825\n",
            "[160]\tvalid_0's binary_logloss: 0.45166\n",
            "[161]\tvalid_0's binary_logloss: 0.451539\n",
            "[162]\tvalid_0's binary_logloss: 0.451395\n",
            "[163]\tvalid_0's binary_logloss: 0.451671\n",
            "[164]\tvalid_0's binary_logloss: 0.451225\n",
            "[165]\tvalid_0's binary_logloss: 0.451346\n",
            "[166]\tvalid_0's binary_logloss: 0.451225\n",
            "[167]\tvalid_0's binary_logloss: 0.450843\n",
            "[168]\tvalid_0's binary_logloss: 0.450827\n",
            "[169]\tvalid_0's binary_logloss: 0.450915\n",
            "[170]\tvalid_0's binary_logloss: 0.45046\n",
            "[171]\tvalid_0's binary_logloss: 0.45068\n",
            "[172]\tvalid_0's binary_logloss: 0.450559\n",
            "[173]\tvalid_0's binary_logloss: 0.450529\n",
            "[174]\tvalid_0's binary_logloss: 0.450556\n",
            "[175]\tvalid_0's binary_logloss: 0.450398\n",
            "[176]\tvalid_0's binary_logloss: 0.450018\n",
            "[177]\tvalid_0's binary_logloss: 0.45013\n",
            "[178]\tvalid_0's binary_logloss: 0.449778\n",
            "[179]\tvalid_0's binary_logloss: 0.449829\n",
            "[180]\tvalid_0's binary_logloss: 0.449603\n",
            "[181]\tvalid_0's binary_logloss: 0.449403\n",
            "[182]\tvalid_0's binary_logloss: 0.449256\n",
            "[183]\tvalid_0's binary_logloss: 0.449327\n",
            "[184]\tvalid_0's binary_logloss: 0.449384\n",
            "[185]\tvalid_0's binary_logloss: 0.449423\n",
            "[186]\tvalid_0's binary_logloss: 0.449271\n",
            "[187]\tvalid_0's binary_logloss: 0.449255\n",
            "[188]\tvalid_0's binary_logloss: 0.449041\n",
            "[189]\tvalid_0's binary_logloss: 0.448954\n",
            "[190]\tvalid_0's binary_logloss: 0.448913\n",
            "[191]\tvalid_0's binary_logloss: 0.448806\n",
            "[192]\tvalid_0's binary_logloss: 0.448558\n",
            "[193]\tvalid_0's binary_logloss: 0.448417\n",
            "[194]\tvalid_0's binary_logloss: 0.448175\n",
            "[195]\tvalid_0's binary_logloss: 0.448314\n",
            "[196]\tvalid_0's binary_logloss: 0.448452\n",
            "[197]\tvalid_0's binary_logloss: 0.448536\n",
            "[198]\tvalid_0's binary_logloss: 0.448458\n",
            "[199]\tvalid_0's binary_logloss: 0.448237\n",
            "[200]\tvalid_0's binary_logloss: 0.448308\n",
            "Did not meet early stopping. Best iteration is:\n",
            "[194]\tvalid_0's binary_logloss: 0.448175\n",
            "Training a model using USE features...\n",
            "[1]\tvalid_0's binary_logloss: 0.684222\n",
            "Training until validation scores don't improve for 10 rounds.\n",
            "[2]\tvalid_0's binary_logloss: 0.676744\n",
            "[3]\tvalid_0's binary_logloss: 0.671036\n",
            "[4]\tvalid_0's binary_logloss: 0.661316\n",
            "[5]\tvalid_0's binary_logloss: 0.653487\n",
            "[6]\tvalid_0's binary_logloss: 0.647449\n",
            "[7]\tvalid_0's binary_logloss: 0.641266\n",
            "[8]\tvalid_0's binary_logloss: 0.635496\n",
            "[9]\tvalid_0's binary_logloss: 0.630885\n",
            "[10]\tvalid_0's binary_logloss: 0.625599\n",
            "[11]\tvalid_0's binary_logloss: 0.623183\n",
            "[12]\tvalid_0's binary_logloss: 0.616984\n",
            "[13]\tvalid_0's binary_logloss: 0.612458\n",
            "[14]\tvalid_0's binary_logloss: 0.609438\n",
            "[15]\tvalid_0's binary_logloss: 0.605904\n",
            "[16]\tvalid_0's binary_logloss: 0.602659\n",
            "[17]\tvalid_0's binary_logloss: 0.597838\n",
            "[18]\tvalid_0's binary_logloss: 0.593798\n",
            "[19]\tvalid_0's binary_logloss: 0.591045\n",
            "[20]\tvalid_0's binary_logloss: 0.587812\n",
            "[21]\tvalid_0's binary_logloss: 0.584859\n",
            "[22]\tvalid_0's binary_logloss: 0.581349\n",
            "[23]\tvalid_0's binary_logloss: 0.578001\n",
            "[24]\tvalid_0's binary_logloss: 0.573805\n",
            "[25]\tvalid_0's binary_logloss: 0.57101\n",
            "[26]\tvalid_0's binary_logloss: 0.56701\n",
            "[27]\tvalid_0's binary_logloss: 0.564158\n",
            "[28]\tvalid_0's binary_logloss: 0.56146\n",
            "[29]\tvalid_0's binary_logloss: 0.557996\n",
            "[30]\tvalid_0's binary_logloss: 0.554923\n",
            "[31]\tvalid_0's binary_logloss: 0.553049\n",
            "[32]\tvalid_0's binary_logloss: 0.550455\n",
            "[33]\tvalid_0's binary_logloss: 0.548091\n",
            "[34]\tvalid_0's binary_logloss: 0.546042\n",
            "[35]\tvalid_0's binary_logloss: 0.544687\n",
            "[36]\tvalid_0's binary_logloss: 0.542365\n",
            "[37]\tvalid_0's binary_logloss: 0.539639\n",
            "[38]\tvalid_0's binary_logloss: 0.538243\n",
            "[39]\tvalid_0's binary_logloss: 0.535794\n",
            "[40]\tvalid_0's binary_logloss: 0.533552\n",
            "[41]\tvalid_0's binary_logloss: 0.530496\n",
            "[42]\tvalid_0's binary_logloss: 0.528804\n",
            "[43]\tvalid_0's binary_logloss: 0.526607\n",
            "[44]\tvalid_0's binary_logloss: 0.524954\n",
            "[45]\tvalid_0's binary_logloss: 0.522919\n",
            "[46]\tvalid_0's binary_logloss: 0.521404\n",
            "[47]\tvalid_0's binary_logloss: 0.519162\n",
            "[48]\tvalid_0's binary_logloss: 0.518202\n",
            "[49]\tvalid_0's binary_logloss: 0.516145\n",
            "[50]\tvalid_0's binary_logloss: 0.514904\n",
            "[51]\tvalid_0's binary_logloss: 0.513211\n",
            "[52]\tvalid_0's binary_logloss: 0.511356\n",
            "[53]\tvalid_0's binary_logloss: 0.510088\n",
            "[54]\tvalid_0's binary_logloss: 0.508394\n",
            "[55]\tvalid_0's binary_logloss: 0.507294\n",
            "[56]\tvalid_0's binary_logloss: 0.505348\n",
            "[57]\tvalid_0's binary_logloss: 0.504229\n",
            "[58]\tvalid_0's binary_logloss: 0.502724\n",
            "[59]\tvalid_0's binary_logloss: 0.501465\n",
            "[60]\tvalid_0's binary_logloss: 0.499804\n",
            "[61]\tvalid_0's binary_logloss: 0.499043\n",
            "[62]\tvalid_0's binary_logloss: 0.49764\n",
            "[63]\tvalid_0's binary_logloss: 0.496151\n",
            "[64]\tvalid_0's binary_logloss: 0.494507\n",
            "[65]\tvalid_0's binary_logloss: 0.493553\n",
            "[66]\tvalid_0's binary_logloss: 0.492683\n",
            "[67]\tvalid_0's binary_logloss: 0.491341\n",
            "[68]\tvalid_0's binary_logloss: 0.490986\n",
            "[69]\tvalid_0's binary_logloss: 0.490213\n",
            "[70]\tvalid_0's binary_logloss: 0.489716\n",
            "[71]\tvalid_0's binary_logloss: 0.488973\n",
            "[72]\tvalid_0's binary_logloss: 0.488668\n",
            "[73]\tvalid_0's binary_logloss: 0.488268\n",
            "[74]\tvalid_0's binary_logloss: 0.487265\n",
            "[75]\tvalid_0's binary_logloss: 0.487203\n",
            "[76]\tvalid_0's binary_logloss: 0.486161\n",
            "[77]\tvalid_0's binary_logloss: 0.484783\n",
            "[78]\tvalid_0's binary_logloss: 0.484001\n",
            "[79]\tvalid_0's binary_logloss: 0.482972\n",
            "[80]\tvalid_0's binary_logloss: 0.482379\n",
            "[81]\tvalid_0's binary_logloss: 0.480997\n",
            "[82]\tvalid_0's binary_logloss: 0.480534\n",
            "[83]\tvalid_0's binary_logloss: 0.479252\n",
            "[84]\tvalid_0's binary_logloss: 0.478608\n",
            "[85]\tvalid_0's binary_logloss: 0.477996\n",
            "[86]\tvalid_0's binary_logloss: 0.477316\n",
            "[87]\tvalid_0's binary_logloss: 0.476412\n",
            "[88]\tvalid_0's binary_logloss: 0.475237\n",
            "[89]\tvalid_0's binary_logloss: 0.474245\n",
            "[90]\tvalid_0's binary_logloss: 0.473075\n",
            "[91]\tvalid_0's binary_logloss: 0.472247\n",
            "[92]\tvalid_0's binary_logloss: 0.470926\n",
            "[93]\tvalid_0's binary_logloss: 0.469964\n",
            "[94]\tvalid_0's binary_logloss: 0.469453\n",
            "[95]\tvalid_0's binary_logloss: 0.468705\n",
            "[96]\tvalid_0's binary_logloss: 0.467841\n",
            "[97]\tvalid_0's binary_logloss: 0.467004\n",
            "[98]\tvalid_0's binary_logloss: 0.464791\n",
            "[99]\tvalid_0's binary_logloss: 0.463807\n",
            "[100]\tvalid_0's binary_logloss: 0.462793\n",
            "[101]\tvalid_0's binary_logloss: 0.462194\n",
            "[102]\tvalid_0's binary_logloss: 0.46176\n",
            "[103]\tvalid_0's binary_logloss: 0.4607\n",
            "[104]\tvalid_0's binary_logloss: 0.460474\n",
            "[105]\tvalid_0's binary_logloss: 0.459872\n",
            "[106]\tvalid_0's binary_logloss: 0.458821\n",
            "[107]\tvalid_0's binary_logloss: 0.458519\n",
            "[108]\tvalid_0's binary_logloss: 0.457803\n",
            "[109]\tvalid_0's binary_logloss: 0.457724\n",
            "[110]\tvalid_0's binary_logloss: 0.456853\n",
            "[111]\tvalid_0's binary_logloss: 0.456315\n",
            "[112]\tvalid_0's binary_logloss: 0.455899\n",
            "[113]\tvalid_0's binary_logloss: 0.455217\n",
            "[114]\tvalid_0's binary_logloss: 0.454755\n",
            "[115]\tvalid_0's binary_logloss: 0.453943\n",
            "[116]\tvalid_0's binary_logloss: 0.453266\n",
            "[117]\tvalid_0's binary_logloss: 0.452982\n",
            "[118]\tvalid_0's binary_logloss: 0.452705\n",
            "[119]\tvalid_0's binary_logloss: 0.452709\n",
            "[120]\tvalid_0's binary_logloss: 0.451575\n",
            "[121]\tvalid_0's binary_logloss: 0.451139\n",
            "[122]\tvalid_0's binary_logloss: 0.451289\n",
            "[123]\tvalid_0's binary_logloss: 0.45093\n",
            "[124]\tvalid_0's binary_logloss: 0.450649\n",
            "[125]\tvalid_0's binary_logloss: 0.450022\n",
            "[126]\tvalid_0's binary_logloss: 0.4493\n",
            "[127]\tvalid_0's binary_logloss: 0.449091\n",
            "[128]\tvalid_0's binary_logloss: 0.44851\n",
            "[129]\tvalid_0's binary_logloss: 0.448587\n",
            "[130]\tvalid_0's binary_logloss: 0.447979\n",
            "[131]\tvalid_0's binary_logloss: 0.447531\n",
            "[132]\tvalid_0's binary_logloss: 0.446939\n",
            "[133]\tvalid_0's binary_logloss: 0.446302\n",
            "[134]\tvalid_0's binary_logloss: 0.445915\n",
            "[135]\tvalid_0's binary_logloss: 0.445413\n",
            "[136]\tvalid_0's binary_logloss: 0.444752\n",
            "[137]\tvalid_0's binary_logloss: 0.444261\n",
            "[138]\tvalid_0's binary_logloss: 0.444112\n",
            "[139]\tvalid_0's binary_logloss: 0.443686\n",
            "[140]\tvalid_0's binary_logloss: 0.443331\n",
            "[141]\tvalid_0's binary_logloss: 0.443122\n",
            "[142]\tvalid_0's binary_logloss: 0.442942\n",
            "[143]\tvalid_0's binary_logloss: 0.442802\n",
            "[144]\tvalid_0's binary_logloss: 0.442097\n",
            "[145]\tvalid_0's binary_logloss: 0.441958\n",
            "[146]\tvalid_0's binary_logloss: 0.441431\n",
            "[147]\tvalid_0's binary_logloss: 0.440889\n",
            "[148]\tvalid_0's binary_logloss: 0.440794\n",
            "[149]\tvalid_0's binary_logloss: 0.440653\n",
            "[150]\tvalid_0's binary_logloss: 0.440257\n",
            "[151]\tvalid_0's binary_logloss: 0.440011\n",
            "[152]\tvalid_0's binary_logloss: 0.439794\n",
            "[153]\tvalid_0's binary_logloss: 0.439999\n",
            "[154]\tvalid_0's binary_logloss: 0.439636\n",
            "[155]\tvalid_0's binary_logloss: 0.43977\n",
            "[156]\tvalid_0's binary_logloss: 0.438955\n",
            "[157]\tvalid_0's binary_logloss: 0.439184\n",
            "[158]\tvalid_0's binary_logloss: 0.438421\n",
            "[159]\tvalid_0's binary_logloss: 0.437629\n",
            "[160]\tvalid_0's binary_logloss: 0.436648\n",
            "[161]\tvalid_0's binary_logloss: 0.436785\n",
            "[162]\tvalid_0's binary_logloss: 0.436367\n",
            "[163]\tvalid_0's binary_logloss: 0.436554\n",
            "[164]\tvalid_0's binary_logloss: 0.436233\n",
            "[165]\tvalid_0's binary_logloss: 0.436149\n",
            "[166]\tvalid_0's binary_logloss: 0.436116\n",
            "[167]\tvalid_0's binary_logloss: 0.436065\n",
            "[168]\tvalid_0's binary_logloss: 0.435966\n",
            "[169]\tvalid_0's binary_logloss: 0.436208\n",
            "[170]\tvalid_0's binary_logloss: 0.436368\n",
            "[171]\tvalid_0's binary_logloss: 0.435922\n",
            "[172]\tvalid_0's binary_logloss: 0.435649\n",
            "[173]\tvalid_0's binary_logloss: 0.435097\n",
            "[174]\tvalid_0's binary_logloss: 0.434668\n",
            "[175]\tvalid_0's binary_logloss: 0.434092\n",
            "[176]\tvalid_0's binary_logloss: 0.434028\n",
            "[177]\tvalid_0's binary_logloss: 0.433549\n",
            "[178]\tvalid_0's binary_logloss: 0.43301\n",
            "[179]\tvalid_0's binary_logloss: 0.432486\n",
            "[180]\tvalid_0's binary_logloss: 0.432022\n",
            "[181]\tvalid_0's binary_logloss: 0.431519\n",
            "[182]\tvalid_0's binary_logloss: 0.431315\n",
            "[183]\tvalid_0's binary_logloss: 0.431027\n",
            "[184]\tvalid_0's binary_logloss: 0.430956\n",
            "[185]\tvalid_0's binary_logloss: 0.430755\n",
            "[186]\tvalid_0's binary_logloss: 0.430335\n",
            "[187]\tvalid_0's binary_logloss: 0.430144\n",
            "[188]\tvalid_0's binary_logloss: 0.43016\n",
            "[189]\tvalid_0's binary_logloss: 0.429699\n",
            "[190]\tvalid_0's binary_logloss: 0.429203\n",
            "[191]\tvalid_0's binary_logloss: 0.429353\n",
            "[192]\tvalid_0's binary_logloss: 0.428727\n",
            "[193]\tvalid_0's binary_logloss: 0.428693\n",
            "[194]\tvalid_0's binary_logloss: 0.428932\n",
            "[195]\tvalid_0's binary_logloss: 0.428562\n",
            "[196]\tvalid_0's binary_logloss: 0.428584\n",
            "[197]\tvalid_0's binary_logloss: 0.428674\n",
            "[198]\tvalid_0's binary_logloss: 0.428664\n",
            "[199]\tvalid_0's binary_logloss: 0.428294\n",
            "[200]\tvalid_0's binary_logloss: 0.428414\n",
            "Did not meet early stopping. Best iteration is:\n",
            "[199]\tvalid_0's binary_logloss: 0.428294\n",
            "Training a model using W2V features...\n",
            "[1]\tvalid_0's binary_logloss: 0.685348\n",
            "Training until validation scores don't improve for 10 rounds.\n",
            "[2]\tvalid_0's binary_logloss: 0.676082\n",
            "[3]\tvalid_0's binary_logloss: 0.667649\n",
            "[4]\tvalid_0's binary_logloss: 0.66088\n",
            "[5]\tvalid_0's binary_logloss: 0.655209\n",
            "[6]\tvalid_0's binary_logloss: 0.64627\n",
            "[7]\tvalid_0's binary_logloss: 0.639386\n",
            "[8]\tvalid_0's binary_logloss: 0.631695\n",
            "[9]\tvalid_0's binary_logloss: 0.625337\n",
            "[10]\tvalid_0's binary_logloss: 0.61769\n",
            "[11]\tvalid_0's binary_logloss: 0.612575\n",
            "[12]\tvalid_0's binary_logloss: 0.607136\n",
            "[13]\tvalid_0's binary_logloss: 0.601465\n",
            "[14]\tvalid_0's binary_logloss: 0.596702\n",
            "[15]\tvalid_0's binary_logloss: 0.591087\n",
            "[16]\tvalid_0's binary_logloss: 0.585231\n",
            "[17]\tvalid_0's binary_logloss: 0.581247\n",
            "[18]\tvalid_0's binary_logloss: 0.576446\n",
            "[19]\tvalid_0's binary_logloss: 0.57214\n",
            "[20]\tvalid_0's binary_logloss: 0.56783\n",
            "[21]\tvalid_0's binary_logloss: 0.562861\n",
            "[22]\tvalid_0's binary_logloss: 0.558246\n",
            "[23]\tvalid_0's binary_logloss: 0.553942\n",
            "[24]\tvalid_0's binary_logloss: 0.550219\n",
            "[25]\tvalid_0's binary_logloss: 0.546554\n",
            "[26]\tvalid_0's binary_logloss: 0.542782\n",
            "[27]\tvalid_0's binary_logloss: 0.539345\n",
            "[28]\tvalid_0's binary_logloss: 0.535487\n",
            "[29]\tvalid_0's binary_logloss: 0.532467\n",
            "[30]\tvalid_0's binary_logloss: 0.528939\n",
            "[31]\tvalid_0's binary_logloss: 0.525683\n",
            "[32]\tvalid_0's binary_logloss: 0.521146\n",
            "[33]\tvalid_0's binary_logloss: 0.518618\n",
            "[34]\tvalid_0's binary_logloss: 0.516004\n",
            "[35]\tvalid_0's binary_logloss: 0.513524\n",
            "[36]\tvalid_0's binary_logloss: 0.510231\n",
            "[37]\tvalid_0's binary_logloss: 0.507162\n",
            "[38]\tvalid_0's binary_logloss: 0.5048\n",
            "[39]\tvalid_0's binary_logloss: 0.502133\n",
            "[40]\tvalid_0's binary_logloss: 0.499372\n",
            "[41]\tvalid_0's binary_logloss: 0.496269\n",
            "[42]\tvalid_0's binary_logloss: 0.494482\n",
            "[43]\tvalid_0's binary_logloss: 0.491733\n",
            "[44]\tvalid_0's binary_logloss: 0.489411\n",
            "[45]\tvalid_0's binary_logloss: 0.48582\n",
            "[46]\tvalid_0's binary_logloss: 0.48406\n",
            "[47]\tvalid_0's binary_logloss: 0.481312\n",
            "[48]\tvalid_0's binary_logloss: 0.478556\n",
            "[49]\tvalid_0's binary_logloss: 0.476425\n",
            "[50]\tvalid_0's binary_logloss: 0.474681\n",
            "[51]\tvalid_0's binary_logloss: 0.472969\n",
            "[52]\tvalid_0's binary_logloss: 0.470697\n",
            "[53]\tvalid_0's binary_logloss: 0.468127\n",
            "[54]\tvalid_0's binary_logloss: 0.465539\n",
            "[55]\tvalid_0's binary_logloss: 0.463141\n",
            "[56]\tvalid_0's binary_logloss: 0.460416\n",
            "[57]\tvalid_0's binary_logloss: 0.458283\n",
            "[58]\tvalid_0's binary_logloss: 0.456611\n",
            "[59]\tvalid_0's binary_logloss: 0.454258\n",
            "[60]\tvalid_0's binary_logloss: 0.453022\n",
            "[61]\tvalid_0's binary_logloss: 0.450708\n",
            "[62]\tvalid_0's binary_logloss: 0.448647\n",
            "[63]\tvalid_0's binary_logloss: 0.447127\n",
            "[64]\tvalid_0's binary_logloss: 0.445536\n",
            "[65]\tvalid_0's binary_logloss: 0.444502\n",
            "[66]\tvalid_0's binary_logloss: 0.442636\n",
            "[67]\tvalid_0's binary_logloss: 0.440737\n",
            "[68]\tvalid_0's binary_logloss: 0.439359\n",
            "[69]\tvalid_0's binary_logloss: 0.437384\n",
            "[70]\tvalid_0's binary_logloss: 0.435837\n",
            "[71]\tvalid_0's binary_logloss: 0.434038\n",
            "[72]\tvalid_0's binary_logloss: 0.432058\n",
            "[73]\tvalid_0's binary_logloss: 0.430182\n",
            "[74]\tvalid_0's binary_logloss: 0.428758\n",
            "[75]\tvalid_0's binary_logloss: 0.427876\n",
            "[76]\tvalid_0's binary_logloss: 0.426651\n",
            "[77]\tvalid_0's binary_logloss: 0.425314\n",
            "[78]\tvalid_0's binary_logloss: 0.423927\n",
            "[79]\tvalid_0's binary_logloss: 0.422642\n",
            "[80]\tvalid_0's binary_logloss: 0.421481\n",
            "[81]\tvalid_0's binary_logloss: 0.419798\n",
            "[82]\tvalid_0's binary_logloss: 0.418536\n",
            "[83]\tvalid_0's binary_logloss: 0.417467\n",
            "[84]\tvalid_0's binary_logloss: 0.416305\n",
            "[85]\tvalid_0's binary_logloss: 0.41457\n",
            "[86]\tvalid_0's binary_logloss: 0.412634\n",
            "[87]\tvalid_0's binary_logloss: 0.411734\n",
            "[88]\tvalid_0's binary_logloss: 0.411014\n",
            "[89]\tvalid_0's binary_logloss: 0.409564\n",
            "[90]\tvalid_0's binary_logloss: 0.408477\n",
            "[91]\tvalid_0's binary_logloss: 0.407429\n",
            "[92]\tvalid_0's binary_logloss: 0.406654\n",
            "[93]\tvalid_0's binary_logloss: 0.406357\n",
            "[94]\tvalid_0's binary_logloss: 0.405708\n",
            "[95]\tvalid_0's binary_logloss: 0.404786\n",
            "[96]\tvalid_0's binary_logloss: 0.403964\n",
            "[97]\tvalid_0's binary_logloss: 0.403144\n",
            "[98]\tvalid_0's binary_logloss: 0.402511\n",
            "[99]\tvalid_0's binary_logloss: 0.401204\n",
            "[100]\tvalid_0's binary_logloss: 0.400134\n",
            "[101]\tvalid_0's binary_logloss: 0.399383\n",
            "[102]\tvalid_0's binary_logloss: 0.398184\n",
            "[103]\tvalid_0's binary_logloss: 0.397422\n",
            "[104]\tvalid_0's binary_logloss: 0.396321\n",
            "[105]\tvalid_0's binary_logloss: 0.395481\n",
            "[106]\tvalid_0's binary_logloss: 0.394882\n",
            "[107]\tvalid_0's binary_logloss: 0.394158\n",
            "[108]\tvalid_0's binary_logloss: 0.393363\n",
            "[109]\tvalid_0's binary_logloss: 0.392842\n",
            "[110]\tvalid_0's binary_logloss: 0.392629\n",
            "[111]\tvalid_0's binary_logloss: 0.392109\n",
            "[112]\tvalid_0's binary_logloss: 0.391765\n",
            "[113]\tvalid_0's binary_logloss: 0.39076\n",
            "[114]\tvalid_0's binary_logloss: 0.390344\n",
            "[115]\tvalid_0's binary_logloss: 0.389433\n",
            "[116]\tvalid_0's binary_logloss: 0.388595\n",
            "[117]\tvalid_0's binary_logloss: 0.387932\n",
            "[118]\tvalid_0's binary_logloss: 0.387402\n",
            "[119]\tvalid_0's binary_logloss: 0.38712\n",
            "[120]\tvalid_0's binary_logloss: 0.386822\n",
            "[121]\tvalid_0's binary_logloss: 0.385732\n",
            "[122]\tvalid_0's binary_logloss: 0.384887\n",
            "[123]\tvalid_0's binary_logloss: 0.384107\n",
            "[124]\tvalid_0's binary_logloss: 0.38333\n",
            "[125]\tvalid_0's binary_logloss: 0.38293\n",
            "[126]\tvalid_0's binary_logloss: 0.382069\n",
            "[127]\tvalid_0's binary_logloss: 0.381254\n",
            "[128]\tvalid_0's binary_logloss: 0.380829\n",
            "[129]\tvalid_0's binary_logloss: 0.380363\n",
            "[130]\tvalid_0's binary_logloss: 0.379982\n",
            "[131]\tvalid_0's binary_logloss: 0.379654\n",
            "[132]\tvalid_0's binary_logloss: 0.379083\n",
            "[133]\tvalid_0's binary_logloss: 0.378405\n",
            "[134]\tvalid_0's binary_logloss: 0.378045\n",
            "[135]\tvalid_0's binary_logloss: 0.377494\n",
            "[136]\tvalid_0's binary_logloss: 0.377248\n",
            "[137]\tvalid_0's binary_logloss: 0.376907\n",
            "[138]\tvalid_0's binary_logloss: 0.376643\n",
            "[139]\tvalid_0's binary_logloss: 0.376181\n",
            "[140]\tvalid_0's binary_logloss: 0.375573\n",
            "[141]\tvalid_0's binary_logloss: 0.375648\n",
            "[142]\tvalid_0's binary_logloss: 0.375204\n",
            "[143]\tvalid_0's binary_logloss: 0.374589\n",
            "[144]\tvalid_0's binary_logloss: 0.374295\n",
            "[145]\tvalid_0's binary_logloss: 0.373969\n",
            "[146]\tvalid_0's binary_logloss: 0.373674\n",
            "[147]\tvalid_0's binary_logloss: 0.373115\n",
            "[148]\tvalid_0's binary_logloss: 0.372858\n",
            "[149]\tvalid_0's binary_logloss: 0.372046\n",
            "[150]\tvalid_0's binary_logloss: 0.371171\n",
            "[151]\tvalid_0's binary_logloss: 0.371041\n",
            "[152]\tvalid_0's binary_logloss: 0.370682\n",
            "[153]\tvalid_0's binary_logloss: 0.370365\n",
            "[154]\tvalid_0's binary_logloss: 0.36996\n",
            "[155]\tvalid_0's binary_logloss: 0.369573\n",
            "[156]\tvalid_0's binary_logloss: 0.369063\n",
            "[157]\tvalid_0's binary_logloss: 0.368656\n",
            "[158]\tvalid_0's binary_logloss: 0.368395\n",
            "[159]\tvalid_0's binary_logloss: 0.367743\n",
            "[160]\tvalid_0's binary_logloss: 0.367328\n",
            "[161]\tvalid_0's binary_logloss: 0.367087\n",
            "[162]\tvalid_0's binary_logloss: 0.366802\n",
            "[163]\tvalid_0's binary_logloss: 0.366431\n",
            "[164]\tvalid_0's binary_logloss: 0.366056\n",
            "[165]\tvalid_0's binary_logloss: 0.365759\n",
            "[166]\tvalid_0's binary_logloss: 0.365339\n",
            "[167]\tvalid_0's binary_logloss: 0.36493\n",
            "[168]\tvalid_0's binary_logloss: 0.36486\n",
            "[169]\tvalid_0's binary_logloss: 0.3646\n",
            "[170]\tvalid_0's binary_logloss: 0.364458\n",
            "[171]\tvalid_0's binary_logloss: 0.364167\n",
            "[172]\tvalid_0's binary_logloss: 0.363783\n",
            "[173]\tvalid_0's binary_logloss: 0.363695\n",
            "[174]\tvalid_0's binary_logloss: 0.363651\n",
            "[175]\tvalid_0's binary_logloss: 0.363519\n",
            "[176]\tvalid_0's binary_logloss: 0.363359\n",
            "[177]\tvalid_0's binary_logloss: 0.363364\n",
            "[178]\tvalid_0's binary_logloss: 0.363361\n",
            "[179]\tvalid_0's binary_logloss: 0.363361\n",
            "[180]\tvalid_0's binary_logloss: 0.363171\n",
            "[181]\tvalid_0's binary_logloss: 0.362916\n",
            "[182]\tvalid_0's binary_logloss: 0.363008\n",
            "[183]\tvalid_0's binary_logloss: 0.362869\n",
            "[184]\tvalid_0's binary_logloss: 0.362522\n",
            "[185]\tvalid_0's binary_logloss: 0.362469\n",
            "[186]\tvalid_0's binary_logloss: 0.362275\n",
            "[187]\tvalid_0's binary_logloss: 0.361841\n",
            "[188]\tvalid_0's binary_logloss: 0.361506\n",
            "[189]\tvalid_0's binary_logloss: 0.361656\n",
            "[190]\tvalid_0's binary_logloss: 0.361576\n",
            "[191]\tvalid_0's binary_logloss: 0.361588\n",
            "[192]\tvalid_0's binary_logloss: 0.361212\n",
            "[193]\tvalid_0's binary_logloss: 0.361027\n",
            "[194]\tvalid_0's binary_logloss: 0.360845\n",
            "[195]\tvalid_0's binary_logloss: 0.360766\n",
            "[196]\tvalid_0's binary_logloss: 0.360523\n",
            "[197]\tvalid_0's binary_logloss: 0.360341\n",
            "[198]\tvalid_0's binary_logloss: 0.3605\n",
            "[199]\tvalid_0's binary_logloss: 0.360471\n",
            "[200]\tvalid_0's binary_logloss: 0.360434\n",
            "Did not meet early stopping. Best iteration is:\n",
            "[197]\tvalid_0's binary_logloss: 0.360341\n",
            "CPU times: user 14min 29s, sys: 6.42 s, total: 14min 35s\n",
            "Wall time: 8min 44s\n"
          ],
          "name": "stdout"
        }
      ]
    },
    {
      "cell_type": "code",
      "metadata": {
        "id": "O-faZHoJmyEm",
        "colab_type": "code",
        "colab": {
          "base_uri": "https://localhost:8080/",
          "height": 433
        },
        "outputId": "0277dcd9-0e63-409d-87f3-6a86e4e53e82"
      },
      "source": [
        "for model, (train_acc, test_acc) in result:\n",
        "  print(\"-\" * 20)\n",
        "  print(f\"{model} result:\")\n",
        "  print(f\"  Train ACC: {train_acc:.4f}\")\n",
        "  print(f\"  Test ACC: {test_acc:.4f}\")"
      ],
      "execution_count": 73,
      "outputs": [
        {
          "output_type": "stream",
          "text": [
            "--------------------\n",
            "BERT-2ndlastmean result:\n",
            "  Train ACC: 0.8234\n",
            "  Test ACC: 0.8019\n",
            "--------------------\n",
            "BERT-Large-2ndlastmean result:\n",
            "  Train ACC: 0.8158\n",
            "  Test ACC: 0.7898\n",
            "--------------------\n",
            "ELMO-512tokenmean result:\n",
            "  Train ACC: 0.8532\n",
            "  Test ACC: 0.8255\n",
            "--------------------\n",
            "ELMO-4096tokenmean result:\n",
            "  Train ACC: 0.8575\n",
            "  Test ACC: 0.8322\n",
            "--------------------\n",
            "USE result:\n",
            "  Train ACC: 0.8637\n",
            "  Test ACC: 0.8484\n",
            "--------------------\n",
            "W2V result:\n",
            "  Train ACC: 0.8943\n",
            "  Test ACC: 0.8632\n"
          ],
          "name": "stdout"
        }
      ]
    },
    {
      "cell_type": "markdown",
      "metadata": {
        "id": "yPgP_UZiUQ3S",
        "colab_type": "text"
      },
      "source": [
        "## Ranking problem using the extracted features\n",
        "\n",
        "Similarities will be computed by simple cosine similarity of the extracted features.  \n",
        "The extracted features are constructed from only claim texts."
      ]
    },
    {
      "cell_type": "code",
      "metadata": {
        "id": "RQnajL9--UmA",
        "colab_type": "code",
        "colab": {}
      },
      "source": [
        "def _test_label(app_id, grant, cite_relation):\n",
        "  cited_parsed = cite_relation[cite_relation[\"app_id\"] == app_id][\"parsed\"]\n",
        "  return [1 if parsed == cited_parsed.values[0] else 0 for parsed in grant[\"parsed\"]]"
      ],
      "execution_count": 0,
      "outputs": []
    },
    {
      "cell_type": "code",
      "metadata": {
        "id": "Ve1zOgv5w-GJ",
        "colab_type": "code",
        "colab": {}
      },
      "source": [
        "def _compute_similarities(target_dict, model):\n",
        "  similarities = []\n",
        "  train_app_f, test_app_f, grant_f = _read_feature(target_dict, model)\n",
        "  \n",
        "  for t_feature in test_app_f:\n",
        "    similarities.append(np.array(list(\n",
        "        map(lambda g_feature: np.dot(t_feature, g_feature) / (np.linalg.norm(t_feature * np.linalg.norm(g_feature))), grant_f)\n",
        "    )))\n",
        "   \n",
        "  return similarities"
      ],
      "execution_count": 0,
      "outputs": []
    },
    {
      "cell_type": "code",
      "metadata": {
        "id": "793enQH89cTS",
        "colab_type": "code",
        "colab": {}
      },
      "source": [
        "def compute_ranking(target_dict, model):\n",
        "  similarities = _compute_similarities(target_dict, model)\n",
        "  rankings = []\n",
        "  \n",
        "  for idx in range(len(similarities)):\n",
        "    app_id = test_app[\"app_id\"][idx]\n",
        "    label = pd.Series(_test_label(app_id, grants, citations_info_target))\n",
        "\n",
        "    i, = np.where(label == 1)\n",
        "    cited_index = i[0]\n",
        "\n",
        "    rank = sorted(similarities[idx], reverse=True).index(similarities[idx][cited_index])\n",
        "    rankings.append(rank)\n",
        "  \n",
        "  return rankings"
      ],
      "execution_count": 0,
      "outputs": []
    },
    {
      "cell_type": "code",
      "metadata": {
        "id": "aNrjWJ9kHoOR",
        "colab_type": "code",
        "colab": {}
      },
      "source": [
        "def compute_positive_count(rankings):\n",
        "  return [sum(np.array(rankings) <= thrd) for thrd in range(len(grants))]"
      ],
      "execution_count": 0,
      "outputs": []
    },
    {
      "cell_type": "code",
      "metadata": {
        "id": "nENTQ0No9xH6",
        "colab_type": "code",
        "outputId": "e5d0da89-af0f-487c-fe5d-170344e70e76",
        "colab": {
          "base_uri": "https://localhost:8080/",
          "height": 156
        }
      },
      "source": [
        "%%time\n",
        "\n",
        "ranking_result = []\n",
        "\n",
        "for model in target_features_dict.keys():\n",
        "  print(f\"Computing rankings using {model} features...\")\n",
        "  rankings = compute_ranking(target_features_dict, model)\n",
        "  positive_counts = compute_positive_count(rankings)\n",
        "  ranking_result.append([model, rankings, positive_counts])"
      ],
      "execution_count": 79,
      "outputs": [
        {
          "output_type": "stream",
          "text": [
            "Computing rankings using BERT-2ndlastmean features...\n",
            "Computing rankings using BERT-Large-2ndlastmean features...\n",
            "Computing rankings using ELMO-512tokenmean features...\n",
            "Computing rankings using ELMO-4096tokenmean features...\n",
            "Computing rankings using USE features...\n",
            "Computing rankings using W2V features...\n",
            "CPU times: user 36min 18s, sys: 604 ms, total: 36min 19s\n",
            "Wall time: 36min 19s\n"
          ],
          "name": "stdout"
        }
      ]
    },
    {
      "cell_type": "code",
      "metadata": {
        "id": "95cKos_PApXP",
        "colab_type": "code",
        "colab": {}
      },
      "source": [
        "import matplotlib.pyplot as plt\n",
        "from pylab import rcParams\n",
        "\n",
        "rcParams['figure.figsize'] = 8,8"
      ],
      "execution_count": 0,
      "outputs": []
    },
    {
      "cell_type": "code",
      "metadata": {
        "id": "01PJjqBYApdh",
        "colab_type": "code",
        "outputId": "92910a14-5468-4086-a2ee-d814a8f52dc5",
        "colab": {
          "base_uri": "https://localhost:8080/",
          "height": 500
        }
      },
      "source": [
        "for model, ranking, _ in ranking_result:\n",
        "  plt.hist(ranking, alpha=0.5, bins=100, label=f\"{model} cosine similarity\")\n",
        "\n",
        "plt.title(\"Cited grants rank\")\n",
        "plt.legend()\n",
        "plt.show()"
      ],
      "execution_count": 81,
      "outputs": [
        {
          "output_type": "display_data",
          "data": {
            "image/png": "[encoded data removed]",
            "text/plain": [
              "<Figure size 576x576 with 1 Axes>"
            ]
          },
          "metadata": {
            "tags": []
          }
        }
      ]
    },
    {
      "cell_type": "code",
      "metadata": {
        "id": "Mw22KVr_A1Ey",
        "colab_type": "code",
        "outputId": "1a78fcfb-1143-45cb-8f06-34986e3fe4d8",
        "colab": {
          "base_uri": "https://localhost:8080/",
          "height": 500
        }
      },
      "source": [
        "for model, ranking, _ in ranking_result:\n",
        "  plt.hist(ranking, alpha=0.5, bins=100, label=f\"{model} cosine similarity\")\n",
        "\n",
        "plt.yscale('log')\n",
        "plt.title(\"Cited grants rank in log scale\")\n",
        "plt.legend()\n",
        "plt.show()"
      ],
      "execution_count": 82,
      "outputs": [
        {
          "output_type": "display_data",
          "data": {
            "image/png": "[encoded data removed]",
            "text/plain": [
              "<Figure size 576x576 with 1 Axes>"
            ]
          },
          "metadata": {
            "tags": []
          }
        }
      ]
    },
    {
      "cell_type": "code",
      "metadata": {
        "id": "jDuT2revGInj",
        "colab_type": "code",
        "outputId": "9d0d0392-fcca-485a-f4f6-e8fd698aa2c2",
        "colab": {
          "base_uri": "https://localhost:8080/",
          "height": 500
        }
      },
      "source": [
        "for model, _, positive_count in ranking_result:\n",
        "  plt.plot(range(len(grants)), positive_count, label=f\"{model} cosine similarity\")\n",
        "\n",
        "plt.title(\"rank vs covered num\")\n",
        "plt.legend()\n",
        "plt.show()"
      ],
      "execution_count": 83,
      "outputs": [
        {
          "output_type": "display_data",
          "data": {
            "image/png": "[encoded data removed]",
            "text/plain": [
              "<Figure size 576x576 with 1 Axes>"
            ]
          },
          "metadata": {
            "tags": []
          }
        }
      ]
    },
    {
      "cell_type": "code",
      "metadata": {
        "id": "c2d9xCxLGIrG",
        "colab_type": "code",
        "outputId": "a8d7ee82-797b-4250-a66b-4eae05eb39f3",
        "colab": {
          "base_uri": "https://localhost:8080/",
          "height": 500
        }
      },
      "source": [
        "for model, _, positive_count in ranking_result:\n",
        "  plt.plot(range(1000), positive_count[:1000], label=f\"{model} cosine similarity\")\n",
        "\n",
        "plt.title(\"rank vs covered num\")\n",
        "plt.legend()\n",
        "plt.show()"
      ],
      "execution_count": 84,
      "outputs": [
        {
          "output_type": "display_data",
          "data": {
            "image/png": "[encoded data removed]",
            "text/plain": [
              "<Figure size 576x576 with 1 Axes>"
            ]
          },
          "metadata": {
            "tags": []
          }
        }
      ]
    },
    {
      "cell_type": "code",
      "metadata": {
        "id": "b5pzODxkA1lp",
        "colab_type": "code",
        "outputId": "5ef00fef-0499-4a19-aedd-04381886c5dc",
        "colab": {
          "base_uri": "https://localhost:8080/",
          "height": 500
        }
      },
      "source": [
        "for model, ranking, positive_count in ranking_result:\n",
        "  plt.plot(range(200), (np.array(positive_count)/len(ranking))[0:200], label=f\"{model} cosine similarity\")\n",
        "\n",
        "plt.title(\"rank vs covered rate, till 200\")\n",
        "plt.legend()\n",
        "plt.show()"
      ],
      "execution_count": 85,
      "outputs": [
        {
          "output_type": "display_data",
          "data": {
            "image/png": "[encoded data removed]",
            "text/plain": [
              "<Figure size 576x576 with 1 Axes>"
            ]
          },
          "metadata": {
            "tags": []
          }
        }
      ]
    },
    {
      "cell_type": "code",
      "metadata": {
        "id": "DTBDCHVfm3DY",
        "colab_type": "code",
        "colab": {
          "base_uri": "https://localhost:8080/",
          "height": 433
        },
        "outputId": "527019e3-1837-4bb5-8cbe-114fdd541533"
      },
      "source": [
        "for model, ranking, positive_count in ranking_result:\n",
        "  print(\"-\" * 20)\n",
        "  print(f\"{model} top 10: {(np.array(positive_count)/len(ranking))[10]:.4f}\")\n",
        "  print(f\"{model} top 100: {(np.array(positive_count)/len(ranking))[100]:.4f}\")\n",
        "  print(f\"{model} top 200: {(np.array(positive_count)/len(ranking))[200]:.4f}\")"
      ],
      "execution_count": 86,
      "outputs": [
        {
          "output_type": "stream",
          "text": [
            "--------------------\n",
            "BERT-2ndlastmean top 10: 0.2527\n",
            "BERT-2ndlastmean top 100: 0.5050\n",
            "BERT-2ndlastmean top 200: 0.5923\n",
            "--------------------\n",
            "BERT-Large-2ndlastmean top 10: 0.2330\n",
            "BERT-Large-2ndlastmean top 100: 0.4740\n",
            "BERT-Large-2ndlastmean top 200: 0.5680\n",
            "--------------------\n",
            "ELMO-512tokenmean top 10: 0.2367\n",
            "ELMO-512tokenmean top 100: 0.5280\n",
            "ELMO-512tokenmean top 200: 0.6260\n",
            "--------------------\n",
            "ELMO-4096tokenmean top 10: 0.2620\n",
            "ELMO-4096tokenmean top 100: 0.5357\n",
            "ELMO-4096tokenmean top 200: 0.6407\n",
            "--------------------\n",
            "USE top 10: 0.3400\n",
            "USE top 100: 0.6467\n",
            "USE top 200: 0.7480\n",
            "--------------------\n",
            "W2V top 10: 0.3057\n",
            "W2V top 100: 0.5990\n",
            "W2V top 200: 0.7037\n"
          ],
          "name": "stdout"
        }
      ]
    },
    {
      "cell_type": "code",
      "metadata": {
        "id": "RqWHgEXlHdMS",
        "colab_type": "code",
        "colab": {}
      },
      "source": [
        ""
      ],
      "execution_count": 0,
      "outputs": []
    },
    {
      "cell_type": "code",
      "metadata": {
        "id": "uw6p2i_VMCKv",
        "colab_type": "code",
        "colab": {}
      },
      "source": [
        ""
      ],
      "execution_count": 0,
      "outputs": []
    },
    {
      "cell_type": "code",
      "metadata": {
        "id": "bVUNf7JtMCOZ",
        "colab_type": "code",
        "colab": {}
      },
      "source": [
        ""
      ],
      "execution_count": 0,
      "outputs": []
    },
    {
      "cell_type": "code",
      "metadata": {
        "id": "M5B7baLYMCVr",
        "colab_type": "code",
        "colab": {}
      },
      "source": [
        ""
      ],
      "execution_count": 0,
      "outputs": []
    },
    {
      "cell_type": "code",
      "metadata": {
        "id": "Oidg0bbLHdPr",
        "colab_type": "code",
        "colab": {}
      },
      "source": [
        ""
      ],
      "execution_count": 0,
      "outputs": []
    },
    {
      "cell_type": "markdown",
      "metadata": {
        "id": "acurc-o63JtA",
        "colab_type": "text"
      },
      "source": [
        "## Trial and Erros"
      ]
    },
    {
      "cell_type": "code",
      "metadata": {
        "id": "rYYVEils8Php",
        "colab_type": "code",
        "colab": {}
      },
      "source": [
        "sim = compute_similarities(target_features_dict, \"USE\")"
      ],
      "execution_count": 0,
      "outputs": []
    },
    {
      "cell_type": "code",
      "metadata": {
        "id": "Xt5w4LMn8i-z",
        "colab_type": "code",
        "outputId": "548674e8-4445-45c4-d4dd-739a7c9560c7",
        "colab": {
          "base_uri": "https://localhost:8080/",
          "height": 52
        }
      },
      "source": [
        "sim[0]"
      ],
      "execution_count": 0,
      "outputs": [
        {
          "output_type": "execute_result",
          "data": {
            "text/plain": [
              "array([0.59243876, 0.49336826, 0.35891418, ..., 0.3547594 , 0.61351997,\n",
              "       0.54102679])"
            ]
          },
          "metadata": {
            "tags": []
          },
          "execution_count": 106
        }
      ]
    },
    {
      "cell_type": "code",
      "metadata": {
        "id": "8DJcxh5O_JTF",
        "colab_type": "code",
        "colab": {}
      },
      "source": [
        "ranking = compute_ranking(sim)"
      ],
      "execution_count": 0,
      "outputs": []
    },
    {
      "cell_type": "code",
      "metadata": {
        "id": "n4CQ-ZG1AQRe",
        "colab_type": "code",
        "outputId": "bd86805e-eff1-459e-d588-9770f1cd5f7e",
        "colab": {
          "base_uri": "https://localhost:8080/",
          "height": 34
        }
      },
      "source": [
        "ranking[:3]"
      ],
      "execution_count": 0,
      "outputs": [
        {
          "output_type": "execute_result",
          "data": {
            "text/plain": [
              "[14, 0, 789]"
            ]
          },
          "metadata": {
            "tags": []
          },
          "execution_count": 113
        }
      ]
    },
    {
      "cell_type": "code",
      "metadata": {
        "id": "vd6uvSYAw9iw",
        "colab_type": "code",
        "outputId": "d0673752-797f-4409-e32f-e982307df475",
        "colab": {
          "base_uri": "https://localhost:8080/",
          "height": 281
        }
      },
      "source": [
        "import matplotlib.pyplot as plt\n",
        "\n",
        "plt.hist(ranking, alpha=0.5, bins=100, label=\"ELMo cosine similarity\")\n",
        "plt.title(\"Cited grants rank\")\n",
        "plt.legend()\n",
        "plt.show()"
      ],
      "execution_count": 0,
      "outputs": [
        {
          "output_type": "display_data",
          "data": {
            "image/png": "[encoded data removed]",
            "text/plain": [
              "<Figure size 432x288 with 1 Axes>"
            ]
          },
          "metadata": {
            "tags": []
          }
        }
      ]
    },
    {
      "cell_type": "code",
      "metadata": {
        "id": "cfNyOTn8qi4e",
        "colab_type": "code",
        "outputId": "e8ab017a-84d2-445f-cc9c-53a87816e275",
        "colab": {
          "base_uri": "https://localhost:8080/",
          "height": 52
        }
      },
      "source": [
        "%%time\n",
        "\n",
        "tf, tl, tef, tel = _prepare_feature_for_labeled_data(target_features_dict, \"ELMO-512tokenmean\")"
      ],
      "execution_count": 0,
      "outputs": [
        {
          "output_type": "stream",
          "text": [
            "CPU times: user 25.7 s, sys: 199 ms, total: 25.9 s\n",
            "Wall time: 25.8 s\n"
          ],
          "name": "stdout"
        }
      ]
    },
    {
      "cell_type": "code",
      "metadata": {
        "id": "yhPbmx_unzyp",
        "colab_type": "code",
        "outputId": "db0870e9-fe25-4b3e-f55a-09da86721fe8",
        "colab": {
          "base_uri": "https://localhost:8080/",
          "height": 242
        }
      },
      "source": [
        "tf"
      ],
      "execution_count": 0,
      "outputs": [
        {
          "output_type": "execute_result",
          "data": {
            "text/plain": [
              "array([[ 0.04146077,  0.33466873, -0.02438193, ..., -0.05138287,\n",
              "         0.35489544,  0.18244757],\n",
              "       [ 0.19946417,  0.28654307, -0.03343014, ..., -0.16085735,\n",
              "         0.07497395, -0.05243134],\n",
              "       [ 0.24413267,  0.03050674, -0.2599768 , ..., -0.0933385 ,\n",
              "         0.19614401,  0.1279701 ],\n",
              "       ...,\n",
              "       [ 0.15222813,  0.09087709, -0.13535395, ..., -0.05091184,\n",
              "        -0.05838778, -0.03196971],\n",
              "       [ 0.30256709,  0.24646774, -0.14956102, ..., -0.10359577,\n",
              "         0.23123719,  0.00610641],\n",
              "       [ 0.06816008,  0.33493641, -0.21586779, ..., -0.10068552,\n",
              "         0.39663556,  0.11206492]])"
            ]
          },
          "metadata": {
            "tags": []
          },
          "execution_count": 66
        }
      ]
    },
    {
      "cell_type": "code",
      "metadata": {
        "id": "neezAudLkGay",
        "colab_type": "code",
        "colab": {}
      },
      "source": [
        "train_app_f, test_app_f, grant_f = _read_feature(target_features_dict, \"USE\")"
      ],
      "execution_count": 0,
      "outputs": []
    },
    {
      "cell_type": "code",
      "metadata": {
        "id": "65AMILh9kGez",
        "colab_type": "code",
        "outputId": "769306bd-c037-48fa-c556-9ffde2fe34c0",
        "colab": {
          "base_uri": "https://localhost:8080/",
          "height": 34
        }
      },
      "source": [
        "grant_f.shape"
      ],
      "execution_count": 0,
      "outputs": [
        {
          "output_type": "execute_result",
          "data": {
            "text/plain": [
              "(6440, 512)"
            ]
          },
          "metadata": {
            "tags": []
          },
          "execution_count": 22
        }
      ]
    },
    {
      "cell_type": "code",
      "metadata": {
        "id": "sESOyA0SkGEN",
        "colab_type": "code",
        "colab": {}
      },
      "source": [
        "assert train_app_f.shape == (3000, 512)"
      ],
      "execution_count": 0,
      "outputs": []
    }
  ]
}