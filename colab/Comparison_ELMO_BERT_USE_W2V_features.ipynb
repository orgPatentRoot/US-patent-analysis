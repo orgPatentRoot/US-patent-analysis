{
  "nbformat": 4,
  "nbformat_minor": 0,
  "metadata": {
    "colab": {
      "name": "Comparison_ELMO_BERT_USE_W2V_features.ipynb",
      "version": "0.3.2",
      "provenance": [],
      "collapsed_sections": [],
      "toc_visible": true,
      "include_colab_link": true
    },
    "kernelspec": {
      "name": "python3",
      "display_name": "Python 3"
    }
  },
  "cells": [
    {
      "cell_type": "markdown",
      "metadata": {
        "id": "view-in-github",
        "colab_type": "text"
      },
      "source": [
        "<a href=\"https://colab.research.google.com/github/yoheikikuta/US-patent-analysis/blob/master/colab/Comparison_ELMO_BERT_USE_W2V_features.ipynb\" target=\"_parent\"><img src=\"https://colab.research.google.com/assets/colab-badge.svg\" alt=\"Open In Colab\"/></a>"
      ]
    },
    {
      "cell_type": "markdown",
      "metadata": {
        "id": "JDtqNaOKeAWT",
        "colab_type": "text"
      },
      "source": [
        "# Comparison_ELMO_BERT_USE_W2V_features"
      ]
    },
    {
      "cell_type": "markdown",
      "metadata": {
        "id": "Sh6e4MelSvwB",
        "colab_type": "text"
      },
      "source": [
        "# Prerequisites\n",
        "\n",
        "Authentication, data downloading."
      ]
    },
    {
      "cell_type": "code",
      "metadata": {
        "id": "IblKx597oguP",
        "colab_type": "code",
        "colab": {}
      },
      "source": [
        "from google.colab import auth\n",
        "auth.authenticate_user()"
      ],
      "execution_count": 0,
      "outputs": []
    },
    {
      "cell_type": "code",
      "metadata": {
        "id": "006Nu3q7S8If",
        "colab_type": "code",
        "colab": {}
      },
      "source": [
        "GCS_BASE = \"gs://yohei-kikuta/mlstudy-phys/patent-analysis/3000-extracted-feature\"\n",
        "\n",
        "target_features_dict = {\n",
        "#    \"TransformerXL\" : [\"TransformerXL_feature_train_app_3000\", \"TransformerXL_feature_test_app_3000\", \"TransformerXL_feature_grants_3000_3000\"],\n",
        "#    \"BERT-2ndlastmean\" : [\"bert_2ndlastmean_feature_train_app_3000\", \"bert_2ndlastmean_feature_test_app_3000\", \"bert_2ndlastmean_feature_grants_3000_3000\"],\n",
        "   \"BERT-pretrained-2ndlastmean\" : [\"bert_pretrained_2ndlastmean_feature_train_app_3000\", \"bert_pretrained_2ndlastmean_feature_test_app_3000\", \"bert_pretrained_2ndlastmean_feature_grants_3000_3000\"],\n",
        "#    \"BERT-Large-2ndlastmean\" : [\"bert_large_2ndlastmean_feature_train_app_3000\", \"bert_large_2ndlastmean_feature_test_app_3000\", \"bert_large_2ndlastmean_feature_grants_3000_3000\"],\n",
        "#    \"ELMO-512tokenmean\" : [\"elmo_512_feature_train_app_3000\", \"elmo_512_feature_test_app_3000\", \"elmo_512_feature_grants_3000_3000\"],\n",
        "#    \"ELMO-4096tokenmean\" : [\"elmo_4096_feature_train_app_3000\", \"elmo_4096_feature_test_app_3000\", \"elmo_4096_feature_grants_3000_3000\"],\n",
        "#    \"USE\" : [\"use_feature_train_app_3000\", \"use_feature_test_app_3000\", \"use_feature_grants_3000_3000\"],\n",
        "#    \"W2V\" : [\"w2v_100_feature_train_app_3000\", \"w2v_100_feature_test_app_3000\", \"w2v_100_feature_grants_3000_3000\"],\n",
        "#    \"W2V-patent-2017\" : [\"w2v_patent2017_100_feature_train_app_3000\", \"w2v_patent2017_100_feature_test_app_3000\", \"w2v_patent2017_100_feature_grants_3000_3000\"],\n",
        "#    \"W2V-patent-2017\" : [\"w2v_patent2017_100_512tokens_feature_train_app_3000\", \"w2v_patent2017_100_512tokens_feature_test_app_3000\", \"w2v_patent2017_100_512tokens_feature_grants_3000_3000\"],\n",
        "#    \"fastText\" : [\"fasttext_300_feature_train_app_3000\", \"fasttext_300_feature_test_app_3000\", \"fasttext_300_feature_grants_3000_3000\"],\n",
        "}"
      ],
      "execution_count": 0,
      "outputs": []
    },
    {
      "cell_type": "markdown",
      "metadata": {
        "id": "OI8Jli2vS33X",
        "colab_type": "text"
      },
      "source": [
        "## Data downloading"
      ]
    },
    {
      "cell_type": "code",
      "metadata": {
        "id": "1eWBNIHyj342",
        "colab_type": "code",
        "outputId": "7e0a5144-55dd-4cdd-a303-5f274b2e6bc9",
        "colab": {
          "base_uri": "https://localhost:8080/",
          "height": 212
        }
      },
      "source": [
        "!gsutil cp gs://yohei-kikuta/mlstudy-phys/patent-analysis/3000-info/citations_info_3000+3000.df.gz ./\n",
        "\n",
        "!gsutil cp gs://yohei-kikuta/mlstudy-phys/patent-analysis/3000-xml/training_app_3000.df.gz ./  \n",
        "!gsutil cp gs://yohei-kikuta/mlstudy-phys/patent-analysis/3000-xml/testset_app_3000.df.gz ./\n",
        "!gsutil cp gs://yohei-kikuta/mlstudy-phys/patent-analysis/3000-xml/grants_for_3000+3000.df.gz ./"
      ],
      "execution_count": 4,
      "outputs": [
        {
          "output_type": "stream",
          "text": [
            "Copying gs://yohei-kikuta/mlstudy-phys/patent-analysis/3000-info/citations_info_3000+3000.df.gz...\n",
            "/ [1 files][506.5 KiB/506.5 KiB]                                                \n",
            "Operation completed over 1 objects/506.5 KiB.                                    \n",
            "Copying gs://yohei-kikuta/mlstudy-phys/patent-analysis/3000-xml/training_app_3000.df.gz...\n",
            "\\ [1 files][ 45.0 MiB/ 45.0 MiB]                                                \n",
            "Operation completed over 1 objects/45.0 MiB.                                     \n",
            "Copying gs://yohei-kikuta/mlstudy-phys/patent-analysis/3000-xml/testset_app_3000.df.gz...\n",
            "- [1 files][ 45.5 MiB/ 45.5 MiB]                                                \n",
            "Operation completed over 1 objects/45.5 MiB.                                     \n",
            "Copying gs://yohei-kikuta/mlstudy-phys/patent-analysis/3000-xml/grants_for_3000+3000.df.gz...\n",
            "| [1 files][129.4 MiB/129.4 MiB]                                                \n",
            "Operation completed over 1 objects/129.4 MiB.                                    \n"
          ],
          "name": "stdout"
        }
      ]
    },
    {
      "cell_type": "code",
      "metadata": {
        "id": "51oLKwAsUKlI",
        "colab_type": "code",
        "outputId": "0e75ff41-4ea7-4057-e336-4f1144406607",
        "colab": {
          "base_uri": "https://localhost:8080/",
          "height": 216
        }
      },
      "source": [
        "%%time\n",
        "\n",
        "for model, files in target_features_dict.items():\n",
        "  for f in files:\n",
        "    !gsutil cp {GCS_BASE}/{model}/{f}.pkl.gz ./"
      ],
      "execution_count": 5,
      "outputs": [
        {
          "output_type": "stream",
          "text": [
            "Copying gs://yohei-kikuta/mlstudy-phys/patent-analysis/3000-extracted-feature/BERT-pretrained-2ndlastmean/bert_pretrained_2ndlastmean_feature_train_app_3000.pkl.gz...\n",
            "- [1 files][  9.4 MiB/  9.4 MiB]                                                \n",
            "Operation completed over 1 objects/9.4 MiB.                                      \n",
            "Copying gs://yohei-kikuta/mlstudy-phys/patent-analysis/3000-extracted-feature/BERT-pretrained-2ndlastmean/bert_pretrained_2ndlastmean_feature_test_app_3000.pkl.gz...\n",
            "- [1 files][  9.4 MiB/  9.4 MiB]                                                \n",
            "Operation completed over 1 objects/9.4 MiB.                                      \n",
            "Copying gs://yohei-kikuta/mlstudy-phys/patent-analysis/3000-extracted-feature/BERT-pretrained-2ndlastmean/bert_pretrained_2ndlastmean_feature_grants_3000_3000.pkl.gz...\n",
            "- [1 files][ 20.1 MiB/ 20.1 MiB]                                                \n",
            "Operation completed over 1 objects/20.1 MiB.                                     \n",
            "CPU times: user 112 ms, sys: 38 ms, total: 150 ms\n",
            "Wall time: 10.6 s\n"
          ],
          "name": "stdout"
        }
      ]
    },
    {
      "cell_type": "code",
      "metadata": {
        "id": "lu4o6t-YjRKR",
        "colab_type": "code",
        "outputId": "57123aa4-d807-47d2-9969-39114f8eed84",
        "colab": {
          "base_uri": "https://localhost:8080/",
          "height": 163
        }
      },
      "source": [
        "!ls"
      ],
      "execution_count": 6,
      "outputs": [
        {
          "output_type": "stream",
          "text": [
            "adc.json\n",
            "bert_pretrained_2ndlastmean_feature_grants_3000_3000.pkl.gz\n",
            "bert_pretrained_2ndlastmean_feature_test_app_3000.pkl.gz\n",
            "bert_pretrained_2ndlastmean_feature_train_app_3000.pkl.gz\n",
            "citations_info_3000+3000.df.gz\n",
            "grants_for_3000+3000.df.gz\n",
            "sample_data\n",
            "testset_app_3000.df.gz\n",
            "training_app_3000.df.gz\n"
          ],
          "name": "stdout"
        }
      ]
    },
    {
      "cell_type": "code",
      "metadata": {
        "id": "9lCuxPt6ifQQ",
        "colab_type": "code",
        "colab": {}
      },
      "source": [
        ""
      ],
      "execution_count": 0,
      "outputs": []
    },
    {
      "cell_type": "code",
      "metadata": {
        "id": "pc32jC6-ifgk",
        "colab_type": "code",
        "colab": {}
      },
      "source": [
        ""
      ],
      "execution_count": 0,
      "outputs": []
    },
    {
      "cell_type": "code",
      "metadata": {
        "id": "R4C2KotZifLZ",
        "colab_type": "code",
        "colab": {}
      },
      "source": [
        ""
      ],
      "execution_count": 0,
      "outputs": []
    },
    {
      "cell_type": "markdown",
      "metadata": {
        "id": "D9s6049USuJO",
        "colab_type": "text"
      },
      "source": [
        "# Naive similarities using raw features\n",
        "\n",
        "Check cosine similarities using the extracted features."
      ]
    },
    {
      "cell_type": "markdown",
      "metadata": {
        "id": "yaqX-h0zULUJ",
        "colab_type": "text"
      },
      "source": [
        "## Binary classification problem using the extracted fesatures"
      ]
    },
    {
      "cell_type": "code",
      "metadata": {
        "id": "5QQj6zjWUQso",
        "colab_type": "code",
        "colab": {}
      },
      "source": [
        "import pandas as pd\n",
        "import numpy as np"
      ],
      "execution_count": 0,
      "outputs": []
    },
    {
      "cell_type": "code",
      "metadata": {
        "id": "Y1ItV0r3jrBp",
        "colab_type": "code",
        "colab": {}
      },
      "source": [
        "citations_info_target = pd.read_pickle(\"./citations_info_3000+3000.df.gz\")\n",
        "test_app = pd.read_pickle(\"./testset_app_3000.df.gz\")\n",
        "grants = pd.read_pickle(\"./grants_for_3000+3000.df.gz\")\n",
        "train_app = pd.read_pickle(\"./training_app_3000.df.gz\")"
      ],
      "execution_count": 0,
      "outputs": []
    },
    {
      "cell_type": "code",
      "metadata": {
        "id": "ovKKABDakF4b",
        "colab_type": "code",
        "colab": {}
      },
      "source": [
        "train_data = pd.merge(train_app, citations_info_target, on='app_id')[[\"app_id\", \"parsed\"]]\n",
        "dev_data = pd.merge(test_app, citations_info_target, on='app_id')[[\"app_id\", \"parsed\"]]"
      ],
      "execution_count": 0,
      "outputs": []
    },
    {
      "cell_type": "code",
      "metadata": {
        "id": "5z_pcua7kGHo",
        "colab_type": "code",
        "colab": {}
      },
      "source": [
        "train_data['label'] = 1\n",
        "dev_data['label'] = 1"
      ],
      "execution_count": 0,
      "outputs": []
    },
    {
      "cell_type": "code",
      "metadata": {
        "id": "4Wlax3ZMmnOO",
        "colab_type": "code",
        "outputId": "4fbc07a6-bb07-4fc3-a33a-99d9bb847c4e",
        "colab": {
          "base_uri": "https://localhost:8080/",
          "height": 191
        }
      },
      "source": [
        "train_data.head()"
      ],
      "execution_count": 11,
      "outputs": [
        {
          "output_type": "execute_result",
          "data": {
            "text/html": [
              "<div>\n",
              "<style scoped>\n",
              "    .dataframe tbody tr th:only-of-type {\n",
              "        vertical-align: middle;\n",
              "    }\n",
              "\n",
              "    .dataframe tbody tr th {\n",
              "        vertical-align: top;\n",
              "    }\n",
              "\n",
              "    .dataframe thead th {\n",
              "        text-align: right;\n",
              "    }\n",
              "</style>\n",
              "<table border=\"1\" class=\"dataframe\">\n",
              "  <thead>\n",
              "    <tr style=\"text-align: right;\">\n",
              "      <th></th>\n",
              "      <th>app_id</th>\n",
              "      <th>parsed</th>\n",
              "      <th>label</th>\n",
              "    </tr>\n",
              "  </thead>\n",
              "  <tbody>\n",
              "    <tr>\n",
              "      <th>0</th>\n",
              "      <td>12130785</td>\n",
              "      <td>7212849</td>\n",
              "      <td>1</td>\n",
              "    </tr>\n",
              "    <tr>\n",
              "      <th>1</th>\n",
              "      <td>12652424</td>\n",
              "      <td>7814459</td>\n",
              "      <td>1</td>\n",
              "    </tr>\n",
              "    <tr>\n",
              "      <th>2</th>\n",
              "      <td>12652424</td>\n",
              "      <td>7814459</td>\n",
              "      <td>1</td>\n",
              "    </tr>\n",
              "    <tr>\n",
              "      <th>3</th>\n",
              "      <td>12214532</td>\n",
              "      <td>7652956</td>\n",
              "      <td>1</td>\n",
              "    </tr>\n",
              "    <tr>\n",
              "      <th>4</th>\n",
              "      <td>14204411</td>\n",
              "      <td>7439432</td>\n",
              "      <td>1</td>\n",
              "    </tr>\n",
              "  </tbody>\n",
              "</table>\n",
              "</div>"
            ],
            "text/plain": [
              "     app_id   parsed  label\n",
              "0  12130785  7212849      1\n",
              "1  12652424  7814459      1\n",
              "2  12652424  7814459      1\n",
              "3  12214532  7652956      1\n",
              "4  14204411  7439432      1"
            ]
          },
          "metadata": {
            "tags": []
          },
          "execution_count": 11
        }
      ]
    },
    {
      "cell_type": "code",
      "metadata": {
        "id": "E5YjkP-imtB0",
        "colab_type": "code",
        "colab": {}
      },
      "source": [
        "def pick_up_uncited_grants(df, app_id, n=1, random_state=23):\n",
        "    '''\n",
        "    Randomly pick up uncited grant pair to a given app_id for generating negative samples.\n",
        "    '''\n",
        "    n_rows = df[ df['app_id'] != app_id ].sample(n=n, random_state=random_state)\n",
        "    \n",
        "    return [n_rows['parsed'].values[0], 0]"
      ],
      "execution_count": 0,
      "outputs": []
    },
    {
      "cell_type": "code",
      "metadata": {
        "id": "7XFw_XoZmuWv",
        "colab_type": "code",
        "outputId": "89b7c800-b635-4d2a-c460-485fb70e8b0b",
        "colab": {
          "base_uri": "https://localhost:8080/",
          "height": 191
        }
      },
      "source": [
        "seed = 23\n",
        "\n",
        "train_non_cited_data = pd.DataFrame([\n",
        "    [app_id] + pick_up_uncited_grants(train_data, app_id, random_state=seed+idx)\n",
        "    for idx, (app_id)\n",
        "    in enumerate(train_data['app_id'])\n",
        "])\n",
        "\n",
        "train_non_cited_data.columns = train_data.columns\n",
        "\n",
        "train_non_cited_data.head()"
      ],
      "execution_count": 13,
      "outputs": [
        {
          "output_type": "execute_result",
          "data": {
            "text/html": [
              "<div>\n",
              "<style scoped>\n",
              "    .dataframe tbody tr th:only-of-type {\n",
              "        vertical-align: middle;\n",
              "    }\n",
              "\n",
              "    .dataframe tbody tr th {\n",
              "        vertical-align: top;\n",
              "    }\n",
              "\n",
              "    .dataframe thead th {\n",
              "        text-align: right;\n",
              "    }\n",
              "</style>\n",
              "<table border=\"1\" class=\"dataframe\">\n",
              "  <thead>\n",
              "    <tr style=\"text-align: right;\">\n",
              "      <th></th>\n",
              "      <th>app_id</th>\n",
              "      <th>parsed</th>\n",
              "      <th>label</th>\n",
              "    </tr>\n",
              "  </thead>\n",
              "  <tbody>\n",
              "    <tr>\n",
              "      <th>0</th>\n",
              "      <td>12130785</td>\n",
              "      <td>7848141</td>\n",
              "      <td>0</td>\n",
              "    </tr>\n",
              "    <tr>\n",
              "      <th>1</th>\n",
              "      <td>12652424</td>\n",
              "      <td>7992009</td>\n",
              "      <td>0</td>\n",
              "    </tr>\n",
              "    <tr>\n",
              "      <th>2</th>\n",
              "      <td>12652424</td>\n",
              "      <td>7896548</td>\n",
              "      <td>0</td>\n",
              "    </tr>\n",
              "    <tr>\n",
              "      <th>3</th>\n",
              "      <td>12214532</td>\n",
              "      <td>7236946</td>\n",
              "      <td>0</td>\n",
              "    </tr>\n",
              "    <tr>\n",
              "      <th>4</th>\n",
              "      <td>14204411</td>\n",
              "      <td>6910200</td>\n",
              "      <td>0</td>\n",
              "    </tr>\n",
              "  </tbody>\n",
              "</table>\n",
              "</div>"
            ],
            "text/plain": [
              "     app_id   parsed  label\n",
              "0  12130785  7848141      0\n",
              "1  12652424  7992009      0\n",
              "2  12652424  7896548      0\n",
              "3  12214532  7236946      0\n",
              "4  14204411  6910200      0"
            ]
          },
          "metadata": {
            "tags": []
          },
          "execution_count": 13
        }
      ]
    },
    {
      "cell_type": "code",
      "metadata": {
        "id": "pPzUNS7Om6N5",
        "colab_type": "code",
        "outputId": "c2e97544-cbbf-4aad-f0bf-cd6c9087dc4d",
        "colab": {
          "base_uri": "https://localhost:8080/",
          "height": 191
        }
      },
      "source": [
        "seed = 23\n",
        "\n",
        "dev_non_cited_data = pd.DataFrame([\n",
        "    [app_id] + pick_up_uncited_grants(dev_data, app_id, random_state=seed+idx)\n",
        "    for idx, (app_id)\n",
        "    in enumerate(dev_data['app_id'])\n",
        "])\n",
        "\n",
        "dev_non_cited_data.columns = dev_data.columns\n",
        "\n",
        "dev_non_cited_data.head()"
      ],
      "execution_count": 14,
      "outputs": [
        {
          "output_type": "execute_result",
          "data": {
            "text/html": [
              "<div>\n",
              "<style scoped>\n",
              "    .dataframe tbody tr th:only-of-type {\n",
              "        vertical-align: middle;\n",
              "    }\n",
              "\n",
              "    .dataframe tbody tr th {\n",
              "        vertical-align: top;\n",
              "    }\n",
              "\n",
              "    .dataframe thead th {\n",
              "        text-align: right;\n",
              "    }\n",
              "</style>\n",
              "<table border=\"1\" class=\"dataframe\">\n",
              "  <thead>\n",
              "    <tr style=\"text-align: right;\">\n",
              "      <th></th>\n",
              "      <th>app_id</th>\n",
              "      <th>parsed</th>\n",
              "      <th>label</th>\n",
              "    </tr>\n",
              "  </thead>\n",
              "  <tbody>\n",
              "    <tr>\n",
              "      <th>0</th>\n",
              "      <td>12211548</td>\n",
              "      <td>7264313</td>\n",
              "      <td>0</td>\n",
              "    </tr>\n",
              "    <tr>\n",
              "      <th>1</th>\n",
              "      <td>12765236</td>\n",
              "      <td>7294763</td>\n",
              "      <td>0</td>\n",
              "    </tr>\n",
              "    <tr>\n",
              "      <th>2</th>\n",
              "      <td>12827269</td>\n",
              "      <td>7559338</td>\n",
              "      <td>0</td>\n",
              "    </tr>\n",
              "    <tr>\n",
              "      <th>3</th>\n",
              "      <td>14436491</td>\n",
              "      <td>8012217</td>\n",
              "      <td>0</td>\n",
              "    </tr>\n",
              "    <tr>\n",
              "      <th>4</th>\n",
              "      <td>13633425</td>\n",
              "      <td>8305811</td>\n",
              "      <td>0</td>\n",
              "    </tr>\n",
              "  </tbody>\n",
              "</table>\n",
              "</div>"
            ],
            "text/plain": [
              "     app_id   parsed  label\n",
              "0  12211548  7264313      0\n",
              "1  12765236  7294763      0\n",
              "2  12827269  7559338      0\n",
              "3  14436491  8012217      0\n",
              "4  13633425  8305811      0"
            ]
          },
          "metadata": {
            "tags": []
          },
          "execution_count": 14
        }
      ]
    },
    {
      "cell_type": "code",
      "metadata": {
        "id": "NhD99UTjm9Kq",
        "colab_type": "code",
        "outputId": "6b543106-3356-4b55-f721-f8c633bbee4a",
        "colab": {
          "base_uri": "https://localhost:8080/",
          "height": 191
        }
      },
      "source": [
        "train_data = pd.concat([train_data, train_non_cited_data]).reset_index(drop=True)\n",
        "dev_data = pd.concat([dev_data, dev_non_cited_data]).reset_index(drop=True)\n",
        "\n",
        "train_data = train_data.sample(frac=1, random_state=seed).reset_index(drop=True)\n",
        "dev_data = dev_data.sample(frac=1, random_state=seed).reset_index(drop=True)\n",
        "\n",
        "train_data.head()"
      ],
      "execution_count": 15,
      "outputs": [
        {
          "output_type": "execute_result",
          "data": {
            "text/html": [
              "<div>\n",
              "<style scoped>\n",
              "    .dataframe tbody tr th:only-of-type {\n",
              "        vertical-align: middle;\n",
              "    }\n",
              "\n",
              "    .dataframe tbody tr th {\n",
              "        vertical-align: top;\n",
              "    }\n",
              "\n",
              "    .dataframe thead th {\n",
              "        text-align: right;\n",
              "    }\n",
              "</style>\n",
              "<table border=\"1\" class=\"dataframe\">\n",
              "  <thead>\n",
              "    <tr style=\"text-align: right;\">\n",
              "      <th></th>\n",
              "      <th>app_id</th>\n",
              "      <th>parsed</th>\n",
              "      <th>label</th>\n",
              "    </tr>\n",
              "  </thead>\n",
              "  <tbody>\n",
              "    <tr>\n",
              "      <th>0</th>\n",
              "      <td>12000676</td>\n",
              "      <td>7751044</td>\n",
              "      <td>0</td>\n",
              "    </tr>\n",
              "    <tr>\n",
              "      <th>1</th>\n",
              "      <td>12507166</td>\n",
              "      <td>7519470</td>\n",
              "      <td>1</td>\n",
              "    </tr>\n",
              "    <tr>\n",
              "      <th>2</th>\n",
              "      <td>12852271</td>\n",
              "      <td>6963389</td>\n",
              "      <td>0</td>\n",
              "    </tr>\n",
              "    <tr>\n",
              "      <th>3</th>\n",
              "      <td>12871308</td>\n",
              "      <td>7917688</td>\n",
              "      <td>1</td>\n",
              "    </tr>\n",
              "    <tr>\n",
              "      <th>4</th>\n",
              "      <td>13796666</td>\n",
              "      <td>7111455</td>\n",
              "      <td>1</td>\n",
              "    </tr>\n",
              "  </tbody>\n",
              "</table>\n",
              "</div>"
            ],
            "text/plain": [
              "     app_id   parsed  label\n",
              "0  12000676  7751044      0\n",
              "1  12507166  7519470      1\n",
              "2  12852271  6963389      0\n",
              "3  12871308  7917688      1\n",
              "4  13796666  7111455      1"
            ]
          },
          "metadata": {
            "tags": []
          },
          "execution_count": 15
        }
      ]
    },
    {
      "cell_type": "code",
      "metadata": {
        "id": "XS8FrTlokGOq",
        "colab_type": "code",
        "colab": {}
      },
      "source": [
        "def _read_feature(target_dict, model):\n",
        "  train_fpath, test_fpath, grant_fpath = target_dict[model]\n",
        "  train_app_f = pd.read_pickle(f\"./{train_fpath}.pkl.gz\")\n",
        "  test_app_f = pd.read_pickle(f\"./{test_fpath}.pkl.gz\")\n",
        "  grant_f = pd.read_pickle(f\"./{grant_fpath}.pkl.gz\")\n",
        "  \n",
        "  assert 3000 == train_app_f.shape[0]\n",
        "  assert 3000 == test_app_f.shape[0]\n",
        "  assert 6440 == grant_f.shape[0]\n",
        "  \n",
        "  return train_app_f, test_app_f, grant_f"
      ],
      "execution_count": 0,
      "outputs": []
    },
    {
      "cell_type": "code",
      "metadata": {
        "id": "ynRfElual9pR",
        "colab_type": "code",
        "colab": {}
      },
      "source": [
        "def _prepare_feature_for_labeled_data(target_dict, model):\n",
        "  train_app_f, test_app_f, grant_f = _read_feature(target_dict, model)\n",
        "  \n",
        "  train_feature = np.empty((len(train_data), train_app_f.shape[1] + grant_f.shape[1]))\n",
        "  test_feature = np.empty((len(dev_data), test_app_f.shape[1] + grant_f.shape[1]))\n",
        "  \n",
        "  for i in range(len(train_data)):\n",
        "    app_id = train_data[\"app_id\"][i]\n",
        "    idx_app = train_app[train_app[\"app_id\"] == app_id ].index.values[0]\n",
        "\n",
        "    parsed = train_data[\"parsed\"][i]\n",
        "    idx_grant = grants[grants[\"parsed\"] == parsed].index.values[0]\n",
        "\n",
        "    f = np.concatenate([train_app_f[idx_app], grant_f[idx_grant]])\n",
        "    train_feature[i] = f\n",
        "\n",
        "  for i in range(len(dev_data)):\n",
        "    app_id = dev_data[\"app_id\"][i]\n",
        "    idx_app = test_app[test_app[\"app_id\"] == app_id ].index.values[0]\n",
        "\n",
        "    parsed = dev_data[\"parsed\"][i]\n",
        "    idx_grant = grants[grants[\"parsed\"] == parsed].index.values[0]\n",
        "\n",
        "    f = np.concatenate([test_app_f[idx_app], grant_f[idx_grant]])\n",
        "    test_feature[i] = f\n",
        "\n",
        "  train_label = np.array(train_data[\"label\"].values.tolist())\n",
        "  test_label = np.array(dev_data[\"label\"].values.tolist())\n",
        "    \n",
        "  return train_feature, train_label, test_feature, test_label"
      ],
      "execution_count": 0,
      "outputs": []
    },
    {
      "cell_type": "markdown",
      "metadata": {
        "id": "ylaY-OFIvZPG",
        "colab_type": "text"
      },
      "source": [
        "### Classification with lightgbm"
      ]
    },
    {
      "cell_type": "code",
      "metadata": {
        "id": "2ntA2UCMvPYX",
        "colab_type": "code",
        "colab": {}
      },
      "source": [
        "import lightgbm as lgb\n",
        "\n",
        "params = {\n",
        "    'boosting_type': 'gbdt',\n",
        "    'objective': 'binary',\n",
        "    'metric': 'binary_logloss',\n",
        "    'num_leaves': 250,\n",
        "    'learning_rate': 0.05,\n",
        "    'feature_fraction': 0.8,\n",
        "    'bagging_fraction': 0.8,\n",
        "    'bagging_freq': 5,\n",
        "    'min_child_weight': 2,\n",
        "    'gamma': 0.2,\n",
        "    'verbose': -1,\n",
        "    'verbose_eval' : -1\n",
        "}"
      ],
      "execution_count": 0,
      "outputs": []
    },
    {
      "cell_type": "code",
      "metadata": {
        "id": "OO81toWRvveu",
        "colab_type": "code",
        "colab": {}
      },
      "source": [
        "def exp(target_dict, model):\n",
        "  train_x, train_y, test_x, test_y = _prepare_feature_for_labeled_data(target_dict, model)\n",
        "  lgb_train = lgb.Dataset(train_x[:2500], train_y[:2500])\n",
        "  lgb_valid = lgb.Dataset(train_x[2500:], train_y[2500:])\n",
        "\n",
        "  # Train a model.\n",
        "  gbm = lgb.train(params,\n",
        "                lgb_train,\n",
        "                num_boost_round=200,\n",
        "                early_stopping_rounds=10,\n",
        "                valid_sets=lgb_valid)\n",
        "  \n",
        "  def _compute_acc(x, y):\n",
        "    predict_prob = gbm.predict(x)\n",
        "    predict_label = [ 1 if elem >= 0.5 else 0 for elem in predict_prob]\n",
        "    acc = sum( np.array(predict_label) == np.array(y) ) / len(predict_label)\n",
        "    return acc\n",
        "  \n",
        "  return _compute_acc(train_x, train_y), _compute_acc(test_x, test_y)"
      ],
      "execution_count": 0,
      "outputs": []
    },
    {
      "cell_type": "code",
      "metadata": {
        "id": "KaSkiXnvvPh6",
        "colab_type": "code",
        "outputId": "aa9c5987-4c59-446a-e167-87c1f8b0f0ad",
        "colab": {
          "base_uri": "https://localhost:8080/",
          "height": 1000
        }
      },
      "source": [
        "%%time\n",
        "\n",
        "result = []\n",
        "\n",
        "for model in target_features_dict.keys():\n",
        "  print(f\"Training a model using {model} features...\")\n",
        "  result.append([model, exp(target_features_dict, model)])"
      ],
      "execution_count": 20,
      "outputs": [
        {
          "output_type": "stream",
          "text": [
            "Training a model using BERT-pretrained-2ndlastmean features...\n",
            "[1]\tvalid_0's binary_logloss: 0.689976\n",
            "Training until validation scores don't improve for 10 rounds.\n",
            "[2]\tvalid_0's binary_logloss: 0.686439\n",
            "[3]\tvalid_0's binary_logloss: 0.683576\n",
            "[4]\tvalid_0's binary_logloss: 0.680605\n",
            "[5]\tvalid_0's binary_logloss: 0.677567\n",
            "[6]\tvalid_0's binary_logloss: 0.674964\n",
            "[7]\tvalid_0's binary_logloss: 0.673247\n",
            "[8]\tvalid_0's binary_logloss: 0.670955\n",
            "[9]\tvalid_0's binary_logloss: 0.667129\n",
            "[10]\tvalid_0's binary_logloss: 0.664324\n",
            "[11]\tvalid_0's binary_logloss: 0.660497\n",
            "[12]\tvalid_0's binary_logloss: 0.657941\n",
            "[13]\tvalid_0's binary_logloss: 0.656539\n",
            "[14]\tvalid_0's binary_logloss: 0.655328\n",
            "[15]\tvalid_0's binary_logloss: 0.65323\n",
            "[16]\tvalid_0's binary_logloss: 0.649475\n",
            "[17]\tvalid_0's binary_logloss: 0.64804\n",
            "[18]\tvalid_0's binary_logloss: 0.645712\n",
            "[19]\tvalid_0's binary_logloss: 0.644261\n",
            "[20]\tvalid_0's binary_logloss: 0.642619\n",
            "[21]\tvalid_0's binary_logloss: 0.639752\n",
            "[22]\tvalid_0's binary_logloss: 0.636791\n",
            "[23]\tvalid_0's binary_logloss: 0.634454\n",
            "[24]\tvalid_0's binary_logloss: 0.634282\n",
            "[25]\tvalid_0's binary_logloss: 0.632307\n",
            "[26]\tvalid_0's binary_logloss: 0.630301\n",
            "[27]\tvalid_0's binary_logloss: 0.628714\n",
            "[28]\tvalid_0's binary_logloss: 0.626694\n",
            "[29]\tvalid_0's binary_logloss: 0.625822\n",
            "[30]\tvalid_0's binary_logloss: 0.624303\n",
            "[31]\tvalid_0's binary_logloss: 0.622554\n",
            "[32]\tvalid_0's binary_logloss: 0.620546\n",
            "[33]\tvalid_0's binary_logloss: 0.619411\n",
            "[34]\tvalid_0's binary_logloss: 0.618649\n",
            "[35]\tvalid_0's binary_logloss: 0.618073\n",
            "[36]\tvalid_0's binary_logloss: 0.616011\n",
            "[37]\tvalid_0's binary_logloss: 0.613069\n",
            "[38]\tvalid_0's binary_logloss: 0.611127\n",
            "[39]\tvalid_0's binary_logloss: 0.609462\n",
            "[40]\tvalid_0's binary_logloss: 0.607578\n",
            "[41]\tvalid_0's binary_logloss: 0.607008\n",
            "[42]\tvalid_0's binary_logloss: 0.606696\n",
            "[43]\tvalid_0's binary_logloss: 0.60634\n",
            "[44]\tvalid_0's binary_logloss: 0.605289\n",
            "[45]\tvalid_0's binary_logloss: 0.604586\n",
            "[46]\tvalid_0's binary_logloss: 0.60461\n",
            "[47]\tvalid_0's binary_logloss: 0.603397\n",
            "[48]\tvalid_0's binary_logloss: 0.601736\n",
            "[49]\tvalid_0's binary_logloss: 0.600955\n",
            "[50]\tvalid_0's binary_logloss: 0.599606\n",
            "[51]\tvalid_0's binary_logloss: 0.597734\n",
            "[52]\tvalid_0's binary_logloss: 0.595837\n",
            "[53]\tvalid_0's binary_logloss: 0.593805\n",
            "[54]\tvalid_0's binary_logloss: 0.592819\n",
            "[55]\tvalid_0's binary_logloss: 0.591211\n",
            "[56]\tvalid_0's binary_logloss: 0.590108\n",
            "[57]\tvalid_0's binary_logloss: 0.589583\n",
            "[58]\tvalid_0's binary_logloss: 0.588499\n",
            "[59]\tvalid_0's binary_logloss: 0.587528\n",
            "[60]\tvalid_0's binary_logloss: 0.586011\n",
            "[61]\tvalid_0's binary_logloss: 0.584878\n",
            "[62]\tvalid_0's binary_logloss: 0.583765\n",
            "[63]\tvalid_0's binary_logloss: 0.582421\n",
            "[64]\tvalid_0's binary_logloss: 0.581903\n",
            "[65]\tvalid_0's binary_logloss: 0.580595\n",
            "[66]\tvalid_0's binary_logloss: 0.579772\n",
            "[67]\tvalid_0's binary_logloss: 0.579766\n",
            "[68]\tvalid_0's binary_logloss: 0.579281\n",
            "[69]\tvalid_0's binary_logloss: 0.578699\n",
            "[70]\tvalid_0's binary_logloss: 0.578337\n",
            "[71]\tvalid_0's binary_logloss: 0.578089\n",
            "[72]\tvalid_0's binary_logloss: 0.577833\n",
            "[73]\tvalid_0's binary_logloss: 0.576622\n",
            "[74]\tvalid_0's binary_logloss: 0.575722\n",
            "[75]\tvalid_0's binary_logloss: 0.575238\n",
            "[76]\tvalid_0's binary_logloss: 0.574252\n",
            "[77]\tvalid_0's binary_logloss: 0.573492\n",
            "[78]\tvalid_0's binary_logloss: 0.572603\n",
            "[79]\tvalid_0's binary_logloss: 0.571889\n",
            "[80]\tvalid_0's binary_logloss: 0.571756\n",
            "[81]\tvalid_0's binary_logloss: 0.570968\n",
            "[82]\tvalid_0's binary_logloss: 0.570517\n",
            "[83]\tvalid_0's binary_logloss: 0.57015\n",
            "[84]\tvalid_0's binary_logloss: 0.569104\n",
            "[85]\tvalid_0's binary_logloss: 0.568767\n",
            "[86]\tvalid_0's binary_logloss: 0.568409\n",
            "[87]\tvalid_0's binary_logloss: 0.567547\n",
            "[88]\tvalid_0's binary_logloss: 0.56559\n",
            "[89]\tvalid_0's binary_logloss: 0.565517\n",
            "[90]\tvalid_0's binary_logloss: 0.564671\n",
            "[91]\tvalid_0's binary_logloss: 0.563741\n",
            "[92]\tvalid_0's binary_logloss: 0.56342\n",
            "[93]\tvalid_0's binary_logloss: 0.563417\n",
            "[94]\tvalid_0's binary_logloss: 0.563059\n",
            "[95]\tvalid_0's binary_logloss: 0.562235\n",
            "[96]\tvalid_0's binary_logloss: 0.562078\n",
            "[97]\tvalid_0's binary_logloss: 0.561954\n",
            "[98]\tvalid_0's binary_logloss: 0.561693\n",
            "[99]\tvalid_0's binary_logloss: 0.561201\n",
            "[100]\tvalid_0's binary_logloss: 0.560758\n",
            "[101]\tvalid_0's binary_logloss: 0.560473\n",
            "[102]\tvalid_0's binary_logloss: 0.560047\n",
            "[103]\tvalid_0's binary_logloss: 0.559515\n",
            "[104]\tvalid_0's binary_logloss: 0.559309\n",
            "[105]\tvalid_0's binary_logloss: 0.558503\n",
            "[106]\tvalid_0's binary_logloss: 0.55824\n",
            "[107]\tvalid_0's binary_logloss: 0.557269\n",
            "[108]\tvalid_0's binary_logloss: 0.557425\n",
            "[109]\tvalid_0's binary_logloss: 0.556945\n",
            "[110]\tvalid_0's binary_logloss: 0.555889\n",
            "[111]\tvalid_0's binary_logloss: 0.55591\n",
            "[112]\tvalid_0's binary_logloss: 0.556082\n",
            "[113]\tvalid_0's binary_logloss: 0.555761\n",
            "[114]\tvalid_0's binary_logloss: 0.555093\n",
            "[115]\tvalid_0's binary_logloss: 0.554366\n",
            "[116]\tvalid_0's binary_logloss: 0.554013\n",
            "[117]\tvalid_0's binary_logloss: 0.553821\n",
            "[118]\tvalid_0's binary_logloss: 0.553376\n",
            "[119]\tvalid_0's binary_logloss: 0.552947\n",
            "[120]\tvalid_0's binary_logloss: 0.552554\n",
            "[121]\tvalid_0's binary_logloss: 0.552311\n",
            "[122]\tvalid_0's binary_logloss: 0.552286\n",
            "[123]\tvalid_0's binary_logloss: 0.551038\n",
            "[124]\tvalid_0's binary_logloss: 0.550846\n",
            "[125]\tvalid_0's binary_logloss: 0.550408\n",
            "[126]\tvalid_0's binary_logloss: 0.549525\n",
            "[127]\tvalid_0's binary_logloss: 0.549321\n",
            "[128]\tvalid_0's binary_logloss: 0.548908\n",
            "[129]\tvalid_0's binary_logloss: 0.548785\n",
            "[130]\tvalid_0's binary_logloss: 0.547863\n",
            "[131]\tvalid_0's binary_logloss: 0.547723\n",
            "[132]\tvalid_0's binary_logloss: 0.547742\n",
            "[133]\tvalid_0's binary_logloss: 0.547151\n",
            "[134]\tvalid_0's binary_logloss: 0.546801\n",
            "[135]\tvalid_0's binary_logloss: 0.546559\n",
            "[136]\tvalid_0's binary_logloss: 0.54627\n",
            "[137]\tvalid_0's binary_logloss: 0.54572\n",
            "[138]\tvalid_0's binary_logloss: 0.54535\n",
            "[139]\tvalid_0's binary_logloss: 0.544781\n",
            "[140]\tvalid_0's binary_logloss: 0.544692\n",
            "[141]\tvalid_0's binary_logloss: 0.544626\n",
            "[142]\tvalid_0's binary_logloss: 0.544437\n",
            "[143]\tvalid_0's binary_logloss: 0.544125\n",
            "[144]\tvalid_0's binary_logloss: 0.543835\n",
            "[145]\tvalid_0's binary_logloss: 0.543774\n",
            "[146]\tvalid_0's binary_logloss: 0.543606\n",
            "[147]\tvalid_0's binary_logloss: 0.542984\n",
            "[148]\tvalid_0's binary_logloss: 0.543103\n",
            "[149]\tvalid_0's binary_logloss: 0.542994\n",
            "[150]\tvalid_0's binary_logloss: 0.542495\n",
            "[151]\tvalid_0's binary_logloss: 0.542287\n",
            "[152]\tvalid_0's binary_logloss: 0.542098\n",
            "[153]\tvalid_0's binary_logloss: 0.541859\n",
            "[154]\tvalid_0's binary_logloss: 0.541291\n",
            "[155]\tvalid_0's binary_logloss: 0.541089\n",
            "[156]\tvalid_0's binary_logloss: 0.541195\n",
            "[157]\tvalid_0's binary_logloss: 0.54126\n",
            "[158]\tvalid_0's binary_logloss: 0.540585\n",
            "[159]\tvalid_0's binary_logloss: 0.540056\n",
            "[160]\tvalid_0's binary_logloss: 0.539528\n",
            "[161]\tvalid_0's binary_logloss: 0.539539\n",
            "[162]\tvalid_0's binary_logloss: 0.539028\n",
            "[163]\tvalid_0's binary_logloss: 0.538898\n",
            "[164]\tvalid_0's binary_logloss: 0.538965\n",
            "[165]\tvalid_0's binary_logloss: 0.539172\n",
            "[166]\tvalid_0's binary_logloss: 0.539074\n",
            "[167]\tvalid_0's binary_logloss: 0.538951\n",
            "[168]\tvalid_0's binary_logloss: 0.538413\n",
            "[169]\tvalid_0's binary_logloss: 0.538141\n",
            "[170]\tvalid_0's binary_logloss: 0.53793\n",
            "[171]\tvalid_0's binary_logloss: 0.537897\n",
            "[172]\tvalid_0's binary_logloss: 0.537599\n",
            "[173]\tvalid_0's binary_logloss: 0.53726\n",
            "[174]\tvalid_0's binary_logloss: 0.537274\n",
            "[175]\tvalid_0's binary_logloss: 0.537194\n",
            "[176]\tvalid_0's binary_logloss: 0.536984\n",
            "[177]\tvalid_0's binary_logloss: 0.536818\n",
            "[178]\tvalid_0's binary_logloss: 0.536691\n",
            "[179]\tvalid_0's binary_logloss: 0.53669\n",
            "[180]\tvalid_0's binary_logloss: 0.536996\n",
            "[181]\tvalid_0's binary_logloss: 0.536815\n",
            "[182]\tvalid_0's binary_logloss: 0.537084\n",
            "[183]\tvalid_0's binary_logloss: 0.53709\n",
            "[184]\tvalid_0's binary_logloss: 0.537068\n",
            "[185]\tvalid_0's binary_logloss: 0.537168\n",
            "[186]\tvalid_0's binary_logloss: 0.537251\n",
            "[187]\tvalid_0's binary_logloss: 0.537038\n",
            "[188]\tvalid_0's binary_logloss: 0.536591\n",
            "[189]\tvalid_0's binary_logloss: 0.536191\n",
            "[190]\tvalid_0's binary_logloss: 0.53576\n",
            "[191]\tvalid_0's binary_logloss: 0.535554\n",
            "[192]\tvalid_0's binary_logloss: 0.535139\n",
            "[193]\tvalid_0's binary_logloss: 0.534837\n",
            "[194]\tvalid_0's binary_logloss: 0.5351\n",
            "[195]\tvalid_0's binary_logloss: 0.534933\n",
            "[196]\tvalid_0's binary_logloss: 0.535099\n",
            "[197]\tvalid_0's binary_logloss: 0.535193\n",
            "[198]\tvalid_0's binary_logloss: 0.535244\n",
            "[199]\tvalid_0's binary_logloss: 0.535135\n",
            "[200]\tvalid_0's binary_logloss: 0.534881\n",
            "Did not meet early stopping. Best iteration is:\n",
            "[193]\tvalid_0's binary_logloss: 0.534837\n",
            "CPU times: user 2min 32s, sys: 4.74 s, total: 2min 37s\n",
            "Wall time: 1min 33s\n"
          ],
          "name": "stdout"
        }
      ]
    },
    {
      "cell_type": "code",
      "metadata": {
        "id": "O-faZHoJmyEm",
        "colab_type": "code",
        "colab": {
          "base_uri": "https://localhost:8080/",
          "height": 82
        },
        "outputId": "0bf7e075-b388-4661-83fc-cb9913876db6"
      },
      "source": [
        "for model, (train_acc, test_acc) in result:\n",
        "  print(\"-\" * 20)\n",
        "  print(f\"{model} result:\")\n",
        "  print(f\"  Train ACC: {train_acc:.4f}\")\n",
        "  print(f\"  Test ACC: {test_acc:.4f}\")"
      ],
      "execution_count": 21,
      "outputs": [
        {
          "output_type": "stream",
          "text": [
            "--------------------\n",
            "BERT-pretrained-2ndlastmean result:\n",
            "  Train ACC: 0.8103\n",
            "  Test ACC: 0.7929\n"
          ],
          "name": "stdout"
        }
      ]
    },
    {
      "cell_type": "markdown",
      "metadata": {
        "id": "uxgBRYl0_V4I",
        "colab_type": "text"
      },
      "source": [
        "RECORD:\n",
        "\n",
        "```\n",
        "--------------------\n",
        "TransformerXL result:\n",
        "  Train ACC: 0.8219\n",
        "  Test ACC: 0.7825\n",
        "--------------------\n",
        "BERT-2ndlastmean result:\n",
        "  Train ACC: 0.8234\n",
        "  Test ACC: 0.8019\n",
        "--------------------\n",
        "BERT-pretrained-2ndlastmean result:\n",
        "  Train ACC: 0.8103\n",
        "  Test ACC: 0.7929\n",
        "--------------------\n",
        "ELMO-512tokenmean result:\n",
        "  Train ACC: 0.8532\n",
        "  Test ACC: 0.8255\n",
        "--------------------\n",
        "ELMO-4096tokenmean result:\n",
        "  Train ACC: 0.8575\n",
        "  Test ACC: 0.8322\n",
        "--------------------\n",
        "USE result:\n",
        "  Train ACC: 0.8637\n",
        "  Test ACC: 0.8484\n",
        "--------------------\n",
        "W2V result:\n",
        "  Train ACC: 0.8943\n",
        "  Test ACC: 0.8632\n",
        "--------------------\n",
        "W2V-patent-2017 512 tokens result:\n",
        "  Train ACC: 0.8855\n",
        "  Test ACC: 0.8596\n",
        "--------------------\n",
        "fastText result:\n",
        "  Train ACC: 0.8404\n",
        "  Test ACC: 0.8245\n",
        "```"
      ]
    },
    {
      "cell_type": "markdown",
      "metadata": {
        "id": "yPgP_UZiUQ3S",
        "colab_type": "text"
      },
      "source": [
        "## Ranking problem using the extracted features\n",
        "\n",
        "Similarities will be computed by simple cosine similarity of the extracted features.  \n",
        "The extracted features are constructed from only claim texts."
      ]
    },
    {
      "cell_type": "code",
      "metadata": {
        "id": "RQnajL9--UmA",
        "colab_type": "code",
        "colab": {}
      },
      "source": [
        "def _test_label(app_id, grant, cite_relation):\n",
        "  cited_parsed = cite_relation[cite_relation[\"app_id\"] == app_id][\"parsed\"]\n",
        "  return [1 if parsed == cited_parsed.values[0] else 0 for parsed in grant[\"parsed\"]]"
      ],
      "execution_count": 0,
      "outputs": []
    },
    {
      "cell_type": "code",
      "metadata": {
        "id": "Ve1zOgv5w-GJ",
        "colab_type": "code",
        "colab": {}
      },
      "source": [
        "def _compute_similarities(target_dict, model):\n",
        "  similarities = []\n",
        "  train_app_f, test_app_f, grant_f = _read_feature(target_dict, model)\n",
        "  \n",
        "  for t_feature in test_app_f:\n",
        "    similarities.append(np.array(list(\n",
        "        map(lambda g_feature: np.dot(t_feature, g_feature) / (np.linalg.norm(t_feature * np.linalg.norm(g_feature))), grant_f)\n",
        "    )))\n",
        "   \n",
        "  return similarities"
      ],
      "execution_count": 0,
      "outputs": []
    },
    {
      "cell_type": "code",
      "metadata": {
        "id": "793enQH89cTS",
        "colab_type": "code",
        "colab": {}
      },
      "source": [
        "def compute_ranking(target_dict, model):\n",
        "  similarities = _compute_similarities(target_dict, model)\n",
        "  rankings = []\n",
        "  \n",
        "  for idx in range(len(similarities)):\n",
        "    app_id = test_app[\"app_id\"][idx]\n",
        "    label = pd.Series(_test_label(app_id, grants, citations_info_target))\n",
        "\n",
        "    i, = np.where(label == 1)\n",
        "    cited_index = i[0]\n",
        "\n",
        "    rank = sorted(similarities[idx], reverse=True).index(similarities[idx][cited_index])\n",
        "    rankings.append(rank)\n",
        "  \n",
        "  return rankings"
      ],
      "execution_count": 0,
      "outputs": []
    },
    {
      "cell_type": "code",
      "metadata": {
        "id": "aNrjWJ9kHoOR",
        "colab_type": "code",
        "colab": {}
      },
      "source": [
        "def compute_positive_count(rankings):\n",
        "  return [sum(np.array(rankings) <= thrd) for thrd in range(len(grants))]"
      ],
      "execution_count": 0,
      "outputs": []
    },
    {
      "cell_type": "code",
      "metadata": {
        "id": "nENTQ0No9xH6",
        "colab_type": "code",
        "outputId": "426d790f-73f3-48d3-97e0-3b64bda5b37f",
        "colab": {
          "base_uri": "https://localhost:8080/",
          "height": 66
        }
      },
      "source": [
        "%%time\n",
        "\n",
        "ranking_result = []\n",
        "\n",
        "for model in target_features_dict.keys():\n",
        "  print(f\"Computing rankings using {model} features...\")\n",
        "  rankings = compute_ranking(target_features_dict, model)\n",
        "  positive_counts = compute_positive_count(rankings)\n",
        "  ranking_result.append([model, rankings, positive_counts])"
      ],
      "execution_count": 26,
      "outputs": [
        {
          "output_type": "stream",
          "text": [
            "Computing rankings using BERT-pretrained-2ndlastmean features...\n",
            "CPU times: user 6min 4s, sys: 726 ms, total: 6min 5s\n",
            "Wall time: 6min 5s\n"
          ],
          "name": "stdout"
        }
      ]
    },
    {
      "cell_type": "code",
      "metadata": {
        "id": "95cKos_PApXP",
        "colab_type": "code",
        "colab": {}
      },
      "source": [
        "import matplotlib.pyplot as plt\n",
        "from pylab import rcParams\n",
        "\n",
        "rcParams['figure.figsize'] = 8,8"
      ],
      "execution_count": 0,
      "outputs": []
    },
    {
      "cell_type": "code",
      "metadata": {
        "id": "01PJjqBYApdh",
        "colab_type": "code",
        "outputId": "da45d2de-4b3a-4f31-a376-0954c781b593",
        "colab": {
          "base_uri": "https://localhost:8080/",
          "height": 500
        }
      },
      "source": [
        "for model, ranking, _ in ranking_result:\n",
        "  plt.hist(ranking, alpha=0.5, bins=100, label=f\"{model} cosine similarity\")\n",
        "\n",
        "plt.title(\"Cited grants rank\")\n",
        "plt.legend()\n",
        "plt.show()"
      ],
      "execution_count": 28,
      "outputs": [
        {
          "output_type": "display_data",
          "data": {
            "image/png": "[encoded data removed]",
            "text/plain": [
              "<Figure size 576x576 with 1 Axes>"
            ]
          },
          "metadata": {
            "tags": []
          }
        }
      ]
    },
    {
      "cell_type": "code",
      "metadata": {
        "id": "Mw22KVr_A1Ey",
        "colab_type": "code",
        "outputId": "5519b1b2-0221-4b8b-bb77-54d8518b075f",
        "colab": {
          "base_uri": "https://localhost:8080/",
          "height": 500
        }
      },
      "source": [
        "for model, ranking, _ in ranking_result:\n",
        "  plt.hist(ranking, alpha=0.5, bins=100, label=f\"{model} cosine similarity\")\n",
        "\n",
        "plt.yscale('log')\n",
        "plt.title(\"Cited grants rank in log scale\")\n",
        "plt.legend()\n",
        "plt.show()"
      ],
      "execution_count": 29,
      "outputs": [
        {
          "output_type": "display_data",
          "data": {
            "image/png": "[encoded data removed]",
            "text/plain": [
              "<Figure size 576x576 with 1 Axes>"
            ]
          },
          "metadata": {
            "tags": []
          }
        }
      ]
    },
    {
      "cell_type": "code",
      "metadata": {
        "id": "jDuT2revGInj",
        "colab_type": "code",
        "outputId": "f68f518d-c2af-4e8b-9ac0-6ee9f96f4348",
        "colab": {
          "base_uri": "https://localhost:8080/",
          "height": 500
        }
      },
      "source": [
        "for model, _, positive_count in ranking_result:\n",
        "  plt.plot(range(len(grants)), positive_count, label=f\"{model} cosine similarity\")\n",
        "\n",
        "plt.title(\"rank vs covered num\")\n",
        "plt.legend()\n",
        "plt.show()"
      ],
      "execution_count": 30,
      "outputs": [
        {
          "output_type": "display_data",
          "data": {
            "image/png": "[encoded data removed]",
            "text/plain": [
              "<Figure size 576x576 with 1 Axes>"
            ]
          },
          "metadata": {
            "tags": []
          }
        }
      ]
    },
    {
      "cell_type": "code",
      "metadata": {
        "id": "c2d9xCxLGIrG",
        "colab_type": "code",
        "outputId": "180ce9e5-14b9-417c-eaca-24e3a1a414d4",
        "colab": {
          "base_uri": "https://localhost:8080/",
          "height": 500
        }
      },
      "source": [
        "for model, _, positive_count in ranking_result:\n",
        "  plt.plot(range(1000), positive_count[:1000], label=f\"{model} cosine similarity\")\n",
        "\n",
        "plt.title(\"rank vs covered num\")\n",
        "plt.legend()\n",
        "plt.show()"
      ],
      "execution_count": 31,
      "outputs": [
        {
          "output_type": "display_data",
          "data": {
            "image/png": "[encoded data removed]",
            "text/plain": [
              "<Figure size 576x576 with 1 Axes>"
            ]
          },
          "metadata": {
            "tags": []
          }
        }
      ]
    },
    {
      "cell_type": "code",
      "metadata": {
        "id": "b5pzODxkA1lp",
        "colab_type": "code",
        "outputId": "b273f3a7-3d29-4d18-c4a5-c9590cbe29fd",
        "colab": {
          "base_uri": "https://localhost:8080/",
          "height": 500
        }
      },
      "source": [
        "for model, ranking, positive_count in ranking_result:\n",
        "  plt.plot(range(200), (np.array(positive_count)/len(ranking))[0:200], label=f\"{model} cosine similarity\")\n",
        "\n",
        "plt.title(\"rank vs covered rate, till 200\")\n",
        "plt.legend()\n",
        "plt.show()"
      ],
      "execution_count": 32,
      "outputs": [
        {
          "output_type": "display_data",
          "data": {
            "image/png": "[encoded data removed]",
            "text/plain": [
              "<Figure size 576x576 with 1 Axes>"
            ]
          },
          "metadata": {
            "tags": []
          }
        }
      ]
    },
    {
      "cell_type": "code",
      "metadata": {
        "id": "DTBDCHVfm3DY",
        "colab_type": "code",
        "colab": {
          "base_uri": "https://localhost:8080/",
          "height": 82
        },
        "outputId": "07362831-3df5-40cd-97c3-dfa144f19b49"
      },
      "source": [
        "for model, ranking, positive_count in ranking_result:\n",
        "  print(\"-\" * 20)\n",
        "  print(f\"{model} top 10: {(np.array(positive_count)/len(ranking))[10]:.4f}\")\n",
        "  print(f\"{model} top 100: {(np.array(positive_count)/len(ranking))[100]:.4f}\")\n",
        "  print(f\"{model} top 200: {(np.array(positive_count)/len(ranking))[200]:.4f}\")"
      ],
      "execution_count": 33,
      "outputs": [
        {
          "output_type": "stream",
          "text": [
            "--------------------\n",
            "BERT-pretrained-2ndlastmean top 10: 0.2960\n",
            "BERT-pretrained-2ndlastmean top 100: 0.5747\n",
            "BERT-pretrained-2ndlastmean top 200: 0.6717\n"
          ],
          "name": "stdout"
        }
      ]
    },
    {
      "cell_type": "markdown",
      "metadata": {
        "id": "g3p4QLa25FbR",
        "colab_type": "text"
      },
      "source": [
        "RECORD:\n",
        "\n",
        "```\n",
        "--------------------\n",
        "TransformerXL top 10: 0.2600\n",
        "TransformerXL top 100: 0.5377\n",
        "TransformerXL top 200: 0.6273\n",
        "--------------------\n",
        "BERT-2ndlastmean top 10: 0.2527\n",
        "BERT-2ndlastmean top 100: 0.5050\n",
        "BERT-2ndlastmean top 200: 0.5923\n",
        "--------------------\n",
        "BERT-pretrained-2ndlastmean top 10: 0.2960\n",
        "BERT-pretrained-2ndlastmean top 100: 0.5747\n",
        "BERT-pretrained-2ndlastmean top 200: 0.6717\n",
        "--------------------\n",
        "ELMO-512tokenmean top 10: 0.2367\n",
        "ELMO-512tokenmean top 100: 0.5280\n",
        "ELMO-512tokenmean top 200: 0.6260\n",
        "--------------------\n",
        "ELMO-4096tokenmean top 10: 0.2620\n",
        "ELMO-4096tokenmean top 100: 0.5357\n",
        "ELMO-4096tokenmean top 200: 0.6407\n",
        "--------------------\n",
        "USE top 10: 0.3400\n",
        "USE top 100: 0.6467\n",
        "USE top 200: 0.7480\n",
        "--------------------\n",
        "W2V top 10: 0.3057\n",
        "W2V top 100: 0.5990\n",
        "W2V top 200: 0.7037\n",
        "--------------------\n",
        "W2V-patent-2017 top 10: 0.3573\n",
        "W2V-patent-2017 top 100: 0.6593\n",
        "W2V-patent-2017 top 200: 0.7613\n",
        "--------------------\n",
        "W2V-patent-2017 512 tokens top 10: 0.3313\n",
        "W2V-patent-2017 512 tokens top 100: 0.6340\n",
        "W2V-patent-2017 512 tokens top 200: 0.7450\n",
        "--------------------\n",
        "fastText top 10: 0.1767\n",
        "fastText top 100: 0.3690\n",
        "fastText top 200: 0.4473\n",
        "```"
      ]
    },
    {
      "cell_type": "code",
      "metadata": {
        "id": "RqWHgEXlHdMS",
        "colab_type": "code",
        "colab": {}
      },
      "source": [
        ""
      ],
      "execution_count": 0,
      "outputs": []
    },
    {
      "cell_type": "code",
      "metadata": {
        "id": "XSNNlsGv3EKS",
        "colab_type": "code",
        "colab": {}
      },
      "source": [
        ""
      ],
      "execution_count": 0,
      "outputs": []
    },
    {
      "cell_type": "code",
      "metadata": {
        "id": "YUwwipgX3EVr",
        "colab_type": "code",
        "colab": {}
      },
      "source": [
        ""
      ],
      "execution_count": 0,
      "outputs": []
    },
    {
      "cell_type": "code",
      "metadata": {
        "id": "X8QYQsJ7icgz",
        "colab_type": "code",
        "colab": {}
      },
      "source": [
        ""
      ],
      "execution_count": 0,
      "outputs": []
    },
    {
      "cell_type": "code",
      "metadata": {
        "id": "_78791H1icc4",
        "colab_type": "code",
        "colab": {}
      },
      "source": [
        ""
      ],
      "execution_count": 0,
      "outputs": []
    },
    {
      "cell_type": "markdown",
      "metadata": {
        "id": "ziHLhHaOk5-i",
        "colab_type": "text"
      },
      "source": [
        "# Triplet Loss model\n",
        "\n",
        "Train triplet loss models for each extracted feature.  \n",
        "The models have the same output dimension that are used to compute similarities."
      ]
    },
    {
      "cell_type": "markdown",
      "metadata": {
        "id": "RiBZUWQvs2ZQ",
        "colab_type": "text"
      },
      "source": [
        "## Data handling"
      ]
    },
    {
      "cell_type": "code",
      "metadata": {
        "id": "rMDTSr93s-eX",
        "colab_type": "code",
        "colab": {}
      },
      "source": [
        "import os\n",
        "import datetime\n",
        "import pickle\n",
        "import gzip\n",
        "import math\n",
        "import pandas as pd\n",
        "import numpy as np\n",
        "\n",
        "import tensorflow as tf\n",
        "\n",
        "tf.enable_eager_execution()"
      ],
      "execution_count": 0,
      "outputs": []
    },
    {
      "cell_type": "code",
      "metadata": {
        "id": "RwRaM7jxtEDt",
        "colab_type": "code",
        "outputId": "75901797-8863-4227-bc79-2f53e07a943d",
        "colab": {
          "base_uri": "https://localhost:8080/",
          "height": 33
        }
      },
      "source": [
        "tf.__version__"
      ],
      "execution_count": 35,
      "outputs": [
        {
          "output_type": "execute_result",
          "data": {
            "text/plain": [
              "'1.14.0'"
            ]
          },
          "metadata": {
            "tags": []
          },
          "execution_count": 35
        }
      ]
    },
    {
      "cell_type": "code",
      "metadata": {
        "id": "IO2yNWE1x3HH",
        "colab_type": "code",
        "colab": {}
      },
      "source": [
        "citations_info_target = pd.read_pickle(\"./citations_info_3000+3000.df.gz\")\n",
        "test_app = pd.read_pickle(\"./testset_app_3000.df.gz\")\n",
        "grants = pd.read_pickle(\"./grants_for_3000+3000.df.gz\")\n",
        "train_app = pd.read_pickle(\"./training_app_3000.df.gz\")"
      ],
      "execution_count": 0,
      "outputs": []
    },
    {
      "cell_type": "code",
      "metadata": {
        "id": "qROgkPUOmug_",
        "colab_type": "code",
        "colab": {}
      },
      "source": [
        "def read_feature(target_dict, model: str):\n",
        "  train_fpath, test_fpath, grant_fpath = target_dict[model]\n",
        "  train_app_f = pd.read_pickle(f\"./{train_fpath}.pkl.gz\")\n",
        "  test_app_f = pd.read_pickle(f\"./{test_fpath}.pkl.gz\")\n",
        "  grant_f = pd.read_pickle(f\"./{grant_fpath}.pkl.gz\")\n",
        "  \n",
        "  assert 3000 == train_app_f.shape[0]\n",
        "  assert 3000 == test_app_f.shape[0]\n",
        "  assert 6440 == grant_f.shape[0]\n",
        "  \n",
        "  return train_app_f, test_app_f, grant_f"
      ],
      "execution_count": 0,
      "outputs": []
    },
    {
      "cell_type": "code",
      "metadata": {
        "id": "bVUNf7JtMCOZ",
        "colab_type": "code",
        "colab": {}
      },
      "source": [
        "tr, te, gr = read_feature(target_features_dict, \"BERT-pretrained-2ndlastmean\")\n",
        "# tr, te, gr = read_feature(target_features_dict, \"W2V-patent-2017\")"
      ],
      "execution_count": 0,
      "outputs": []
    },
    {
      "cell_type": "code",
      "metadata": {
        "id": "PGFWGfUEyCd3",
        "colab_type": "code",
        "outputId": "7b70ba5c-8c9e-4f62-b31d-74f472461f6c",
        "colab": {
          "base_uri": "https://localhost:8080/",
          "height": 33
        }
      },
      "source": [
        "tr.shape"
      ],
      "execution_count": 39,
      "outputs": [
        {
          "output_type": "execute_result",
          "data": {
            "text/plain": [
              "(3000, 768)"
            ]
          },
          "metadata": {
            "tags": []
          },
          "execution_count": 39
        }
      ]
    },
    {
      "cell_type": "code",
      "metadata": {
        "id": "NFh7kl54yHoe",
        "colab_type": "code",
        "colab": {}
      },
      "source": [
        "def normalize_feature(train_app_f, test_app_f, grant_f):\n",
        "    train_normalized_feature_dict = {\n",
        "        k:v/np.linalg.norm(v) for k,v in zip(train_app['app_id'], train_app_f[:, ])\n",
        "    }\n",
        "    test_normalized_feature_dict = { \n",
        "        k:v/np.linalg.norm(v) for k,v in zip(test_app['app_id'], test_app_f[:, ])\n",
        "    }\n",
        "    grants_normalized_feature_dict = { \n",
        "        k:v/np.linalg.norm(v) for k,v in zip(grants['parsed'], grant_f[:, ])\n",
        "    }\n",
        "    \n",
        "    return train_normalized_feature_dict, test_normalized_feature_dict, grants_normalized_feature_dict"
      ],
      "execution_count": 0,
      "outputs": []
    },
    {
      "cell_type": "code",
      "metadata": {
        "id": "R7VLpyq-Lj5C",
        "colab_type": "code",
        "colab": {}
      },
      "source": [
        "tr_dict, te_dict, gr_dict = normalize_feature(tr, te, gr)"
      ],
      "execution_count": 0,
      "outputs": []
    },
    {
      "cell_type": "code",
      "metadata": {
        "id": "e0zu7unVLq3z",
        "colab_type": "code",
        "outputId": "c8fcbca6-12c3-4972-e010-f8a56c4b0230",
        "colab": {
          "base_uri": "https://localhost:8080/",
          "height": 33
        }
      },
      "source": [
        "list(tr_dict.keys())[:5]"
      ],
      "execution_count": 42,
      "outputs": [
        {
          "output_type": "execute_result",
          "data": {
            "text/plain": [
              "[12130785, 12652424, 12214532, 14204411, 13090122]"
            ]
          },
          "metadata": {
            "tags": []
          },
          "execution_count": 42
        }
      ]
    },
    {
      "cell_type": "code",
      "metadata": {
        "id": "tSGmyEHwLa6P",
        "colab_type": "code",
        "colab": {}
      },
      "source": [
        "def to_df(train_normalized_feature_dict, test_normalized_feature_dict, grants_normalized_feature_dict):\n",
        "    train_app_df = pd.DataFrame.from_dict(train_normalized_feature_dict).T\n",
        "    test_app_df = pd.DataFrame.from_dict(test_normalized_feature_dict).T\n",
        "    grants_target_df = pd.DataFrame.from_dict(grants_normalized_feature_dict).T\n",
        "    \n",
        "    return train_app_df, test_app_df, grants_target_df"
      ],
      "execution_count": 0,
      "outputs": []
    },
    {
      "cell_type": "code",
      "metadata": {
        "id": "bjEXIEAxzAP1",
        "colab_type": "code",
        "colab": {}
      },
      "source": [
        "tr_df, te_df, gr_df = to_df(tr_dict, te_dict, gr_dict)"
      ],
      "execution_count": 0,
      "outputs": []
    },
    {
      "cell_type": "code",
      "metadata": {
        "id": "xbvXrqKtzJ9_",
        "colab_type": "code",
        "outputId": "195ec5e1-a07f-452b-fc31-23fdcc5a819e",
        "colab": {
          "base_uri": "https://localhost:8080/",
          "height": 181
        }
      },
      "source": [
        "tr_df.head(3)"
      ],
      "execution_count": 45,
      "outputs": [
        {
          "output_type": "execute_result",
          "data": {
            "text/html": [
              "<div>\n",
              "<style scoped>\n",
              "    .dataframe tbody tr th:only-of-type {\n",
              "        vertical-align: middle;\n",
              "    }\n",
              "\n",
              "    .dataframe tbody tr th {\n",
              "        vertical-align: top;\n",
              "    }\n",
              "\n",
              "    .dataframe thead th {\n",
              "        text-align: right;\n",
              "    }\n",
              "</style>\n",
              "<table border=\"1\" class=\"dataframe\">\n",
              "  <thead>\n",
              "    <tr style=\"text-align: right;\">\n",
              "      <th></th>\n",
              "      <th>0</th>\n",
              "      <th>1</th>\n",
              "      <th>2</th>\n",
              "      <th>3</th>\n",
              "      <th>4</th>\n",
              "      <th>5</th>\n",
              "      <th>6</th>\n",
              "      <th>7</th>\n",
              "      <th>8</th>\n",
              "      <th>9</th>\n",
              "      <th>10</th>\n",
              "      <th>11</th>\n",
              "      <th>12</th>\n",
              "      <th>13</th>\n",
              "      <th>14</th>\n",
              "      <th>15</th>\n",
              "      <th>16</th>\n",
              "      <th>17</th>\n",
              "      <th>18</th>\n",
              "      <th>19</th>\n",
              "      <th>20</th>\n",
              "      <th>21</th>\n",
              "      <th>22</th>\n",
              "      <th>23</th>\n",
              "      <th>24</th>\n",
              "      <th>25</th>\n",
              "      <th>26</th>\n",
              "      <th>27</th>\n",
              "      <th>28</th>\n",
              "      <th>29</th>\n",
              "      <th>30</th>\n",
              "      <th>31</th>\n",
              "      <th>32</th>\n",
              "      <th>33</th>\n",
              "      <th>34</th>\n",
              "      <th>35</th>\n",
              "      <th>36</th>\n",
              "      <th>37</th>\n",
              "      <th>38</th>\n",
              "      <th>39</th>\n",
              "      <th>...</th>\n",
              "      <th>728</th>\n",
              "      <th>729</th>\n",
              "      <th>730</th>\n",
              "      <th>731</th>\n",
              "      <th>732</th>\n",
              "      <th>733</th>\n",
              "      <th>734</th>\n",
              "      <th>735</th>\n",
              "      <th>736</th>\n",
              "      <th>737</th>\n",
              "      <th>738</th>\n",
              "      <th>739</th>\n",
              "      <th>740</th>\n",
              "      <th>741</th>\n",
              "      <th>742</th>\n",
              "      <th>743</th>\n",
              "      <th>744</th>\n",
              "      <th>745</th>\n",
              "      <th>746</th>\n",
              "      <th>747</th>\n",
              "      <th>748</th>\n",
              "      <th>749</th>\n",
              "      <th>750</th>\n",
              "      <th>751</th>\n",
              "      <th>752</th>\n",
              "      <th>753</th>\n",
              "      <th>754</th>\n",
              "      <th>755</th>\n",
              "      <th>756</th>\n",
              "      <th>757</th>\n",
              "      <th>758</th>\n",
              "      <th>759</th>\n",
              "      <th>760</th>\n",
              "      <th>761</th>\n",
              "      <th>762</th>\n",
              "      <th>763</th>\n",
              "      <th>764</th>\n",
              "      <th>765</th>\n",
              "      <th>766</th>\n",
              "      <th>767</th>\n",
              "    </tr>\n",
              "  </thead>\n",
              "  <tbody>\n",
              "    <tr>\n",
              "      <th>12130785</th>\n",
              "      <td>-0.039825</td>\n",
              "      <td>-0.019225</td>\n",
              "      <td>0.009014</td>\n",
              "      <td>-0.022407</td>\n",
              "      <td>0.025308</td>\n",
              "      <td>-0.018269</td>\n",
              "      <td>0.012271</td>\n",
              "      <td>0.043361</td>\n",
              "      <td>-0.020627</td>\n",
              "      <td>0.002467</td>\n",
              "      <td>-0.000143</td>\n",
              "      <td>-0.014057</td>\n",
              "      <td>-0.010570</td>\n",
              "      <td>0.008679</td>\n",
              "      <td>0.003958</td>\n",
              "      <td>0.040682</td>\n",
              "      <td>0.059078</td>\n",
              "      <td>-0.011347</td>\n",
              "      <td>0.003491</td>\n",
              "      <td>0.020957</td>\n",
              "      <td>0.009430</td>\n",
              "      <td>-0.033760</td>\n",
              "      <td>0.033892</td>\n",
              "      <td>0.084169</td>\n",
              "      <td>0.002039</td>\n",
              "      <td>0.024617</td>\n",
              "      <td>0.030562</td>\n",
              "      <td>-0.026108</td>\n",
              "      <td>-0.041383</td>\n",
              "      <td>0.017157</td>\n",
              "      <td>0.063020</td>\n",
              "      <td>-0.001536</td>\n",
              "      <td>-0.029236</td>\n",
              "      <td>-0.044520</td>\n",
              "      <td>0.032453</td>\n",
              "      <td>-0.000259</td>\n",
              "      <td>0.015625</td>\n",
              "      <td>-0.028624</td>\n",
              "      <td>0.003926</td>\n",
              "      <td>-0.012945</td>\n",
              "      <td>...</td>\n",
              "      <td>-0.039828</td>\n",
              "      <td>-0.049554</td>\n",
              "      <td>0.023887</td>\n",
              "      <td>-0.051346</td>\n",
              "      <td>0.002326</td>\n",
              "      <td>-0.019861</td>\n",
              "      <td>0.014532</td>\n",
              "      <td>-0.036488</td>\n",
              "      <td>-0.014767</td>\n",
              "      <td>0.038196</td>\n",
              "      <td>0.005335</td>\n",
              "      <td>0.033118</td>\n",
              "      <td>-0.019178</td>\n",
              "      <td>0.022865</td>\n",
              "      <td>0.002343</td>\n",
              "      <td>-0.032495</td>\n",
              "      <td>0.027703</td>\n",
              "      <td>0.020204</td>\n",
              "      <td>-0.011772</td>\n",
              "      <td>0.028610</td>\n",
              "      <td>-0.006523</td>\n",
              "      <td>0.045988</td>\n",
              "      <td>-0.031242</td>\n",
              "      <td>-0.028179</td>\n",
              "      <td>0.018146</td>\n",
              "      <td>0.022387</td>\n",
              "      <td>-0.009363</td>\n",
              "      <td>-0.062716</td>\n",
              "      <td>-0.001835</td>\n",
              "      <td>-0.005520</td>\n",
              "      <td>-0.053238</td>\n",
              "      <td>0.003814</td>\n",
              "      <td>0.040726</td>\n",
              "      <td>-0.040299</td>\n",
              "      <td>0.011419</td>\n",
              "      <td>-0.016481</td>\n",
              "      <td>-0.045713</td>\n",
              "      <td>-0.004981</td>\n",
              "      <td>-0.025396</td>\n",
              "      <td>0.016773</td>\n",
              "    </tr>\n",
              "    <tr>\n",
              "      <th>12652424</th>\n",
              "      <td>-0.068706</td>\n",
              "      <td>0.022790</td>\n",
              "      <td>0.008597</td>\n",
              "      <td>-0.015074</td>\n",
              "      <td>0.048113</td>\n",
              "      <td>-0.026983</td>\n",
              "      <td>-0.008152</td>\n",
              "      <td>0.031705</td>\n",
              "      <td>-0.015613</td>\n",
              "      <td>0.004117</td>\n",
              "      <td>0.025729</td>\n",
              "      <td>-0.016329</td>\n",
              "      <td>-0.034857</td>\n",
              "      <td>0.025641</td>\n",
              "      <td>-0.011626</td>\n",
              "      <td>0.040982</td>\n",
              "      <td>0.030141</td>\n",
              "      <td>0.018053</td>\n",
              "      <td>0.021321</td>\n",
              "      <td>0.003432</td>\n",
              "      <td>0.016523</td>\n",
              "      <td>-0.002416</td>\n",
              "      <td>-0.002066</td>\n",
              "      <td>0.067182</td>\n",
              "      <td>0.015633</td>\n",
              "      <td>0.029091</td>\n",
              "      <td>-0.002636</td>\n",
              "      <td>-0.056282</td>\n",
              "      <td>-0.043354</td>\n",
              "      <td>0.029139</td>\n",
              "      <td>0.035799</td>\n",
              "      <td>-0.035387</td>\n",
              "      <td>0.021888</td>\n",
              "      <td>-0.019294</td>\n",
              "      <td>0.057331</td>\n",
              "      <td>-0.033058</td>\n",
              "      <td>-0.000338</td>\n",
              "      <td>-0.025324</td>\n",
              "      <td>0.006199</td>\n",
              "      <td>-0.001241</td>\n",
              "      <td>...</td>\n",
              "      <td>-0.050585</td>\n",
              "      <td>-0.005675</td>\n",
              "      <td>-0.003294</td>\n",
              "      <td>-0.037284</td>\n",
              "      <td>-0.017369</td>\n",
              "      <td>-0.045633</td>\n",
              "      <td>-0.011258</td>\n",
              "      <td>-0.038139</td>\n",
              "      <td>-0.042556</td>\n",
              "      <td>0.039866</td>\n",
              "      <td>-0.003581</td>\n",
              "      <td>0.014006</td>\n",
              "      <td>-0.007645</td>\n",
              "      <td>0.037637</td>\n",
              "      <td>0.014350</td>\n",
              "      <td>-0.031891</td>\n",
              "      <td>-0.000150</td>\n",
              "      <td>0.014032</td>\n",
              "      <td>-0.024972</td>\n",
              "      <td>0.054852</td>\n",
              "      <td>-0.036023</td>\n",
              "      <td>0.060501</td>\n",
              "      <td>-0.022721</td>\n",
              "      <td>-0.037831</td>\n",
              "      <td>-0.006364</td>\n",
              "      <td>0.029987</td>\n",
              "      <td>0.015233</td>\n",
              "      <td>-0.060004</td>\n",
              "      <td>-0.019933</td>\n",
              "      <td>0.012707</td>\n",
              "      <td>-0.029897</td>\n",
              "      <td>0.013425</td>\n",
              "      <td>0.019042</td>\n",
              "      <td>-0.062382</td>\n",
              "      <td>-0.032030</td>\n",
              "      <td>-0.034792</td>\n",
              "      <td>-0.024888</td>\n",
              "      <td>0.015525</td>\n",
              "      <td>0.005102</td>\n",
              "      <td>0.021255</td>\n",
              "    </tr>\n",
              "    <tr>\n",
              "      <th>12214532</th>\n",
              "      <td>-0.090205</td>\n",
              "      <td>-0.000857</td>\n",
              "      <td>0.013624</td>\n",
              "      <td>-0.027235</td>\n",
              "      <td>0.036573</td>\n",
              "      <td>-0.013990</td>\n",
              "      <td>0.009005</td>\n",
              "      <td>0.055915</td>\n",
              "      <td>-0.038811</td>\n",
              "      <td>-0.018894</td>\n",
              "      <td>-0.002650</td>\n",
              "      <td>-0.019191</td>\n",
              "      <td>-0.021333</td>\n",
              "      <td>0.032116</td>\n",
              "      <td>-0.049761</td>\n",
              "      <td>0.037017</td>\n",
              "      <td>0.059837</td>\n",
              "      <td>-0.023053</td>\n",
              "      <td>-0.003680</td>\n",
              "      <td>-0.008920</td>\n",
              "      <td>0.005905</td>\n",
              "      <td>0.001687</td>\n",
              "      <td>0.013069</td>\n",
              "      <td>0.029300</td>\n",
              "      <td>0.008577</td>\n",
              "      <td>0.006301</td>\n",
              "      <td>0.000206</td>\n",
              "      <td>0.016200</td>\n",
              "      <td>-0.020523</td>\n",
              "      <td>-0.005012</td>\n",
              "      <td>0.046639</td>\n",
              "      <td>-0.016018</td>\n",
              "      <td>0.004872</td>\n",
              "      <td>-0.022963</td>\n",
              "      <td>0.011004</td>\n",
              "      <td>-0.014066</td>\n",
              "      <td>0.008517</td>\n",
              "      <td>-0.008613</td>\n",
              "      <td>0.031178</td>\n",
              "      <td>0.003702</td>\n",
              "      <td>...</td>\n",
              "      <td>-0.034181</td>\n",
              "      <td>-0.037147</td>\n",
              "      <td>-0.002197</td>\n",
              "      <td>-0.041006</td>\n",
              "      <td>0.000766</td>\n",
              "      <td>0.023028</td>\n",
              "      <td>0.056105</td>\n",
              "      <td>-0.040698</td>\n",
              "      <td>-0.033283</td>\n",
              "      <td>0.014978</td>\n",
              "      <td>-0.014081</td>\n",
              "      <td>0.029904</td>\n",
              "      <td>0.007941</td>\n",
              "      <td>0.021959</td>\n",
              "      <td>-0.002332</td>\n",
              "      <td>-0.001032</td>\n",
              "      <td>-0.003868</td>\n",
              "      <td>0.012226</td>\n",
              "      <td>-0.003631</td>\n",
              "      <td>-0.019196</td>\n",
              "      <td>0.005400</td>\n",
              "      <td>0.088322</td>\n",
              "      <td>0.011528</td>\n",
              "      <td>-0.022843</td>\n",
              "      <td>0.048730</td>\n",
              "      <td>-0.004377</td>\n",
              "      <td>-0.023037</td>\n",
              "      <td>-0.043201</td>\n",
              "      <td>-0.022208</td>\n",
              "      <td>-0.007425</td>\n",
              "      <td>-0.032354</td>\n",
              "      <td>-0.037419</td>\n",
              "      <td>0.051897</td>\n",
              "      <td>-0.014059</td>\n",
              "      <td>0.014772</td>\n",
              "      <td>-0.020494</td>\n",
              "      <td>-0.033392</td>\n",
              "      <td>-0.008113</td>\n",
              "      <td>-0.008172</td>\n",
              "      <td>0.017045</td>\n",
              "    </tr>\n",
              "  </tbody>\n",
              "</table>\n",
              "<p>3 rows × 768 columns</p>\n",
              "</div>"
            ],
            "text/plain": [
              "               0         1         2    ...       765       766       767\n",
              "12130785 -0.039825 -0.019225  0.009014  ... -0.004981 -0.025396  0.016773\n",
              "12652424 -0.068706  0.022790  0.008597  ...  0.015525  0.005102  0.021255\n",
              "12214532 -0.090205 -0.000857  0.013624  ... -0.008113 -0.008172  0.017045\n",
              "\n",
              "[3 rows x 768 columns]"
            ]
          },
          "metadata": {
            "tags": []
          },
          "execution_count": 45
        }
      ]
    },
    {
      "cell_type": "code",
      "metadata": {
        "id": "iiVHhivjzT0O",
        "colab_type": "code",
        "outputId": "59c7716f-22e1-4a0a-8eeb-57d68517aa10",
        "colab": {
          "base_uri": "https://localhost:8080/",
          "height": 33
        }
      },
      "source": [
        "sum(tr_df.iloc[0, :] ** 2)"
      ],
      "execution_count": 46,
      "outputs": [
        {
          "output_type": "execute_result",
          "data": {
            "text/plain": [
              "1.0000000000000004"
            ]
          },
          "metadata": {
            "tags": []
          },
          "execution_count": 46
        }
      ]
    },
    {
      "cell_type": "code",
      "metadata": {
        "id": "nNQ0PhNWzNWA",
        "colab_type": "code",
        "outputId": "7b6a6556-61fc-4693-d31f-3a1efb897869",
        "colab": {
          "base_uri": "https://localhost:8080/",
          "height": 181
        }
      },
      "source": [
        "gr_df.head(3)"
      ],
      "execution_count": 47,
      "outputs": [
        {
          "output_type": "execute_result",
          "data": {
            "text/html": [
              "<div>\n",
              "<style scoped>\n",
              "    .dataframe tbody tr th:only-of-type {\n",
              "        vertical-align: middle;\n",
              "    }\n",
              "\n",
              "    .dataframe tbody tr th {\n",
              "        vertical-align: top;\n",
              "    }\n",
              "\n",
              "    .dataframe thead th {\n",
              "        text-align: right;\n",
              "    }\n",
              "</style>\n",
              "<table border=\"1\" class=\"dataframe\">\n",
              "  <thead>\n",
              "    <tr style=\"text-align: right;\">\n",
              "      <th></th>\n",
              "      <th>0</th>\n",
              "      <th>1</th>\n",
              "      <th>2</th>\n",
              "      <th>3</th>\n",
              "      <th>4</th>\n",
              "      <th>5</th>\n",
              "      <th>6</th>\n",
              "      <th>7</th>\n",
              "      <th>8</th>\n",
              "      <th>9</th>\n",
              "      <th>10</th>\n",
              "      <th>11</th>\n",
              "      <th>12</th>\n",
              "      <th>13</th>\n",
              "      <th>14</th>\n",
              "      <th>15</th>\n",
              "      <th>16</th>\n",
              "      <th>17</th>\n",
              "      <th>18</th>\n",
              "      <th>19</th>\n",
              "      <th>20</th>\n",
              "      <th>21</th>\n",
              "      <th>22</th>\n",
              "      <th>23</th>\n",
              "      <th>24</th>\n",
              "      <th>25</th>\n",
              "      <th>26</th>\n",
              "      <th>27</th>\n",
              "      <th>28</th>\n",
              "      <th>29</th>\n",
              "      <th>30</th>\n",
              "      <th>31</th>\n",
              "      <th>32</th>\n",
              "      <th>33</th>\n",
              "      <th>34</th>\n",
              "      <th>35</th>\n",
              "      <th>36</th>\n",
              "      <th>37</th>\n",
              "      <th>38</th>\n",
              "      <th>39</th>\n",
              "      <th>...</th>\n",
              "      <th>728</th>\n",
              "      <th>729</th>\n",
              "      <th>730</th>\n",
              "      <th>731</th>\n",
              "      <th>732</th>\n",
              "      <th>733</th>\n",
              "      <th>734</th>\n",
              "      <th>735</th>\n",
              "      <th>736</th>\n",
              "      <th>737</th>\n",
              "      <th>738</th>\n",
              "      <th>739</th>\n",
              "      <th>740</th>\n",
              "      <th>741</th>\n",
              "      <th>742</th>\n",
              "      <th>743</th>\n",
              "      <th>744</th>\n",
              "      <th>745</th>\n",
              "      <th>746</th>\n",
              "      <th>747</th>\n",
              "      <th>748</th>\n",
              "      <th>749</th>\n",
              "      <th>750</th>\n",
              "      <th>751</th>\n",
              "      <th>752</th>\n",
              "      <th>753</th>\n",
              "      <th>754</th>\n",
              "      <th>755</th>\n",
              "      <th>756</th>\n",
              "      <th>757</th>\n",
              "      <th>758</th>\n",
              "      <th>759</th>\n",
              "      <th>760</th>\n",
              "      <th>761</th>\n",
              "      <th>762</th>\n",
              "      <th>763</th>\n",
              "      <th>764</th>\n",
              "      <th>765</th>\n",
              "      <th>766</th>\n",
              "      <th>767</th>\n",
              "    </tr>\n",
              "  </thead>\n",
              "  <tbody>\n",
              "    <tr>\n",
              "      <th>6837113</th>\n",
              "      <td>-0.080789</td>\n",
              "      <td>-0.016889</td>\n",
              "      <td>0.033968</td>\n",
              "      <td>-0.044481</td>\n",
              "      <td>-0.005397</td>\n",
              "      <td>-0.002965</td>\n",
              "      <td>0.023009</td>\n",
              "      <td>0.023845</td>\n",
              "      <td>-0.019943</td>\n",
              "      <td>-0.003907</td>\n",
              "      <td>0.017778</td>\n",
              "      <td>-0.019811</td>\n",
              "      <td>-0.006431</td>\n",
              "      <td>0.006215</td>\n",
              "      <td>-0.000478</td>\n",
              "      <td>0.015392</td>\n",
              "      <td>0.040521</td>\n",
              "      <td>-0.007760</td>\n",
              "      <td>0.022200</td>\n",
              "      <td>0.003146</td>\n",
              "      <td>0.034304</td>\n",
              "      <td>-0.004720</td>\n",
              "      <td>0.013558</td>\n",
              "      <td>0.036858</td>\n",
              "      <td>0.001214</td>\n",
              "      <td>0.037842</td>\n",
              "      <td>-0.012461</td>\n",
              "      <td>-0.038264</td>\n",
              "      <td>-0.039671</td>\n",
              "      <td>0.011124</td>\n",
              "      <td>0.039533</td>\n",
              "      <td>0.007411</td>\n",
              "      <td>0.012440</td>\n",
              "      <td>-0.046651</td>\n",
              "      <td>0.015956</td>\n",
              "      <td>-0.031051</td>\n",
              "      <td>0.017229</td>\n",
              "      <td>-0.020447</td>\n",
              "      <td>0.025893</td>\n",
              "      <td>-0.012749</td>\n",
              "      <td>...</td>\n",
              "      <td>-0.042480</td>\n",
              "      <td>-0.003012</td>\n",
              "      <td>0.022664</td>\n",
              "      <td>-0.073550</td>\n",
              "      <td>-0.028350</td>\n",
              "      <td>-0.011842</td>\n",
              "      <td>0.022219</td>\n",
              "      <td>-0.016328</td>\n",
              "      <td>-0.018156</td>\n",
              "      <td>0.027736</td>\n",
              "      <td>-0.012826</td>\n",
              "      <td>0.045004</td>\n",
              "      <td>-0.017472</td>\n",
              "      <td>0.010924</td>\n",
              "      <td>-0.014339</td>\n",
              "      <td>-0.029717</td>\n",
              "      <td>0.018326</td>\n",
              "      <td>-0.022096</td>\n",
              "      <td>-0.019133</td>\n",
              "      <td>0.027440</td>\n",
              "      <td>-0.031019</td>\n",
              "      <td>0.038400</td>\n",
              "      <td>-0.038299</td>\n",
              "      <td>-0.050948</td>\n",
              "      <td>0.027822</td>\n",
              "      <td>0.017635</td>\n",
              "      <td>0.013628</td>\n",
              "      <td>-0.026672</td>\n",
              "      <td>-0.011129</td>\n",
              "      <td>-0.019763</td>\n",
              "      <td>-0.040477</td>\n",
              "      <td>0.035442</td>\n",
              "      <td>0.020523</td>\n",
              "      <td>-0.043179</td>\n",
              "      <td>0.019947</td>\n",
              "      <td>-0.007445</td>\n",
              "      <td>-0.054871</td>\n",
              "      <td>0.013030</td>\n",
              "      <td>-0.008578</td>\n",
              "      <td>0.033490</td>\n",
              "    </tr>\n",
              "    <tr>\n",
              "      <th>6837224</th>\n",
              "      <td>-0.011967</td>\n",
              "      <td>0.036633</td>\n",
              "      <td>0.026850</td>\n",
              "      <td>-0.020104</td>\n",
              "      <td>0.020348</td>\n",
              "      <td>-0.015797</td>\n",
              "      <td>0.039088</td>\n",
              "      <td>0.043953</td>\n",
              "      <td>-0.014264</td>\n",
              "      <td>-0.028894</td>\n",
              "      <td>0.004932</td>\n",
              "      <td>-0.013817</td>\n",
              "      <td>-0.020158</td>\n",
              "      <td>0.023070</td>\n",
              "      <td>-0.025494</td>\n",
              "      <td>0.041551</td>\n",
              "      <td>0.086869</td>\n",
              "      <td>0.019168</td>\n",
              "      <td>0.018648</td>\n",
              "      <td>0.028754</td>\n",
              "      <td>0.008192</td>\n",
              "      <td>0.001409</td>\n",
              "      <td>0.028063</td>\n",
              "      <td>0.082993</td>\n",
              "      <td>-0.004565</td>\n",
              "      <td>0.027093</td>\n",
              "      <td>0.014846</td>\n",
              "      <td>-0.022955</td>\n",
              "      <td>-0.018580</td>\n",
              "      <td>-0.006762</td>\n",
              "      <td>0.071327</td>\n",
              "      <td>0.027713</td>\n",
              "      <td>0.017586</td>\n",
              "      <td>-0.023067</td>\n",
              "      <td>0.035920</td>\n",
              "      <td>-0.038684</td>\n",
              "      <td>-0.005030</td>\n",
              "      <td>-0.002595</td>\n",
              "      <td>-0.004450</td>\n",
              "      <td>0.027173</td>\n",
              "      <td>...</td>\n",
              "      <td>-0.022240</td>\n",
              "      <td>-0.033338</td>\n",
              "      <td>-0.009440</td>\n",
              "      <td>-0.032929</td>\n",
              "      <td>0.010757</td>\n",
              "      <td>0.024640</td>\n",
              "      <td>-0.003837</td>\n",
              "      <td>-0.065885</td>\n",
              "      <td>-0.039325</td>\n",
              "      <td>0.056527</td>\n",
              "      <td>0.004485</td>\n",
              "      <td>-0.006627</td>\n",
              "      <td>-0.020927</td>\n",
              "      <td>0.012552</td>\n",
              "      <td>-0.032805</td>\n",
              "      <td>0.005892</td>\n",
              "      <td>0.024279</td>\n",
              "      <td>-0.010162</td>\n",
              "      <td>-0.000867</td>\n",
              "      <td>0.030255</td>\n",
              "      <td>0.022997</td>\n",
              "      <td>0.058238</td>\n",
              "      <td>-0.064702</td>\n",
              "      <td>-0.047001</td>\n",
              "      <td>0.046901</td>\n",
              "      <td>0.027292</td>\n",
              "      <td>0.002270</td>\n",
              "      <td>-0.040289</td>\n",
              "      <td>-0.027646</td>\n",
              "      <td>0.012340</td>\n",
              "      <td>-0.040221</td>\n",
              "      <td>0.010739</td>\n",
              "      <td>0.069033</td>\n",
              "      <td>-0.019921</td>\n",
              "      <td>0.028882</td>\n",
              "      <td>-0.033263</td>\n",
              "      <td>-0.016302</td>\n",
              "      <td>-0.013194</td>\n",
              "      <td>-0.016944</td>\n",
              "      <td>-0.011066</td>\n",
              "    </tr>\n",
              "    <tr>\n",
              "      <th>6837699</th>\n",
              "      <td>-0.012016</td>\n",
              "      <td>0.021128</td>\n",
              "      <td>0.023873</td>\n",
              "      <td>-0.024987</td>\n",
              "      <td>0.005093</td>\n",
              "      <td>0.019456</td>\n",
              "      <td>0.010036</td>\n",
              "      <td>0.007095</td>\n",
              "      <td>-0.018409</td>\n",
              "      <td>-0.021552</td>\n",
              "      <td>0.010477</td>\n",
              "      <td>-0.027127</td>\n",
              "      <td>-0.042079</td>\n",
              "      <td>0.000555</td>\n",
              "      <td>-0.002625</td>\n",
              "      <td>0.059711</td>\n",
              "      <td>0.014836</td>\n",
              "      <td>0.023442</td>\n",
              "      <td>-0.034251</td>\n",
              "      <td>0.020671</td>\n",
              "      <td>0.042005</td>\n",
              "      <td>-0.019039</td>\n",
              "      <td>0.016704</td>\n",
              "      <td>0.057367</td>\n",
              "      <td>0.018101</td>\n",
              "      <td>0.022508</td>\n",
              "      <td>0.031743</td>\n",
              "      <td>-0.018995</td>\n",
              "      <td>-0.007584</td>\n",
              "      <td>-0.025978</td>\n",
              "      <td>0.067752</td>\n",
              "      <td>-0.012691</td>\n",
              "      <td>-0.006015</td>\n",
              "      <td>-0.047146</td>\n",
              "      <td>0.022856</td>\n",
              "      <td>-0.043953</td>\n",
              "      <td>0.030461</td>\n",
              "      <td>-0.001882</td>\n",
              "      <td>0.006974</td>\n",
              "      <td>0.006792</td>\n",
              "      <td>...</td>\n",
              "      <td>-0.003317</td>\n",
              "      <td>-0.045907</td>\n",
              "      <td>-0.041207</td>\n",
              "      <td>-0.005266</td>\n",
              "      <td>-0.006708</td>\n",
              "      <td>-0.032432</td>\n",
              "      <td>0.024842</td>\n",
              "      <td>-0.060470</td>\n",
              "      <td>-0.017559</td>\n",
              "      <td>0.048870</td>\n",
              "      <td>0.014055</td>\n",
              "      <td>0.022594</td>\n",
              "      <td>-0.010352</td>\n",
              "      <td>-0.015063</td>\n",
              "      <td>-0.030191</td>\n",
              "      <td>-0.022800</td>\n",
              "      <td>0.008191</td>\n",
              "      <td>0.029991</td>\n",
              "      <td>-0.039226</td>\n",
              "      <td>0.011321</td>\n",
              "      <td>0.021599</td>\n",
              "      <td>0.052702</td>\n",
              "      <td>-0.063908</td>\n",
              "      <td>-0.063946</td>\n",
              "      <td>0.039006</td>\n",
              "      <td>0.044524</td>\n",
              "      <td>-0.023478</td>\n",
              "      <td>-0.053580</td>\n",
              "      <td>0.006417</td>\n",
              "      <td>-0.009481</td>\n",
              "      <td>-0.057473</td>\n",
              "      <td>-0.034947</td>\n",
              "      <td>0.024072</td>\n",
              "      <td>-0.052920</td>\n",
              "      <td>-0.003525</td>\n",
              "      <td>0.001117</td>\n",
              "      <td>0.005428</td>\n",
              "      <td>-0.025304</td>\n",
              "      <td>-0.027388</td>\n",
              "      <td>0.006094</td>\n",
              "    </tr>\n",
              "  </tbody>\n",
              "</table>\n",
              "<p>3 rows × 768 columns</p>\n",
              "</div>"
            ],
            "text/plain": [
              "              0         1         2    ...       765       766       767\n",
              "6837113 -0.080789 -0.016889  0.033968  ...  0.013030 -0.008578  0.033490\n",
              "6837224 -0.011967  0.036633  0.026850  ... -0.013194 -0.016944 -0.011066\n",
              "6837699 -0.012016  0.021128  0.023873  ... -0.025304 -0.027388  0.006094\n",
              "\n",
              "[3 rows x 768 columns]"
            ]
          },
          "metadata": {
            "tags": []
          },
          "execution_count": 47
        }
      ]
    },
    {
      "cell_type": "code",
      "metadata": {
        "id": "-jEUtPXLzp_i",
        "colab_type": "code",
        "colab": {}
      },
      "source": [
        "def make_dict_from_chunk(df, grants_target_df):\n",
        "    app_ids_u = df.index.values\n",
        "    cited_df = citations_info_target.loc[:, ['app_id', 'parsed']]\\\n",
        "                   .drop_duplicates().set_index('app_id')\\\n",
        "                   .loc[app_ids_u, ['parsed']].reset_index()\n",
        "    app_ids = cited_df.app_id.values\n",
        "    grant_ids = cited_df.parsed.values\n",
        "    grant_ids_u = cited_df.parsed.unique()\n",
        "    app_ids_u_blob = df.reindex(app_ids_u).values\n",
        "    grant_ids_u_blob = grants_target_df.reindex(grant_ids_u).values\n",
        "    data_dict = {'app_ids_u':app_ids_u,\n",
        "                 'app_ids':app_ids, \n",
        "                 'app_ids_u_blob': app_ids_u_blob,\n",
        "                 'grant_ids_u':grant_ids_u,\n",
        "                 'grant_ids':grant_ids,\n",
        "                 'grant_ids_u_blob':grant_ids_u_blob}\n",
        "    return data_dict\n"
      ],
      "execution_count": 0,
      "outputs": []
    },
    {
      "cell_type": "code",
      "metadata": {
        "id": "zMug0i4K1dJz",
        "colab_type": "code",
        "colab": {}
      },
      "source": [
        "tr_data_dict = make_dict_from_chunk(tr_df, gr_df)"
      ],
      "execution_count": 0,
      "outputs": []
    },
    {
      "cell_type": "code",
      "metadata": {
        "id": "rGrD2QWZ2lXr",
        "colab_type": "code",
        "outputId": "cd0f1ba3-9304-4195-d6f2-2c75cc6c6344",
        "colab": {
          "base_uri": "https://localhost:8080/",
          "height": 33
        }
      },
      "source": [
        "tr_data_dict.keys()"
      ],
      "execution_count": 50,
      "outputs": [
        {
          "output_type": "execute_result",
          "data": {
            "text/plain": [
              "dict_keys(['app_ids_u', 'app_ids', 'app_ids_u_blob', 'grant_ids_u', 'grant_ids', 'grant_ids_u_blob'])"
            ]
          },
          "metadata": {
            "tags": []
          },
          "execution_count": 50
        }
      ]
    },
    {
      "cell_type": "code",
      "metadata": {
        "id": "e-fmBdJg2o6p",
        "colab_type": "code",
        "outputId": "2b896309-02c5-4f32-ff0a-532a2f83f1bc",
        "colab": {
          "base_uri": "https://localhost:8080/",
          "height": 33
        }
      },
      "source": [
        "tr_data_dict['app_ids_u']"
      ],
      "execution_count": 51,
      "outputs": [
        {
          "output_type": "execute_result",
          "data": {
            "text/plain": [
              "array([12130785, 12652424, 12214532, ..., 13968266, 12667685, 14601713])"
            ]
          },
          "metadata": {
            "tags": []
          },
          "execution_count": 51
        }
      ]
    },
    {
      "cell_type": "code",
      "metadata": {
        "id": "arbPWMIb2zNU",
        "colab_type": "code",
        "outputId": "031d0737-a2f7-4fc3-e9aa-8958ea9363dc",
        "colab": {
          "base_uri": "https://localhost:8080/",
          "height": 33
        }
      },
      "source": [
        "tr_data_dict['grant_ids']"
      ],
      "execution_count": 52,
      "outputs": [
        {
          "output_type": "execute_result",
          "data": {
            "text/plain": [
              "array([7212849, 7814459, 7652956, ..., 7810013, 6913298, 7554640])"
            ]
          },
          "metadata": {
            "tags": []
          },
          "execution_count": 52
        }
      ]
    },
    {
      "cell_type": "markdown",
      "metadata": {
        "id": "ma1DFsk9syVa",
        "colab_type": "text"
      },
      "source": [
        "## Train models"
      ]
    },
    {
      "cell_type": "code",
      "metadata": {
        "id": "uw6p2i_VMCKv",
        "colab_type": "code",
        "colab": {}
      },
      "source": [
        "### LOSS FUNCTIONS: dist(a, b)\n",
        "# Assume that 'a' has dimensions 18 x 100 and 'b' has dimensions \n",
        "# 34x100, we would like to produce a vector with all distances,\n",
        "# having the shape 18 x 34.\n",
        "# we hence first cast 'a' to a shape 18 x 1 x 100\n",
        "# and then 'b' to a shape 1 x 34 x 100. \n",
        "# rules of broadcasting then give us a tensor of 18 x 34 x 100\n",
        "# summing over the last axis only (axis=-1) gives us the desired\n",
        "# 18 x 34 shape\n",
        "\n",
        "### EUCLIDEAN DISTANCE\n",
        "# def dist(a, b):\n",
        "#     with tf.name_scope('dist'):\n",
        "#         diffs = tf.expand_dims(a, axis=1) - tf.expand_dims(b, axis=0)\n",
        "#         return tf.sqrt(tf.reduce_sum(tf.square(diffs), axis=-1) + 1e-12)\n",
        "\n",
        "### COSINE DISTANCE\n",
        "def dist(a, b):\n",
        "    # Assume a and b are normalized to one.\n",
        "    with tf.name_scope('dist'):\n",
        "        prods = tf.math.multiply(tf.expand_dims(a, axis=1), tf.expand_dims(b, axis=0))\n",
        "        unnormalized_dist = tf.subtract(tf.constant(1.0, dtype=tf.float32),\n",
        "                                        tf.reduce_sum(prods, axis=-1))\n",
        "        normalized_dist = tf.multiply(unnormalized_dist, 0.5)\n",
        "        return normalized_dist + 1e-12\n",
        "\n",
        "### COSINE ANGULAR DISTANCE\n",
        "# def dist(a, b):\n",
        "#     # Assume a and b are normalized to one.\n",
        "#     with tf.name_scope('dist'):\n",
        "#         prods = tf.math.multiply(tf.expand_dims(a, axis=1), tf.expand_dims(b, axis=0))\n",
        "#         angular_dist = tf.acos(prods)\n",
        "#         normalized_dist = tf.div(angular_dist, tf.constant(math.pi))\n",
        "#         return normalized_dist + 1e-12"
      ],
      "execution_count": 0,
      "outputs": []
    },
    {
      "cell_type": "code",
      "metadata": {
        "id": "6NnmXFzqpjVT",
        "colab_type": "code",
        "colab": {}
      },
      "source": [
        "def calc_cited_mask(data_dict):\n",
        "    aids_one_hot = tf.equal(tf.expand_dims(data_dict['app_ids_u'], axis=1),\n",
        "                            tf.expand_dims(data_dict['app_ids'], axis=0))\n",
        "    gids_one_hot = tf.equal(tf.expand_dims(data_dict['grant_ids'], axis=1),\n",
        "                            tf.expand_dims(data_dict['grant_ids_u'], axis=0))\n",
        "    cited_mask = tf.matmul(tf.cast(aids_one_hot, tf.int32), \n",
        "                           tf.cast(gids_one_hot, tf.int32))\n",
        "    cited_mask = tf.equal(cited_mask, 1)\n",
        "    return cited_mask\n",
        "  \n",
        "def batch_hard(dists, cited_mask, margin=0.2):\n",
        "    # Assume that app_ids_unique has shape (18, ) and grant_ids_unique (34,)\n",
        "    # app_ids and grant_ids have the same length, 36. This implies \n",
        "    # that there are 2 grants that appear twice.\n",
        "    # We construct a mask for same identity of shape 18 x 34\n",
        "    negative_mask = tf.logical_not(cited_mask)\n",
        "    positive_mask = cited_mask\n",
        "    furthest_positive = tf.reduce_max(dists * tf.cast(positive_mask, tf.float32), axis=1)\n",
        "    closest_negative = tf.map_fn(lambda x:tf.reduce_min(\n",
        "                                 tf.boolean_mask(x[0], x[1])),\n",
        "                                 (dists, negative_mask), tf.float32)\n",
        "    diff = furthest_positive - closest_negative\n",
        "    loss = tf.maximum(diff + margin, 0.0)\n",
        "    return loss\n",
        "  \n",
        "def calc_ranks(rdists, cited_mask):\n",
        "    _, indices = tf.nn.top_k(-rdists, k=rdists.shape[1])\n",
        "    _, indices = tf.nn.top_k(-indices, k=rdists.shape[1])\n",
        "    indices = indices +1\n",
        "    sorted_ranks = tf.sort(tf.reshape(tf.cast(cited_mask, tf.int32) * indices, [-1]))\n",
        "    unique, vals, counts = tf.unique_with_counts(sorted_ranks)\n",
        "    return dict(zip(unique.numpy(), counts.numpy()))"
      ],
      "execution_count": 0,
      "outputs": []
    },
    {
      "cell_type": "code",
      "metadata": {
        "id": "2ZXxDcBwmujZ",
        "colab_type": "code",
        "colab": {}
      },
      "source": [
        "class Model(object):\n",
        "    def __init__(self, input_shape, output_shape):\n",
        "        self.input_shape = input_shape\n",
        "        self.output_shape = output_shape\n",
        "        self.W = tf.Variable( tf.random_normal( [self.input_shape, self.output_shape] ), name='weight' )\n",
        "        self.B = tf.Variable( tf.random_normal( [self.output_shape] ), name='bias' ) \n",
        "        self.variables = [self.W, self.B]\n",
        "    \n",
        "    def frwrd_pass(self,X_train):\n",
        "        out = tf.matmul(X_train, self.W) + self.B\n",
        "        normalized_out = tf.nn.l2_normalize(out, axis=1)\n",
        "        return normalized_out"
      ],
      "execution_count": 0,
      "outputs": []
    },
    {
      "cell_type": "code",
      "metadata": {
        "id": "M5B7baLYMCVr",
        "colab_type": "code",
        "colab": {}
      },
      "source": [
        "def get_batch(b_size, df, grants_target_df):\n",
        "    df = df.sample(frac=1, random_state=23)\n",
        "    for chunk in np.array_split(df, b_size):\n",
        "        yield make_dict_from_chunk(chunk, grants_target_df)"
      ],
      "execution_count": 0,
      "outputs": []
    },
    {
      "cell_type": "code",
      "metadata": {
        "id": "sVg10ZhL3h2V",
        "colab_type": "code",
        "colab": {}
      },
      "source": [
        "def calc_dists_for_model(dd, model):\n",
        "  app_ids_u_emb = model.frwrd_pass(dd['app_ids_u_blob'].astype('float32'))\n",
        "  grant_ids_u_emb = model.frwrd_pass(dd['grant_ids_u_blob'].astype('float32'))\n",
        "  dists = dist(app_ids_u_emb, grant_ids_u_emb)\n",
        "  return dists"
      ],
      "execution_count": 0,
      "outputs": []
    },
    {
      "cell_type": "code",
      "metadata": {
        "id": "Oidg0bbLHdPr",
        "colab_type": "code",
        "colab": {}
      },
      "source": [
        "from tqdm import tqdm_notebook as tqdm"
      ],
      "execution_count": 0,
      "outputs": []
    },
    {
      "cell_type": "code",
      "metadata": {
        "id": "pC3rQxOU3QgA",
        "colab_type": "code",
        "colab": {}
      },
      "source": [
        "# Parameters.\n",
        "\n",
        "OUTPUT_DIM = 100\n",
        "EPOCHS = 50\n",
        "BATCH_SIZE = 20\n",
        "DEV_SIZE = 400"
      ],
      "execution_count": 0,
      "outputs": []
    },
    {
      "cell_type": "markdown",
      "metadata": {
        "id": "Z0eJxgoXtTrC",
        "colab_type": "text"
      },
      "source": [
        "Train models using each extracted feature."
      ]
    },
    {
      "cell_type": "code",
      "metadata": {
        "id": "7GjFeNLAfGtP",
        "colab_type": "code",
        "colab": {}
      },
      "source": [
        "trained_models = {}"
      ],
      "execution_count": 0,
      "outputs": []
    },
    {
      "cell_type": "code",
      "metadata": {
        "id": "1OcGqiX_fQUi",
        "colab_type": "code",
        "outputId": "40d58590-34e9-42c7-eb6f-65f29bdc92ca",
        "colab": {
          "base_uri": "https://localhost:8080/",
          "height": 980
        }
      },
      "source": [
        "%%time\n",
        "\n",
        "for model_name in target_features_dict.keys():\n",
        "    print(f\"{model_name} training...\")\n",
        "    tr, te, gr = read_feature(target_features_dict, model_name)\n",
        "    tr_dict, te_dict, gr_dict = normalize_feature(tr, te, gr)\n",
        "    tr_df, te_df, gr_df = to_df(tr_dict, te_dict, gr_dict)\n",
        "\n",
        "    input_dim = tr.shape[1]  # Feature dimension.\n",
        "    dev_data_dict = make_dict_from_chunk(te_df.iloc[:DEV_SIZE], gr_df)  # Used only to check a intermediate model performance (not used to train a model)\n",
        "\n",
        "    model = Model(input_shape=input_dim, output_shape=OUTPUT_DIM)\n",
        "    loss_history = []\n",
        "    for i in tqdm(range(EPOCHS)):\n",
        "        for data_dict in get_batch(BATCH_SIZE, tr_df, gr_df):\n",
        "            with tf.GradientTape() as tape:\n",
        "              dists = calc_dists_for_model(data_dict, model)\n",
        "              cited_mask = calc_cited_mask(data_dict)\n",
        "              losses = batch_hard(dists, cited_mask)\n",
        "              loss = tf.reduce_mean(losses)\n",
        "    \n",
        "            global_step = tf.Variable(0, trainable=False, name='global_step')\n",
        "            learning_rate = tf.train.exponential_decay(0.01, global_step, EPOCHS, 0.96, staircase=True)\n",
        "            optimizer = tf.train.AdamOptimizer(learning_rate)\n",
        "            loss_history.append(loss.numpy())\n",
        "            grads = tape.gradient(loss, model.variables)\n",
        "            optimizer.apply_gradients(zip(grads, model.variables), global_step=global_step)\n",
        "  \n",
        "        # After every epoch, we would like to check our ranking score on the dev_data_dict,\n",
        "        # as well as on some subset of our training data dict\n",
        "        dev_dists = calc_dists_for_model(dev_data_dict, model)\n",
        "        dev_cited_mask = calc_cited_mask(dev_data_dict)\n",
        "        dev_ranks = calc_ranks(dev_dists, dev_cited_mask)\n",
        "        top_5_ranks = sum(list(dev_ranks.values())[1:6]) / DEV_SIZE\n",
        "        top_1_rank = list(dev_ranks.values())[1] / DEV_SIZE\n",
        "        print(f\"Top 1 rank (%): {str(top_1_rank)}, Top 5 ranks (%): {str(top_5_ranks)}\")\n",
        "\n",
        "    trained_models[model_name] = {\"model\": model, \"loss_history\" : loss_history}\n"
      ],
      "execution_count": 61,
      "outputs": [
        {
          "output_type": "stream",
          "text": [
            "BERT-pretrained-2ndlastmean training...\n"
          ],
          "name": "stdout"
        },
        {
          "output_type": "display_data",
          "data": {
            "application/vnd.jupyter.widget-view+json": {
              "model_id": "aec1c43eb75541109039d86a355502dc",
              "version_minor": 0,
              "version_major": 2
            },
            "text/plain": [
              "HBox(children=(IntProgress(value=0, max=50), HTML(value='')))"
            ]
          },
          "metadata": {
            "tags": []
          }
        },
        {
          "output_type": "stream",
          "text": [
            "WARNING: Logging before flag parsing goes to stderr.\n",
            "W0822 08:52:23.549606 139901868132224 deprecation.py:323] From /usr/local/lib/python3.6/dist-packages/tensorflow/python/ops/array_ops.py:1354: add_dispatch_support.<locals>.wrapper (from tensorflow.python.ops.array_ops) is deprecated and will be removed in a future version.\n",
            "Instructions for updating:\n",
            "Use tf.where in 2.0, which has the same broadcast rule as np.where\n"
          ],
          "name": "stderr"
        },
        {
          "output_type": "stream",
          "text": [
            "Top 1 rank (%): 0.3225, Top 5 ranks (%): 0.605\n",
            "Top 1 rank (%): 0.335, Top 5 ranks (%): 0.65\n",
            "Top 1 rank (%): 0.3525, Top 5 ranks (%): 0.6775\n",
            "Top 1 rank (%): 0.3725, Top 5 ranks (%): 0.685\n",
            "Top 1 rank (%): 0.4, Top 5 ranks (%): 0.695\n",
            "Top 1 rank (%): 0.41, Top 5 ranks (%): 0.6825\n",
            "Top 1 rank (%): 0.4075, Top 5 ranks (%): 0.7175\n",
            "Top 1 rank (%): 0.42, Top 5 ranks (%): 0.7225\n",
            "Top 1 rank (%): 0.4225, Top 5 ranks (%): 0.7275\n",
            "Top 1 rank (%): 0.4225, Top 5 ranks (%): 0.7125\n",
            "Top 1 rank (%): 0.415, Top 5 ranks (%): 0.7225\n",
            "Top 1 rank (%): 0.4075, Top 5 ranks (%): 0.7375\n",
            "Top 1 rank (%): 0.415, Top 5 ranks (%): 0.74\n",
            "Top 1 rank (%): 0.41, Top 5 ranks (%): 0.74\n",
            "Top 1 rank (%): 0.4075, Top 5 ranks (%): 0.7325\n",
            "Top 1 rank (%): 0.4125, Top 5 ranks (%): 0.7375\n",
            "Top 1 rank (%): 0.41, Top 5 ranks (%): 0.75\n",
            "Top 1 rank (%): 0.415, Top 5 ranks (%): 0.75\n",
            "Top 1 rank (%): 0.425, Top 5 ranks (%): 0.7425\n",
            "Top 1 rank (%): 0.4225, Top 5 ranks (%): 0.755\n",
            "Top 1 rank (%): 0.4275, Top 5 ranks (%): 0.7525\n",
            "Top 1 rank (%): 0.41, Top 5 ranks (%): 0.7525\n",
            "Top 1 rank (%): 0.4075, Top 5 ranks (%): 0.755\n",
            "Top 1 rank (%): 0.4025, Top 5 ranks (%): 0.7475\n",
            "Top 1 rank (%): 0.4225, Top 5 ranks (%): 0.7475\n",
            "Top 1 rank (%): 0.4175, Top 5 ranks (%): 0.7575\n",
            "Top 1 rank (%): 0.4125, Top 5 ranks (%): 0.7425\n",
            "Top 1 rank (%): 0.4225, Top 5 ranks (%): 0.75\n",
            "Top 1 rank (%): 0.4125, Top 5 ranks (%): 0.74\n",
            "Top 1 rank (%): 0.4025, Top 5 ranks (%): 0.7575\n",
            "Top 1 rank (%): 0.415, Top 5 ranks (%): 0.7425\n",
            "Top 1 rank (%): 0.4275, Top 5 ranks (%): 0.7475\n",
            "Top 1 rank (%): 0.4125, Top 5 ranks (%): 0.745\n",
            "Top 1 rank (%): 0.405, Top 5 ranks (%): 0.7475\n",
            "Top 1 rank (%): 0.4075, Top 5 ranks (%): 0.75\n",
            "Top 1 rank (%): 0.41, Top 5 ranks (%): 0.75\n",
            "Top 1 rank (%): 0.415, Top 5 ranks (%): 0.7375\n",
            "Top 1 rank (%): 0.415, Top 5 ranks (%): 0.7425\n",
            "Top 1 rank (%): 0.405, Top 5 ranks (%): 0.735\n",
            "Top 1 rank (%): 0.4075, Top 5 ranks (%): 0.7375\n",
            "Top 1 rank (%): 0.41, Top 5 ranks (%): 0.7425\n",
            "Top 1 rank (%): 0.3975, Top 5 ranks (%): 0.755\n",
            "Top 1 rank (%): 0.42, Top 5 ranks (%): 0.74\n",
            "Top 1 rank (%): 0.42, Top 5 ranks (%): 0.7475\n",
            "Top 1 rank (%): 0.41, Top 5 ranks (%): 0.745\n",
            "Top 1 rank (%): 0.415, Top 5 ranks (%): 0.7425\n",
            "Top 1 rank (%): 0.4275, Top 5 ranks (%): 0.7475\n",
            "Top 1 rank (%): 0.4125, Top 5 ranks (%): 0.75\n",
            "Top 1 rank (%): 0.4075, Top 5 ranks (%): 0.7475\n",
            "Top 1 rank (%): 0.4, Top 5 ranks (%): 0.7375\n",
            "\n",
            "CPU times: user 6min 5s, sys: 2.36 s, total: 6min 7s\n",
            "Wall time: 5min 42s\n"
          ],
          "name": "stdout"
        }
      ]
    },
    {
      "cell_type": "code",
      "metadata": {
        "id": "3B0lj4Jf283u",
        "colab_type": "code",
        "outputId": "e72195b4-9d9f-415d-b319-a6477f75ffee",
        "colab": {
          "base_uri": "https://localhost:8080/",
          "height": 516
        }
      },
      "source": [
        "## Result of cosine distance\n",
        "import matplotlib.pyplot as plt\n",
        "from pylab import rcParams\n",
        "rcParams['figure.figsize'] = 8,8\n",
        "\n",
        "for model in trained_models.keys():\n",
        "  plt.plot(trained_models[model][\"loss_history\"], label=f\"{model}\")\n",
        "\n",
        "plt.title(\"loss histories\")\n",
        "plt.legend()\n",
        "plt.show"
      ],
      "execution_count": 62,
      "outputs": [
        {
          "output_type": "execute_result",
          "data": {
            "text/plain": [
              "<function matplotlib.pyplot.show>"
            ]
          },
          "metadata": {
            "tags": []
          },
          "execution_count": 62
        },
        {
          "output_type": "display_data",
          "data": {
            "image/png": "[encoded data removed]",
            "text/plain": [
              "<Figure size 576x576 with 1 Axes>"
            ]
          },
          "metadata": {
            "tags": []
          }
        }
      ]
    },
    {
      "cell_type": "markdown",
      "metadata": {
        "id": "rb8XEONptjrW",
        "colab_type": "text"
      },
      "source": [
        "## Compute similarities"
      ]
    },
    {
      "cell_type": "code",
      "metadata": {
        "id": "Gas0V6RpJDam",
        "colab_type": "code",
        "colab": {}
      },
      "source": [
        "def to_extracted_features(normalized_feature_dict, model):\n",
        "  # doc_id is app_id for application, pared for grants.\n",
        "  sorted_keys = sorted(normalized_feature_dict.keys())\n",
        "\n",
        "  input_tensors = tf.convert_to_tensor(\n",
        "      np.array([ normalized_feature_dict[k] for k in sorted_keys ]),\n",
        "      dtype=tf.float32)\n",
        "  extracted_features = model.frwrd_pass(input_tensors).numpy()\n",
        "  return pd.DataFrame({ \n",
        "    'doc_id':sorted_keys, 'extracted_feature':[ v/np.linalg.norm(v) for v in extracted_features ]})"
      ],
      "execution_count": 0,
      "outputs": []
    },
    {
      "cell_type": "code",
      "metadata": {
        "id": "KkJ9onvIJDjB",
        "colab_type": "code",
        "colab": {}
      },
      "source": [
        "def sort_similarity_by_value(sim_dict, app_id):\n",
        "    '''\n",
        "    input:\n",
        "        sim_dict: similary dictionary\n",
        "        app_id: target application id\n",
        "    return:\n",
        "        [(parsed1, sim1), (parsed2, sim2), ...] sorted by similarities\n",
        "    '''\n",
        "    return [(parsed, sim_dict[app_id][parsed]) for parsed in sorted(sim_dict[app_id], key=sim_dict[app_id].get)]\n",
        "  \n",
        "  \n",
        "def get_cited_grants(citations_info_target, app_id):\n",
        "    '''\n",
        "    input:\n",
        "        citations_info_target: DataFrame of citation relationships\n",
        "        app_id: target application id\n",
        "    return:\n",
        "        {parsed1, parsed2, ...} that are cited to reject app_id\n",
        "    '''\n",
        "    return set(citations_info_target[citations_info_target['app_id'] == app_id]['parsed'])\n",
        "  \n",
        "def make_uncited_grants_for_app_id(sim_dict, citations_info_target, app_id, sidx, eidx, num, shuffle=True):\n",
        "    '''\n",
        "    input:\n",
        "        sim_dict: \n",
        "        citations_info_target:\n",
        "        app_id: target application id\n",
        "        sidx: start index to slice the sorted (parsed, sim) list\n",
        "        eidx: end index to slice the sorted (parsed, sim) list\n",
        "        num: number of grants that will be returned\n",
        "    return:\n",
        "        [parsed_1, parsed_2, ..., parsed_num] that are NOT cited to reject app_id\n",
        "    '''\n",
        "    sorted_grants_list = sort_similarity_by_value(sim_dict, app_id)\n",
        "    sorted_grants_list = sorted_grants_list[sidx:eidx]\n",
        "    if shuffle:\n",
        "        random.shuffle(sorted_grants_list)\n",
        "    \n",
        "    cited_grants = get_cited_grants(citations_info_target, app_id)\n",
        "    uncited_grants = []\n",
        "    \n",
        "    idx = 0\n",
        "    while len(uncited_grants) != num:\n",
        "        grant_id, _ = sorted_grants_list[idx]\n",
        "        if not grant_id in cited_grants:\n",
        "            uncited_grants.append(grant_id)\n",
        "        idx += 1\n",
        "    \n",
        "    return uncited_grants  "
      ],
      "execution_count": 0,
      "outputs": []
    },
    {
      "cell_type": "code",
      "metadata": {
        "id": "-e3VAJ7wJIpy",
        "colab_type": "code",
        "colab": {}
      },
      "source": [
        "import collections\n",
        "\n",
        "def calc_all_ranks(all_app_ids, sim_dic):\n",
        "  all_ranks = []\n",
        "\n",
        "  for app_id in all_app_ids:\n",
        "      cited_grants = get_cited_grants(citations_info_target, app_id)\n",
        "      sorted_kv = reversed(sort_similarity_by_value(sim_dic, app_id))  # higher score, similar patent\n",
        "\n",
        "      idx = 1\n",
        "      for k,v in sorted_kv:\n",
        "          if k in cited_grants:\n",
        "              all_ranks.append(idx)\n",
        "          idx += 1\n",
        "  return all_ranks\n",
        "\n",
        "def calc_all_ranks_counter(all_app_ids, sim_dic):\n",
        "  return collections.Counter(calc_all_ranks(all_app_ids, sim_dic))"
      ],
      "execution_count": 0,
      "outputs": []
    },
    {
      "cell_type": "code",
      "metadata": {
        "id": "82wU0cfNMviG",
        "colab_type": "code",
        "colab": {}
      },
      "source": [
        "def create_sim_dict(test_extracted_df, grants_extracted_df):\n",
        "  return {\n",
        "    app_id:{ parsed:np.sum(test_f*grants_f)\n",
        "            for parsed, grants_f \n",
        "            in zip(grants_extracted_df['doc_id'], grants_extracted_df['extracted_feature']) } \n",
        "    for app_id, test_f \n",
        "    in zip(test_extracted_df['doc_id'], test_extracted_df['extracted_feature'])\n",
        "  }"
      ],
      "execution_count": 0,
      "outputs": []
    },
    {
      "cell_type": "code",
      "metadata": {
        "id": "vXaN7J0zNrrn",
        "colab_type": "code",
        "colab": {}
      },
      "source": [
        "def test_label(app_id, grant, cite_relation):\n",
        "  cited_parsed = cite_relation[cite_relation[\"app_id\"] == app_id][\"parsed\"]\n",
        "  return [ 1 if parsed == cited_parsed.values[0] else 0 for parsed in grant[\"parsed\"] ]"
      ],
      "execution_count": 0,
      "outputs": []
    },
    {
      "cell_type": "markdown",
      "metadata": {
        "id": "Exh5qqbAtvf-",
        "colab_type": "text"
      },
      "source": [
        "Compute similarities and rankings."
      ]
    },
    {
      "cell_type": "code",
      "metadata": {
        "id": "ocjmHAzJvpg5",
        "colab_type": "code",
        "outputId": "e11277c2-04d5-4bc1-d1fe-e7d3424bcb4e",
        "colab": {
          "base_uri": "https://localhost:8080/",
          "height": 66
        }
      },
      "source": [
        "%%time\n",
        "\n",
        "ranking_result = []\n",
        "\n",
        "for model_name in target_features_dict.keys():\n",
        "    print(f\"{model_name} similarity computing...\")\n",
        "    tr, te, gr = read_feature(target_features_dict, model_name)\n",
        "    tr_dict, te_dict, gr_dict = normalize_feature(tr, te, gr)\n",
        "    tr_df, te_df, gr_df = to_df(tr_dict, te_dict, gr_dict)\n",
        "\n",
        "    test_extracted_features_df = to_extracted_features(te_dict, trained_models[model_name][\"model\"])\n",
        "    grants_extracted_features_df = to_extracted_features(gr_dict, trained_models[model_name][\"model\"])\n",
        "\n",
        "    sim_dict_by_extracted = create_sim_dict(test_extracted_features_df, grants_extracted_features_df)\n",
        "    similarities = [list(sim_dict_by_extracted[doc_id].values()) for doc_id in test_extracted_features_df['doc_id']]\n",
        "    sim_arr = np.array(similarities)\n",
        "\n",
        "    ranking = []\n",
        "    for num in range(len(similarities)):\n",
        "        app_id = test_extracted_features_df['doc_id'][num]\n",
        "        label = pd.Series(test_label(app_id, grants, citations_info_target))\n",
        "        i, = np.where(label == 1)\n",
        "        cited_index = i[0]\n",
        "        rank = sorted(similarities[num], reverse=True).index(similarities[num][cited_index])\n",
        "        ranking.append(rank)\n",
        "    \n",
        "    ranking_arr = np.array(ranking)\n",
        "    positive_counts = [sum(ranking_arr <= thrd) for thrd in range(len(grants))]\n",
        "\n",
        "    ranking_result.append([model_name, ranking, positive_counts])"
      ],
      "execution_count": 68,
      "outputs": [
        {
          "output_type": "stream",
          "text": [
            "BERT-pretrained-2ndlastmean similarity computing...\n",
            "CPU times: user 3min 5s, sys: 1.38 s, total: 3min 6s\n",
            "Wall time: 3min 6s\n"
          ],
          "name": "stdout"
        }
      ]
    },
    {
      "cell_type": "code",
      "metadata": {
        "id": "5viCysrjzvXK",
        "colab_type": "code",
        "colab": {
          "base_uri": "https://localhost:8080/",
          "height": 82
        },
        "outputId": "ae3f2cc4-f7d0-4fcd-f461-d793bb567eaa"
      },
      "source": [
        "for model, ranking, positive_count in ranking_result:\n",
        "  print(\"-\" * 20)\n",
        "  print(f\"{model} top 10: {(np.array(positive_count)/len(ranking))[10]:.4f}\")\n",
        "  print(f\"{model} top 100: {(np.array(positive_count)/len(ranking))[100]:.4f}\")\n",
        "  print(f\"{model} top 200: {(np.array(positive_count)/len(ranking))[200]:.4f}\")"
      ],
      "execution_count": 69,
      "outputs": [
        {
          "output_type": "stream",
          "text": [
            "--------------------\n",
            "BERT-pretrained-2ndlastmean top 10: 0.4387\n",
            "BERT-pretrained-2ndlastmean top 100: 0.7653\n",
            "BERT-pretrained-2ndlastmean top 200: 0.8467\n"
          ],
          "name": "stdout"
        }
      ]
    },
    {
      "cell_type": "markdown",
      "metadata": {
        "id": "f4T7ZXSz-peq",
        "colab_type": "text"
      },
      "source": [
        "RECORD:\n",
        "\n",
        "```\n",
        "--------------------\n",
        "TransformerXL top 10: 0.3653\n",
        "TransformerXL top 100: 0.6687\n",
        "TransformerXL top 200: 0.7543\n",
        "--------------------\n",
        "BERT-2ndlastmean top 10: 0.3860\n",
        "BERT-2ndlastmean top 100: 0.6983\n",
        "BERT-2ndlastmean top 200: 0.7953\n",
        "--------------------\n",
        "BERT-pretrained-2ndlastmean top 10: 0.4387\n",
        "BERT-pretrained-2ndlastmean top 100: 0.7653\n",
        "BERT-pretrained-2ndlastmean top 200: 0.8467\n",
        "--------------------\n",
        "ELMO-512tokenmean top 10: 0.2950\n",
        "ELMO-512tokenmean top 100: 0.6057\n",
        "ELMO-512tokenmean top 200: 0.7093\n",
        "--------------------\n",
        "ELMO-4096tokenmean top 10: 0.3243\n",
        "ELMO-4096tokenmean top 100: 0.6327\n",
        "ELMO-4096tokenmean top 200: 0.7300\n",
        "--------------------\n",
        "USE top 10: 0.3703\n",
        "USE top 100: 0.6690\n",
        "USE top 200: 0.7627\n",
        "--------------------\n",
        "W2V top 10: 0.4053\n",
        "W2V top 100: 0.7353\n",
        "W2V top 200: 0.8310\n",
        "--------------------\n",
        "W2V-patent-2017 top 10: 0.4260\n",
        "W2V-patent-2017 top 100: 0.7733\n",
        "W2V-patent-2017 top 200: 0.8607\n",
        "--------------------\n",
        "W2V-patent-2017 512 tokens top 10: 0.4130\n",
        "W2V-patent-2017 512 tokens top 100: 0.7517\n",
        "W2V-patent-2017 512 tokens top 200: 0.8423\n",
        "--------------------\n",
        "fastText top 10: 0.3183\n",
        "fastText top 100: 0.6043\n",
        "fastText top 200: 0.7000\n",
        "```\n",
        "\n",
        "Simple cosine similarity results (without triplet loss training):\n",
        "\n",
        "RECORD:\n",
        "\n",
        "```\n",
        "--------------------\n",
        "TransformerXL top 10: 0.2600\n",
        "TransformerXL top 100: 0.5377\n",
        "TransformerXL top 200: 0.6273\n",
        "--------------------\n",
        "BERT-2ndlastmean top 10: 0.2527\n",
        "BERT-2ndlastmean top 100: 0.5050\n",
        "BERT-2ndlastmean top 200: 0.5923\n",
        "--------------------\n",
        "BERT-pretrained-2ndlastmean top 10: 0.2960\n",
        "BERT-pretrained-2ndlastmean top 100: 0.5747\n",
        "BERT-pretrained-2ndlastmean top 200: 0.6717\n",
        "--------------------\n",
        "ELMO-512tokenmean top 10: 0.2367\n",
        "ELMO-512tokenmean top 100: 0.5280\n",
        "ELMO-512tokenmean top 200: 0.6260\n",
        "--------------------\n",
        "ELMO-4096tokenmean top 10: 0.2620\n",
        "ELMO-4096tokenmean top 100: 0.5357\n",
        "ELMO-4096tokenmean top 200: 0.6407\n",
        "--------------------\n",
        "USE top 10: 0.3400\n",
        "USE top 100: 0.6467\n",
        "USE top 200: 0.7480\n",
        "--------------------\n",
        "W2V top 10: 0.3057\n",
        "W2V top 100: 0.5990\n",
        "W2V top 200: 0.7037\n",
        "--------------------\n",
        "W2V-patent-2017 top 10: 0.3573\n",
        "W2V-patent-2017 top 100: 0.6593\n",
        "W2V-patent-2017 top 200: 0.7613\n",
        "--------------------\n",
        "W2V-patent-2017 512 tokens top 10: 0.3313\n",
        "W2V-patent-2017 512 tokens top 100: 0.6340\n",
        "W2V-patent-2017 512 tokens top 200: 0.7450\n",
        "--------------------\n",
        "fastText top 10: 0.1767\n",
        "fastText top 100: 0.3690\n",
        "fastText top 200: 0.4473\n",
        "```"
      ]
    },
    {
      "cell_type": "code",
      "metadata": {
        "id": "XvS_4DyDzvT-",
        "colab_type": "code",
        "colab": {}
      },
      "source": [
        ""
      ],
      "execution_count": 0,
      "outputs": []
    },
    {
      "cell_type": "code",
      "metadata": {
        "id": "ENTy22RS0NY7",
        "colab_type": "code",
        "colab": {}
      },
      "source": [
        ""
      ],
      "execution_count": 0,
      "outputs": []
    },
    {
      "cell_type": "code",
      "metadata": {
        "id": "iFCvqMvo0Nd4",
        "colab_type": "code",
        "colab": {}
      },
      "source": [
        ""
      ],
      "execution_count": 0,
      "outputs": []
    },
    {
      "cell_type": "code",
      "metadata": {
        "id": "HQ6TPE_Xz-kE",
        "colab_type": "code",
        "colab": {}
      },
      "source": [
        ""
      ],
      "execution_count": 0,
      "outputs": []
    },
    {
      "cell_type": "code",
      "metadata": {
        "id": "isrpE7NFzvQj",
        "colab_type": "code",
        "colab": {}
      },
      "source": [
        ""
      ],
      "execution_count": 0,
      "outputs": []
    },
    {
      "cell_type": "markdown",
      "metadata": {
        "id": "acurc-o63JtA",
        "colab_type": "text"
      },
      "source": [
        "# Trial and Errors"
      ]
    },
    {
      "cell_type": "code",
      "metadata": {
        "id": "IU0APgMKJIu0",
        "colab_type": "code",
        "colab": {}
      },
      "source": [
        "test_extracted_features_df = to_extracted_features(te_dict, models[0])\n",
        "grants_extracted_features_df = to_extracted_features(gr_dict, models[0])"
      ],
      "execution_count": 0,
      "outputs": []
    },
    {
      "cell_type": "code",
      "metadata": {
        "id": "8IDwsDPwJDge",
        "colab_type": "code",
        "outputId": "cce688f3-87ab-4156-d5c3-b598e8c5d786",
        "colab": {
          "base_uri": "https://localhost:8080/",
          "height": 89
        }
      },
      "source": [
        "## Result of cosine distance\n",
        "%%time\n",
        "\n",
        "sim_dict_by_extracted = create_sim_dict(test_extracted_features_df, grants_extracted_features_df)\n",
        "counter = calc_all_ranks_counter(test_extracted_features_df['doc_id'], sim_dict_by_extracted)\n",
        "print(counter)"
      ],
      "execution_count": 0,
      "outputs": [
        {
          "output_type": "stream",
          "text": [
            "Counter({1: 435, 2: 200, 4: 107, 3: 104, 5: 76, 6: 68, 7: 64, 8: 62, 9: 52, 10: 47, 13: 40, 11: 39, 14: 39, 12: 38, 15: 38, 17: 35, 19: 32, 18: 29, 23: 26, 20: 25, 16: 24, 26: 24, 25: 20, 34: 19, 22: 18, 39: 17, 29: 17, 27: 16, 42: 16, 74: 16, 21: 15, 32: 15, 24: 15, 37: 15, 30: 14, 53: 14, 57: 13, 48: 13, 61: 13, 36: 13, 72: 12, 65: 12, 44: 12, 35: 11, 52: 11, 45: 11, 68: 11, 56: 11, 58: 10, 41: 10, 54: 10, 80: 9, 46: 9, 31: 9, 51: 9, 50: 9, 62: 9, 38: 9, 85: 8, 73: 8, 28: 8, 82: 8, 67: 8, 70: 8, 59: 8, 33: 8, 40: 8, 91: 8, 66: 7, 47: 7, 87: 7, 78: 7, 211: 7, 43: 7, 60: 7, 121: 7, 115: 7, 95: 7, 84: 6, 107: 6, 100: 6, 244: 6, 273: 6, 104: 6, 117: 6, 310: 6, 177: 6, 119: 6, 106: 6, 90: 6, 125: 5, 138: 5, 193: 5, 88: 5, 99: 5, 162: 5, 129: 5, 174: 5, 64: 5, 152: 5, 266: 5, 83: 5, 140: 5, 163: 5, 76: 5, 75: 5, 112: 5, 118: 5, 79: 5, 122: 5, 116: 5, 202: 4, 223: 4, 71: 4, 81: 4, 131: 4, 180: 4, 195: 4, 254: 4, 156: 4, 281: 4, 136: 4, 103: 4, 224: 4, 197: 4, 109: 4, 150: 4, 137: 4, 172: 4, 69: 4, 167: 4, 86: 4, 308: 4, 502: 4, 110: 4, 380: 4, 142: 4, 96: 4, 141: 4, 128: 4, 93: 4, 143: 4, 175: 4, 173: 3, 365: 3, 89: 3, 402: 3, 55: 3, 230: 3, 214: 3, 297: 3, 135: 3, 124: 3, 199: 3, 332: 3, 111: 3, 467: 3, 133: 3, 806: 3, 98: 3, 94: 3, 466: 3, 123: 3, 201: 3, 49: 3, 192: 3, 63: 3, 209: 3, 265: 3, 102: 3, 278: 3, 221: 3, 243: 3, 205: 3, 179: 3, 186: 3, 231: 3, 287: 3, 145: 3, 158: 3, 151: 3, 178: 3, 130: 3, 120: 3, 274: 3, 190: 3, 181: 3, 126: 3, 148: 3, 146: 3, 225: 2, 880: 2, 157: 2, 635: 2, 166: 2, 323: 2, 327: 2, 464: 2, 442: 2, 557: 2, 565: 2, 364: 2, 351: 2, 544: 2, 159: 2, 296: 2, 406: 2, 528: 2, 311: 2, 554: 2, 206: 2, 720: 2, 335: 2, 390: 2, 342: 2, 184: 2, 101: 2, 200: 2, 325: 2, 216: 2, 248: 2, 127: 2, 256: 2, 819: 2, 350: 2, 426: 2, 182: 2, 378: 2, 196: 2, 286: 2, 574: 2, 267: 2, 371: 2, 220: 2, 386: 2, 486: 2, 404: 2, 144: 2, 334: 2, 155: 2, 620: 2, 108: 2, 621: 2, 113: 2, 1029: 2, 253: 2, 198: 2, 203: 2, 194: 2, 1698: 2, 726: 2, 613: 2, 478: 2, 394: 2, 868: 2, 1413: 2, 271: 2, 799: 2, 352: 2, 185: 2, 285: 2, 705: 2, 264: 2, 213: 2, 567: 2, 238: 2, 355: 2, 292: 2, 526: 2, 363: 2, 176: 2, 219: 2, 270: 2, 422: 2, 322: 2, 3919: 2, 276: 2, 170: 2, 1180: 2, 543: 2, 183: 2, 397: 2, 204: 2, 538: 2, 860: 2, 755: 2, 289: 2, 489: 2, 257: 2, 295: 2, 77: 2, 973: 2, 547: 2, 92: 2, 441: 2, 356: 2, 330: 2, 97: 2, 307: 2, 212: 2, 160: 2, 457: 2, 134: 2, 161: 2, 1400: 2, 786: 2, 596: 2, 359: 2, 298: 2, 522: 2, 280: 2, 283: 2, 694: 2, 627: 2, 485: 1, 1916: 1, 569: 1, 413: 1, 1729: 1, 5362: 1, 1978: 1, 534: 1, 463: 1, 647: 1, 527: 1, 1323: 1, 633: 1, 1667: 1, 843: 1, 3865: 1, 324: 1, 1379: 1, 807: 1, 259: 1, 207: 1, 239: 1, 301: 1, 139: 1, 451: 1, 928: 1, 668: 1, 1451: 1, 2222: 1, 405: 1, 1384: 1, 1021: 1, 240: 1, 367: 1, 447: 1, 433: 1, 3220: 1, 1257: 1, 737: 1, 1925: 1, 804: 1, 4911: 1, 508: 1, 5156: 1, 911: 1, 2662: 1, 780: 1, 171: 1, 1866: 1, 553: 1, 947: 1, 5028: 1, 1268: 1, 1799: 1, 1051: 1, 453: 1, 648: 1, 477: 1, 282: 1, 187: 1, 272: 1, 4658: 1, 398: 1, 263: 1, 1197: 1, 2871: 1, 1691: 1, 546: 1, 2359: 1, 1713: 1, 764: 1, 917: 1, 689: 1, 237: 1, 739: 1, 715: 1, 1041: 1, 315: 1, 1198: 1, 236: 1, 1035: 1, 497: 1, 395: 1, 329: 1, 717: 1, 942: 1, 610: 1, 1409: 1, 164: 1, 1203: 1, 798: 1, 1006: 1, 1100: 1, 299: 1, 1039: 1, 935: 1, 792: 1, 771: 1, 704: 1, 671: 1, 393: 1, 968: 1, 713: 1, 1106: 1, 4014: 1, 284: 1, 3672: 1, 685: 1, 1539: 1, 294: 1, 438: 1, 210: 1, 446: 1, 114: 1, 444: 1, 427: 1, 801: 1, 1616: 1, 353: 1, 498: 1, 1328: 1, 579: 1, 346: 1, 584: 1, 1046: 1, 1633: 1, 1701: 1, 638: 1, 408: 1, 208: 1, 1238: 1, 989: 1, 415: 1, 1913: 1, 1127: 1, 816: 1, 532: 1, 501: 1, 2086: 1, 506: 1, 536: 1, 1103: 1, 991: 1, 250: 1, 665: 1, 514: 1, 1236: 1, 226: 1, 2816: 1, 149: 1, 2903: 1, 660: 1, 1241: 1, 5672: 1, 678: 1, 387: 1, 599: 1, 949: 1, 753: 1, 1417: 1, 1610: 1, 241: 1, 302: 1, 609: 1, 2553: 1, 2288: 1, 1249: 1, 2314: 1, 752: 1, 1119: 1, 462: 1, 675: 1, 504: 1, 421: 1, 748: 1, 1794: 1, 261: 1, 2295: 1, 5798: 1, 154: 1, 2161: 1, 2741: 1, 1571: 1, 232: 1, 2570: 1, 1879: 1, 950: 1, 476: 1, 432: 1, 388: 1, 1779: 1, 3791: 1, 2046: 1, 681: 1, 951: 1, 838: 1, 597: 1, 723: 1, 589: 1, 697: 1, 791: 1, 775: 1, 898: 1, 827: 1, 1927: 1, 1896: 1, 482: 1, 389: 1, 1735: 1, 4560: 1, 313: 1, 338: 1, 537: 1, 2284: 1, 876: 1, 260: 1, 487: 1, 348: 1, 721: 1, 894: 1, 428: 1, 960: 1, 696: 1, 680: 1, 890: 1, 3296: 1, 1459: 1, 403: 1, 2661: 1, 3876: 1, 905: 1, 3607: 1, 583: 1, 4934: 1, 474: 1, 439: 1, 831: 1, 1264: 1, 767: 1, 1213: 1, 3408: 1, 2874: 1, 934: 1, 228: 1, 893: 1, 2007: 1, 920: 1, 3704: 1, 473: 1, 269: 1, 889: 1, 3790: 1, 751: 1, 316: 1, 391: 1, 165: 1, 1309: 1, 429: 1, 288: 1, 1584: 1, 607: 1, 821: 1, 345: 1, 608: 1, 262: 1, 517: 1, 1353: 1, 507: 1, 2668: 1, 484: 1, 1084: 1, 458: 1, 409: 1, 1218: 1, 954: 1, 869: 1, 743: 1, 147: 1, 425: 1, 2072: 1, 1331: 1, 1260: 1, 379: 1, 1305: 1, 419: 1, 1151: 1, 1342: 1, 227: 1, 400: 1, 4575: 1, 2135: 1, 1042: 1, 191: 1, 490: 1, 1425: 1, 1795: 1, 2420: 1, 1145: 1, 1155: 1, 3371: 1, 5239: 1, 337: 1, 3673: 1, 188: 1, 1040: 1, 1405: 1, 2117: 1, 983: 1, 1209: 1, 999: 1, 1495: 1, 1062: 1, 875: 1, 1515: 1, 132: 1, 612: 1, 1606: 1, 529: 1, 396: 1, 716: 1, 2586: 1, 2908: 1, 1167: 1, 4251: 1, 4812: 1, 461: 1, 1222: 1, 841: 1, 834: 1, 750: 1, 472: 1, 279: 1, 1552: 1, 2357: 1, 291: 1, 661: 1, 1166: 1, 1979: 1, 900: 1, 4977: 1, 5761: 1, 445: 1, 4133: 1, 1789: 1, 4537: 1, 863: 1, 4169: 1, 321: 1, 381: 1, 1605: 1, 1597: 1, 712: 1, 1464: 1, 168: 1, 693: 1, 552: 1, 850: 1, 763: 1, 2522: 1, 790: 1, 290: 1, 1750: 1, 318: 1, 277: 1, 2985: 1, 2175: 1, 412: 1, 354: 1, 494: 1, 317: 1, 430: 1, 3926: 1, 215: 1, 2854: 1, 1508: 1, 2896: 1, 832: 1, 369: 1, 1117: 1, 2675: 1})\n",
            "CPU times: user 1min 59s, sys: 1.8 s, total: 2min 1s\n",
            "Wall time: 2min 1s\n"
          ],
          "name": "stdout"
        }
      ]
    },
    {
      "cell_type": "code",
      "metadata": {
        "id": "75I48WeWMiib",
        "colab_type": "code",
        "outputId": "6bc2f3d9-0b9c-4a30-bc33-7289b9042dbd",
        "colab": {
          "base_uri": "https://localhost:8080/",
          "height": 34
        }
      },
      "source": [
        "similarities = [list(sim_dict_by_extracted[doc_id].values()) for doc_id in test_extracted_features_df['doc_id']]\n",
        "sim_arr = np.array(similarities)\n",
        "sim_arr.shape"
      ],
      "execution_count": 0,
      "outputs": [
        {
          "output_type": "execute_result",
          "data": {
            "text/plain": [
              "(3000, 6440)"
            ]
          },
          "metadata": {
            "tags": []
          },
          "execution_count": 120
        }
      ]
    },
    {
      "cell_type": "code",
      "metadata": {
        "id": "JH5b2k7-Mis3",
        "colab_type": "code",
        "outputId": "76596601-c64d-41cb-bcc3-2743f679e3f3",
        "colab": {
          "base_uri": "https://localhost:8080/",
          "height": 52
        }
      },
      "source": [
        "%%time\n",
        "\n",
        "ranking = []\n",
        "\n",
        "for num in range(len(similarities)):\n",
        "\n",
        "  app_id = test_extracted_features_df['doc_id'][num]\n",
        "  label = pd.Series(test_label(app_id, grants, citations_info_target))\n",
        "    \n",
        "  i, = np.where(label == 1)\n",
        "  cited_index = i[0]\n",
        "  rank = sorted(similarities[num], reverse=True).index(similarities[num][cited_index])\n",
        "  ranking.append(rank)"
      ],
      "execution_count": 0,
      "outputs": [
        {
          "output_type": "stream",
          "text": [
            "CPU times: user 42 s, sys: 9.25 ms, total: 42 s\n",
            "Wall time: 42.1 s\n"
          ],
          "name": "stdout"
        }
      ]
    },
    {
      "cell_type": "code",
      "metadata": {
        "id": "lcnYAolqN4MI",
        "colab_type": "code",
        "outputId": "4eaccd4a-bd69-4463-aa2c-aa94c6124b63",
        "colab": {
          "base_uri": "https://localhost:8080/",
          "height": 52
        }
      },
      "source": [
        "%%time\n",
        "\n",
        "ranking_arr = np.array(ranking)\n",
        "positive_counts = [sum(ranking_arr <= thrd) for thrd in range(len(grants))]"
      ],
      "execution_count": 0,
      "outputs": [
        {
          "output_type": "stream",
          "text": [
            "CPU times: user 41.5 s, sys: 4.3 ms, total: 41.5 s\n",
            "Wall time: 41.5 s\n"
          ],
          "name": "stdout"
        }
      ]
    },
    {
      "cell_type": "code",
      "metadata": {
        "id": "6JMU1SmppL1t",
        "colab_type": "code",
        "colab": {}
      },
      "source": [
        "%%time\n",
        "\n",
        "ranking_result = []\n",
        "\n",
        "for model in target_features_dict.keys():\n",
        "  print(f\"Computing rankings using {model} features...\")\n",
        "  rankings = compute_ranking(target_features_dict, model)\n",
        "  positive_counts = compute_positive_count(rankings)\n",
        "  ranking_result.append([model, rankings, positive_counts])"
      ],
      "execution_count": 0,
      "outputs": []
    },
    {
      "cell_type": "code",
      "metadata": {
        "id": "oVI9Bb6Aoee5",
        "colab_type": "code",
        "outputId": "de68f30c-b2d8-4400-8c47-3ccff11e1a86",
        "colab": {
          "base_uri": "https://localhost:8080/",
          "height": 34
        }
      },
      "source": [
        " (np.array(positive_counts)/len(ranking))[10], (np.array(positive_counts)/len(ranking))[100],  (np.array(positive_counts)/len(ranking))[200]"
      ],
      "execution_count": 0,
      "outputs": [
        {
          "output_type": "execute_result",
          "data": {
            "text/plain": [
              "(0.387, 0.7013333333333334, 0.7936666666666666)"
            ]
          },
          "metadata": {
            "tags": []
          },
          "execution_count": 124
        }
      ]
    },
    {
      "cell_type": "code",
      "metadata": {
        "id": "UhVymp4dN4Sc",
        "colab_type": "code",
        "outputId": "73555026-7655-45ba-bdae-0cbfb20d0572",
        "colab": {
          "base_uri": "https://localhost:8080/",
          "height": 34
        }
      },
      "source": [
        " (np.array(positive_counts)/len(ranking))[10], (np.array(positive_counts)/len(ranking))[100],  (np.array(positive_counts)/len(ranking))[200]"
      ],
      "execution_count": 0,
      "outputs": [
        {
          "output_type": "execute_result",
          "data": {
            "text/plain": [
              "(0.36733333333333335, 0.6736666666666666, 0.775)"
            ]
          },
          "metadata": {
            "tags": []
          },
          "execution_count": 93
        }
      ]
    },
    {
      "cell_type": "markdown",
      "metadata": {
        "id": "Wts-D5Q0PHiU",
        "colab_type": "text"
      },
      "source": [
        "```\n",
        "USE top 10: 0.3400\n",
        "USE top 100: 0.6467\n",
        "USE top 200: 0.7480\n",
        "```"
      ]
    },
    {
      "cell_type": "code",
      "metadata": {
        "id": "rYYVEils8Php",
        "colab_type": "code",
        "colab": {}
      },
      "source": [
        "sim = compute_similarities(target_features_dict, \"USE\")"
      ],
      "execution_count": 0,
      "outputs": []
    },
    {
      "cell_type": "code",
      "metadata": {
        "id": "Xt5w4LMn8i-z",
        "colab_type": "code",
        "outputId": "548674e8-4445-45c4-d4dd-739a7c9560c7",
        "colab": {
          "base_uri": "https://localhost:8080/",
          "height": 52
        }
      },
      "source": [
        "sim[0]"
      ],
      "execution_count": 0,
      "outputs": [
        {
          "output_type": "execute_result",
          "data": {
            "text/plain": [
              "array([0.59243876, 0.49336826, 0.35891418, ..., 0.3547594 , 0.61351997,\n",
              "       0.54102679])"
            ]
          },
          "metadata": {
            "tags": []
          },
          "execution_count": 106
        }
      ]
    },
    {
      "cell_type": "code",
      "metadata": {
        "id": "8DJcxh5O_JTF",
        "colab_type": "code",
        "colab": {}
      },
      "source": [
        "ranking = compute_ranking(sim)"
      ],
      "execution_count": 0,
      "outputs": []
    },
    {
      "cell_type": "code",
      "metadata": {
        "id": "n4CQ-ZG1AQRe",
        "colab_type": "code",
        "outputId": "bd86805e-eff1-459e-d588-9770f1cd5f7e",
        "colab": {
          "base_uri": "https://localhost:8080/",
          "height": 34
        }
      },
      "source": [
        "ranking[:3]"
      ],
      "execution_count": 0,
      "outputs": [
        {
          "output_type": "execute_result",
          "data": {
            "text/plain": [
              "[14, 0, 789]"
            ]
          },
          "metadata": {
            "tags": []
          },
          "execution_count": 113
        }
      ]
    },
    {
      "cell_type": "code",
      "metadata": {
        "id": "vd6uvSYAw9iw",
        "colab_type": "code",
        "outputId": "d0673752-797f-4409-e32f-e982307df475",
        "colab": {
          "base_uri": "https://localhost:8080/",
          "height": 281
        }
      },
      "source": [
        "import matplotlib.pyplot as plt\n",
        "\n",
        "plt.hist(ranking, alpha=0.5, bins=100, label=\"ELMo cosine similarity\")\n",
        "plt.title(\"Cited grants rank\")\n",
        "plt.legend()\n",
        "plt.show()"
      ],
      "execution_count": 0,
      "outputs": [
        {
          "output_type": "display_data",
          "data": {
            "image/png": "[encoded data removed]",
            "text/plain": [
              "<Figure size 432x288 with 1 Axes>"
            ]
          },
          "metadata": {
            "tags": []
          }
        }
      ]
    },
    {
      "cell_type": "code",
      "metadata": {
        "id": "cfNyOTn8qi4e",
        "colab_type": "code",
        "outputId": "e8ab017a-84d2-445f-cc9c-53a87816e275",
        "colab": {
          "base_uri": "https://localhost:8080/",
          "height": 52
        }
      },
      "source": [
        "%%time\n",
        "\n",
        "tf, tl, tef, tel = _prepare_feature_for_labeled_data(target_features_dict, \"ELMO-512tokenmean\")"
      ],
      "execution_count": 0,
      "outputs": [
        {
          "output_type": "stream",
          "text": [
            "CPU times: user 25.7 s, sys: 199 ms, total: 25.9 s\n",
            "Wall time: 25.8 s\n"
          ],
          "name": "stdout"
        }
      ]
    },
    {
      "cell_type": "code",
      "metadata": {
        "id": "yhPbmx_unzyp",
        "colab_type": "code",
        "outputId": "db0870e9-fe25-4b3e-f55a-09da86721fe8",
        "colab": {
          "base_uri": "https://localhost:8080/",
          "height": 242
        }
      },
      "source": [
        "tf"
      ],
      "execution_count": 0,
      "outputs": [
        {
          "output_type": "execute_result",
          "data": {
            "text/plain": [
              "array([[ 0.04146077,  0.33466873, -0.02438193, ..., -0.05138287,\n",
              "         0.35489544,  0.18244757],\n",
              "       [ 0.19946417,  0.28654307, -0.03343014, ..., -0.16085735,\n",
              "         0.07497395, -0.05243134],\n",
              "       [ 0.24413267,  0.03050674, -0.2599768 , ..., -0.0933385 ,\n",
              "         0.19614401,  0.1279701 ],\n",
              "       ...,\n",
              "       [ 0.15222813,  0.09087709, -0.13535395, ..., -0.05091184,\n",
              "        -0.05838778, -0.03196971],\n",
              "       [ 0.30256709,  0.24646774, -0.14956102, ..., -0.10359577,\n",
              "         0.23123719,  0.00610641],\n",
              "       [ 0.06816008,  0.33493641, -0.21586779, ..., -0.10068552,\n",
              "         0.39663556,  0.11206492]])"
            ]
          },
          "metadata": {
            "tags": []
          },
          "execution_count": 66
        }
      ]
    },
    {
      "cell_type": "code",
      "metadata": {
        "id": "neezAudLkGay",
        "colab_type": "code",
        "colab": {}
      },
      "source": [
        "train_app_f, test_app_f, grant_f = _read_feature(target_features_dict, \"USE\")"
      ],
      "execution_count": 0,
      "outputs": []
    },
    {
      "cell_type": "code",
      "metadata": {
        "id": "65AMILh9kGez",
        "colab_type": "code",
        "outputId": "769306bd-c037-48fa-c556-9ffde2fe34c0",
        "colab": {
          "base_uri": "https://localhost:8080/",
          "height": 34
        }
      },
      "source": [
        "grant_f.shape"
      ],
      "execution_count": 0,
      "outputs": [
        {
          "output_type": "execute_result",
          "data": {
            "text/plain": [
              "(6440, 512)"
            ]
          },
          "metadata": {
            "tags": []
          },
          "execution_count": 22
        }
      ]
    },
    {
      "cell_type": "code",
      "metadata": {
        "id": "sESOyA0SkGEN",
        "colab_type": "code",
        "colab": {}
      },
      "source": [
        "assert train_app_f.shape == (3000, 512)"
      ],
      "execution_count": 0,
      "outputs": []
    }
  ]
}